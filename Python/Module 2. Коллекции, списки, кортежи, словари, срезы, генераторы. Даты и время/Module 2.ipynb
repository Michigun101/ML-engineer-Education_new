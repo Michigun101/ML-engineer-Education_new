{
 "cells": [
  {
   "cell_type": "markdown",
   "id": "074223a7",
   "metadata": {},
   "source": [
    "# Коллекции\n"
   ]
  },
  {
   "cell_type": "markdown",
   "id": "930bd917",
   "metadata": {},
   "source": [
    "Варианты задания коллекций приведены ниже. Убедимся с помощью функции type в том, что созданные коллекции действительно соответствуют заявленным типам."
   ]
  },
  {
   "cell_type": "code",
   "execution_count": 1,
   "id": "6959544c",
   "metadata": {},
   "outputs": [
    {
     "name": "stdout",
     "output_type": "stream",
     "text": [
      "<class 'list'>\n",
      "<class 'tuple'>\n",
      "<class 'set'>\n",
      "<class 'frozenset'>\n",
      "<class 'dict'>\n"
     ]
    }
   ],
   "source": [
    "# Список (list) - задается квадратными скобками либо конструктором list()\n",
    "a = [1, 2, 3]\n",
    "print(type(a))\n",
    "\n",
    "# Кортеж (tuple) - задается круглыми скобками либо конструктором tuple()\n",
    "a = (1, 2, 3)\n",
    "print(type(a))\n",
    "\n",
    "# Множество (set) - задается фигурными скобками с перечисленными через запятую значениями либо конструктором set()\n",
    "a = {1, 2, 3}\n",
    "print(type(a))\n",
    "\n",
    "# Неизменное множество (frozenset) - задается конструктором frozenset\n",
    "a = frozenset([1, 2, 3])\n",
    "print(type(a))\n",
    "\n",
    "# Словарь (dict) - коллекция \"ключ-значение\". Задается фигурными скобками, где ключи и значения разделены двоеточием\n",
    "a = {1: 'a', 2: 'b', 3: 'c'}\n",
    "print(type(a))"
   ]
  },
  {
   "cell_type": "code",
   "execution_count": 2,
   "id": "dbcea8d1",
   "metadata": {},
   "outputs": [
    {
     "name": "stdout",
     "output_type": "stream",
     "text": [
      "['a', 'b', 'a'] {'a', 'b'} frozenset({'a', 'b'})\n"
     ]
    }
   ],
   "source": [
    "my_tuple = ('a', 'b', 'a')\n",
    "\n",
    "my_list = list(my_tuple)\n",
    "my_set = set(my_tuple)                  # теряем индексы и дубликаты элементов\n",
    "my_frozenset = frozenset(my_tuple)      # теряем индексы и дубликаты элементов\n",
    "\n",
    "print(my_list, my_set, my_frozenset)"
   ]
  },
  {
   "cell_type": "code",
   "execution_count": 3,
   "id": "a4f3c50b",
   "metadata": {},
   "outputs": [
    {
     "name": "stdout",
     "output_type": "stream",
     "text": [
      "True\n",
      "False\n",
      "False\n",
      "True\n"
     ]
    }
   ],
   "source": [
    "my_list = ['a', 'b', 'c', 'd', 'e', 'f']\n",
    "\n",
    "print('a' in my_list)\n",
    "print('q' in my_list)\n",
    "print('a' not in my_list)\n",
    "print('q' not in my_list)"
   ]
  },
  {
   "cell_type": "code",
   "execution_count": 4,
   "id": "923e2636",
   "metadata": {},
   "outputs": [
    {
     "name": "stdout",
     "output_type": "stream",
     "text": [
      "(0, 'a')\n",
      "(1, 'b')\n",
      "(2, 'c')\n",
      "(3, 'd')\n",
      "Индекс: 0 значение: a\n",
      "Индекс: 1 значение: b\n",
      "Индекс: 2 значение: c\n",
      "Индекс: 3 значение: d\n"
     ]
    }
   ],
   "source": [
    "a = ['a', 'b', 'c', 'd']\n",
    "\n",
    "for i in enumerate(a):  # каждый элемент i в цикле - это кортеж из индекса и значения в списке\n",
    "    print(i)\n",
    "for i, item in enumerate(a):  # сразу же в цикле эти кортежи можно \"распаковать\" на две переменные i, item\n",
    "    print(\"Индекс:\", i, \"значение:\", item)"
   ]
  },
  {
   "cell_type": "markdown",
   "id": "30353015",
   "metadata": {},
   "source": [
    "Функции min(), max() — поиск минимального и максимального элемента соответственно — работают не только для числовых, но и для строковых значений.\n",
    "\n",
    "sum() — суммирование всех элементов списка. Однако эта функция работает только если все элементы списка - числовые, поскольку внутри нее зашита логика 0 + ..., что при сложении со строкой выдаст ошибку типов."
   ]
  },
  {
   "cell_type": "code",
   "execution_count": 5,
   "id": "0ec91b6d",
   "metadata": {},
   "outputs": [
    {
     "ename": "TypeError",
     "evalue": "unsupported operand type(s) for +: 'int' and 'str'",
     "output_type": "error",
     "traceback": [
      "\u001b[0;31m---------------------------------------------------------------------------\u001b[0m",
      "\u001b[0;31mTypeError\u001b[0m                                 Traceback (most recent call last)",
      "Cell \u001b[0;32mIn[5], line 1\u001b[0m\n\u001b[0;32m----> 1\u001b[0m \u001b[38;5;28;43msum\u001b[39;49m\u001b[43m(\u001b[49m\u001b[43m[\u001b[49m\u001b[38;5;124;43m'\u001b[39;49m\u001b[38;5;124;43m1\u001b[39;49m\u001b[38;5;124;43m'\u001b[39;49m\u001b[43m,\u001b[49m\u001b[43m \u001b[49m\u001b[38;5;124;43m'\u001b[39;49m\u001b[38;5;124;43m2\u001b[39;49m\u001b[38;5;124;43m'\u001b[39;49m\u001b[43m,\u001b[49m\u001b[43m \u001b[49m\u001b[38;5;124;43m'\u001b[39;49m\u001b[38;5;124;43m3\u001b[39;49m\u001b[38;5;124;43m'\u001b[39;49m\u001b[43m]\u001b[49m\u001b[43m)\u001b[49m\n",
      "\u001b[0;31mTypeError\u001b[0m: unsupported operand type(s) for +: 'int' and 'str'"
     ]
    }
   ],
   "source": [
    "sum(['1', '2', '3'])"
   ]
  },
  {
   "cell_type": "markdown",
   "id": "5eb47b01",
   "metadata": {},
   "source": [
    "Функция sorted() возвращает список, в котором все элементы исходного списка отсортированы.\n",
    "Мы может использовать функцию sorted() для вывода списка сортированных элементов любой коллекции для последующее обработки или вывода.\n",
    "\n",
    "функция не меняет исходную коллекцию, а возвращает новый список из ее элементов;\n",
    "независимо от типа исходной коллекции, вернётся список (list) ее элементов;\n",
    "поскольку она не меняет исходную коллекцию, ее можно применять к неизменяемым коллекциям;\n",
    "поскольку при сортировке возвращаемых элементов нам не важно, был ли у элемента некий индекс в исходной коллекции, можно применять к неиндексированным коллекциям;\n",
    "Имеет дополнительные не обязательные аргументы:\n",
    "reverse = True - сортировка в обратном порядке\n",
    "key = funcname (начиная с Python 2.4) - сортировка с помощью специальной функции funcname"
   ]
  },
  {
   "cell_type": "code",
   "execution_count": 6,
   "id": "63e970c1",
   "metadata": {},
   "outputs": [
    {
     "name": "stdout",
     "output_type": "stream",
     "text": [
      "[1, 2, 3, 5, 7]\n",
      "[7, 5, 3, 2, 1]\n",
      "['pc.png', 'apple.bmp', 'mydog.gif', 'somecat.jpg']\n"
     ]
    }
   ],
   "source": [
    "my_list = [2, 5, 1, 7, 3]\n",
    "my_list_sorted = sorted(my_list)\n",
    "print(my_list_sorted)\n",
    "\n",
    "my_set = {2, 5, 1, 7, 3}\n",
    "my_set_sorted = sorted(my_set, reverse=True)\n",
    "print(my_set_sorted)\n",
    "\n",
    "# сортировка списка строк по длине len() каждого элемента\n",
    "my_files = ['somecat.jpg', 'pc.png', 'apple.bmp', 'mydog.gif']\n",
    "my_files_sorted = sorted(my_files, key=len)\n",
    "print(my_files_sorted)"
   ]
  },
  {
   "cell_type": "code",
   "execution_count": 7,
   "id": "bf6d73fa",
   "metadata": {},
   "outputs": [
    {
     "name": "stdout",
     "output_type": "stream",
     "text": [
      "4\n",
      "0\n"
     ]
    }
   ],
   "source": [
    "my_list = [1, 2, 2, 2, 2, 3]\n",
    "\n",
    "print(my_list.count(2))\n",
    "print(my_list.count(5))"
   ]
  },
  {
   "cell_type": "code",
   "execution_count": 8,
   "id": "3c789e46",
   "metadata": {},
   "outputs": [
    {
     "name": "stdout",
     "output_type": "stream",
     "text": [
      "1\n"
     ]
    },
    {
     "ename": "ValueError",
     "evalue": "5 is not in list",
     "output_type": "error",
     "traceback": [
      "\u001b[0;31m---------------------------------------------------------------------------\u001b[0m",
      "\u001b[0;31mValueError\u001b[0m                                Traceback (most recent call last)",
      "Cell \u001b[0;32mIn[8], line 4\u001b[0m\n\u001b[1;32m      1\u001b[0m my_list \u001b[38;5;241m=\u001b[39m [\u001b[38;5;241m1\u001b[39m, \u001b[38;5;241m2\u001b[39m, \u001b[38;5;241m2\u001b[39m, \u001b[38;5;241m2\u001b[39m, \u001b[38;5;241m2\u001b[39m, \u001b[38;5;241m3\u001b[39m]\n\u001b[1;32m      3\u001b[0m \u001b[38;5;28mprint\u001b[39m(my_list\u001b[38;5;241m.\u001b[39mindex(\u001b[38;5;241m2\u001b[39m))\n\u001b[0;32m----> 4\u001b[0m \u001b[38;5;28mprint\u001b[39m(\u001b[43mmy_list\u001b[49m\u001b[38;5;241;43m.\u001b[39;49m\u001b[43mindex\u001b[49m\u001b[43m(\u001b[49m\u001b[38;5;241;43m5\u001b[39;49m\u001b[43m)\u001b[49m)\n",
      "\u001b[0;31mValueError\u001b[0m: 5 is not in list"
     ]
    }
   ],
   "source": [
    "my_list = [1, 2, 2, 2, 2, 3]\n",
    "\n",
    "print(my_list.index(2))\n",
    "print(my_list.index(5)) # ValueError: 5 is not in list - такого элемента нет в списке"
   ]
  },
  {
   "cell_type": "code",
   "execution_count": 9,
   "id": "a0419d56",
   "metadata": {},
   "outputs": [
    {
     "name": "stdout",
     "output_type": "stream",
     "text": [
      "True\n",
      "False\n"
     ]
    }
   ],
   "source": [
    "my_set = {1, 2, 3}\n",
    "my_set_2 = my_set.copy()\n",
    "\n",
    "print(my_set_2 == my_set)  # коллекции равны - содержат одинаковые значения\n",
    "print(my_set_2 is my_set)  # коллекции не идентичны - это разные объекты с разными id"
   ]
  },
  {
   "cell_type": "code",
   "execution_count": 10,
   "id": "27bf2857",
   "metadata": {},
   "outputs": [
    {
     "name": "stdout",
     "output_type": "stream",
     "text": [
      "{1, 2, 3}\n",
      "set()\n"
     ]
    }
   ],
   "source": [
    "my_set = {1, 2, 3}\n",
    "print(my_set)\n",
    "\n",
    "my_set.clear()\n",
    "print(my_set)"
   ]
  },
  {
   "cell_type": "markdown",
   "id": "aa0c6190",
   "metadata": {},
   "source": [
    "# Списки"
   ]
  },
  {
   "cell_type": "markdown",
   "id": "8eff5ca7",
   "metadata": {},
   "source": [
    "Так как списки - изменяемые коллекции, в них можно изменять элементы, обращаясь к ним через индекс.\n",
    "Прим.: Для этого элемент уже должен существовать в списке, нельзя таким образом добавить элемент на несуществующий индекс."
   ]
  },
  {
   "cell_type": "code",
   "execution_count": 12,
   "id": "dd9e65a3",
   "metadata": {},
   "outputs": [
    {
     "name": "stdout",
     "output_type": "stream",
     "text": [
      "[1, 2, 3, [4, 5]]\n",
      "[10, 2, 3, [40, 5]]\n"
     ]
    }
   ],
   "source": [
    "my_list = [1, 2, 3, [4, 5]]\n",
    "print(my_list)\n",
    "my_list[0] = 10\n",
    "my_list[-1][0] = 40\n",
    "print(my_list)"
   ]
  },
  {
   "cell_type": "code",
   "execution_count": 13,
   "id": "9adc23e3",
   "metadata": {},
   "outputs": [
    {
     "name": "stdout",
     "output_type": "stream",
     "text": [
      "[13, 27, 8]\n",
      "[13, 27, 8, 41]\n",
      "[13, 8, 41]\n",
      "[13, 41]\n"
     ]
    }
   ],
   "source": [
    "my_list = [13, 27, 8]\n",
    "print(my_list)\n",
    "my_list.append(41)\n",
    "print(my_list)\n",
    "# Удаление по значению\n",
    "my_list.remove(27)\n",
    "print(my_list)\n",
    "# Удаление по индексу\n",
    "my_list.pop(1)\n",
    "print(my_list)"
   ]
  },
  {
   "cell_type": "code",
   "execution_count": 14,
   "id": "25b6851f",
   "metadata": {},
   "outputs": [
    {
     "name": "stdout",
     "output_type": "stream",
     "text": [
      "[1, 2, 3, 4, 5]\n"
     ]
    }
   ],
   "source": [
    "my_list = [1, 2, 3]\n",
    "another_list = [4, 5]\n",
    "\n",
    "my_list.extend(another_list)\n",
    "print(my_list)"
   ]
  },
  {
   "cell_type": "code",
   "execution_count": 15,
   "id": "1a028196",
   "metadata": {},
   "outputs": [
    {
     "name": "stdout",
     "output_type": "stream",
     "text": [
      "[1, 2, 3] [4, 5] [1, 2, 3, 4, 5]\n",
      "[1, 2, 3] [4, 5] [1, 2, 3, [4, 5]]\n",
      "[1, 2, 3, 4, 5]\n"
     ]
    }
   ],
   "source": [
    "# Добавляем все элементы второго списка к элементам первого\n",
    "# (аналог метод .extend() но без изменения исходного списка):\n",
    "a = [1, 2, 3]\n",
    "b = [4, 5]\n",
    "c = a + b           \n",
    "print(a, b, c)\n",
    "\n",
    "# Добавляем второй список как один элемент без изменения исходного списка\n",
    "# (аналог метода.append() но без изменения исходного списка):\n",
    "a = [1, 2, 3]\n",
    "b = [4, 5]\n",
    "c = a + [b]\n",
    "print(a, b, c)\n",
    "\n",
    "# работает на версии питона 3.5 и выше:\n",
    "a, b = [1, 2, 3], [4, 5]\n",
    "c = [*a, *b]\n",
    "print(c)"
   ]
  },
  {
   "cell_type": "markdown",
   "id": "9dd96979",
   "metadata": {},
   "source": [
    "# Строки и кортежи"
   ]
  },
  {
   "cell_type": "code",
   "execution_count": 16,
   "id": "b7c8564d",
   "metadata": {},
   "outputs": [
    {
     "name": "stdout",
     "output_type": "stream",
     "text": [
      "abcde\n",
      "(1, 2, 3, 4, 5)\n"
     ]
    }
   ],
   "source": [
    "str1 = 'abc'\n",
    "str2 = 'de'\n",
    "str3 = str1 + str2\n",
    "print(str3)\n",
    "\n",
    "tuple1 = (1, 2, 3)\n",
    "tuple2 = (4, 5)\n",
    "tuple3 = tuple1 + tuple2\n",
    "print(tuple3)"
   ]
  },
  {
   "cell_type": "markdown",
   "id": "31b5c88d",
   "metadata": {},
   "source": [
    "# Словари и множества"
   ]
  },
  {
   "cell_type": "markdown",
   "id": "3bb195c0",
   "metadata": {},
   "source": [
    "Множество (set) – неупорядоченная коллекция из уникальных (неповторяющихся) элементов. Элементы множества в Python должны быть немутабельны (неизменяемы), хотя само содержимое множества может меняться: можно добавлять и удалять элементы из множества.\n",
    "\n",
    "Словарь (dictionary) — это ассоциативный массив или хеш-таблица. Это неупорядоченное множество пар ключ: значение с требованием уникальности ключей.\n",
    "\n",
    "Внутри множества тоже реализованы как хэш-таблицы, в которых есть только ключи без значений и добавлены некоторые оптимизации, которые используют отсутствие значений."
   ]
  },
  {
   "cell_type": "code",
   "execution_count": 18,
   "id": "f642cbbd",
   "metadata": {},
   "outputs": [],
   "source": [
    "# Создание множества\n",
    "my_set = set() # пустое множество\n",
    "my_set = {1, 2, 3, 4}\n",
    "\n",
    "my_hetero_set = {\"abc\", 3.14, (10, 20)}  # можно с кортежем\n",
    "\n"
   ]
  },
  {
   "cell_type": "code",
   "execution_count": 19,
   "id": "722c74c0",
   "metadata": {},
   "outputs": [
    {
     "ename": "TypeError",
     "evalue": "unhashable type: 'list'",
     "output_type": "error",
     "traceback": [
      "\u001b[0;31m---------------------------------------------------------------------------\u001b[0m",
      "\u001b[0;31mTypeError\u001b[0m                                 Traceback (most recent call last)",
      "Cell \u001b[0;32mIn[19], line 1\u001b[0m\n\u001b[0;32m----> 1\u001b[0m my_invalid_set \u001b[38;5;241m=\u001b[39m {\u001b[38;5;124m\"\u001b[39m\u001b[38;5;124mabc\u001b[39m\u001b[38;5;124m\"\u001b[39m, \u001b[38;5;241m3.14\u001b[39m, [\u001b[38;5;241m10\u001b[39m, \u001b[38;5;241m20\u001b[39m]}\n",
      "\u001b[0;31mTypeError\u001b[0m: unhashable type: 'list'"
     ]
    }
   ],
   "source": [
    "my_invalid_set = {\"abc\", 3.14, [10, 20]}  # нельзя со списком, так как он нехешируемый"
   ]
  },
  {
   "cell_type": "code",
   "execution_count": 20,
   "id": "90b6f1aa",
   "metadata": {},
   "outputs": [
    {
     "name": "stdout",
     "output_type": "stream",
     "text": [
      "Проход по ключам\n",
      "a\n",
      "b\n",
      "c\n",
      "d\n",
      "e\n",
      "f\n",
      "Проход по значениям\n",
      "1\n",
      "2\n",
      "3\n",
      "4\n",
      "5\n",
      "6\n",
      "Проход по парам - ключ: значение\n",
      "a 1\n",
      "b 2\n",
      "c 3\n",
      "d 4\n",
      "e 5\n",
      "f 6\n"
     ]
    }
   ],
   "source": [
    "# Доступ к значениям или к ключам выполняется при помощи .keys() или .values()\n",
    "# .items() возвращает пару \"ключ: значение\" в кортеже\n",
    "\n",
    "my_dict = {'a': 1, 'b': 2, 'c': 3, 'd': 4, 'e': 5, 'f': 6}\n",
    "\n",
    "print('Проход по ключам')\n",
    "for elem in my_dict.keys():                   # равносильно my_dict.keys()\n",
    "    print(elem) \n",
    "    \n",
    "print('Проход по значениям')\n",
    "for elem in my_dict.values():          # .values() возвращает значения\n",
    "    print(elem)\n",
    "\n",
    "print('Проход по парам - ключ: значение')\n",
    "for key, value in my_dict.items():     # Проход по .items() возвращает кортеж (ключ, значение), \n",
    "    print(key, value)          "
   ]
  },
  {
   "cell_type": "code",
   "execution_count": 21,
   "id": "4ea8997c",
   "metadata": {},
   "outputs": [
    {
     "name": "stdout",
     "output_type": "stream",
     "text": [
      "{'a': 1, 'b': 2, 'c': 3, 'd': 4}\n",
      "{'a': 1, 'b': 2, 'c': 3, 'd': 4}\n"
     ]
    }
   ],
   "source": [
    "dict1 = {'a': 1, 'b': 2}\n",
    "dict2 = {'c': 3, 'd': 4}\n",
    "dict3 = dict1.copy()\n",
    "dict3.update(dict2)\n",
    "print(dict3)\n",
    "\n",
    "# Для версии Python 3.5 и выше:\n",
    "dict1 = {'a': 1, 'b': 2}\n",
    "dict2 = {'c': 3, 'd': 4}\n",
    "dict3 = {**dict1, **dict2}\n",
    "print(dict3)"
   ]
  },
  {
   "cell_type": "code",
   "execution_count": 24,
   "id": "956419f3",
   "metadata": {},
   "outputs": [
    {
     "name": "stdout",
     "output_type": "stream",
     "text": [
      "1\n",
      "None\n",
      "default\n"
     ]
    }
   ],
   "source": [
    "# Доступ к значениям словаря\n",
    "# print(dict1['qweqwe'])\n",
    "print(dict1.get('a'))\n",
    "print(dict1.get('q'))\n",
    "print(dict1.get('qweqwe', \"default\"))"
   ]
  },
  {
   "cell_type": "code",
   "execution_count": 25,
   "id": "249c3307",
   "metadata": {},
   "outputs": [
    {
     "name": "stdout",
     "output_type": "stream",
     "text": [
      "{1: 1, 2: 4, 3: 1, 4: 1, 5: 3, 6: 1}\n"
     ]
    }
   ],
   "source": [
    "l = [1, 2, 2, 2, 2, 3, 4, 5, 5, 5, 6]\n",
    "\n",
    "d = {}\n",
    "for el in l:\n",
    "    d[el] = d.get(el, 0) + 1\n",
    "    \n",
    "print(d)"
   ]
  },
  {
   "cell_type": "markdown",
   "id": "d05c5d0b",
   "metadata": {},
   "source": [
    "# Срезы"
   ]
  },
  {
   "cell_type": "code",
   "execution_count": 26,
   "id": "385c45bb",
   "metadata": {},
   "outputs": [
    {
     "name": "stdout",
     "output_type": "stream",
     "text": [
      "[1, 2, 3, 4, 5]\n",
      "[1, 20, 30, 4, 5]\n",
      "[1, 0, 4, 5]\n",
      "[1, 0, 40, 50, 60]\n"
     ]
    }
   ],
   "source": [
    "my_list = [1, 1, 3, 4, 5]\n",
    "\n",
    "# my_list[1:2] = 2     # Неправильно - TypeError: can only assign an iterable\n",
    "my_list[1:2] = [2]     # Правильно\n",
    "print(my_list)\n",
    "\n",
    "my_list[1:3] = [20, 30]\n",
    "print(my_list)          # [1, 20, 30, 4, 5]\n",
    "\n",
    "my_list[1:3] = [0]      # можно заменить два элемента на один\n",
    "print(my_list)\n",
    "my_list[2:] = [40, 50, 60]   # или два элемента на три\n",
    "print(my_list)"
   ]
  },
  {
   "cell_type": "code",
   "execution_count": 27,
   "id": "2d8c432f",
   "metadata": {},
   "outputs": [
    {
     "name": "stdout",
     "output_type": "stream",
     "text": [
      "2\n",
      "4\n",
      "None\n",
      "[7, 8]\n",
      "[6, 7, 8, 9]\n",
      "[5, 6, 7, 8]\n",
      "[5, 7, 9]\n",
      "[5, 6, 7, 8, 9]\n"
     ]
    }
   ],
   "source": [
    "my_list = [5, 6, 7, 8, 9]\n",
    "\n",
    "my_slice = slice(2, 4)\n",
    "print(my_slice.start)\n",
    "print(my_slice.stop)\n",
    "print(my_slice.step)\n",
    "\n",
    "print(my_list[my_slice]) # эквивалент [2:4]\n",
    "\n",
    "print(my_list[slice(1, None)]) # эквивалент [1:]\n",
    "\n",
    "print(my_list[slice(None, -1)]) # эквивалент [:-1]\n",
    "\n",
    "print(my_list[slice(None, None, 2)]) # эквивалент [::2]\n",
    "\n",
    "print(my_list[slice(None)]) # эквивалент [::]"
   ]
  },
  {
   "cell_type": "markdown",
   "id": "53a4db9b",
   "metadata": {},
   "source": [
    "# Генераторы"
   ]
  },
  {
   "cell_type": "markdown",
   "id": "7a94581c",
   "metadata": {},
   "source": [
    "### Генератор списка"
   ]
  },
  {
   "cell_type": "code",
   "execution_count": 29,
   "id": "130b4d9d",
   "metadata": {},
   "outputs": [
    {
     "name": "stdout",
     "output_type": "stream",
     "text": [
      "[1, 2, 3]\n",
      "[11, 12, 13]\n"
     ]
    }
   ],
   "source": [
    "a = [1, 2, 3]\n",
    "b = [i+10 for i in a] #list comprehension\n",
    "\n",
    "print(a)\n",
    "print(b)"
   ]
  },
  {
   "cell_type": "code",
   "execution_count": 30,
   "id": "f9a0426b",
   "metadata": {},
   "outputs": [
    {
     "name": "stdout",
     "output_type": "stream",
     "text": [
      "[20, 19, 16, 14, 14, 10, 13, 14, 10, 10]\n",
      "[20, 16, 14, 14, 10, 14, 10, 10]\n"
     ]
    }
   ],
   "source": [
    "from random import randint\n",
    "\n",
    "nums = [randint(10, 20) for i in range(10)]\n",
    "print(nums)\n",
    "\n",
    "nums = [i for i in nums if i%2 == 0]\n",
    "print(nums)"
   ]
  },
  {
   "cell_type": "code",
   "execution_count": 31,
   "id": "ba88ae57",
   "metadata": {},
   "outputs": [
    {
     "name": "stdout",
     "output_type": "stream",
     "text": [
      "['134', '135', '136', '234', '235', '236']\n"
     ]
    }
   ],
   "source": [
    "a = \"12\"\n",
    "b = \"3\"\n",
    "c = \"456\"\n",
    "\n",
    "comb = [i+j+k for i in a for j in b for k in c]\n",
    "print(comb)"
   ]
  },
  {
   "cell_type": "markdown",
   "id": "8a847088",
   "metadata": {},
   "source": [
    "### Генераторы словарей и множеств"
   ]
  },
  {
   "cell_type": "code",
   "execution_count": 32,
   "id": "d0b232ab",
   "metadata": {},
   "outputs": [
    {
     "name": "stdout",
     "output_type": "stream",
     "text": [
      "{11: 121, 12: 144, 13: 169, 14: 196}\n",
      "{11, 12, 13, 14}\n",
      "{1, 2, 3}\n"
     ]
    }
   ],
   "source": [
    "a = {i:i**2 for i in range(11,15)}\n",
    "print(a)\n",
    "\n",
    "a = {i for i in range(11,15)}\n",
    "print(a)\n",
    "b = {1, 2, 3}\n",
    "print(b)"
   ]
  },
  {
   "cell_type": "code",
   "execution_count": 33,
   "id": "8e58a39e",
   "metadata": {},
   "outputs": [
    {
     "name": "stdout",
     "output_type": "stream",
     "text": [
      "dict_keys(['a', 'b', 'c', 'd', 'e'])\n",
      "dict_values([1, 2, 3, 4, 5])\n",
      "dict_items([('a', 1), ('b', 2), ('c', 3), ('d', 4), ('e', 5)])\n"
     ]
    }
   ],
   "source": [
    "my_dict = {'a': 1, 'b': 2, 'c': 3, 'd': 4, 'e': 5}\n",
    "print(my_dict.keys())\n",
    "print(my_dict.values())\n",
    "print(my_dict.items())"
   ]
  },
  {
   "cell_type": "markdown",
   "id": "d68428d4",
   "metadata": {},
   "source": [
    "Ленивые вычисления - стратегия вычисления, согласно которой вычисления следует откладывать до тех пор, пока не понадобится их результат. Для ленивых вычислений нам потребуются генераторы.\n",
    "\n",
    "Выражения, создающие объекты-генераторы, похожи на выражения, генерирующие списки. Чтобы создать генераторный объект, надо использовать круглые скобки."
   ]
  },
  {
   "cell_type": "code",
   "execution_count": 34,
   "id": "054db633",
   "metadata": {},
   "outputs": [
    {
     "name": "stdout",
     "output_type": "stream",
     "text": [
      "<generator object <genexpr> at 0x7fcd01c4a650>\n",
      "2\n",
      "3\n",
      "4\n",
      "5\n",
      "6\n",
      "7\n"
     ]
    }
   ],
   "source": [
    "a = (i for i in range(2, 8))\n",
    "print(a)\n",
    "\n",
    "for i in a:\n",
    "    print(i)"
   ]
  },
  {
   "cell_type": "markdown",
   "id": "abe9f60e",
   "metadata": {},
   "source": [
    "range() - это генератор"
   ]
  },
  {
   "cell_type": "code",
   "execution_count": 35,
   "id": "aefe9ca4",
   "metadata": {},
   "outputs": [],
   "source": [
    "for i in a:\n",
    "    print(i)"
   ]
  },
  {
   "cell_type": "markdown",
   "id": "f2ac415d",
   "metadata": {},
   "source": [
    "Второй раз перебрать генератор в цикле for не получится, так как объект-генератор уже сгенерировал все значения по заложенной в него \"формуле\". Поэтому генераторы обычно используются, когда надо единожды пройтись по итерируемому объекту.\n",
    "\n",
    "Кроме того, генераторы экономят память, так как в ней хранятся не все значения, скажем, большого списка, а только предыдущий элемент, предел и формула, по которой вычисляется следующий элемент.\n",
    "\n",
    "Выражение, создающее генератор, это сокращенная запись следующего:"
   ]
  },
  {
   "cell_type": "code",
   "execution_count": 36,
   "id": "3ecb0921",
   "metadata": {},
   "outputs": [
    {
     "name": "stdout",
     "output_type": "stream",
     "text": [
      "<generator object func at 0x7fcd01c4aab0>\n",
      "0.33\n",
      "0.66\n",
      "0.99\n"
     ]
    }
   ],
   "source": [
    "def func(start, finish):\n",
    "    while start < finish:\n",
    "        yield start * 0.33 # yeild - это генератор\n",
    "        start += 1\n",
    "    \n",
    "\n",
    "a = func(1, 4)\n",
    "print(a)\n",
    "\n",
    "for i in a:\n",
    "    print(i)"
   ]
  },
  {
   "cell_type": "code",
   "execution_count": 37,
   "id": "d7b744b6",
   "metadata": {},
   "outputs": [],
   "source": [
    "for i in a:\n",
    "    print(i)"
   ]
  },
  {
   "cell_type": "code",
   "execution_count": 38,
   "id": "75ffa16b",
   "metadata": {},
   "outputs": [],
   "source": [
    "a = func(1, 4)"
   ]
  },
  {
   "cell_type": "code",
   "execution_count": 42,
   "id": "10abec46",
   "metadata": {},
   "outputs": [
    {
     "ename": "StopIteration",
     "evalue": "",
     "output_type": "error",
     "traceback": [
      "\u001b[0;31m---------------------------------------------------------------------------\u001b[0m",
      "\u001b[0;31mStopIteration\u001b[0m                             Traceback (most recent call last)",
      "Cell \u001b[0;32mIn[42], line 1\u001b[0m\n\u001b[0;32m----> 1\u001b[0m \u001b[43ma\u001b[49m\u001b[38;5;241;43m.\u001b[39;49m\u001b[38;5;21;43m__next__\u001b[39;49m\u001b[43m(\u001b[49m\u001b[43m)\u001b[49m\n",
      "\u001b[0;31mStopIteration\u001b[0m: "
     ]
    }
   ],
   "source": [
    "a.__next__()"
   ]
  },
  {
   "cell_type": "code",
   "execution_count": 43,
   "id": "4495ff0b",
   "metadata": {},
   "outputs": [
    {
     "name": "stdout",
     "output_type": "stream",
     "text": [
      "1 1 2 3 5 8 13 21 34 55 89 144 233 377 610 987 1597 2584 4181 6765 Сумма первых 100 чисел Фибоначчи равна 927372692193078999175\n",
      "[1, 1, 2, 3, 5, 8, 13, 21, 34, 55, 89, 144, 233, 377, 610, 987]\n",
      "[1, 1, 4, 9, 25, 64, 169, 441, 1156, 3025, 7921, 20736, 54289, 142129]\n"
     ]
    }
   ],
   "source": [
    "def fibonacci(n):\n",
    "    fib1, fib2 = 0, 1\n",
    "    for i in range(n):\n",
    "        fib1, fib2 = fib2, fib1 + fib2\n",
    "        yield fib1\n",
    "\n",
    "for fib in fibonacci(20):\n",
    "    print(fib, end=' ')\n",
    "\n",
    "print('Сумма первых 100 чисел Фибоначчи равна', sum(fibonacci(100)))\n",
    "print(list(fibonacci(16)))\n",
    "print([x*x for x in fibonacci(14)])"
   ]
  },
  {
   "cell_type": "markdown",
   "id": "6268dd15",
   "metadata": {},
   "source": [
    "# Работа с датами и временем "
   ]
  },
  {
   "cell_type": "code",
   "execution_count": 44,
   "id": "14af2cf7",
   "metadata": {},
   "outputs": [],
   "source": [
    "import datetime"
   ]
  },
  {
   "cell_type": "code",
   "execution_count": 45,
   "id": "11367d99",
   "metadata": {},
   "outputs": [
    {
     "data": {
      "text/plain": [
       "<module 'datetime' from '/Users/mikhail/anaconda3/lib/python3.10/datetime.py'>"
      ]
     },
     "execution_count": 45,
     "metadata": {},
     "output_type": "execute_result"
    }
   ],
   "source": [
    "datetime"
   ]
  },
  {
   "cell_type": "code",
   "execution_count": 50,
   "id": "203475db",
   "metadata": {},
   "outputs": [
    {
     "name": "stdout",
     "output_type": "stream",
     "text": [
      "2024-10-02\n",
      "2024-10-03\n",
      "3.10.2024\n"
     ]
    }
   ],
   "source": [
    "yesterday = datetime.date(2024, 10, 2)\n",
    "print(yesterday)\n",
    "\n",
    "today = datetime.date.today() # метод today() получает текущую дату\n",
    "print(today)\n",
    "\n",
    "# С помощью свойств day, month, year можно получить соответственно день, месяц и год\n",
    "print(\"{}.{}.{}\".format(today.day, today.month, today.year))"
   ]
  },
  {
   "cell_type": "code",
   "execution_count": 52,
   "id": "7e3c068a",
   "metadata": {},
   "outputs": [
    {
     "data": {
      "text/plain": [
       "3"
      ]
     },
     "execution_count": 52,
     "metadata": {},
     "output_type": "execute_result"
    }
   ],
   "source": [
    "today.weekday() # 0 - monday"
   ]
  },
  {
   "cell_type": "code",
   "execution_count": 57,
   "id": "e6f998ea",
   "metadata": {},
   "outputs": [
    {
     "name": "stdout",
     "output_type": "stream",
     "text": [
      "00:00:00\n",
      "16:25:00\n",
      "16:25:45\n",
      "16:25:45.334434\n"
     ]
    }
   ],
   "source": [
    "current_time = datetime.time()\n",
    "print(current_time)\n",
    " \n",
    "current_time = datetime.time(16, 25)\n",
    "print(current_time)\n",
    " \n",
    "current_time = datetime.time(16, 25, 45)\n",
    "print(current_time)\n",
    "\n",
    "current_time = datetime.time(16, 25, 45,334434)\n",
    "print(current_time) "
   ]
  },
  {
   "cell_type": "code",
   "execution_count": 62,
   "id": "92b5d35a",
   "metadata": {},
   "outputs": [
    {
     "name": "stdout",
     "output_type": "stream",
     "text": [
      "2017-05-10 00:00:00\n",
      "2017-05-10 04:30:00\n",
      "2024-10-03 21:51:42.691506\n",
      "3.10.2024  21:51\n",
      "2024-10-03\n",
      "21:51:42.691506\n"
     ]
    }
   ],
   "source": [
    "deadline = datetime.datetime(2017, 5, 10)\n",
    "print(deadline)\n",
    "\n",
    "deadline = datetime.datetime(2017, 5, 10, 4, 30)\n",
    "print(deadline)\n",
    "\n",
    "# Для получения текущих даты и времени можно вызвать метод now(): \n",
    "now = datetime.datetime.now()\n",
    "print(now)\n",
    "\n",
    "# С помощью свойств day, month, year, hour, minute, second можно получить отдельные значения даты и времени. \n",
    "\n",
    "print(\"{}.{}.{}  {}:{}\".format(now.day, now.month, now.year, now.hour, now.minute))\n",
    "\n",
    "# А через методы date() и time() можно получить отдельно дату и время соответственно. \n",
    "print(now.date())\n",
    "print(now.time())"
   ]
  },
  {
   "cell_type": "markdown",
   "id": "5af31387",
   "metadata": {},
   "source": [
    "### Класс timedelta"
   ]
  },
  {
   "cell_type": "code",
   "execution_count": 63,
   "id": "a6550d1f",
   "metadata": {},
   "outputs": [
    {
     "name": "stdout",
     "output_type": "stream",
     "text": [
      "3:30:00\n",
      "2 days, 0:00:00\n",
      "Дата и время через 2 дня, 3 часа и 30 минут:\n",
      "2024-10-06 01:22:57.818670\n",
      "Дата и время 10 дней, 5 часов назад от предыдущей даты:\n",
      "2024-09-25 20:22:57.818670\n"
     ]
    }
   ],
   "source": [
    "print(datetime.timedelta(hours=3, minutes=30))\n",
    "print(datetime.timedelta(2))\n",
    "\n",
    "# Сложение и вычитание дат\n",
    "print('Дата и время через 2 дня, 3 часа и 30 минут:')\n",
    "date1 = datetime.datetime.now() + datetime.timedelta(days=2, hours=3, minutes=30)\n",
    "print(date1)\n",
    "print('Дата и время 10 дней, 5 часов назад от предыдущей даты:')\n",
    "print(date1 - datetime.timedelta(days=10, hours=5))"
   ]
  },
  {
   "cell_type": "code",
   "execution_count": 67,
   "id": "82027ae2",
   "metadata": {},
   "outputs": [
    {
     "name": "stdout",
     "output_type": "stream",
     "text": [
      "До нового года осталось: 89 дней  7483 секунд   934364 микросекунд\n",
      "Всего: 7697083.934364 секунд\n"
     ]
    }
   ],
   "source": [
    "now = datetime.datetime.now()\n",
    "new_year = datetime.datetime(now.year+1, 1, 1) # Ближайший новый год\n",
    "period = new_year - now\n",
    "\n",
    "print(\"До нового года осталось: {} дней  {} секунд   {} микросекунд\"\\\n",
    "      .format(period.days, period.seconds, period.microseconds))\n",
    "print(\"Всего: {} секунд\".format(period.total_seconds()))"
   ]
  },
  {
   "cell_type": "code",
   "execution_count": 69,
   "id": "d11ddf5a",
   "metadata": {},
   "outputs": [
    {
     "name": "stdout",
     "output_type": "stream",
     "text": [
      "Осталось 17 дней\n"
     ]
    }
   ],
   "source": [
    "now = datetime.datetime.now()\n",
    "deadline = datetime.datetime(2024, 10, 21)\n",
    "if now.date() > deadline.date():\n",
    "    print(\"Срок сдачи проекта прошел.\")\n",
    "elif now.day == deadline.day and now.month == deadline.month and now.year == deadline.year:\n",
    "    print(\"Срок сдачи проекта сегодня.\")\n",
    "else:\n",
    "    period = deadline - now\n",
    "    print(\"Осталось {} дней\".format(period.days))"
   ]
  },
  {
   "cell_type": "markdown",
   "id": "f07134dc",
   "metadata": {},
   "source": [
    "### Преобразование из строки в дату и наоборот"
   ]
  },
  {
   "cell_type": "code",
   "execution_count": 72,
   "id": "8008e099",
   "metadata": {},
   "outputs": [
    {
     "name": "stdout",
     "output_type": "stream",
     "text": [
      "2017-05-22 00:00:00\n",
      "2017-05-22 12:30:00\n",
      "2017-05-22 12:30:00\n"
     ]
    }
   ],
   "source": [
    "deadline = datetime.datetime.strptime(\"22/05/2017\", \"%d/%m/%Y\")\n",
    "print(deadline)\n",
    " \n",
    "deadline = datetime.datetime.strptime(\"22/05/2017 12:30\", \"%d/%m/%Y %H:%M\")\n",
    "print(deadline)\n",
    " \n",
    "deadline = datetime.datetime.strptime(\"05-22-2017 12:30\", \"%m-%d-%Y %H:%M\")\n",
    "print(deadline) "
   ]
  },
  {
   "cell_type": "code",
   "execution_count": 76,
   "id": "e8432d98",
   "metadata": {},
   "outputs": [
    {
     "name": "stdout",
     "output_type": "stream",
     "text": [
      "Thu, October 03, 2024 - 21:58:27\n",
      "03.10.24 21:58:27\n",
      "2024/10/03 21-58-27\n"
     ]
    }
   ],
   "source": [
    "print(datetime.datetime.strftime(datetime.datetime.now(), \"%a, %B %d, %Y - %H:%M:%S\"))\n",
    "print(datetime.datetime.strftime(datetime.datetime.now(), \"%d.%m.%y %H:%M:%S\"))\n",
    "print(datetime.datetime.strftime(datetime.datetime.now(), \"%Y/%m/%d %H-%M-%S\"))"
   ]
  },
  {
   "cell_type": "markdown",
   "id": "c8ed6d54",
   "metadata": {},
   "source": [
    "### Модуль time\n",
    "\n"
   ]
  },
  {
   "cell_type": "code",
   "execution_count": 92,
   "id": "21721814",
   "metadata": {},
   "outputs": [
    {
     "name": "stdout",
     "output_type": "stream",
     "text": [
      "time.struct_time(tm_year=1970, tm_mon=1, tm_mday=1, tm_hour=0, tm_min=0, tm_sec=0, tm_wday=3, tm_yday=1, tm_isdst=0)\n"
     ]
    }
   ],
   "source": [
    "import time\n",
    "print(time.gmtime(0))"
   ]
  },
  {
   "cell_type": "code",
   "execution_count": 94,
   "id": "a4b556b1",
   "metadata": {},
   "outputs": [
    {
     "name": "stdout",
     "output_type": "stream",
     "text": [
      "Thu Oct  3 22:00:59 2024\n",
      "Thu Oct  3 22:00:33 2024\n"
     ]
    }
   ],
   "source": [
    "print(time.ctime())\n",
    "print(time.ctime(1727982033.0082822))"
   ]
  },
  {
   "cell_type": "code",
   "execution_count": 89,
   "id": "c392724f",
   "metadata": {},
   "outputs": [
    {
     "name": "stdout",
     "output_type": "stream",
     "text": [
      "2024-10-03 22.00.44\n"
     ]
    }
   ],
   "source": [
    "a = time.strftime(\"%Y-%m-%d %H.%M.%S\", time.localtime())\n",
    "print(a)"
   ]
  },
  {
   "cell_type": "code",
   "execution_count": 87,
   "id": "29a8be80",
   "metadata": {},
   "outputs": [
    {
     "name": "stdout",
     "output_type": "stream",
     "text": [
      "1727982033.0082822\n"
     ]
    }
   ],
   "source": [
    "x = time.time()\n",
    "print(x)"
   ]
  },
  {
   "cell_type": "code",
   "execution_count": 95,
   "id": "05b46def",
   "metadata": {},
   "outputs": [
    {
     "name": "stdout",
     "output_type": "stream",
     "text": [
      "Slept for 2 seconds\n",
      "Slept for 2 seconds\n",
      "Slept for 2 seconds\n",
      "Slept for 2 seconds\n",
      "Slept for 2 seconds\n"
     ]
    }
   ],
   "source": [
    "for x in range(5):\n",
    "    time.sleep(2)\n",
    "    print(\"Slept for 2 seconds\")"
   ]
  },
  {
   "cell_type": "markdown",
   "id": "11ff8356",
   "metadata": {},
   "source": [
    "# Тест легкий уровень"
   ]
  },
  {
   "cell_type": "markdown",
   "id": "4c22b2b5",
   "metadata": {},
   "source": [
    "### 1"
   ]
  },
  {
   "cell_type": "code",
   "execution_count": 3,
   "id": "2e853a3b",
   "metadata": {},
   "outputs": [
    {
     "name": "stdout",
     "output_type": "stream",
     "text": [
      "12\n",
      "1\n",
      "45\n",
      "9\n",
      "10\n",
      "45\n",
      "12\n",
      "10\n",
      "9\n",
      "1\n"
     ]
    }
   ],
   "source": [
    "numbers= []\n",
    "for i in range(5):\n",
    "    num=int(input())\n",
    "    numbers.append(num)\n",
    "numbers=sorted(numbers,reverse=True)\n",
    "for num in numbers:\n",
    "    print(num)"
   ]
  },
  {
   "cell_type": "markdown",
   "id": "bb36f1c7",
   "metadata": {},
   "source": [
    "### 2"
   ]
  },
  {
   "cell_type": "code",
   "execution_count": 20,
   "id": "239f69a2",
   "metadata": {},
   "outputs": [
    {
     "name": "stdout",
     "output_type": "stream",
     "text": [
      "джек, воробей, капитан, джек, воробей\n",
      "воробей, джек, капитан\n"
     ]
    }
   ],
   "source": [
    "words=[word.strip().lower() for word in input().split(',')]\n",
    "sort_set=sorted(set(words))\n",
    "out_str=', '.join(sort_set)\n",
    "print(out_str)"
   ]
  },
  {
   "cell_type": "markdown",
   "id": "150998cc",
   "metadata": {},
   "source": [
    "### 3"
   ]
  },
  {
   "cell_type": "code",
   "execution_count": 31,
   "id": "a441f313",
   "metadata": {},
   "outputs": [
    {
     "name": "stdout",
     "output_type": "stream",
     "text": [
      "1 2 3 4 5\n",
      "3 5 7 9 11\n",
      "Общие элементы: 3 5\n"
     ]
    }
   ],
   "source": [
    "#1 2 3 4 5\n",
    "#3 5 7 9 11\n",
    "s1=input().split()\n",
    "s2=input().split()\n",
    "per=[]\n",
    "for num in s1:\n",
    "    if num in s2:\n",
    "        per.append(num)\n",
    "if per:\n",
    "    out=' '.join(sorted(set(per)))\n",
    "    print('Общие элементы:',out)\n",
    "else:\n",
    "    print('Общих элементов нет')\n"
   ]
  },
  {
   "cell_type": "markdown",
   "id": "da6ab3c6",
   "metadata": {},
   "source": [
    "### Второе решение задачи"
   ]
  },
  {
   "cell_type": "code",
   "execution_count": 30,
   "id": "cbe7ec6a",
   "metadata": {},
   "outputs": [
    {
     "name": "stdout",
     "output_type": "stream",
     "text": [
      "[3, 5]\n",
      "Общие элементы: 3 5\n"
     ]
    }
   ],
   "source": [
    "s1=input().split()\n",
    "s2=input().split()\n",
    "num1=[int(num) for num in s1]\n",
    "num2=[int(num) for num in s2]\n",
    "peres=sorted(set(num1)&set(num2))\n",
    "if peres:\n",
    "    print('Общие элементы:',' '.join(map(str,peres)))\n",
    "else:\n",
    "    print('Общих элементов нет')"
   ]
  },
  {
   "cell_type": "markdown",
   "id": "e063b001",
   "metadata": {},
   "source": [
    "### 4"
   ]
  },
  {
   "cell_type": "code",
   "execution_count": 43,
   "id": "31b833f9",
   "metadata": {},
   "outputs": [
    {
     "name": "stdout",
     "output_type": "stream",
     "text": [
      " и: 5\n",
      " дырка: 4\n",
      " три: 2\n"
     ]
    }
   ],
   "source": [
    "#s=input().split()\n",
    "#s='три, три, и, ещё, три, будет, дырка, и, будет, и, дырка, и, дырка, и, дырка'\n",
    "#s=s.split(',')\n",
    "s=[word.strip().lower() for word in input().split(', ')]\n",
    "dic={}\n",
    "for word in s:\n",
    "    dic[word]=dic.get(word,0)+1\n",
    "sort_dic=sorted(dic.items(),key = lambda x: x[1],reverse=True)\n",
    "for word,count in sort_dic[:3]:\n",
    "    print(f'{word}: {count}')"
   ]
  },
  {
   "cell_type": "markdown",
   "id": "e8d622b0",
   "metadata": {},
   "source": [
    "### 5"
   ]
  },
  {
   "cell_type": "code",
   "execution_count": 44,
   "id": "b1885979",
   "metadata": {},
   "outputs": [],
   "source": [
    "import datetime\n"
   ]
  },
  {
   "cell_type": "code",
   "execution_count": 52,
   "id": "57a08ee9",
   "metadata": {},
   "outputs": [
    {
     "name": "stdout",
     "output_type": "stream",
     "text": [
      "19-09-2022\n"
     ]
    }
   ],
   "source": [
    "today = datetime.datetime.strptime(input(), \"%d-%m-%Y\")\n",
    "monday=today-datetime.timedelta(days=today.weekday())\n",
    "print(datetime.datetime.strftime(monday, \"%d-%m-%Y\"))\n"
   ]
  },
  {
   "cell_type": "markdown",
   "id": "6c9edf88",
   "metadata": {},
   "source": [
    "## Продвинутый уровень"
   ]
  },
  {
   "cell_type": "markdown",
   "id": "4e7775e2",
   "metadata": {},
   "source": [
    "### 1"
   ]
  },
  {
   "cell_type": "code",
   "execution_count": 56,
   "id": "d5dd8aca",
   "metadata": {},
   "outputs": [
    {
     "name": "stdout",
     "output_type": "stream",
     "text": [
      "Яблоко: 100\n",
      "Яблоко: 100\n",
      "Яблоко 100\n",
      "Хлеб: 50\n",
      "Хлеб: 50\n",
      "Хлеб 50\n",
      "Яблоко: 100\n",
      "Яблоко: 100\n",
      "Яблоко 100\n",
      "Молоко: 80\n",
      "Молоко: 80\n",
      "Молоко 80\n",
      "конец\n",
      "{'Яблоко': [200, 2], 'Хлеб': [50, 1], 'Молоко': [80, 1]}\n",
      "Чек:\n",
      "---------------------\n",
      "Яблоко: 200 (2 шт.)\n",
      "Хлеб: 50 (1 шт.)\n",
      "Молоко: 80 (1 шт.)\n",
      "---------------------\n",
      "Итого: 330\n"
     ]
    }
   ],
   "source": [
    "dic={}\n",
    "all_price=0\n",
    "while True:\n",
    "    check=input()\n",
    "    if check=='конец':\n",
    "        break\n",
    "    prod,price=check.split(':')\n",
    "    price=int(price)\n",
    "    all_price +=price\n",
    "    if prod in dic:\n",
    "        dic[prod][0]+=price\n",
    "        dic[prod][1]+=1\n",
    "    else:\n",
    "        dic[prod]=[price,1]\n",
    "print('Чек:')\n",
    "print('---------------------')\n",
    "for prod,(price,cnt) in dic.items():\n",
    "    print(f'{prod}: {price} ({cnt} шт.)')\n",
    "print('---------------------')\n",
    "print(f'Итого: {all_price}')"
   ]
  },
  {
   "cell_type": "markdown",
   "id": "1bc789e6",
   "metadata": {},
   "source": [
    "### 2"
   ]
  },
  {
   "cell_type": "code",
   "execution_count": 61,
   "id": "1d3f5de2",
   "metadata": {},
   "outputs": [
    {
     "name": "stdout",
     "output_type": "stream",
     "text": [
      "Телефон - Электроника - 50000\n",
      "Ноутбук - Электроника - 100000\n",
      "Кофе - Продукты - 300\n",
      "Чай - Продукты - 120\n",
      "Кроссовки - Одежда - 9000\n",
      "стоп\n",
      "Одежда:\n",
      "  - Кроссовки (9000 руб.)\n",
      "Продукты:\n",
      "  - Чай (120 руб.)\n",
      "  - Кофе (300 руб.)\n",
      "Электроника:\n",
      "  - Телефон (50000 руб.)\n",
      "  - Ноутбук (100000 руб.)\n"
     ]
    }
   ],
   "source": [
    "dic = {}\n",
    "while True:\n",
    "    line = input()\n",
    "    if line == \"стоп\":\n",
    "        break\n",
    "    product, category, price = line.split(\" - \")\n",
    "    price = int(price)  \n",
    "    if category not in dic:\n",
    "        dic[category] = []  \n",
    "    dic[category].append((product, price))\n",
    "sorted_dic = sorted(dic.keys())\n",
    "for category in sorted_dic:\n",
    "    print(f\"{category}:\")\n",
    "    sorted_products = sorted(dic[category], key=lambda x: (x[1], x[0]))\n",
    "    for product, price in sorted_products:\n",
    "        print(f\"  - {product} ({price} руб.)\")\n"
   ]
  },
  {
   "cell_type": "markdown",
   "id": "e7c72d0e",
   "metadata": {},
   "source": [
    "Телефон - Электроника - 50000\n",
    "Ноутбук - Электроника - 100000\n",
    "Кофе - Продукты - 300\n",
    "Чай - Продукты - 120\n",
    "Кроссовки - Одежда - 9000\n",
    "стоп"
   ]
  },
  {
   "cell_type": "markdown",
   "id": "620e4245",
   "metadata": {},
   "source": [
    "### 3"
   ]
  },
  {
   "cell_type": "code",
   "execution_count": 62,
   "id": "a442f28d",
   "metadata": {
    "collapsed": true
   },
   "outputs": [
    {
     "ename": "KeyboardInterrupt",
     "evalue": "Interrupted by user",
     "output_type": "error",
     "traceback": [
      "\u001b[0;31m---------------------------------------------------------------------------\u001b[0m",
      "\u001b[0;31mKeyboardInterrupt\u001b[0m                         Traceback (most recent call last)",
      "Cell \u001b[0;32mIn[62], line 3\u001b[0m\n\u001b[1;32m      1\u001b[0m dic \u001b[38;5;241m=\u001b[39m {}\n\u001b[1;32m      2\u001b[0m \u001b[38;5;28;01mwhile\u001b[39;00m \u001b[38;5;28;01mTrue\u001b[39;00m:\n\u001b[0;32m----> 3\u001b[0m     line \u001b[38;5;241m=\u001b[39m \u001b[38;5;28;43minput\u001b[39;49m\u001b[43m(\u001b[49m\u001b[43m)\u001b[49m\n\u001b[1;32m      4\u001b[0m     \u001b[38;5;28;01mif\u001b[39;00m line \u001b[38;5;241m==\u001b[39m \u001b[38;5;124m\"\u001b[39m\u001b[38;5;124mстоп\u001b[39m\u001b[38;5;124m\"\u001b[39m:\n\u001b[1;32m      5\u001b[0m         \u001b[38;5;28;01mbreak\u001b[39;00m\n",
      "File \u001b[0;32m~/anaconda3/lib/python3.10/site-packages/ipykernel/kernelbase.py:1202\u001b[0m, in \u001b[0;36mKernel.raw_input\u001b[0;34m(self, prompt)\u001b[0m\n\u001b[1;32m   1200\u001b[0m     msg \u001b[38;5;241m=\u001b[39m \u001b[38;5;124m\"\u001b[39m\u001b[38;5;124mraw_input was called, but this frontend does not support input requests.\u001b[39m\u001b[38;5;124m\"\u001b[39m\n\u001b[1;32m   1201\u001b[0m     \u001b[38;5;28;01mraise\u001b[39;00m StdinNotImplementedError(msg)\n\u001b[0;32m-> 1202\u001b[0m \u001b[38;5;28;01mreturn\u001b[39;00m \u001b[38;5;28;43mself\u001b[39;49m\u001b[38;5;241;43m.\u001b[39;49m\u001b[43m_input_request\u001b[49m\u001b[43m(\u001b[49m\n\u001b[1;32m   1203\u001b[0m \u001b[43m    \u001b[49m\u001b[38;5;28;43mstr\u001b[39;49m\u001b[43m(\u001b[49m\u001b[43mprompt\u001b[49m\u001b[43m)\u001b[49m\u001b[43m,\u001b[49m\n\u001b[1;32m   1204\u001b[0m \u001b[43m    \u001b[49m\u001b[38;5;28;43mself\u001b[39;49m\u001b[38;5;241;43m.\u001b[39;49m\u001b[43m_parent_ident\u001b[49m\u001b[43m[\u001b[49m\u001b[38;5;124;43m\"\u001b[39;49m\u001b[38;5;124;43mshell\u001b[39;49m\u001b[38;5;124;43m\"\u001b[39;49m\u001b[43m]\u001b[49m\u001b[43m,\u001b[49m\n\u001b[1;32m   1205\u001b[0m \u001b[43m    \u001b[49m\u001b[38;5;28;43mself\u001b[39;49m\u001b[38;5;241;43m.\u001b[39;49m\u001b[43mget_parent\u001b[49m\u001b[43m(\u001b[49m\u001b[38;5;124;43m\"\u001b[39;49m\u001b[38;5;124;43mshell\u001b[39;49m\u001b[38;5;124;43m\"\u001b[39;49m\u001b[43m)\u001b[49m\u001b[43m,\u001b[49m\n\u001b[1;32m   1206\u001b[0m \u001b[43m    \u001b[49m\u001b[43mpassword\u001b[49m\u001b[38;5;241;43m=\u001b[39;49m\u001b[38;5;28;43;01mFalse\u001b[39;49;00m\u001b[43m,\u001b[49m\n\u001b[1;32m   1207\u001b[0m \u001b[43m\u001b[49m\u001b[43m)\u001b[49m\n",
      "File \u001b[0;32m~/anaconda3/lib/python3.10/site-packages/ipykernel/kernelbase.py:1245\u001b[0m, in \u001b[0;36mKernel._input_request\u001b[0;34m(self, prompt, ident, parent, password)\u001b[0m\n\u001b[1;32m   1242\u001b[0m \u001b[38;5;28;01mexcept\u001b[39;00m \u001b[38;5;167;01mKeyboardInterrupt\u001b[39;00m:\n\u001b[1;32m   1243\u001b[0m     \u001b[38;5;66;03m# re-raise KeyboardInterrupt, to truncate traceback\u001b[39;00m\n\u001b[1;32m   1244\u001b[0m     msg \u001b[38;5;241m=\u001b[39m \u001b[38;5;124m\"\u001b[39m\u001b[38;5;124mInterrupted by user\u001b[39m\u001b[38;5;124m\"\u001b[39m\n\u001b[0;32m-> 1245\u001b[0m     \u001b[38;5;28;01mraise\u001b[39;00m \u001b[38;5;167;01mKeyboardInterrupt\u001b[39;00m(msg) \u001b[38;5;28;01mfrom\u001b[39;00m \u001b[38;5;28;01mNone\u001b[39;00m\n\u001b[1;32m   1246\u001b[0m \u001b[38;5;28;01mexcept\u001b[39;00m \u001b[38;5;167;01mException\u001b[39;00m:\n\u001b[1;32m   1247\u001b[0m     \u001b[38;5;28mself\u001b[39m\u001b[38;5;241m.\u001b[39mlog\u001b[38;5;241m.\u001b[39mwarning(\u001b[38;5;124m\"\u001b[39m\u001b[38;5;124mInvalid Message:\u001b[39m\u001b[38;5;124m\"\u001b[39m, exc_info\u001b[38;5;241m=\u001b[39m\u001b[38;5;28;01mTrue\u001b[39;00m)\n",
      "\u001b[0;31mKeyboardInterrupt\u001b[0m: Interrupted by user"
     ]
    }
   ],
   "source": [
    "dic = {}\n",
    "while True:\n",
    "    line = input()\n",
    "    if line == \"стоп\":\n",
    "        break\n",
    "    category,subcategory,product,price = line.split(\" - \")\n",
    "    price = int(price)  \n",
    "    if category not in dic:\n",
    "        dic[category] = {} \n",
    "    if subcategory not in dic[category]:\n",
    "        dic[category][subcategory] = []\n",
    "    dic[category][subcategory].append((product, price))\n",
    "sorted_dic = sorted(dic.keys())\n",
    "for category in sorted_dic:\n",
    "    print(f\"{category}:\")\n",
    "    sorted_subcat = sorted(dic[category].keys())\n",
    "    for subcategory in sorted_subcat:\n",
    "        print(f\" {subcategory}:\")\n",
    "        sorted_products = sorted(dic[category][subcategory], key=lambda x: (x[1], x[0]))\n",
    "        for product, price in sorted_products:\n",
    "            print(f\"  - {product} ({price} руб.)\")    "
   ]
  },
  {
   "cell_type": "markdown",
   "id": "ac518215",
   "metadata": {},
   "source": [
    "### 4"
   ]
  },
  {
   "cell_type": "code",
   "execution_count": 1,
   "id": "fce00849",
   "metadata": {},
   "outputs": [],
   "source": [
    "import datetime"
   ]
  },
  {
   "cell_type": "code",
   "execution_count": 8,
   "id": "e8897567",
   "metadata": {},
   "outputs": [
    {
     "name": "stdout",
     "output_type": "stream",
     "text": [
      "3 года\n"
     ]
    }
   ],
   "source": [
    "def get_print_date(years):\n",
    "    if years%10==1 and years!=11:\n",
    "        print(f'{years} год')\n",
    "    elif years% 10 in (2,3,4) and (years%100<10 or years%100>19):\n",
    "        print(f'{years} года')\n",
    "    else:\n",
    "        print(f'{years} лет')\n",
    "first_date = datetime.datetime.strptime(input(), \"%Y-%m-%d\")\n",
    "sec_date = datetime.datetime.strptime(input(), \"%Y-%m-%d\")\n",
    "diff_year= sec_date.year - first_date.year\n",
    "if (sec_date.month,sec_date.day)<(first_date.month,first_date.day):\n",
    "    diff_year-=1\n",
    "get_print_date(diff_year)"
   ]
  },
  {
   "cell_type": "markdown",
   "id": "45f7000e",
   "metadata": {},
   "source": [
    "### 5"
   ]
  },
  {
   "cell_type": "code",
   "execution_count": 9,
   "id": "680cc92f",
   "metadata": {},
   "outputs": [
    {
     "data": {
      "text/plain": [
       "0"
      ]
     },
     "execution_count": 9,
     "metadata": {},
     "output_type": "execute_result"
    }
   ],
   "source": [
    "def get_print_weekday(weekday,lang):\n",
    "    if lang not in ('ru','en'):\n",
    "        print('Непонятный язык')\n",
    "    elif lang =='ru':\n",
    "weekdays_ru={\n",
    "    0:'Понедельник'\n",
    "}      \n",
    "dat = datetime.datetime.strptime('04-03-2024', \"%d-%m-%Y\")\n",
    "lang='ru'\n",
    "dat.weekday()"
   ]
  },
  {
   "cell_type": "code",
   "execution_count": null,
   "id": "868f9090",
   "metadata": {},
   "outputs": [],
   "source": []
  },
  {
   "cell_type": "code",
   "execution_count": null,
   "id": "1624ee55",
   "metadata": {},
   "outputs": [],
   "source": []
  }
 ],
 "metadata": {
  "kernelspec": {
   "display_name": "Python 3 (ipykernel)",
   "language": "python",
   "name": "python3"
  },
  "language_info": {
   "codemirror_mode": {
    "name": "ipython",
    "version": 3
   },
   "file_extension": ".py",
   "mimetype": "text/x-python",
   "name": "python",
   "nbconvert_exporter": "python",
   "pygments_lexer": "ipython3",
   "version": "3.10.9"
  }
 },
 "nbformat": 4,
 "nbformat_minor": 5
}
