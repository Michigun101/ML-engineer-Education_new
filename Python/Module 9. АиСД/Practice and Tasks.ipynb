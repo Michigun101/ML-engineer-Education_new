{
 "cells": [
  {
   "cell_type": "markdown",
   "id": "d14488c4",
   "metadata": {},
   "source": [
    "## История просмотров веб-браузера\n",
    "\n",
    "Реализуйте класс BrowserHistory, имитирующий упрощенную модель истории просмотров веб-браузера, используя принцип стека (LIFO - Last-In, First-Out). Класс должен обеспечивать функциональность посещения страниц и возврата к предыдущим страницам.\n",
    "Класс BrowserHistory: Должен содержать следующие методы:\n",
    "visit(url): Принимает URL страницы (строка) и добавляет его в историю просмотров.\n",
    "back(): Возвращает пользователя к предыдущей странице в истории. Удаляет последний добавленный URL из истории. Если история пуста или содержит только одну страницу - ничего не происходит.\n",
    "show_current(): Возвращает текущий URL (последний посещенный). Если история пуста, возвращает None.\n",
    "show_history(): Возвращает список посещенных URL. Если история пуста, возвращает None. "
   ]
  },
  {
   "cell_type": "code",
   "execution_count": 1,
   "id": "3a73a9c9",
   "metadata": {},
   "outputs": [],
   "source": [
    "class BrowserHistory:\n",
    "    def __init__(self):\n",
    "        '''Инициализация истории просмотра в виде стека'''\n",
    "        self.history = []\n",
    "        \n",
    "    def visit(self,url):\n",
    "        '''Принимает URL страницы (строка) и добавляет его в историю просмотров.'''\n",
    "        self.history.append(url)\n",
    "        \n",
    "    def back(self):\n",
    "        '''Возвращает пользователя к предыдущей странице в истории. \n",
    "        Удаляет последний добавленный URL из истории. \n",
    "        Если история пуста или содержит только одну страницу - ничего не происходит.'''\n",
    "        if len(self.history)>1:\n",
    "            self.history.pop()\n",
    "            \n",
    "    def show_current(self):\n",
    "        ''' Возвращает текущий URL (последний посещенный). Если история пуста, возвращает None.'''\n",
    "        return self.history[-1] if self.history else None\n",
    "    \n",
    "    def show_history(self):\n",
    "        '''Возвращает список посещенных URL. Если история пуста, возвращает None.'''\n",
    "        return self.history if self.history else None"
   ]
  },
  {
   "cell_type": "code",
   "execution_count": 2,
   "id": "3b75e643",
   "metadata": {},
   "outputs": [
    {
     "name": "stdout",
     "output_type": "stream",
     "text": [
      "['https://www.example.com', 'https://www.google.com', 'https://www.wikipedia.org']\n",
      "https://www.wikipedia.org\n",
      "['https://www.example.com', 'https://www.google.com']\n",
      "https://www.google.com\n",
      "['https://www.example.com']\n",
      "https://www.example.com\n"
     ]
    }
   ],
   "source": [
    "history = BrowserHistory()\n",
    "history.visit(\"https://www.example.com\")\n",
    "history.visit(\"https://www.google.com\")\n",
    "history.visit(\"https://www.wikipedia.org\")\n",
    "\n",
    "print(history.show_history())  # Вывод: ['https://www.example.com', 'https://www.google.com', 'https://www.wikipedia.org']\n",
    "print(history.show_current())  # Вывод: https://www.wikipedia.org\n",
    "\n",
    "history.back()\n",
    "print(history.show_history())  # Вывод: ['https://www.example.com', 'https://www.google.com']\n",
    "print(history.show_current())  # Вывод: https://www.google.com\n",
    "\n",
    "history.back()\n",
    "print(history.show_history())  # Вывод: ['https://www.example.com']\n",
    "print(history.show_current())  # Вывод: https://www.example.com"
   ]
  },
  {
   "cell_type": "markdown",
   "id": "effa85c4",
   "metadata": {},
   "source": [
    "## Система обработки задач\n",
    "\n",
    "Представьте, что у вас есть система, которая обрабатывает задачи в порядке их поступления (FIFO). Вам нужно реализовать систему очереди, которая поддерживает следующие операции:\n",
    "enqueue(task): Добавить задачу в очередь.\n",
    "dequeue(): Удалить задачу из очереди и вернуть сообщение \"{task} удалена из очереди\". Если задач не осталось - вернуть сообщение \"Очередь пуста.\"\n",
    "peek(): Вернуть первую задачу в очереди без её удаления. Если задач не осталось - вернуть сообщение \"Очередь пуста.\"\n",
    "is_empty(): Проверить, пуста ли очередь. Возвращает True или False."
   ]
  },
  {
   "cell_type": "code",
   "execution_count": 3,
   "id": "c5dba0bc",
   "metadata": {},
   "outputs": [],
   "source": [
    "class TaskQueue:\n",
    "    def __init__(self):\n",
    "        '''Инициализация очереди задач в виде списка'''\n",
    "        self.queue = []\n",
    "        \n",
    "    def enqueue(self,task):\n",
    "        '''Добавить задачу в очередь.'''\n",
    "        self.queue.append(task)\n",
    "        \n",
    "    def dequeue(self):\n",
    "        '''Удалить задачу из очереди и вернуть сообщение \"{task} удалена из очереди\". \n",
    "        Если задач не осталось - вернуть сообщение \"Очередь пуста.\"'''\n",
    "        if self.queue:\n",
    "            return f\"{self.queue.pop(0)} удалена из очереди.\"\n",
    "        return 'Очередь пуста.'\n",
    "    \n",
    "    def peek(self):\n",
    "        '''Вернуть первую задачу в очереди без её удаления. \n",
    "        Если задач не осталось - вернуть сообщение \"Очередь пуста.\"'''\n",
    "        return self.queue[0] if self.queue else 'Очередь пуста.'\n",
    "    \n",
    "    def is_empty(self):\n",
    "        return len(self.queue)==0"
   ]
  },
  {
   "cell_type": "code",
   "execution_count": 4,
   "id": "e59c47cf",
   "metadata": {},
   "outputs": [
    {
     "name": "stdout",
     "output_type": "stream",
     "text": [
      "Задача 1\n",
      "Задача 1 удалена из очереди.\n",
      "Задача 2\n",
      "Задача 2 удалена из очереди.\n",
      "Очередь пуста.\n"
     ]
    }
   ],
   "source": [
    "task_queue = TaskQueue()\n",
    "task_queue.enqueue(\"Задача 1\")\n",
    "task_queue.enqueue(\"Задача 2\")\n",
    "print(task_queue.peek())  # Вывод: \"Задача 1\"\n",
    "print(task_queue.dequeue())  # Вывод: \"Задача 1 удалена из очереди.\"\n",
    "print(task_queue.peek())  # Вывод: \"Задача 2\"\n",
    "print(task_queue.dequeue())  # Вывод: \"Задача 2 удалена из очереди.\"\n",
    "print(task_queue.dequeue())  # Вывод: \"Очередь пуста.\""
   ]
  },
  {
   "cell_type": "markdown",
   "id": "49f3fe60",
   "metadata": {},
   "source": [
    "## Подсчет размера директории\n",
    "\n",
    "Напишите функцию, которая вычисляет общий размер всех файлов в заданной директории, включая все поддиректории. Задача решается с использованием рекурсивного обхода дерева директорий.\n",
    "Требования:\n",
    "Класс Directory: Создайте класс Directory для представления узла в дереве директорий. Каждый узел должен содержать:\n",
    "name: (строка) Имя директории или файла.\n",
    "size: (целое число, по умолчанию 0) Размер файла в байтах. Для директорий значение по умолчанию 0, для файлов указывается размер.\n",
    "is_file: (булево, по умолчанию False) Флаг, указывающий, является ли узел файлом (True) или директорией (False).\n",
    "children: (список) Список дочерних узлов (Directory).\n",
    "Метод add_child(self, child): Добавляет дочерний узел (child, объект класса Directory) к текущему узлу.\n",
    "Метод calculate_total_size(self):\n",
    "Это рекурсивный метод, который вычисляет общий размер всех файлов в поддереве, начиная с текущего узла.\n",
    "Пошаговый принцип работы:\n",
    "Если текущий узел является файлом, метод возвращает его размер.\n",
    "Если текущий узел является директорией, метод инициализирует переменную total_size с нулевым значением.\n",
    "Для каждого дочернего узла (child) вызывается метод calculate_total_size (внутри метода вызывается этот же метод - т.е. рекурсивно), и его результат добавляется к total_size.\n",
    "Метод возвращает значение total_size.\n",
    "Таким образом, метод сначала собирает размеры файлов в текущей папке, затем вызывает себя для всех поддиректорий, суммирует их и возвращает общий размер. То есть он работает как подсчет в несколько этапов, суммируя результаты каждого вызова."
   ]
  },
  {
   "cell_type": "code",
   "execution_count": 5,
   "id": "2d7bf4b8",
   "metadata": {},
   "outputs": [],
   "source": [
    "class Directory:\n",
    "    def __init__(self,name,size=0,is_file=False):\n",
    "        self.name = name\n",
    "        self.size = size\n",
    "        self.is_file =is_file\n",
    "        self.children = []\n",
    "        \n",
    "    def add_child(self,child):\n",
    "        ''' Добавляет дочерний узел (child, объект класса Directory) к текущему узлу.'''\n",
    "        self.children.append(child)\n",
    "        \n",
    "    def calculate_total_size(self):\n",
    "        '''Это рекурсивный метод, который вычисляет общий размер всех файлов в поддереве, \n",
    "        начиная с текущего узла.'''\n",
    "        if self.is_file:\n",
    "            return self.size\n",
    "        \n",
    "        total_size = 0\n",
    "        for child in self.children:\n",
    "            total_size += child.calculate_total_size()\n",
    "            \n",
    "        return total_size"
   ]
  },
  {
   "cell_type": "code",
   "execution_count": 6,
   "id": "6516c884",
   "metadata": {},
   "outputs": [
    {
     "name": "stdout",
     "output_type": "stream",
     "text": [
      "350 байт\n"
     ]
    }
   ],
   "source": [
    "# Создаем папку root\n",
    "root = Directory('root')\n",
    "\n",
    "# Добавим файл в папку root\n",
    "file1 = Directory('file1.txt', size=50, is_file=True)\n",
    "root.add_child(file1)\n",
    "\n",
    "# Создаем две подпапки documents и pictures\n",
    "documents = Directory('documents')\n",
    "root.add_child(documents)\n",
    "\n",
    "pictures = Directory('pictures')\n",
    "root.add_child(pictures)\n",
    "\n",
    "# Добавляем файлы в подпапки documents и pictures\n",
    "file2 = Directory('file2.txt', size=100, is_file=True)\n",
    "documents.add_child(file2)\n",
    "\n",
    "file3 = Directory('file3.jpg', size=200, is_file=True)\n",
    "pictures.add_child(file3)\n",
    "\n",
    "# Выводим размер всех файлов в папке root (Учитывая файлы в подпапках)\n",
    "print(f\"{root.calculate_total_size()} байт\")  # Вывод: 350 байт"
   ]
  },
  {
   "cell_type": "markdown",
   "id": "50e27cdc",
   "metadata": {},
   "source": [
    "## Удаление узла из связанного списка\n",
    "\n",
    "Дан класс Node для представления узла связанного списка и класс LinkedList с методами добавления узлов в конец списка (append) и вывода списка (print_list). Требуется реализовать метод delete_kth_from_end(self, k) класса LinkedList, который удаляет k-й узел с конца списка.\n",
    "class Node:\n",
    "    \"\"\"\n",
    "    Класс узла связанного списка.\n",
    "    Хранит данные и ссылку на следующий узел.\n",
    "    \"\"\"\n",
    "    def __init__(self, data):\n",
    "        self.data = data\n",
    "        self.next = None\n",
    "\n",
    "class LinkedList:\n",
    "    \"\"\"\n",
    "    Класс связанного списка.\n",
    "    \"\"\"\n",
    "    def __init__(self):\n",
    "        self.head = None\n",
    "\n",
    "    def append(self, data):\n",
    "        \"\"\"\n",
    "        Добавляет новый узел с заданными данными в конец списка.\n",
    "        \"\"\"\n",
    "        new_node = Node(data)  # Создаем новый узел\n",
    "        if not self.head:  # Если список пуст\n",
    "            self.head = new_node  # Новый узел становится первым\n",
    "            return\n",
    "        current = self.head  # Начинаем с первого узла\n",
    "        while current.next:  # Идем до последнего узла\n",
    "            current = current.next\n",
    "        current.next = new_node  # Добавляем новый узел в конец\n",
    "\n",
    "    def delete_kth_from_end(self, k):\n",
    "        \"\"\"\n",
    "        Удаляет k-й узел с конца списка.\n",
    "\n",
    "        Args:\n",
    "            k: Позиция узла для удаления (считая с конца).\n",
    "        \"\"\"\n",
    "        pass\n",
    "\n",
    "    def print_list(self):\n",
    "        \"\"\"\n",
    "        Печатает все элементы списка в удобном формате.\n",
    "        \"\"\"\n",
    "        current = self.head\n",
    "        while current:\n",
    "            print(current.data, end=\" -> \")\n",
    "            current = current.next\n",
    "        print(\"None\")\n",
    " \n",
    "Требования к методу delete_kth_from_end(self, k):\n",
    "Метод принимает один аргумент: k — целое число, представляющее позицию узла для удаления (считая с конца списка).\n",
    "Метод должен удалить k-й узел с конца списка.\n",
    "Метод должен корректно обрабатывать следующие граничные условия:\n",
    "Пустой список (self.head is None).\n",
    "Значение k меньше или равно 0. Список не подвергается изменениям.\n",
    "Значение k больше длины списка. Список не подвергается изменениям.\n",
    "Метод не должен возвращать никаких значений.\n",
    "Асимптотическая сложность метода должна быть O( n ), где n - длина списка. Не используйте дополнительные структуры данных, увеличивающие объем памяти. "
   ]
  },
  {
   "cell_type": "code",
   "execution_count": 7,
   "id": "80a0b6e0",
   "metadata": {},
   "outputs": [],
   "source": [
    "class Node:\n",
    "    \"\"\"Класс узла связанного списка.Хранит данные и ссылку на следующий узел.\"\"\"\n",
    "    def __init__(self,data):\n",
    "        self.data = data\n",
    "        self.next = None\n",
    "            \n",
    "class LinkedList:\n",
    "    '''Класс связанного списка.'''\n",
    "    def __init__(self):\n",
    "        self.head = None\n",
    "        \n",
    "    def append(self,data):\n",
    "        '''Добавляет новый узел с заданными данными в конец списка.'''\n",
    "        new_node = Node(data)\n",
    "        if not self.head:\n",
    "            self.head = new_node\n",
    "            return\n",
    "        \n",
    "        current = self.head\n",
    "        while current.next:\n",
    "            current = current.next\n",
    "        current.next = new_node\n",
    "        \n",
    "    \n",
    "    def delete_kth_from_end(self,k):\n",
    "        \"\"\"\n",
    "        Удаляет k-й узел с конца списка.\n",
    "\n",
    "        Args:\n",
    "            k: Позиция узла для удаления (считая с конца).\n",
    "        \"\"\"\n",
    "        if not self.head:\n",
    "            return\n",
    "            \n",
    "        length = 0\n",
    "        current = self.head\n",
    "        while current:\n",
    "            length+=1\n",
    "            current=current.next\n",
    "            \n",
    "        if k<=0 or k>length:\n",
    "            return \n",
    "        \n",
    "        if k==length:\n",
    "            self.head = self.head.next\n",
    "            return\n",
    "        \n",
    "        prev = self.head\n",
    "        for _ in range(length - k - 1):\n",
    "            prev = prev.next\n",
    "            \n",
    "        prev.next = prev.next.next\n",
    "        \n",
    "        \n",
    "    def print_list(self):\n",
    "        '''Печатает все элементы списка в удобном формате.'''\n",
    "        current = self.head\n",
    "        while current:\n",
    "            print(current.data, end = ' -> ')\n",
    "            current = current.next\n",
    "        print('None')"
   ]
  },
  {
   "cell_type": "code",
   "execution_count": 8,
   "id": "9f673aaa",
   "metadata": {},
   "outputs": [
    {
     "name": "stdout",
     "output_type": "stream",
     "text": [
      "1 -> 2 -> 3 -> 4 -> 5 -> None\n",
      "1 -> 2 -> 3 -> 5 -> None\n"
     ]
    }
   ],
   "source": [
    "# Пример использования\n",
    "linked_list = LinkedList()\n",
    "linked_list.append(1)\n",
    "linked_list.append(2)\n",
    "linked_list.append(3)\n",
    "linked_list.append(4)\n",
    "linked_list.append(5)\n",
    "\n",
    "# Полученный список:\n",
    "linked_list.print_list()  # Вывод: 1 -> 2 -> 3 -> 4 -> 5 -> None\n",
    "\n",
    "linked_list.delete_kth_from_end(2)  # Удаляем 2-ой узел с конца (4)\n",
    "\n",
    "# Список после удаления 2-го узла с конца:\n",
    "linked_list.print_list()  # Вывод: 1 -> 2 -> 3 -> 5 -> None"
   ]
  },
  {
   "cell_type": "markdown",
   "id": "41758e3f",
   "metadata": {},
   "source": [
    "## Проверка наличия пары с заданной суммой\n",
    "\n",
    "Дан массив целых чисел и целое число target. Ваша задача — написать функцию, которая проверяет, существует ли в массиве пара элементов, сумма которых равна target.\n",
    "Требования:\n",
    "Напишите функцию has_pair_with_sum(arr, target), которая принимает массив целых чисел и целое число target в качестве входных данных и возвращает True, если существует пара элементов, сумма которых равна target, и False в противном случае.\n",
    "Функция должна эффективно обрабатывать большие массивы (сотни тысяч элементов). Время выполнения вашей программы будет ограничено."
   ]
  },
  {
   "cell_type": "code",
   "execution_count": 9,
   "id": "29f223fd",
   "metadata": {},
   "outputs": [],
   "source": [
    "def has_pair_with_sum(arr,target):\n",
    "    seen = set()\n",
    "    for num in arr:\n",
    "        complement = target - num\n",
    "        if complement in seen:\n",
    "            return True\n",
    "        seen.add(num)\n",
    "    return False"
   ]
  },
  {
   "cell_type": "code",
   "execution_count": 10,
   "id": "d17a76f9",
   "metadata": {},
   "outputs": [
    {
     "name": "stdout",
     "output_type": "stream",
     "text": [
      "True\n"
     ]
    }
   ],
   "source": [
    "arr = [10, 15, 3, 7]\n",
    "target = 17\n",
    "print(has_pair_with_sum(arr, target))  # Вывод: True (10 + 7 = 17)"
   ]
  },
  {
   "cell_type": "markdown",
   "id": "e98415b3",
   "metadata": {},
   "source": [
    "## Нахождение комбинаций\n",
    "\n",
    "Дан массив целых чисел. Ваша задача — написать функцию, которая находит все уникальные тройки чисел в массиве, сумма которых равна нулю.\n",
    "Требования:\n",
    "Напишите функцию three_sum_zero(arr), которая принимает массив целых чисел в качестве входных данных и возвращает список всех уникальных троек чисел (список из трех чисел), сумма которых равна нулю. Если такой комбинации нет, возвращается пустой список.\n",
    "Функция должна эффективно обрабатывать большие массивы. Время выполнения вашей программы будет ограничено."
   ]
  },
  {
   "cell_type": "code",
   "execution_count": 11,
   "id": "c3c5d45a",
   "metadata": {},
   "outputs": [],
   "source": [
    "def three_sum_zero(arr):\n",
    "    arr.sort()\n",
    "    result = []\n",
    "    n=len(arr)\n",
    "    \n",
    "    for i in range(n-2):\n",
    "        if i >0 and arr[i]==arr[i-1]:\n",
    "            continue\n",
    "        \n",
    "        p1 = i+1\n",
    "        p2= n-1\n",
    "        \n",
    "        while p1 < p2:\n",
    "            total = arr[i]+arr[p1]+arr[p2]\n",
    "            \n",
    "            if total == 0:\n",
    "                result.append([arr[i],arr[p1],arr[p2]])\n",
    "                \n",
    "                while p1 < p2 and arr[p1]==arr[p1+1]:\n",
    "                    p1+=1\n",
    "                while p1 < p2 and arr[p2]==arr[p2-1]:\n",
    "                    p2-=1\n",
    "                    \n",
    "                p1+=1\n",
    "                p2-=1\n",
    "            \n",
    "            elif total<0:\n",
    "                p1+=1\n",
    "            else:\n",
    "                p2-=1\n",
    "                \n",
    "    return result"
   ]
  },
  {
   "cell_type": "code",
   "execution_count": 12,
   "id": "1bf0e085",
   "metadata": {},
   "outputs": [
    {
     "name": "stdout",
     "output_type": "stream",
     "text": [
      "[[-1, -1, 2], [-1, 0, 1]]\n",
      "[[-2, 0, 2], [-2, 1, 1], [-1, -1, 2], [-1, 0, 1]]\n"
     ]
    }
   ],
   "source": [
    "arr = [-1, 0, 1, 2, -1, -4]\n",
    "print(three_sum_zero(arr))  # Вывод: [[-1, -1, 2], [-1, 0, 1]]\n",
    "\n",
    "arr = [-1, 0, 1, 2, -1, -4, 1, 1, 1, -1, 0, -2]\n",
    "print(three_sum_zero(arr))  # Вывод: [[-2, 0, 2], [-2, 1, 1], [-1, -1, 2], [-1, 0, 1]]"
   ]
  },
  {
   "cell_type": "code",
   "execution_count": null,
   "id": "7e3554a6",
   "metadata": {},
   "outputs": [],
   "source": []
  },
  {
   "cell_type": "code",
   "execution_count": null,
   "id": "1e5b9655",
   "metadata": {},
   "outputs": [],
   "source": []
  },
  {
   "cell_type": "code",
   "execution_count": null,
   "id": "1b824ced",
   "metadata": {},
   "outputs": [],
   "source": []
  },
  {
   "cell_type": "code",
   "execution_count": null,
   "id": "ac2403e6",
   "metadata": {},
   "outputs": [],
   "source": []
  },
  {
   "cell_type": "code",
   "execution_count": null,
   "id": "8875d891",
   "metadata": {},
   "outputs": [],
   "source": []
  },
  {
   "cell_type": "code",
   "execution_count": null,
   "id": "76788585",
   "metadata": {},
   "outputs": [],
   "source": []
  },
  {
   "cell_type": "code",
   "execution_count": null,
   "id": "6de5dbf2",
   "metadata": {},
   "outputs": [],
   "source": []
  },
  {
   "cell_type": "code",
   "execution_count": null,
   "id": "8d9c22f6",
   "metadata": {},
   "outputs": [],
   "source": []
  },
  {
   "cell_type": "code",
   "execution_count": null,
   "id": "c5818eb4",
   "metadata": {},
   "outputs": [],
   "source": []
  },
  {
   "cell_type": "code",
   "execution_count": null,
   "id": "772ffb71",
   "metadata": {},
   "outputs": [],
   "source": []
  },
  {
   "cell_type": "code",
   "execution_count": null,
   "id": "be3049f6",
   "metadata": {},
   "outputs": [],
   "source": []
  },
  {
   "cell_type": "code",
   "execution_count": null,
   "id": "b7202bad",
   "metadata": {},
   "outputs": [],
   "source": []
  },
  {
   "cell_type": "code",
   "execution_count": null,
   "id": "a892de20",
   "metadata": {},
   "outputs": [],
   "source": []
  }
 ],
 "metadata": {
  "kernelspec": {
   "display_name": "Python 3 (ipykernel)",
   "language": "python",
   "name": "python3"
  },
  "language_info": {
   "codemirror_mode": {
    "name": "ipython",
    "version": 3
   },
   "file_extension": ".py",
   "mimetype": "text/x-python",
   "name": "python",
   "nbconvert_exporter": "python",
   "pygments_lexer": "ipython3",
   "version": "3.10.9"
  }
 },
 "nbformat": 4,
 "nbformat_minor": 5
}
