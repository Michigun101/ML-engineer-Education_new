{
 "cells": [
  {
   "cell_type": "markdown",
   "id": "fe08ef62",
   "metadata": {},
   "source": [
    "# Обычный уровень"
   ]
  },
  {
   "cell_type": "markdown",
   "id": "7069635e",
   "metadata": {},
   "source": [
    "### 1"
   ]
  },
  {
   "cell_type": "markdown",
   "id": "569b5515",
   "metadata": {},
   "source": [
    "Опишите класс Calculator, который будет реализовывать следующие методы и поля:\n",
    "sum(self, a, b) - сложение чисел a и b\n",
    " \n",
    "sub(self, a, b) - вычитание\n",
    " \n",
    "mul(self, a, b) - умножение\n",
    " \n",
    "div(self, a, b, mod=False) - деление. Если параметр mod == True, то метод должен возвращать остаток от деления вместо деления. По умолчанию mod=False.\n",
    " \n",
    "history(self, n) - этот метод должен возвращать строку с операцией по ее номеру относительно текущего момента (1 - последняя, 2 - предпоследняя). Формат вывода: sum(5, 15) == 20\n",
    " \n",
    "last - строка того же формата, что в предыдущем пункте, в которой содержится информация о последней операции по всем созданным объектам калькулятора. Т.е. это последняя операция последнего использованного объекта калькулятор. Если операций пока не было, то None.\n",
    " \n",
    "clear(cls) - метод, который очищает last, т.е. присваивает ему значение None.\n",
    " \n",
    "Примечание\n",
    "При сохранении строк в history и last нужно выводить только один знак после запятой дробного числа. При выполнении деления с mod сам параметр mod не нужно записывать в лог"
   ]
  },
  {
   "cell_type": "code",
   "execution_count": 62,
   "id": "4f2c7486",
   "metadata": {},
   "outputs": [],
   "source": [
    "class Calculator:\n",
    "    last = None  # Поле для хранения последней операции\n",
    "\n",
    "    def __init__(self):\n",
    "        self._history = []  # Локальная история операций для каждого экземпляра\n",
    "\n",
    "    def sum(self, a, b):\n",
    "        result = a + b\n",
    "        operation_str = f\"sum({a}, {b}) == {result}\"  # Форматируем результат с одним знаком после запятой\n",
    "        Calculator.last = operation_str  # Обновляем поле last\n",
    "        self._history.append(operation_str)  # Сохраняем операцию в локальной истории\n",
    "        return result\n",
    "\n",
    "    def sub(self, a, b):\n",
    "        result = a - b\n",
    "        operation_str = f\"sub({a}, {b}) == {result}\"\n",
    "        Calculator.last = operation_str\n",
    "        self._history.append(operation_str)\n",
    "        return result\n",
    "\n",
    "    def mul(self, a, b):\n",
    "        result = a * b\n",
    "        operation_str = f\"mul({a}, {b}) == {result}\"\n",
    "        Calculator.last = operation_str\n",
    "        self._history.append(operation_str)\n",
    "        return result\n",
    "\n",
    "    def div(self, a, b, mod=False):\n",
    "        if b == 0:\n",
    "            raise ValueError(\"Division by zero is not allowed\")\n",
    "        \n",
    "        if mod:\n",
    "            result = a % b\n",
    "            operation_str = f\"div({a}, {b}) == {result}\"  # Остаток от деления, без форматирования\n",
    "        else:\n",
    "            result = a / b\n",
    "            operation_str = f\"div({a}, {b}) == {result}\"  # Форматируем результат с одним знаком после запятой\n",
    "        \n",
    "        Calculator.last = operation_str\n",
    "        self._history.append(operation_str)\n",
    "        return result\n",
    "\n",
    "    def history(self, n):\n",
    "        if n <= 0 or n > len(self._history):\n",
    "            return None\n",
    "        return self._history[-n]\n",
    "\n",
    "    @classmethod\n",
    "    def clear(cls):\n",
    "        cls.last = None"
   ]
  },
  {
   "cell_type": "code",
   "execution_count": 56,
   "id": "7690f676",
   "metadata": {},
   "outputs": [],
   "source": [
    "calc = Calculator()\n"
   ]
  },
  {
   "cell_type": "code",
   "execution_count": 57,
   "id": "48df9aaf",
   "metadata": {},
   "outputs": [
    {
     "ename": "AttributeError",
     "evalue": "'Calculator' object has no attribute 'a'",
     "output_type": "error",
     "traceback": [
      "\u001b[0;31m---------------------------------------------------------------------------\u001b[0m",
      "\u001b[0;31mAttributeError\u001b[0m                            Traceback (most recent call last)",
      "Cell \u001b[0;32mIn[57], line 1\u001b[0m\n\u001b[0;32m----> 1\u001b[0m \u001b[43mcalc\u001b[49m\u001b[38;5;241;43m.\u001b[39;49m\u001b[43msum\u001b[49m\u001b[43m(\u001b[49m\u001b[38;5;241;43m5\u001b[39;49m\u001b[43m,\u001b[49m\u001b[43m \u001b[49m\u001b[38;5;241;43m15\u001b[39;49m\u001b[43m)\u001b[49m      \u001b[38;5;66;03m# Вернет 20\u001b[39;00m\n\u001b[1;32m      2\u001b[0m calc\u001b[38;5;241m.\u001b[39msub(\u001b[38;5;241m10\u001b[39m, \u001b[38;5;241m2\u001b[39m)      \u001b[38;5;66;03m# Вернет 8\u001b[39;00m\n\u001b[1;32m      3\u001b[0m calc\u001b[38;5;241m.\u001b[39mdiv(\u001b[38;5;241m9\u001b[39m, \u001b[38;5;241m4\u001b[39m, mod\u001b[38;5;241m=\u001b[39m\u001b[38;5;28;01mTrue\u001b[39;00m)  \u001b[38;5;66;03m# Вернет 1 (остаток от деления)\u001b[39;00m\n",
      "Cell \u001b[0;32mIn[55], line 7\u001b[0m, in \u001b[0;36mCalculator.sum\u001b[0;34m(self, a, b)\u001b[0m\n\u001b[1;32m      5\u001b[0m \u001b[38;5;28;01mdef\u001b[39;00m \u001b[38;5;21msum\u001b[39m(\u001b[38;5;28mself\u001b[39m,a,b):\n\u001b[1;32m      6\u001b[0m     result \u001b[38;5;241m=\u001b[39m a \u001b[38;5;241m+\u001b[39m b\n\u001b[0;32m----> 7\u001b[0m     operation_str \u001b[38;5;241m=\u001b[39m \u001b[38;5;124mf\u001b[39m\u001b[38;5;124m'\u001b[39m\u001b[38;5;124msum(\u001b[39m\u001b[38;5;132;01m{\u001b[39;00m\u001b[38;5;28mself\u001b[39m\u001b[38;5;241m.\u001b[39ma\u001b[38;5;132;01m}\u001b[39;00m\u001b[38;5;124m,\u001b[39m\u001b[38;5;132;01m{\u001b[39;00m\u001b[38;5;28mself\u001b[39m\u001b[38;5;241m.\u001b[39mb\u001b[38;5;132;01m}\u001b[39;00m\u001b[38;5;124m)==\u001b[39m\u001b[38;5;132;01m{\u001b[39;00mresult\u001b[38;5;132;01m}\u001b[39;00m\u001b[38;5;124m'\u001b[39m\n\u001b[1;32m      8\u001b[0m     Calculator\u001b[38;5;241m.\u001b[39mlast \u001b[38;5;241m=\u001b[39m operation_str\n\u001b[1;32m      9\u001b[0m     \u001b[38;5;28mself\u001b[39m\u001b[38;5;241m.\u001b[39m_history\u001b[38;5;241m.\u001b[39mappend(operation_str)\n",
      "\u001b[0;31mAttributeError\u001b[0m: 'Calculator' object has no attribute 'a'"
     ]
    }
   ],
   "source": [
    "calc.sum(5, 15)      # Вернет 20\n",
    "calc.sub(10, 2)      # Вернет 8\n",
    "calc.div(9, 4, mod=True)  # Вернет 1 (остаток от деления)\n",
    "print(calc.history(1))    # Выведет последнюю операцию: \"div(9, 4) == 1\"\n",
    "print(Calculator.last)    # Последняя операция для всех экземпляров\n"
   ]
  },
  {
   "cell_type": "code",
   "execution_count": null,
   "id": "16c07e6e",
   "metadata": {},
   "outputs": [],
   "source": [
    "calc.sum(5, 15)      # Вернет 20"
   ]
  },
  {
   "cell_type": "code",
   "execution_count": 58,
   "id": "38a3fe42",
   "metadata": {},
   "outputs": [
    {
     "ename": "AttributeError",
     "evalue": "'Calculator' object has no attribute 'a'",
     "output_type": "error",
     "traceback": [
      "\u001b[0;31m---------------------------------------------------------------------------\u001b[0m",
      "\u001b[0;31mAttributeError\u001b[0m                            Traceback (most recent call last)",
      "Cell \u001b[0;32mIn[58], line 1\u001b[0m\n\u001b[0;32m----> 1\u001b[0m \u001b[43mcalc\u001b[49m\u001b[38;5;241;43m.\u001b[39;49m\u001b[43msub\u001b[49m\u001b[43m(\u001b[49m\u001b[38;5;241;43m10\u001b[39;49m\u001b[43m,\u001b[49m\u001b[43m \u001b[49m\u001b[38;5;241;43m2\u001b[39;49m\u001b[43m)\u001b[49m\n",
      "Cell \u001b[0;32mIn[55], line 13\u001b[0m, in \u001b[0;36mCalculator.sub\u001b[0;34m(self, a, b)\u001b[0m\n\u001b[1;32m     11\u001b[0m \u001b[38;5;28;01mdef\u001b[39;00m \u001b[38;5;21msub\u001b[39m(\u001b[38;5;28mself\u001b[39m,a,b):\n\u001b[1;32m     12\u001b[0m     result \u001b[38;5;241m=\u001b[39m a \u001b[38;5;241m-\u001b[39m b\n\u001b[0;32m---> 13\u001b[0m     operation_str \u001b[38;5;241m=\u001b[39m \u001b[38;5;124mf\u001b[39m\u001b[38;5;124m\"\u001b[39m\u001b[38;5;124msub(\u001b[39m\u001b[38;5;132;01m{\u001b[39;00m\u001b[38;5;28mself\u001b[39m\u001b[38;5;241m.\u001b[39ma\u001b[38;5;132;01m}\u001b[39;00m\u001b[38;5;124m, \u001b[39m\u001b[38;5;132;01m{\u001b[39;00m\u001b[38;5;28mself\u001b[39m\u001b[38;5;241m.\u001b[39mb\u001b[38;5;132;01m}\u001b[39;00m\u001b[38;5;124m) == \u001b[39m\u001b[38;5;132;01m{\u001b[39;00mresult\u001b[38;5;132;01m}\u001b[39;00m\u001b[38;5;124m\"\u001b[39m\n\u001b[1;32m     14\u001b[0m     Calculator\u001b[38;5;241m.\u001b[39mlast \u001b[38;5;241m=\u001b[39m operation_str\n\u001b[1;32m     15\u001b[0m     \u001b[38;5;28mself\u001b[39m\u001b[38;5;241m.\u001b[39m_history\u001b[38;5;241m.\u001b[39mappend(operation_str)\n",
      "\u001b[0;31mAttributeError\u001b[0m: 'Calculator' object has no attribute 'a'"
     ]
    }
   ],
   "source": [
    "calc.sub(10, 2)      # Вернет 8\n"
   ]
  },
  {
   "cell_type": "code",
   "execution_count": 50,
   "id": "8cc7d9c8",
   "metadata": {},
   "outputs": [
    {
     "data": {
      "text/plain": [
       "1"
      ]
     },
     "execution_count": 50,
     "metadata": {},
     "output_type": "execute_result"
    }
   ],
   "source": [
    "calc.div(9, 4, mod=True)  # Вернет 1 (остаток от деления)\n"
   ]
  },
  {
   "cell_type": "code",
   "execution_count": 51,
   "id": "d41204ce",
   "metadata": {},
   "outputs": [
    {
     "name": "stdout",
     "output_type": "stream",
     "text": [
      "sum(5,15)==20\n"
     ]
    }
   ],
   "source": [
    "print(calc.history(3))    # Выведет последнюю операцию: \"div(9, 4) == 1\"\n"
   ]
  },
  {
   "cell_type": "code",
   "execution_count": 54,
   "id": "9711c8d2",
   "metadata": {},
   "outputs": [
    {
     "name": "stdout",
     "output_type": "stream",
     "text": [
      "sub(10, 2) == 8\n"
     ]
    }
   ],
   "source": [
    "print(Calculator.last)    # Последняя операция для всех экземпляров\n"
   ]
  },
  {
   "cell_type": "markdown",
   "id": "2053c20d",
   "metadata": {},
   "source": [
    "### 2"
   ]
  },
  {
   "cell_type": "markdown",
   "id": "bc5c0d96",
   "metadata": {},
   "source": [
    "Написать классы, которые будут использованы как счета в банке. Каждый счет - в своей валюте. Соответственно, у каждого объекта счета должны быть атрибуты с суммой денег, хранящихся на нём, и название кошелька. Каждый класс счета должен в себе хранить коэффициент отношения стоимости своей валюты к базовой валюте.\n",
    "Нам понадобится один базовый класс BaseWallet, в котором будут реализованы общие для всех валютных счетов методы, и три класса для конкретных валютных счетов: RubleWallet, DollarWallet, EuroWallet. Будем считать коэффициентами отношения валют к базовой валюте:\n",
    " \n",
    "Рубль: 1\n",
    "Доллар: 60\n",
    "Евро: 70\n",
    " \n",
    "Протокол взаимодействия объектов следующий:\n",
    "RubleWallet(\"Первый кошелек\", 10), где \"Первый кошелек\" - это название кошелька, а 10 - сумма денег на нём.\n",
    "аналогичные конструкторы для других счетов\n",
    "RubleWallet(\"X\", 10) + 20 == RubleWallet(\"X\", 30) - при сложении с числом считаем, что это та же валюта.\n",
    "RubleWallet(\"X\", 10) += 20 - должен поддерживаться и такой синтаксис\n",
    "20 + RubleWallet(\"X\", 10) == RubleWallet(\"X\", 30) - radd для чисел\n",
    "RubleWallet(\"X\", 20) + DollarWallet(\"D\", 10) == RubleWallet(\"X\", 620) - конвертация валюты при сложении счетов.\n",
    "DollarWallet(\"D\", 2) + RubleWallet(\"X\", 60) == DollarWallet(\"D\", 3) - результат - в валюте первого слагаемого.\n",
    "DollarWallet(\"D\", 2) += RubleWallet(\"X\", 60) - здесь тоже должен поддерживаться этот синтаксис.\n",
    "предыдущие 6 пунктов реализовать и для вычитания\n",
    "RubleWallet(\"X\", 10) * 20 == RubleWallet(\"X\", 200) - умножение на число\n",
    "RubleWallet(\"X\", 10) *= 20 - тоже с таким синтаксисом\n",
    "те же 2 пункта для деления\n",
    "20 * RubleWallet(\"X\", 10) == RubleWallet(\"X\", 200) - умножение числа на кошелек\n",
    "DollarWallet(\"A\", 15) == DollarWallet(\"B\", 15): два объекта равны, если у них совпадает тип кошелька и сумма на счете.\n",
    "RubleWallet(\"X\", 100).spend_all() - для любого типа кошелька релизовать функцию, которая обнуляет баланс, если он положительный\n",
    "DollarWallet(\"X\", 1).to_base() == 60 - эта функция должна возвращать число денег в кошельке в базовой валюте\n",
    "print(DollarWallet(\"Q\", 150)) - должна выводить строку: 'Dollar Wallet Q 150' (и аналогично Ruble и Euro для остальных кошельков)\n",
    " \n",
    "У каждого объекта должны быть доступны атрибуты:\n",
    "name - название кошелька\n",
    "amount - количество денег на счете\n",
    "exchange_rate - коэффициент стоимости валюты к базовой"
   ]
  },
  {
   "cell_type": "code",
   "execution_count": 59,
   "id": "bc261dda",
   "metadata": {},
   "outputs": [],
   "source": [
    "class BaseWallet:\n",
    "    def __init__(self, name, amount):\n",
    "        self.name = name\n",
    "        self.amount = amount\n",
    "\n",
    "    def __add__(self, other):\n",
    "        if isinstance(other, (int, float)):\n",
    "            return self.__class__(self.name, self.amount + other)\n",
    "        elif isinstance(other, BaseWallet):\n",
    "            new_amount = self.amount + other.amount * other.exchange_rate / self.exchange_rate\n",
    "            return self.__class__(self.name, new_amount)\n",
    "        return NotImplemented\n",
    "\n",
    "    def __radd__(self, other):\n",
    "        return self + other\n",
    "\n",
    "    def __iadd__(self, other):\n",
    "        result = self + other\n",
    "        self.amount = result.amount\n",
    "        return self\n",
    "\n",
    "    def __sub__(self, other):\n",
    "        if isinstance(other, (int, float)):\n",
    "            return self.__class__(self.name, self.amount - other)\n",
    "        elif isinstance(other, BaseWallet):\n",
    "            new_amount = self.amount - other.amount * other.exchange_rate / self.exchange_rate\n",
    "            return self.__class__(self.name, new_amount)\n",
    "        return NotImplemented\n",
    "\n",
    "    def __rsub__(self, other):\n",
    "        return -self + other\n",
    "\n",
    "    def __isub__(self, other):\n",
    "        result = self - other\n",
    "        self.amount = result.amount\n",
    "        return self\n",
    "\n",
    "    def __neg__(self):\n",
    "        return self.__class__(self.name, -self.amount)\n",
    "\n",
    "    def __mul__(self, other):\n",
    "        if isinstance(other, (int, float)):\n",
    "            return self.__class__(self.name, self.amount * other)\n",
    "        return NotImplemented\n",
    "\n",
    "    def __rmul__(self, other):\n",
    "        return self * other\n",
    "\n",
    "    def __imul__(self, other):\n",
    "        if isinstance(other, (int, float)):\n",
    "            self.amount *= other  # Обновляем self.amount\n",
    "            return self\n",
    "        return NotImplemented\n",
    "\n",
    "    def __truediv__(self, other):\n",
    "        if isinstance(other, (int, float)):\n",
    "            return self.__class__(self.name, self.amount / other)\n",
    "        return NotImplemented\n",
    "\n",
    "    def __itruediv__(self, other):\n",
    "        if isinstance(other, (int, float)):\n",
    "            self.amount /= other\n",
    "            return self\n",
    "        return NotImplemented\n",
    "\n",
    "    def __eq__(self, other):\n",
    "        return isinstance(other, self.__class__) and self.amount == other.amount\n",
    "\n",
    "    def spend_all(self):\n",
    "        if self.amount > 0:\n",
    "            self.amount = 0\n",
    "\n",
    "    def to_base(self):\n",
    "        return self.amount * self.exchange_rate\n",
    "\n",
    "    def __str__(self):\n",
    "        return f\"{self.currency} Wallet {self.name} {self.amount}\"\n",
    "\n",
    "\n",
    "class RubleWallet(BaseWallet):\n",
    "    exchange_rate = 1\n",
    "    currency = \"Ruble\"\n",
    "\n",
    "\n",
    "class DollarWallet(BaseWallet):\n",
    "    exchange_rate = 60\n",
    "    currency = \"Dollar\"\n",
    "\n",
    "\n",
    "class EuroWallet(BaseWallet):\n",
    "    exchange_rate = 70\n",
    "    currency = \"Euro\"\n"
   ]
  },
  {
   "cell_type": "markdown",
   "id": "44ec1006",
   "metadata": {},
   "source": [
    "# Продвинутый уровень"
   ]
  },
  {
   "cell_type": "markdown",
   "id": "b148e0d7",
   "metadata": {},
   "source": [
    "Вам поручено разработать систему планирования встреч для небольшой компании. Система должна быть простой в использовании и предоставлять функционал для добавления новых встреч, проверки доступности сотрудников и просмотра расписания. Вам необходимо реализовать два основных класса - Meeting и Employee:\n",
    "Атрибуты и методы класса Meeting:\n",
    "name: название встречи\n",
    "date: дата встречи (объект типа datetime.date).\n",
    "start_time: начало встречи (объект типа datetime.time)\n",
    "duration: длительность встречи в минутах\n",
    "end_time: время окончания встречи (объект типа datetime.time). Данный атрибут должен быть свойством (property) и рассчитываться автоматически на основе start_time и duration. (Время окончания встречи всегда в тот же день, что и время начала встречи.)\n",
    "participants: список сотрудников (объектов Employee), участвующих в встрече (по порядку, начиная с первого сотрудника, которому была назначена встреча)\n",
    "get_participants(): метод, возвращающий список имен участников встречи в виде списка строк\n",
    "Атрибуты и методы класса Employee:\n",
    "name: имя сотрудника\n",
    "schedule: список встреч (объектов Meeting) сотрудника\n",
    "add_meeting(meeting): метод, добавляющий встречу в календарь сотрудника, если она не пересекается с уже запланированными встречами у данного сотрудника. Метод возвращает True, если встреча добавлена в расписание сотрудника, и False в противном случае.\n",
    "get_schedule(): данный метод должен возвращать список встреч сотрудника в виде списка строк, где каждая строка представляет информацию о встрече в формате: YYYY-MM-DD HH:MM - HH:MM: Название встречи. Встречи должны быть отсортированы по возрастанию (по дате и времени начала встречи).\n",
    " \n",
    "Пример использования # Создаем сотрудников\n",
    "employee1 = Employee(\"Борис Петров\")\n",
    "employee2 = Employee(\"Иван Иванов\")\n",
    "\n",
    "# Создаем встречу, указывая название, дату, начало и длительность встречи\n",
    "meeting1 = Meeting(\"Встреча с клиентом\", datetime.date(2024, 9, 10), datetime.time(10, 0), 60)\n",
    "print(meeting1.name)  # Выведет \"Встреча с клиентом\"\n",
    "print(meeting1.date)  # Выведет datetime.date(2024, 9, 10)\n",
    "print(meeting1.start_time)  # Выведет datetime.time(10, 0)\n",
    "print(meeting1.duration)  # Выведет 60\n",
    "print(meeting1.participants)  # Выведет [] (пустой список, так как пока нет участников)\n",
    "\n",
    "# Время окончания встречи рассчитано автоматически на основе start_time и duration\n",
    "print(meeting1.end_time)  # Выведет datetime.time(11, 0)\n",
    "\n",
    "# Создаем еще одну встречу\n",
    "meeting2 = Meeting(\"Планерка\", datetime.date(2024, 9, 11), datetime.time(14, 0), 30)\n",
    "\n",
    "#Добавляем встречи в расписания сотрудников\n",
    "employee1.add_meeting(meeting1)\n",
    "employee2.add_meeting(meeting2)\n",
    "\n",
    "print(employee1.get_schedule()) # Выведет ['2024-09-10 10:00 - 11:00: Встреча с клиентом']\n",
    "print(employee2.get_schedule()) # Выведет ['2024-09-11 14:00 - 14:30: Планерка']\n",
    "\n",
    "# Добавление второй встречи в расписание Бориса\n",
    "employee1.add_meeting(meeting2)\n",
    "\n",
    "print(employee1.get_schedule()) # Выведет ['2024-09-10 10:00 - 11:00: Встреча с клиентом', '2024-09-11 14:00 - 14:30: Планерка']\n",
    "\n",
    "print(meeting2.get_participants()) # Выведет ['Борис Петров', 'Иван Иванов']"
   ]
  },
  {
   "cell_type": "code",
   "execution_count": 55,
   "id": "20e653dd",
   "metadata": {},
   "outputs": [],
   "source": [
    "import datetime\n",
    "class Meeting:\n",
    "    def __init__(self, name, date,start_time,duration):\n",
    "        self.name=name\n",
    "        self.date = date\n",
    "        self.start_time = start_time\n",
    "        self.duration = duration\n",
    "        self.participants =[]\n",
    "    \n",
    "    @property\n",
    "    def end_time(self):\n",
    "        return (datetime.datetime.combine(self.date,self.start_time) +datetime.timedelta(minutes=self.duration)).time()\n",
    "    \n",
    "    def get_participants(self):\n",
    "        return [participant.name for participant in self.participants]\n",
    "    \n",
    "class Employee:\n",
    "    def __init__(self,name):\n",
    "        self.name=name\n",
    "        self.schedule = []\n",
    "    def add_meeting(self, meeting):\n",
    "        # Проверяем, пересекается ли встреча с уже запланированными\n",
    "        for scheduled_meeting in self.schedule:\n",
    "            if meeting.date == scheduled_meeting.date:\n",
    "                if (\n",
    "                    scheduled_meeting.start_time < meeting.end_time\n",
    "                    and meeting.start_time < scheduled_meeting.end_time\n",
    "                ):\n",
    "                    # Встречи пересекаются\n",
    "                    return False  \n",
    "\n",
    "        # Добавляем встречу и записываем в участников\n",
    "        self.schedule.append(meeting)\n",
    "        meeting.participants.append(self)\n",
    "        # Сортируем расписание по дате и времени начала\n",
    "        self.schedule.sort(key=lambda m: (m.date, m.start_time))\n",
    "        return True  # Встреча успешно добавлена\n",
    "    \n",
    "    def get_schedule(self):\n",
    "        return [f\"{meeting.date} {meeting.start_time.strftime('%H:%M')} - {meeting.end_time.strftime('%H:%M')}: {meeting.name}\"\n",
    "               for meeting in self.schedule]"
   ]
  },
  {
   "cell_type": "code",
   "execution_count": 8,
   "id": "eb969873",
   "metadata": {},
   "outputs": [],
   "source": [
    "import datetime\n",
    "date1,start_date1,duration1=datetime.date(2024, 9, 10), datetime.time(10, 0), 60"
   ]
  },
  {
   "cell_type": "code",
   "execution_count": 9,
   "id": "356980fe",
   "metadata": {},
   "outputs": [
    {
     "data": {
      "text/plain": [
       "datetime.date(2024, 9, 10)"
      ]
     },
     "execution_count": 9,
     "metadata": {},
     "output_type": "execute_result"
    }
   ],
   "source": [
    "date1"
   ]
  },
  {
   "cell_type": "code",
   "execution_count": 12,
   "id": "10c5d616",
   "metadata": {},
   "outputs": [
    {
     "ename": "TypeError",
     "evalue": "unsupported operand type(s) for +: 'datetime.time' and 'datetime.date'",
     "output_type": "error",
     "traceback": [
      "\u001b[0;31m---------------------------------------------------------------------------\u001b[0m",
      "\u001b[0;31mTypeError\u001b[0m                                 Traceback (most recent call last)",
      "Cell \u001b[0;32mIn[12], line 1\u001b[0m\n\u001b[0;32m----> 1\u001b[0m \u001b[43mstart_date1\u001b[49m\u001b[43m \u001b[49m\u001b[38;5;241;43m+\u001b[39;49m\u001b[43m \u001b[49m\u001b[43mdate1\u001b[49m\n",
      "\u001b[0;31mTypeError\u001b[0m: unsupported operand type(s) for +: 'datetime.time' and 'datetime.date'"
     ]
    }
   ],
   "source": [
    "start_date1 + date1"
   ]
  },
  {
   "cell_type": "code",
   "execution_count": 11,
   "id": "43c2027b",
   "metadata": {},
   "outputs": [
    {
     "ename": "AttributeError",
     "evalue": "module 'datetime' has no attribute 'combine'",
     "output_type": "error",
     "traceback": [
      "\u001b[0;31m---------------------------------------------------------------------------\u001b[0m",
      "\u001b[0;31mAttributeError\u001b[0m                            Traceback (most recent call last)",
      "Cell \u001b[0;32mIn[11], line 1\u001b[0m\n\u001b[0;32m----> 1\u001b[0m \u001b[43mdatetime\u001b[49m\u001b[38;5;241;43m.\u001b[39;49m\u001b[43mcombine\u001b[49m(date1,start_date1)\n",
      "\u001b[0;31mAttributeError\u001b[0m: module 'datetime' has no attribute 'combine'"
     ]
    }
   ],
   "source": [
    "datetime.combine(date1,start_date1)"
   ]
  },
  {
   "cell_type": "code",
   "execution_count": 16,
   "id": "aec4686d",
   "metadata": {},
   "outputs": [
    {
     "ename": "TypeError",
     "evalue": "strptime() argument 1 must be str, not datetime.time",
     "output_type": "error",
     "traceback": [
      "\u001b[0;31m---------------------------------------------------------------------------\u001b[0m",
      "\u001b[0;31mTypeError\u001b[0m                                 Traceback (most recent call last)",
      "Cell \u001b[0;32mIn[16], line 2\u001b[0m\n\u001b[1;32m      1\u001b[0m \u001b[38;5;28;01mimport\u001b[39;00m \u001b[38;5;21;01mdatetime\u001b[39;00m \u001b[38;5;28;01mas\u001b[39;00m \u001b[38;5;21;01mdt\u001b[39;00m\n\u001b[0;32m----> 2\u001b[0m mytime \u001b[38;5;241m=\u001b[39m \u001b[43mdt\u001b[49m\u001b[38;5;241;43m.\u001b[39;49m\u001b[43mdatetime\u001b[49m\u001b[38;5;241;43m.\u001b[39;49m\u001b[43mstrptime\u001b[49m\u001b[43m(\u001b[49m\u001b[43mstart_date1\u001b[49m\u001b[43m,\u001b[49m\u001b[38;5;124;43m'\u001b[39;49m\u001b[38;5;124;43m%\u001b[39;49m\u001b[38;5;124;43mM\u001b[39;49m\u001b[38;5;124;43m%\u001b[39;49m\u001b[38;5;124;43mS\u001b[39;49m\u001b[38;5;124;43m'\u001b[39;49m\u001b[43m)\u001b[49m\u001b[38;5;241m.\u001b[39mtime()\n\u001b[1;32m      3\u001b[0m mydatetime \u001b[38;5;241m=\u001b[39m dt\u001b[38;5;241m.\u001b[39mdatetime\u001b[38;5;241m.\u001b[39mcombine(dt\u001b[38;5;241m.\u001b[39mdate\u001b[38;5;241m.\u001b[39mtoday(), mytime)\n",
      "\u001b[0;31mTypeError\u001b[0m: strptime() argument 1 must be str, not datetime.time"
     ]
    }
   ],
   "source": [
    "import datetime as dt\n",
    "mytime = dt.datetime.strptime('0130','%H%M').time()\n",
    "mydatetime = dt.datetime.combine(dt.date.today(), mytime)"
   ]
  },
  {
   "cell_type": "code",
   "execution_count": 14,
   "id": "3d74465c",
   "metadata": {},
   "outputs": [
    {
     "data": {
      "text/plain": [
       "datetime.time(10, 0)"
      ]
     },
     "execution_count": 14,
     "metadata": {},
     "output_type": "execute_result"
    }
   ],
   "source": [
    "start_date1"
   ]
  },
  {
   "cell_type": "code",
   "execution_count": 19,
   "id": "5a70b004",
   "metadata": {},
   "outputs": [],
   "source": [
    "from datetime import date,datetime,timedelta,time\n",
    "date1,start_date1,duration1=date(2024, 9, 10), time(10, 0), 60"
   ]
  },
  {
   "cell_type": "code",
   "execution_count": 46,
   "id": "d439581d",
   "metadata": {},
   "outputs": [
    {
     "data": {
      "text/plain": [
       "datetime.date(2024, 9, 10)"
      ]
     },
     "execution_count": 46,
     "metadata": {},
     "output_type": "execute_result"
    }
   ],
   "source": [
    "datetime.combine(date1,start_date1).date()"
   ]
  },
  {
   "cell_type": "code",
   "execution_count": 36,
   "id": "bf09ae06",
   "metadata": {},
   "outputs": [
    {
     "data": {
      "text/plain": [
       "datetime.timedelta(seconds=3600)"
      ]
     },
     "execution_count": 36,
     "metadata": {},
     "output_type": "execute_result"
    }
   ],
   "source": [
    "timedelta(minutes=duration1)"
   ]
  },
  {
   "cell_type": "code",
   "execution_count": 38,
   "id": "32d5d9f4",
   "metadata": {},
   "outputs": [
    {
     "data": {
      "text/plain": [
       "datetime.time(11, 0)"
      ]
     },
     "execution_count": 38,
     "metadata": {},
     "output_type": "execute_result"
    }
   ],
   "source": [
    "(datetime.combine(date1,start_date1) +timedelta(minutes=duration1)).time()"
   ]
  },
  {
   "cell_type": "code",
   "execution_count": 54,
   "id": "9c987ee4",
   "metadata": {},
   "outputs": [
    {
     "ename": "TypeError",
     "evalue": "descriptor 'date' for 'datetime.datetime' objects doesn't apply to a 'int' object",
     "output_type": "error",
     "traceback": [
      "\u001b[0;31m---------------------------------------------------------------------------\u001b[0m",
      "\u001b[0;31mTypeError\u001b[0m                                 Traceback (most recent call last)",
      "Cell \u001b[0;32mIn[54], line 6\u001b[0m\n\u001b[1;32m      3\u001b[0m employee2 \u001b[38;5;241m=\u001b[39m Employee(\u001b[38;5;124m\"\u001b[39m\u001b[38;5;124mИван Иванов\u001b[39m\u001b[38;5;124m\"\u001b[39m)\n\u001b[1;32m      5\u001b[0m \u001b[38;5;66;03m# Создаем встречу, указывая название, дату, начало и длительность встречи\u001b[39;00m\n\u001b[0;32m----> 6\u001b[0m meeting1 \u001b[38;5;241m=\u001b[39m Meeting(\u001b[38;5;124m\"\u001b[39m\u001b[38;5;124mВстреча с клиентом\u001b[39m\u001b[38;5;124m\"\u001b[39m, \u001b[43mdatetime\u001b[49m\u001b[38;5;241;43m.\u001b[39;49m\u001b[43mdate\u001b[49m\u001b[43m(\u001b[49m\u001b[38;5;241;43m2024\u001b[39;49m\u001b[43m,\u001b[49m\u001b[43m \u001b[49m\u001b[38;5;241;43m9\u001b[39;49m\u001b[43m,\u001b[49m\u001b[43m \u001b[49m\u001b[38;5;241;43m10\u001b[39;49m\u001b[43m)\u001b[49m, datetime\u001b[38;5;241m.\u001b[39mtime(\u001b[38;5;241m10\u001b[39m, \u001b[38;5;241m0\u001b[39m), \u001b[38;5;241m60\u001b[39m)\n\u001b[1;32m      7\u001b[0m \u001b[38;5;28mprint\u001b[39m(meeting1\u001b[38;5;241m.\u001b[39mname)  \u001b[38;5;66;03m# Выведет \"Встреча с клиентом\"\u001b[39;00m\n\u001b[1;32m      8\u001b[0m \u001b[38;5;28mprint\u001b[39m(meeting1\u001b[38;5;241m.\u001b[39mdate)  \u001b[38;5;66;03m# Выведет datetime.date(2024, 9, 10)\u001b[39;00m\n",
      "\u001b[0;31mTypeError\u001b[0m: descriptor 'date' for 'datetime.datetime' objects doesn't apply to a 'int' object"
     ]
    }
   ],
   "source": [
    "# Создаем сотрудников\n",
    "employee1 = Employee(\"Борис Петров\")\n",
    "employee2 = Employee(\"Иван Иванов\")\n",
    "\n",
    "# Создаем встречу, указывая название, дату, начало и длительность встречи\n",
    "meeting1 = Meeting(\"Встреча с клиентом\", datetime.date(2024, 9, 10), datetime.time(10, 0), 60)\n",
    "print(meeting1.name)  # Выведет \"Встреча с клиентом\"\n",
    "print(meeting1.date)  # Выведет datetime.date(2024, 9, 10)\n",
    "print(meeting1.start_time)  # Выведет datetime.time(10, 0)\n",
    "print(meeting1.duration)  # Выведет 60\n",
    "print(meeting1.participants)  # Выведет [] (пустой список, так как пока нет участников)\n",
    "\n",
    "# Время окончания встречи рассчитано автоматически на основе start_time и duration\n",
    "print(meeting1.end_time)  # Выведет datetime.time(11, 0)\n",
    "\n",
    "# Создаем еще одну встречу\n",
    "meeting2 = Meeting(\"Планерка\", datetime.date(2024, 9, 11), datetime.time(14, 0), 30)\n",
    "\n",
    "#Добавляем встречи в расписания сотрудников\n",
    "employee1.add_meeting(meeting1)\n",
    "employee2.add_meeting(meeting2)\n",
    "\n",
    "print(employee1.get_schedule()) # Выведет ['2024-09-10 10:00 - 11:00: Встреча с клиентом']\n",
    "print(employee2.get_schedule()) # Выведет ['2024-09-11 14:00 - 14:30: Планерка']\n",
    "\n",
    "# Добавление второй встречи в расписание Бориса\n",
    "employee1.add_meeting(meeting2)\n",
    "\n",
    "print(employee1.get_schedule()) # Выведет ['2024-09-10 10:00 - 11:00: Встреча с клиентом', '2024-09-11 14:00 - 14:30: Планерка']\n",
    "\n",
    "print(meeting2.get_participants()) # Выведет ['Борис Петров', 'Иван Иванов'"
   ]
  },
  {
   "cell_type": "code",
   "execution_count": 53,
   "id": "b86b9853",
   "metadata": {},
   "outputs": [
    {
     "ename": "AttributeError",
     "evalue": "type object 'datetime.datetime' has no attribute 'datetime'",
     "output_type": "error",
     "traceback": [
      "\u001b[0;31m---------------------------------------------------------------------------\u001b[0m",
      "\u001b[0;31mAttributeError\u001b[0m                            Traceback (most recent call last)",
      "Cell \u001b[0;32mIn[53], line 1\u001b[0m\n\u001b[0;32m----> 1\u001b[0m \u001b[43mdatetime\u001b[49m\u001b[38;5;241;43m.\u001b[39;49m\u001b[43mdatetime\u001b[49m\u001b[38;5;241m.\u001b[39mcombine(date1,start_date1)\n",
      "\u001b[0;31mAttributeError\u001b[0m: type object 'datetime.datetime' has no attribute 'datetime'"
     ]
    }
   ],
   "source": [
    "datetime.datetime.combine(date1,start_date1)"
   ]
  },
  {
   "cell_type": "markdown",
   "id": "085a03da",
   "metadata": {},
   "source": [
    "### 2"
   ]
  },
  {
   "cell_type": "code",
   "execution_count": 7,
   "id": "c9e7b8b8",
   "metadata": {},
   "outputs": [],
   "source": [
    "from abc import ABC, abstractmethod\n",
    "\n",
    "class User:\n",
    "    def __init__(self, user_id, name, balance):\n",
    "        self.user_id = user_id\n",
    "        self.name = name\n",
    "        self.balance = balance\n",
    "        self.rental_history = []  # Защищённый атрибут для хранения истории аренды\n",
    "        self._active_rental = None  # Защищённый атрибут для активной аренды\n",
    "\n",
    "    def top_up_balance(self, amount):\n",
    "        self.balance += amount\n",
    "\n",
    "    def get_rental_history(self):\n",
    "        return self.rental_history  # Метод возвращает значение защищённого атрибута\n",
    "\n",
    "    def rent_car(self, car, duration_minutes, distance_km):\n",
    "        if self.balance < 0 or self._active_rental or car.status != 'available':\n",
    "            return False\n",
    "        \n",
    "        need_fuel = (distance_km / 100) * car.fuel_or_charge_consumption\n",
    "        if car.current_fuel_or_charge < need_fuel:\n",
    "            return False\n",
    "        \n",
    "        cost = duration_minutes * car.price_per_minute\n",
    "        if self.balance < cost:\n",
    "            return False\n",
    "        \n",
    "        self.balance -= cost\n",
    "        self._active_rental = {'car': car, 'duration': duration_minutes, 'distance': distance_km}\n",
    "        car.status = 'rented'\n",
    "        return True\n",
    "\n",
    "    def end_rental(self):\n",
    "        if not self._active_rental:\n",
    "            return\n",
    "        \n",
    "        car = self._active_rental['car']\n",
    "        distance_km = self._active_rental['distance']\n",
    "        fuel_used = (distance_km / 100) * car.fuel_or_charge_consumption\n",
    "        car.reduce_fuel_or_charge(fuel_used)\n",
    "        car.status = 'available'\n",
    "        self.rental_history.append(self._active_rental)  # Добавляем аренду в историю\n",
    "        self._active_rental = None\n",
    "\n",
    "\n",
    "\n",
    "\n",
    "class Car(ABC):\n",
    "    def __init__(self, model, registration_number, price_per_minute, status='available'):\n",
    "        if type(self) is Car:\n",
    "            raise TypeError(\"Car is an abstract class and cannot be instantiated directly.\")\n",
    "        \n",
    "        self.model = model\n",
    "        self.registration_number = registration_number\n",
    "        self.price_per_minute = price_per_minute\n",
    "        self.status = status\n",
    "\n",
    "    @abstractmethod\n",
    "    def refill(self):\n",
    "        pass\n",
    "\n",
    "    @property\n",
    "    @abstractmethod\n",
    "    def fuel_or_charge_consumption(self):\n",
    "        pass\n",
    "\n",
    "    @property\n",
    "    @abstractmethod\n",
    "    def current_fuel_or_charge(self):\n",
    "        pass\n",
    "\n",
    "    @abstractmethod\n",
    "    def reduce_fuel_or_charge(self, amount):\n",
    "        pass\n",
    "\n",
    "\n",
    "class StandardCar(Car):\n",
    "    def __init__(self, model, registration_number, price_per_minute, fuel_capacity, fuel_consumption, current_fuel, status='available'):\n",
    "        super().__init__(model, registration_number, price_per_minute, status)\n",
    "        self.fuel_capacity = fuel_capacity\n",
    "        self.fuel_consumption = fuel_consumption\n",
    "        self.current_fuel = current_fuel\n",
    "\n",
    "    @property\n",
    "    def fuel_or_charge_consumption(self):\n",
    "        return self.fuel_consumption\n",
    "\n",
    "    @property\n",
    "    def current_fuel_or_charge(self):\n",
    "        return self.current_fuel\n",
    "\n",
    "    def reduce_fuel_or_charge(self, amount):\n",
    "        self.current_fuel = max(self.current_fuel - amount, 0)\n",
    "\n",
    "    def refill(self):\n",
    "        self.current_fuel = self.fuel_capacity\n",
    "\n",
    "\n",
    "class ElectricCar(Car):\n",
    "    def __init__(self, model, registration_number, price_per_minute, battery_capacity, energy_consumption, current_charge, status='available'):\n",
    "        super().__init__(model, registration_number, price_per_minute, status)\n",
    "        self.battery_capacity = battery_capacity\n",
    "        self.energy_consumption = energy_consumption\n",
    "        self.current_charge = current_charge\n",
    "\n",
    "    @property\n",
    "    def fuel_or_charge_consumption(self):\n",
    "        return self.energy_consumption\n",
    "\n",
    "    @property\n",
    "    def current_fuel_or_charge(self):\n",
    "        return self.current_charge\n",
    "\n",
    "    def reduce_fuel_or_charge(self, amount):\n",
    "        self.current_charge = max(self.current_charge - amount, 0)\n",
    "\n",
    "    def refill(self):\n",
    "        self.current_charge = self.battery_capacity\n"
   ]
  },
  {
   "cell_type": "code",
   "execution_count": 8,
   "id": "97ea4017",
   "metadata": {},
   "outputs": [
    {
     "name": "stdout",
     "output_type": "stream",
     "text": [
      "1000\n",
      "60\n",
      "700\n",
      "58.4\n",
      "1200\n",
      "60\n"
     ]
    }
   ],
   "source": [
    "# Создание пользователя\n",
    "user = User(user_id=1, name=\"Борис\", balance=1000)\n",
    "\n",
    "# Создание автомобилей\n",
    "car = StandardCar(model=\"Toyota Camry\", registration_number=\"A123BB\", price_per_minute=10, fuel_capacity=60, fuel_consumption=8, current_fuel=60)\n",
    "\n",
    "# Баланс пользователя и кол-во топлива в автомобиле до аренды\n",
    "print(user.balance) # 1000\n",
    "print(car.current_fuel) # 60\n",
    "\n",
    "# Попытка аренды автомобиля\n",
    "user.rent_car(car, duration_minutes=30, distance_km=20)\n",
    "\n",
    "# Завершение аренды\n",
    "user.end_rental()\n",
    "\n",
    "# Изменения после завершения аренды\n",
    "print(user.balance) # 700\n",
    "print(car.current_fuel) # 58.4\n",
    "\n",
    "# Пополнение баланса пользователя и заправка автомобиля\n",
    "user.top_up_balance(500)\n",
    "car.refill()\n",
    "\n",
    "# Изменения после пополнения топлива и баланса пользователя\n",
    "print(user.balance) # 1200\n",
    "print(car.current_fuel) # 60"
   ]
  },
  {
   "cell_type": "markdown",
   "id": "1ba8b53b",
   "metadata": {},
   "source": [
    "# Обычный уровень"
   ]
  },
  {
   "cell_type": "markdown",
   "id": "38df143c",
   "metadata": {},
   "source": [
    "### 1"
   ]
  },
  {
   "cell_type": "code",
   "execution_count": 3,
   "id": "e56a7dab",
   "metadata": {},
   "outputs": [],
   "source": [
    "import re\n",
    "class Field:\n",
    "    def __init__(self):\n",
    "        self._data={}\n",
    "    def normilize_key(self,key):\n",
    "        if isinstance(key, str):\n",
    "            match = re.fullmatch(r\"([A-Za-z])(\\d+)\", key)\n",
    "            if match:\n",
    "                letter, number = match.groups()\n",
    "                return frozenset({letter.upper(), int(number)})\n",
    "            \n",
    "            match = re.fullmatch(r\"(\\d+)([A-Za-z])\", key)\n",
    "            if match:\n",
    "                number, letter = match.groups()\n",
    "                return frozenset({letter.upper(), int(number)})\n",
    "\n",
    "            raise ValueError(f\"Invalid key format: {key}\")\n",
    "        elif isinstance(key,tuple) and len(key)==2:\n",
    "            letter, number=None,None\n",
    "            for item in key:\n",
    "                if isinstance(item,int) and item>=0:\n",
    "                    number = item\n",
    "                elif isinstance(item,str) and item.isdigit():\n",
    "                    number = int(item)\n",
    "                elif isinstance(item,str) and item.isalpha() and len(item)==1:\n",
    "                    letter = item.upper()\n",
    "                else:\n",
    "                    raise ValueError(f\"Invalid key format: {key}\")\n",
    "            if letter is None or number is None:\n",
    "                raise ValueError(f\"Invalid key format: {key}\")\n",
    "            return frozenset({letter.upper(),int(number)})\n",
    "        raise TypeError('Key must be a string or a tuple')\n",
    "        \n",
    "    \n",
    "    def __setitem__(self,key,value):\n",
    "        normilized_key = self.normilize_key(key)\n",
    "        self._data[normilized_key] = value\n",
    "    \n",
    "    def __getitem__(self,key):\n",
    "        normilized_key = self.normilize_key(key)\n",
    "        return self._data.get(normilized_key,None)\n",
    "    \n",
    "    def __delitem__(self,key):\n",
    "        normilized_key = self.normilize_key(key)\n",
    "        if normilized_key in self._data:\n",
    "            del self._data[normilized_key]\n",
    "        else:\n",
    "            raise KeyError(f\"Key {key} not found\")\n",
    "            \n",
    "    def __contains__(self,key):\n",
    "        normilized_key = self.normilize_key(key)\n",
    "        return normilized_key in self._data\n",
    "    \n",
    "    def __iter__(self):\n",
    "        return iter(self._data.values())"
   ]
  },
  {
   "cell_type": "code",
   "execution_count": 4,
   "id": "977b4225",
   "metadata": {},
   "outputs": [],
   "source": [
    "import re"
   ]
  },
  {
   "cell_type": "markdown",
   "id": "7c43aea4",
   "metadata": {},
   "source": [
    "### 2"
   ]
  },
  {
   "cell_type": "code",
   "execution_count": 5,
   "id": "bd97be62",
   "metadata": {},
   "outputs": [],
   "source": [
    "import re\n",
    "class Field:\n",
    "    def __init__(self):\n",
    "        self._data={}\n",
    "    def normilize_key(self,key):\n",
    "        if isinstance(key, str):\n",
    "            match = re.fullmatch(r\"([A-Za-z])(\\d+)\", key)\n",
    "            if match:\n",
    "                letter, number = match.groups()\n",
    "                return frozenset({letter.upper(), int(number)})\n",
    "            \n",
    "            match = re.fullmatch(r\"(\\d+)([A-Za-z])\", key)\n",
    "            if match:\n",
    "                number, letter = match.groups()\n",
    "                return frozenset({letter.upper(), int(number)})\n",
    "\n",
    "            raise ValueError(f\"Invalid key format: {key}\")\n",
    "        elif isinstance(key,tuple) and len(key)==2:\n",
    "            letter, number=None,None\n",
    "            for item in key:\n",
    "                if isinstance(item,int) and item>=0:\n",
    "                    number = item\n",
    "                elif isinstance(item,str) and item.isdigit():\n",
    "                    number = int(item)\n",
    "                elif isinstance(item,str) and item.isalpha() and len(item)==1:\n",
    "                    letter = item.upper()\n",
    "                else:\n",
    "                    raise ValueError(f\"Invalid key format: {key}\")\n",
    "            if letter is None or number is None:\n",
    "                raise ValueError(f\"Invalid key format: {key}\")\n",
    "            return frozenset({letter.upper(),int(number)})\n",
    "        raise TypeError('Key must be a string or a tuple')\n",
    "        \n",
    "    \n",
    "    def __setitem__(self,key,value):\n",
    "        normilized_key = self.normilize_key(key)\n",
    "        self._data[normilized_key] = value\n",
    "    \n",
    "    def __getitem__(self,key):\n",
    "        normilized_key = self.normilize_key(key)\n",
    "        return self._data.get(normilized_key,None)\n",
    "    \n",
    "    def __delitem__(self,key):\n",
    "        normilized_key = self.normilize_key(key)\n",
    "        if normilized_key in self._data:\n",
    "            del self._data[normilized_key]\n",
    "        else:\n",
    "            raise KeyError(f\"Key {key} not found\")\n",
    "    \n",
    "    def __getattr__(self,name):\n",
    "        try:\n",
    "            normilized_key = self.normilize_key(name)\n",
    "            return self._data.get(normilized_key,None)\n",
    "        except ValueError:\n",
    "            raise AttributeError(f\"Class Field has no attribute {name}\")\n",
    "    \n",
    "    def __setattr__(self,name,value):\n",
    "        if name.startswith('_') or not re.fullmatch(r'[A-Za-z]\\d+',name):\n",
    "            super().__setattr__(name,value)\n",
    "        else:\n",
    "            self[name]=value\n",
    "    def __delattr__(self,name):\n",
    "        if name in self.__dict__:\n",
    "            super().__delattr__(name)\n",
    "        else:\n",
    "            try:\n",
    "                self.__delitem__(name)\n",
    "            except ValueError:\n",
    "                raise AttributeError(f\"Class Field has no attribute {name}\")\n",
    "    \n",
    "    def __contains__(self,key):\n",
    "        normilized_key = self.normilize_key(key)\n",
    "        return normilized_key in self._data\n",
    "    \n",
    "    def __iter__(self):\n",
    "        return iter(self._data.values())"
   ]
  },
  {
   "cell_type": "markdown",
   "id": "372f2563",
   "metadata": {},
   "source": [
    "### 3"
   ]
  },
  {
   "cell_type": "code",
   "execution_count": 8,
   "id": "d3cdf8ca",
   "metadata": {},
   "outputs": [
    {
     "ename": "ModuleNotFoundError",
     "evalue": "No module named 'api'",
     "output_type": "error",
     "traceback": [
      "\u001b[0;31m---------------------------------------------------------------------------\u001b[0m",
      "\u001b[0;31mModuleNotFoundError\u001b[0m                       Traceback (most recent call last)",
      "Cell \u001b[0;32mIn[8], line 3\u001b[0m\n\u001b[1;32m      1\u001b[0m \u001b[38;5;28;01mimport\u001b[39;00m \u001b[38;5;21;01mdatetime\u001b[39;00m\n\u001b[1;32m      2\u001b[0m \u001b[38;5;28;01mimport\u001b[39;00m \u001b[38;5;21;01mjson\u001b[39;00m\n\u001b[0;32m----> 3\u001b[0m \u001b[38;5;28;01mfrom\u001b[39;00m \u001b[38;5;21;01mapi\u001b[39;00m \u001b[38;5;28;01mimport\u001b[39;00m register_booking\n\u001b[1;32m      4\u001b[0m \u001b[38;5;28;01mclass\u001b[39;00m \u001b[38;5;21;01mBooking\u001b[39;00m:\n\u001b[1;32m      5\u001b[0m     \u001b[38;5;28;01mdef\u001b[39;00m \u001b[38;5;21m__init__\u001b[39m(\u001b[38;5;28mself\u001b[39m,room_name:\u001b[38;5;28mstr\u001b[39m, start:datetime\u001b[38;5;241m.\u001b[39mdatetime, end:datetime\u001b[38;5;241m.\u001b[39mdatetime):\n",
      "\u001b[0;31mModuleNotFoundError\u001b[0m: No module named 'api'"
     ]
    }
   ],
   "source": [
    "import datetime\n",
    "import json\n",
    "from api import register_booking\n",
    "class Booking:\n",
    "    def __init__(self,room_name:str, start:datetime.datetime, end:datetime.datetime):\n",
    "        if end < start:\n",
    "            raise ValueError('End time is earlier than start time')\n",
    "        self.room_name = room_name\n",
    "        self.start = start\n",
    "        self.end = end\n",
    "        \n",
    "    @property\n",
    "    def duration(self):\n",
    "        return int((self.end-self.start).total_seconds()/60)\n",
    "    @property\n",
    "    def start_date(self):\n",
    "        return self.start.strftime('%Y-%m-%d')\n",
    "    @property\n",
    "    def end_date(self):\n",
    "        return self.end.strftime('%Y-%m-%d')\n",
    "    @property\n",
    "    def start_time(self):\n",
    "        return self.start.strftime('%H:%M')\n",
    "    @property\n",
    "    def end_time(self):\n",
    "        return self.end.strftime('%H:%M')\n",
    "    @property\n",
    "    def start(self):\n",
    "        return self._start\n",
    "    @property\n",
    "    def end(self):\n",
    "        return self._end\n",
    "    \n",
    "    def create_booking(room_name,start,end) ->str:\n",
    "        # Для json строки\n",
    "        booking_info = {\n",
    "            'created':False,\n",
    "            'msg':\"\",\n",
    "            'booking':{\n",
    "                \"room_name\": room_name,\n",
    "            \"start_date\": start.strftime(\"%Y-%m-%d\"),\n",
    "            \"start_time\": start.strftime(\"%H:%M\"),\n",
    "            \"end_date\": end.strftime(\"%Y-%m-%d\"),\n",
    "            \"end_time\": end.strftime(\"%H:%M\"),\n",
    "            \"duration\": int((end - start).total_seconds() / 60)\n",
    "            }\n",
    "        }\n",
    "        print('Начинаем создание бронирования')\n",
    "        try:\n",
    "            booking = Booking(room_name,start,end)\n",
    "            result = register_booking(booking)\n",
    "            \n",
    "            if result:\n",
    "                booking_info['created'] = True\n",
    "                booking_info['msg'] = 'Бронирование создано'\n",
    "            else:\n",
    "                booking_info['msg'] = 'Комната занята'\n",
    "        except KeyError:\n",
    "            booking_info[\"msg\"] = \"Комната не найдена\"\n",
    "        except ValueError as e:\n",
    "            booking_info[\"msg\"] = str(e)\n",
    "        finally:\n",
    "            print(\"Заканчиваем создание бронирования\")\n",
    "        return json.dumps(booking_info,ensure_ascii=False,indent=2)"
   ]
  },
  {
   "cell_type": "markdown",
   "id": "b9f4776e",
   "metadata": {},
   "source": [
    "# Продвинутый уровень "
   ]
  },
  {
   "cell_type": "markdown",
   "id": "72203677",
   "metadata": {},
   "source": [
    "### 1"
   ]
  },
  {
   "cell_type": "code",
   "execution_count": 4,
   "id": "79a14627",
   "metadata": {},
   "outputs": [],
   "source": [
    "import math\n",
    "class Fraction:\n",
    "    def __init__(self,numerator,denominator):\n",
    "        if denominator<=0:\n",
    "            raise ValueError('Denominator must be positive')\n",
    "        nod= math.gcd(abs(numerator),abs(denominator))\n",
    "        self.numerator = numerator//nod\n",
    "        self.denominator = denominator//nod\n",
    "        \n",
    "        if self.denominator <0:\n",
    "            self.numerator*=-1\n",
    "            self.denominator *=-1\n",
    "    \n",
    "    def __str__(self):\n",
    "        return f\"{self.numerator}/{self.denominator}\"\n",
    "    \n",
    "    def __add__(self,other):\n",
    "        if isinstance(other,Fraction):\n",
    "            num = self.numerator * other.denominator + self.denominator*other.numerator\n",
    "            den = self.denominator*other.denominator\n",
    "            return Fraction(num,den)\n",
    "        return NotImplemented\n",
    "    def __sub__(self,other):\n",
    "        if isinstance(other,Fraction):\n",
    "            num = self.numerator * other.denominator - self.denominator*other.numerator\n",
    "            den = self.denominator*other.denominator\n",
    "            return Fraction(num,den)\n",
    "        return NotImplemented\n",
    "    def __mul__(self,other):\n",
    "        if isinstance(other,Fraction):\n",
    "            num = self.numerator *other.numerator\n",
    "            den = self.denominator*other.denominator\n",
    "            return Fraction(num,den)\n",
    "        return NotImplemented\n",
    "    def __truediv__(self,other):\n",
    "        if isinstance(other,Fraction):\n",
    "            if other.numerator ==0:\n",
    "                raise ZeroDivisionError('Cannot divide by zero fraction')\n",
    "            num = self.numerator *other.denominator\n",
    "            den = self.denominator*other.numerator\n",
    "            return Fraction(num,den)\n",
    "        return NotImplemented\n",
    "    def __eq__(self,other):\n",
    "        if isinstance(other,Fraction):\n",
    "            return (self.numerator * other.denominator == other.numerator*self.denominator)\n",
    "        return NotImplemented\n",
    "    def __ne__(self,other):\n",
    "        return not self==other\n",
    "    def __lt__(self,other):\n",
    "        if isinstance(other,Fraction):\n",
    "            return (self.numerator * other.denominator < other.numerator*self.denominator)\n",
    "        return NotImplemented\n",
    "    def __le__(self,other):\n",
    "        return self<other or self==other\n",
    "    def __gt__(self,other):\n",
    "        return not self<=other\n",
    "    def __ge__(self,other):\n",
    "        return not self < other\n",
    "    @property \n",
    "    def duration(self):\n",
    "        return self.numerator/self.denominator if self.denominator !=0 else 0"
   ]
  },
  {
   "cell_type": "markdown",
   "id": "4acaa25f",
   "metadata": {},
   "source": [
    "### 2"
   ]
  },
  {
   "cell_type": "code",
   "execution_count": 9,
   "id": "5581cb9d",
   "metadata": {},
   "outputs": [],
   "source": [
    "import re\n",
    "\n",
    "class Time:\n",
    "    def __init__(self, *args):\n",
    "        if len(args) == 1 and isinstance(args[0], str):\n",
    "            time_str = args[0]\n",
    "            self.hours, self.minutes = self.parse_time_str(time_str)\n",
    "        elif len(args) == 2 and all(isinstance(x, int) for x in args):\n",
    "            hours, minutes = args\n",
    "            if not (0 <= hours <= 23 and 0 <= minutes <= 59):\n",
    "                raise ValueError(\"Часы должны быть от 0 до 23, а минуты от 0 до 59\")\n",
    "            self.hours = hours\n",
    "            self.minutes = minutes\n",
    "        else:\n",
    "            raise ValueError(\"Неправильные аргументы для создания времени\")\n",
    "    \n",
    "    @staticmethod\n",
    "    def parse_time_str(time_str):\n",
    "        match_24 = re.fullmatch(r'(\\d{1,2}):(\\d{2})', time_str)\n",
    "        match_12 = re.fullmatch(r'(\\d{1,2}):(\\d{2})\\s?(AM|PM)?', time_str, re.IGNORECASE)\n",
    "        \n",
    "        if match_24:\n",
    "            hours, minutes = int(match_24[1]), int(match_24[2])\n",
    "            if not (0 <= hours <= 23 and 0 <= minutes <= 59):\n",
    "                raise ValueError(\"Часы должны быть от 0 до 23, а минуты от 0 до 59\")\n",
    "            return hours, minutes\n",
    "        elif match_12:\n",
    "            hours, minutes = int(match_12[1]), int(match_12[2])\n",
    "            period = match_12[3].upper() if match_12[3] else \"\"\n",
    "            if hours > 12 or minutes > 59:\n",
    "                raise ValueError(\"Часы должны быть от 1 до 12 в формате AM/PM, а минуты от 0 до 59\")\n",
    "            if period == \"PM\" and hours != 12:\n",
    "                hours += 12\n",
    "            elif period == \"AM\" and hours == 12:\n",
    "                hours = 0\n",
    "            return hours, minutes\n",
    "        else:\n",
    "            raise ValueError(\"Неправильный формат времени\")\n",
    "\n",
    "    def __add__(self, other):\n",
    "        if isinstance(other, int):\n",
    "            total_minutes = self.hours * 60 + self.minutes + other\n",
    "        elif isinstance(other, str):\n",
    "            other_hours, other_minutes = self.parse_time_str(other)\n",
    "            total_minutes = self.hours * 60 + self.minutes + other_hours * 60 + other_minutes\n",
    "        elif isinstance(other, Time):\n",
    "            total_minutes = self.hours * 60 + self.minutes + other.hours * 60 + other.minutes\n",
    "        else:\n",
    "            return NotImplemented\n",
    "        \n",
    "        new_hours = (total_minutes // 60) % 24\n",
    "        new_minutes = total_minutes % 60\n",
    "        result = Time(new_hours, new_minutes)\n",
    "        \n",
    "        return result\n",
    "\n",
    "    def __sub__(self, other):\n",
    "        if isinstance(other, int):\n",
    "            total_minutes = self.hours * 60 + self.minutes - other\n",
    "        elif isinstance(other, str):\n",
    "            other_hours, other_minutes = self.parse_time_str(other)\n",
    "            total_minutes = self.hours * 60 + self.minutes - (other_hours * 60 + other_minutes)\n",
    "        elif isinstance(other, Time):\n",
    "            total_minutes = self.hours * 60 + self.minutes - (other.hours * 60 + other.minutes)\n",
    "        else:\n",
    "            return NotImplemented\n",
    "        \n",
    "        if total_minutes < 0:\n",
    "            raise ValueError(\"Время выходит за пределы текущего дня\")\n",
    "        \n",
    "        new_hours = (total_minutes // 60) % 24\n",
    "        new_minutes = total_minutes % 60\n",
    "        return Time(new_hours, new_minutes)\n",
    "\n",
    "    def __eq__(self, other):\n",
    "        if isinstance(other, Time):\n",
    "            return self.hours == other.hours and self.minutes == other.minutes\n",
    "        elif isinstance(other, str):\n",
    "            other_hours, other_minutes = self.parse_time_str(other)\n",
    "            return self.hours == other_hours and self.minutes == other_minutes\n",
    "        else:\n",
    "            return NotImplemented\n",
    "\n",
    "    def __lt__(self, other):\n",
    "        if isinstance(other, Time):\n",
    "            return (self.hours, self.minutes) < (other.hours, other.minutes)\n",
    "        elif isinstance(other, str):\n",
    "            other_hours, other_minutes = self.parse_time_str(other)\n",
    "            return (self.hours, self.minutes) < (other_hours, other_minutes)\n",
    "        else:\n",
    "            return NotImplemented\n",
    "\n",
    "    def is_night(self):\n",
    "        return (self.hours >= 22) or (self.hours < 6 or (self.hours == 6 and self.minutes == 0))\n",
    "\n",
    "    def difference(self, other):\n",
    "        if isinstance(other, Time):\n",
    "            minutes_self = self.hours * 60 + self.minutes\n",
    "            minutes_other = other.hours * 60 + other.minutes\n",
    "            return abs(minutes_self - minutes_other)\n",
    "        else:\n",
    "            raise ValueError(\"Операция возможна только с объектом Time\")\n",
    "\n",
    "    def __str__(self):\n",
    "        return f\"{self.hours:02}:{self.minutes:02}\""
   ]
  },
  {
   "cell_type": "code",
   "execution_count": 10,
   "id": "0d2459ec",
   "metadata": {},
   "outputs": [
    {
     "data": {
      "text/plain": [
       "<__main__.Time at 0x7fa0409528f0>"
      ]
     },
     "execution_count": 10,
     "metadata": {},
     "output_type": "execute_result"
    }
   ],
   "source": [
    "#Пример операций с целым числом (минутами)\n",
    "Time(\"12:30\") + 45  # Результат: 13:15\n",
    "Time(14, 15) - 30  # Результат: 13:45\n",
    "Time(\"06:30 AM\") + 30  # Результат: 07:00\n",
    "\n",
    "#Пример операций с другим объектом Time\n",
    "Time(\"11:30 PM\") + Time(\"02:15\")  # Результат: 01:45\n",
    "Time(\"02:30 PM\") - Time(\"02:45\")  # Результат: 11:45\n",
    "\n",
    "#Пример операции с строкой\n",
    "Time(\"13:30\") + \"02:30\" # Результат: 16:00"
   ]
  },
  {
   "cell_type": "code",
   "execution_count": 22,
   "id": "876b4738",
   "metadata": {},
   "outputs": [
    {
     "name": "stdout",
     "output_type": "stream",
     "text": [
      "Результат сложения: <__main__.Time object at 0x7ff6381436a0>\n",
      "<__main__.Time object at 0x7ff6381436a0>\n"
     ]
    }
   ],
   "source": [
    "sum_time=Time(\"12:30\") + 45  # Результат: 13:15\n",
    "print(sum_time)"
   ]
  },
  {
   "cell_type": "code",
   "execution_count": null,
   "id": "d329aae8",
   "metadata": {},
   "outputs": [],
   "source": []
  },
  {
   "cell_type": "code",
   "execution_count": 5,
   "id": "7f809d88",
   "metadata": {},
   "outputs": [
    {
     "name": "stdout",
     "output_type": "stream",
     "text": [
      "Результат сложения: 13:15\n",
      "Результат сложения: 07:00\n"
     ]
    },
    {
     "data": {
      "text/plain": [
       "<__main__.Time at 0x7fa04096f400>"
      ]
     },
     "execution_count": 5,
     "metadata": {},
     "output_type": "execute_result"
    }
   ],
   "source": [
    "#Пример операций с целым числом (минутами)\n",
    "Time(\"12:30\") + 45  # Результат: 13:15\n",
    "Time(14, 15) - 30  # Результат: 13:45\n",
    "Time(\"06:30 AM\") + 30  # Результат: 07:00\n",
    "\n",
    "#Пример операций с другим объектом Time\n",
    "#Time(\"11:30 PM\") + Time(\"02:15\")  # Результат: 01:45\n",
    "#Time(\"02:30 PM\") - Time(\"02:45\")  # Результат: 11:45\n",
    "\n",
    "#Пример операции с строкой\n",
    "#Time(\"13:30\") + \"02:30\" # Результат: 16:00"
   ]
  },
  {
   "cell_type": "code",
   "execution_count": 8,
   "id": "0cceedf5",
   "metadata": {},
   "outputs": [
    {
     "name": "stdout",
     "output_type": "stream",
     "text": [
      "13:45\n"
     ]
    }
   ],
   "source": [
    "print(Time(14, 15) - 30)"
   ]
  },
  {
   "cell_type": "code",
   "execution_count": null,
   "id": "253cac11",
   "metadata": {},
   "outputs": [],
   "source": []
  },
  {
   "cell_type": "code",
   "execution_count": null,
   "id": "e0e409fc",
   "metadata": {},
   "outputs": [],
   "source": []
  },
  {
   "cell_type": "code",
   "execution_count": null,
   "id": "6db77e72",
   "metadata": {},
   "outputs": [],
   "source": []
  },
  {
   "cell_type": "code",
   "execution_count": null,
   "id": "2bf92fc0",
   "metadata": {},
   "outputs": [],
   "source": []
  },
  {
   "cell_type": "code",
   "execution_count": null,
   "id": "29796a57",
   "metadata": {},
   "outputs": [],
   "source": []
  },
  {
   "cell_type": "code",
   "execution_count": null,
   "id": "9d72d8e3",
   "metadata": {},
   "outputs": [],
   "source": []
  },
  {
   "cell_type": "code",
   "execution_count": null,
   "id": "3f172b38",
   "metadata": {},
   "outputs": [],
   "source": []
  },
  {
   "cell_type": "code",
   "execution_count": null,
   "id": "7b0af631",
   "metadata": {},
   "outputs": [],
   "source": []
  },
  {
   "cell_type": "code",
   "execution_count": null,
   "id": "63aa9b83",
   "metadata": {},
   "outputs": [],
   "source": []
  },
  {
   "cell_type": "code",
   "execution_count": null,
   "id": "7d8b2dbd",
   "metadata": {},
   "outputs": [],
   "source": []
  },
  {
   "cell_type": "code",
   "execution_count": null,
   "id": "e5e5229c",
   "metadata": {},
   "outputs": [],
   "source": []
  },
  {
   "cell_type": "code",
   "execution_count": null,
   "id": "f69d29f8",
   "metadata": {},
   "outputs": [],
   "source": []
  },
  {
   "cell_type": "code",
   "execution_count": null,
   "id": "79cdc630",
   "metadata": {},
   "outputs": [],
   "source": []
  },
  {
   "cell_type": "code",
   "execution_count": null,
   "id": "bc3614ec",
   "metadata": {},
   "outputs": [],
   "source": []
  },
  {
   "cell_type": "code",
   "execution_count": null,
   "id": "44ef7ecf",
   "metadata": {},
   "outputs": [],
   "source": []
  },
  {
   "cell_type": "code",
   "execution_count": null,
   "id": "bd53f462",
   "metadata": {},
   "outputs": [],
   "source": []
  },
  {
   "cell_type": "code",
   "execution_count": null,
   "id": "58e4f210",
   "metadata": {},
   "outputs": [],
   "source": [
    "datetime"
   ]
  }
 ],
 "metadata": {
  "kernelspec": {
   "display_name": "Python 3 (ipykernel)",
   "language": "python",
   "name": "python3"
  },
  "language_info": {
   "codemirror_mode": {
    "name": "ipython",
    "version": 3
   },
   "file_extension": ".py",
   "mimetype": "text/x-python",
   "name": "python",
   "nbconvert_exporter": "python",
   "pygments_lexer": "ipython3",
   "version": "3.10.9"
  }
 },
 "nbformat": 4,
 "nbformat_minor": 5
}
