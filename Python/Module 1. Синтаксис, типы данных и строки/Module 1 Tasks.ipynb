{
 "cells": [
  {
   "cell_type": "code",
   "execution_count": 1,
   "id": "20c11223",
   "metadata": {},
   "outputs": [
    {
     "name": "stdout",
     "output_type": "stream",
     "text": [
      "The Zen of Python, by Tim Peters\n",
      "\n",
      "Beautiful is better than ugly.\n",
      "Explicit is better than implicit.\n",
      "Simple is better than complex.\n",
      "Complex is better than complicated.\n",
      "Flat is better than nested.\n",
      "Sparse is better than dense.\n",
      "Readability counts.\n",
      "Special cases aren't special enough to break the rules.\n",
      "Although practicality beats purity.\n",
      "Errors should never pass silently.\n",
      "Unless explicitly silenced.\n",
      "In the face of ambiguity, refuse the temptation to guess.\n",
      "There should be one-- and preferably only one --obvious way to do it.\n",
      "Although that way may not be obvious at first unless you're Dutch.\n",
      "Now is better than never.\n",
      "Although never is often better than *right* now.\n",
      "If the implementation is hard to explain, it's a bad idea.\n",
      "If the implementation is easy to explain, it may be a good idea.\n",
      "Namespaces are one honking great idea -- let's do more of those!\n"
     ]
    }
   ],
   "source": [
    "import this"
   ]
  },
  {
   "cell_type": "code",
   "execution_count": 2,
   "id": "02ad6a3b",
   "metadata": {},
   "outputs": [
    {
     "name": "stdout",
     "output_type": "stream",
     "text": [
      "45\n"
     ]
    }
   ],
   "source": [
    "def foo(n):\n",
    "    result=0\n",
    "    for i in range(n):\n",
    "        result+=i\n",
    "    return result\n",
    "print(foo(10))"
   ]
  },
  {
   "cell_type": "code",
   "execution_count": 5,
   "id": "b17c0158",
   "metadata": {},
   "outputs": [
    {
     "name": "stdout",
     "output_type": "stream",
     "text": [
      "Write down or insert some text:\n",
      "The Zen of Python, by Tim Peters\n",
      "The Zen of Python by Tim Peters "
     ]
    }
   ],
   "source": [
    "s = input('Write down or insert some text:\\n')\n",
    "\n",
    "punctuation=['.',',',':',';','!','?','(',')']\n",
    "word_list=s.split()\n",
    "\n",
    "for i,word in enumerate(word_list):\n",
    "    if word[-1] in punctuation:\n",
    "        word_list[i]=word[:-1]\n",
    "    if word[0] in punctuation:\n",
    "        word_list[i]=word[1:]\n",
    "for word in word_list:\n",
    "    print(word, end=' ')"
   ]
  },
  {
   "cell_type": "code",
   "execution_count": 6,
   "id": "a5965a10",
   "metadata": {},
   "outputs": [],
   "source": [
    "a=5+8\n",
    "b=2; c=7; d=12"
   ]
  },
  {
   "cell_type": "code",
   "execution_count": 7,
   "id": "9a7e6db4",
   "metadata": {},
   "outputs": [
    {
     "data": {
      "text/plain": [
       "(13, 2, 7, 12)"
      ]
     },
     "execution_count": 7,
     "metadata": {},
     "output_type": "execute_result"
    }
   ],
   "source": [
    "a,b,c,d"
   ]
  },
  {
   "cell_type": "code",
   "execution_count": 8,
   "id": "bbd3c4f4",
   "metadata": {},
   "outputs": [
    {
     "name": "stdout",
     "output_type": "stream",
     "text": [
      "Hello world\n",
      "dfd\n",
      "b= fddf\n",
      "dfd\n",
      "b= fddf\n"
     ]
    }
   ],
   "source": [
    "print('Hello world')\n",
    "a=input()\n",
    "b=input('b= ')\n",
    "print(a)\n",
    "print('b=',b)"
   ]
  },
  {
   "cell_type": "code",
   "execution_count": 9,
   "id": "18dcf336",
   "metadata": {},
   "outputs": [],
   "source": [
    "# sddsds"
   ]
  },
  {
   "cell_type": "markdown",
   "id": "a1e59f01",
   "metadata": {},
   "source": [
    "Отступы - индентация\n",
    "Индент - одинаковое колво пробелов"
   ]
  },
  {
   "cell_type": "code",
   "execution_count": 3,
   "id": "8a1d8419",
   "metadata": {},
   "outputs": [
    {
     "name": "stdout",
     "output_type": "stream",
     "text": [
      "[1, 2]\n",
      "140476056531328\n",
      "140476569387280\n",
      "[1, 3]\n",
      "140476056531328\n",
      "140476569387312\n",
      "140476056531328\n"
     ]
    }
   ],
   "source": [
    "a=[1,2]\n",
    "\n",
    "print(a)\n",
    "print(id(a))\n",
    "print(id(a[1]))\n",
    "a[1]=3\n",
    "print(a)\n",
    "print(id(a))\n",
    "print(id(a[1]))\n",
    "a.append(4)\n",
    "print(id(a))"
   ]
  },
  {
   "cell_type": "markdown",
   "id": "781e7dc1",
   "metadata": {},
   "source": [
    "Задача с собеса"
   ]
  },
  {
   "cell_type": "code",
   "execution_count": 8,
   "id": "70849c70",
   "metadata": {},
   "outputs": [
    {
     "name": "stdout",
     "output_type": "stream",
     "text": [
      "[[], [], []]\n",
      "140476056529536\n",
      "[[3], [3], [3]]\n",
      "140476056529536\n"
     ]
    }
   ],
   "source": [
    "a=[[]]*3\n",
    "print(a)\n",
    "print(id(a))\n",
    "a[2].append(3)\n",
    "print(a)\n",
    "print(id(a))"
   ]
  },
  {
   "cell_type": "markdown",
   "id": "458e47e9",
   "metadata": {},
   "source": [
    "# Задача 1"
   ]
  },
  {
   "cell_type": "code",
   "execution_count": 12,
   "id": "aa417f8b",
   "metadata": {},
   "outputs": [
    {
     "name": "stdout",
     "output_type": "stream",
     "text": [
      "1\n",
      "2\n",
      "3\n",
      "4\n",
      "5\n",
      "6\n",
      "7\n",
      "8\n",
      "end\n",
      "20\n"
     ]
    }
   ],
   "source": [
    "flag = True\n",
    "summ=0\n",
    "while flag:\n",
    "    s=input()\n",
    "    if s == 'end':\n",
    "        flag=False\n",
    "    else:\n",
    "        s=int(s)\n",
    "        if s %2==0:\n",
    "            summ+=s\n",
    "print(summ)\n",
    "    \n"
   ]
  },
  {
   "cell_type": "markdown",
   "id": "5c4e848f",
   "metadata": {},
   "source": [
    " # Задача 2"
   ]
  },
  {
   "cell_type": "code",
   "execution_count": 14,
   "id": "97897531",
   "metadata": {},
   "outputs": [
    {
     "name": "stdout",
     "output_type": "stream",
     "text": [
      "здравствуйте\n",
      "привет\n"
     ]
    }
   ],
   "source": [
    "s=input()\n",
    "if s=='привет' or s=='здравствуйте':\n",
    "    print('привет')\n",
    "    "
   ]
  },
  {
   "cell_type": "markdown",
   "id": "e73951b1",
   "metadata": {},
   "source": [
    "# Задача 3"
   ]
  },
  {
   "cell_type": "code",
   "execution_count": 17,
   "id": "71181bee",
   "metadata": {},
   "outputs": [
    {
     "name": "stdout",
     "output_type": "stream",
     "text": [
      "djfhj. dhfjdhjhd dhfjdhfjdh   dkfjowoeiw wwew \n",
      "djfhj.*dhfjdhjhd*dhfjdhfjdh*dkfjowoeiw*wwew\n"
     ]
    }
   ],
   "source": [
    "s=input().strip()\n",
    "s='*'.join(s.split())\n",
    "print(s)"
   ]
  },
  {
   "cell_type": "markdown",
   "id": "9ec10d51",
   "metadata": {},
   "source": [
    "# Задача 4"
   ]
  },
  {
   "cell_type": "code",
   "execution_count": 22,
   "id": "a190a765",
   "metadata": {},
   "outputs": [
    {
     "name": "stdout",
     "output_type": "stream",
     "text": [
      "Раз два три четыре пять\n",
      "а\n",
      "Раз\n",
      "два\n"
     ]
    }
   ],
   "source": [
    "s=input().split()\n",
    "pod=input()\n",
    "for word in s:\n",
    "    if pod.lower() in word.lower():\n",
    "        print(word)"
   ]
  },
  {
   "cell_type": "markdown",
   "id": "83b9c73d",
   "metadata": {},
   "source": [
    "# Продвинутый уровень"
   ]
  },
  {
   "cell_type": "markdown",
   "id": "83061c33",
   "metadata": {},
   "source": [
    "# Задача 1"
   ]
  },
  {
   "cell_type": "code",
   "execution_count": 34,
   "id": "03d3ab64",
   "metadata": {},
   "outputs": [
    {
     "name": "stdout",
     "output_type": "stream",
     "text": [
      "12 + 14.563\n",
      "Результат: 26.56\n"
     ]
    }
   ],
   "source": [
    "num1,oper,num2 = input().split()\n",
    "num1=int(num1)\n",
    "num2=float(num2)\n",
    "flag=True\n",
    "if oper =='+':\n",
    "    ans=num1+num2\n",
    "elif oper =='-':\n",
    "    ans=num1-num2\n",
    "elif oper =='*':\n",
    "    ans=num1*num2\n",
    "elif oper =='/':\n",
    "    if num2==0.0:\n",
    "        print(\"Деление на ноль невозможно.\")\n",
    "        flag=False\n",
    "    else:  \n",
    "        ans=num1/num2\n",
    "elif oper =='%':\n",
    "    if num2==0.0:\n",
    "        print(\"Деление на ноль невозможно.\")\n",
    "        flag=False\n",
    "    else:  \n",
    "        ans=num1%num2\n",
    "else:\n",
    "    print(\"Неверная операция.\")\n",
    "    flag=False\n",
    "if flag:\n",
    "    print(f\"Результат: {round(ans,2)}\")\n"
   ]
  },
  {
   "cell_type": "markdown",
   "id": "bef6cff0",
   "metadata": {},
   "source": [
    "# Задача 2"
   ]
  },
  {
   "cell_type": "code",
   "execution_count": 42,
   "id": "2bb3cb43",
   "metadata": {},
   "outputs": [
    {
     "name": "stdout",
     "output_type": "stream",
     "text": [
      "dfdfd\n",
      "How to write a program in Python\n",
      "Созданный URL: https://www.mycoolsyte.com/dfdfd/how-to-write-a-program-in-python\n"
     ]
    }
   ],
   "source": [
    "raz=input()\n",
    "zag=input()\n",
    "raz=raz.lower()\n",
    "zag=zag.replace(' ','-').lower()\n",
    "print(r'Созданный URL: https://www.mycoolsyte.com/'+raz+'/'+zag)"
   ]
  },
  {
   "cell_type": "markdown",
   "id": "ad3e1fea",
   "metadata": {},
   "source": [
    "# Задача 3"
   ]
  },
  {
   "cell_type": "code",
   "execution_count": 46,
   "id": "83eca58e",
   "metadata": {},
   "outputs": [
    {
     "name": "stdout",
     "output_type": "stream",
     "text": [
      "paS!sword123\n",
      "Сильный пароль\n"
     ]
    }
   ],
   "source": [
    "pas=input()\n",
    "crit=[False,False,False,False]\n",
    "for char in pas:\n",
    "    if char.isupper():\n",
    "        crit[0]=True\n",
    "    if char.islower():\n",
    "        crit[1]=True\n",
    "    if char.isdigit():\n",
    "        crit[2]=True\n",
    "    if char in '!@#$%^&*(),.?\":{}|<>':\n",
    "        crit[3]=True\n",
    "crit_sum=sum(crit)\n",
    "if len(pas)<8:\n",
    "    print('Слабый пароль')\n",
    "elif crit_sum ==4:\n",
    "    print('Сильный пароль')\n",
    "elif crit_sum==3:\n",
    "    print('Средний пароль')\n",
    "else:\n",
    "    print('Слабый пароль')"
   ]
  },
  {
   "cell_type": "code",
   "execution_count": 43,
   "id": "39b88627",
   "metadata": {},
   "outputs": [
    {
     "data": {
      "text/plain": [
       "0"
      ]
     },
     "execution_count": 43,
     "metadata": {},
     "output_type": "execute_result"
    }
   ],
   "source": [
    "crit=[False,False,False,False]\n",
    "sum(crit)"
   ]
  },
  {
   "cell_type": "markdown",
   "id": "6cc982a1",
   "metadata": {},
   "source": [
    "# Задача 4"
   ]
  },
  {
   "cell_type": "code",
   "execution_count": 47,
   "id": "ce18acda",
   "metadata": {},
   "outputs": [
    {
     "name": "stdout",
     "output_type": "stream",
     "text": [
      "listen\n",
      "silent\n",
      "Слова являются анаграммами.\n"
     ]
    }
   ],
   "source": [
    "s1=input()\n",
    "s2=input()\n",
    "s1=s1.lower()\n",
    "s2=s2.lower()\n",
    "\n",
    "if sorted(s1)==sorted(s2):\n",
    "    print('Слова являются анаграммами.')\n",
    "else:\n",
    "    print(\"Слова не являются анаграммами.\")"
   ]
  },
  {
   "cell_type": "markdown",
   "id": "28e0fd71",
   "metadata": {},
   "source": [
    "## Второй способ( Словари)"
   ]
  },
  {
   "cell_type": "code",
   "execution_count": 54,
   "id": "8697c8f3",
   "metadata": {},
   "outputs": [
    {
     "name": "stdout",
     "output_type": "stream",
     "text": [
      "listen\n",
      "silent\n",
      "{'l': 1, 'i': 1, 's': 1, 't': 1, 'e': 1, 'n': 1}\n",
      "{'s': 1, 'i': 1, 'l': 1, 'e': 1, 'n': 1, 't': 1}\n",
      "Anagram\n"
     ]
    }
   ],
   "source": [
    "def anagram(s):\n",
    "    string_list = []\n",
    "    for ch in s.lower():\n",
    "        string_list.append(ch)\n",
    "\n",
    "    string_dict = {}\n",
    "    for ch in string_list:\n",
    "        if ch not in string_dict:\n",
    "            string_dict[ch] = 0\n",
    "            string_dict[ch] +=  1\n",
    "    print(string_dict)\n",
    "    return string_dict\n",
    "\n",
    "\n",
    "\n",
    "s1 = input()\n",
    "s2 = input()\n",
    "\n",
    "a = anagram(s1)\n",
    "b = anagram(s2)\n",
    "\n",
    "if a == b:\n",
    "    print (\"Anagram\")\n",
    "else:\n",
    "    print (\"Not Anagram\")"
   ]
  },
  {
   "cell_type": "code",
   "execution_count": null,
   "id": "d3921118",
   "metadata": {},
   "outputs": [],
   "source": []
  },
  {
   "cell_type": "code",
   "execution_count": null,
   "id": "3befdeee",
   "metadata": {},
   "outputs": [],
   "source": []
  },
  {
   "cell_type": "code",
   "execution_count": null,
   "id": "bc984bac",
   "metadata": {},
   "outputs": [],
   "source": []
  },
  {
   "cell_type": "code",
   "execution_count": null,
   "id": "a5aa8e55",
   "metadata": {},
   "outputs": [],
   "source": []
  },
  {
   "cell_type": "code",
   "execution_count": null,
   "id": "e1b9035d",
   "metadata": {},
   "outputs": [],
   "source": []
  },
  {
   "cell_type": "code",
   "execution_count": null,
   "id": "46f8967e",
   "metadata": {},
   "outputs": [],
   "source": []
  },
  {
   "cell_type": "code",
   "execution_count": null,
   "id": "f55edf1e",
   "metadata": {},
   "outputs": [],
   "source": []
  },
  {
   "cell_type": "code",
   "execution_count": null,
   "id": "a323bdd2",
   "metadata": {},
   "outputs": [],
   "source": []
  },
  {
   "cell_type": "markdown",
   "id": "e7226042",
   "metadata": {},
   "source": []
  }
 ],
 "metadata": {
  "kernelspec": {
   "display_name": "Python 3 (ipykernel)",
   "language": "python",
   "name": "python3"
  },
  "language_info": {
   "codemirror_mode": {
    "name": "ipython",
    "version": 3
   },
   "file_extension": ".py",
   "mimetype": "text/x-python",
   "name": "python",
   "nbconvert_exporter": "python",
   "pygments_lexer": "ipython3",
   "version": "3.10.9"
  }
 },
 "nbformat": 4,
 "nbformat_minor": 5
}
