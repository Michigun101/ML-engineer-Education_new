{
 "cells": [
  {
   "cell_type": "markdown",
   "id": "b4d6beae",
   "metadata": {},
   "source": [
    "# Обычный уровень"
   ]
  },
  {
   "cell_type": "markdown",
   "id": "320c60c7",
   "metadata": {},
   "source": [
    "### 1"
   ]
  },
  {
   "cell_type": "markdown",
   "id": "0eb70a3f",
   "metadata": {},
   "source": [
    "Написать функцию, которая на вход принимает строку, а на выход выдает булево значение (True или False), которое истинно, если полученная строка соответствует российскому номеру телефона или адресу электронной почты.\n",
    "Сигнатура функции:\n",
    "check_string(string) -> bool\n",
    " \n",
    "Пример использования\n",
    "check_string(\"+7-916-000-00-00\")  # должна вернуть True"
   ]
  },
  {
   "cell_type": "code",
   "execution_count": 4,
   "id": "75a1a7ec",
   "metadata": {},
   "outputs": [],
   "source": [
    "import re\n",
    "def check_string(string):\n",
    "    pattern_mobile = re.compile(r\"\"\"\n",
    "        ^\n",
    "        (\\+7|8)?\n",
    "        [\\s-]?\n",
    "        \\(?\\d{3}\\)?\n",
    "        [\\s-]?\n",
    "        \\d{3}\n",
    "        [\\s-]?\n",
    "        \\d{2}\n",
    "        [\\s-]?\n",
    "        \\d{2}\n",
    "        $\n",
    "        \"\"\",re.VERBOSE)\n",
    "    pattern_email = re.compile(r\"\"\"\n",
    "    ^\n",
    "    [A-Za-z0-9._]+\n",
    "    @\n",
    "    [A-Za-z0-9.-]+\n",
    "    \\.[A-Za-z]{2,}\n",
    "    $\n",
    "    \"\"\",re.VERBOSE)\n",
    "    if pattern_mobile.match(string):\n",
    "        return True\n",
    "    if pattern_email.match(string):\n",
    "        return True\n",
    "    return False"
   ]
  },
  {
   "cell_type": "code",
   "execution_count": 5,
   "id": "b9a8ac75",
   "metadata": {},
   "outputs": [
    {
     "data": {
      "text/plain": [
       "True"
      ]
     },
     "execution_count": 5,
     "metadata": {},
     "output_type": "execute_result"
    }
   ],
   "source": [
    "check_string(\"+7-916-000-00-00\") "
   ]
  },
  {
   "cell_type": "code",
   "execution_count": 1,
   "id": "ce1d37d6",
   "metadata": {},
   "outputs": [],
   "source": [
    "import re"
   ]
  },
  {
   "cell_type": "code",
   "execution_count": 3,
   "id": "63159383",
   "metadata": {},
   "outputs": [],
   "source": [
    "pattern_mobile = re.compile(r\"\"\"\n",
    "^\n",
    "(\\+7|8)?\n",
    "[\\s-]?\n",
    "\\(?\\d{3}\\)?\n",
    "[\\s-]?\n",
    "\\d{3}\n",
    "[\\s-]?\n",
    "\\d{2}\n",
    "[\\s-]?\n",
    "\\d{2}\n",
    "$\n",
    "\"\"\",re.VERBOSE)"
   ]
  },
  {
   "cell_type": "markdown",
   "id": "b6e6ac73",
   "metadata": {},
   "source": [
    "### 2"
   ]
  },
  {
   "cell_type": "markdown",
   "id": "2ac11dea",
   "metadata": {},
   "source": [
    "Напишите функцию get_popular_name_from_file(filename), которая считывает файл, в котором в каждой строке записаны имя и фамилия через пробел. filename - это имя файла, в котором записаны эти имена. Вам нужно вернуть строку - самое популярное имя в файле. Если таких имен несколько, они должны быть перечислены через запятую внутри строки в алфавитном порядке.\n",
    " \n",
    " \n",
    "Пример содержимого файла (example.txt):\n",
    " \n",
    "Джо Байден\n",
    "Владимир Добрый\n",
    "Владимир Злой\n",
    "Джо Буш\n",
    "Илон Маск\n",
    " \n",
    "Пример использования\n",
    " \n",
    "get_popular_name_from_file(\"example.txt\")  # Должна вернуть: Владимир, Джо"
   ]
  },
  {
   "cell_type": "code",
   "execution_count": 25,
   "id": "14967541",
   "metadata": {},
   "outputs": [],
   "source": [
    "def get_popular_name_from_file(filename):\n",
    "    names={}\n",
    "    with open(filename) as f:\n",
    "        for line in f:\n",
    "            name=list(line.split(' '))\n",
    "            names[name[0]] = names.get(name[0],0)+1\n",
    "    max_cnt = max(names.values())\n",
    "    popular_names=[name for name,count in names.items() if count == max_cnt]\n",
    "    popular_names.sort()\n",
    "    print(set(popular_names))\n",
    "    return ', '.join(popular_names)\n",
    "    "
   ]
  },
  {
   "cell_type": "code",
   "execution_count": 26,
   "id": "b6b2caed",
   "metadata": {},
   "outputs": [
    {
     "name": "stdout",
     "output_type": "stream",
     "text": [
      "None\n"
     ]
    },
    {
     "data": {
      "text/plain": [
       "'Владимир, Джо'"
      ]
     },
     "execution_count": 26,
     "metadata": {},
     "output_type": "execute_result"
    }
   ],
   "source": [
    "get_popular_name_from_file(\"text2.txt\")"
   ]
  },
  {
   "cell_type": "markdown",
   "id": "c78d8598",
   "metadata": {},
   "source": [
    "### 3"
   ]
  },
  {
   "cell_type": "markdown",
   "id": "bf7aae4e",
   "metadata": {},
   "source": [
    "Задачи, аналогичные этой, часто встречаются в реальной веб-разработке. Будем получать и отдавать JSONы. К вам поступают данные в виде json-строки, в которых содержится список людей. Для каждого человека описаны различные его параметры, но вам нужно посчитать просто средний возраст всех людей из списка. Напишите функцию mean_age(json_string), которая принимает json строку, считает средний возраст людей из входных данных и возвращает новую json-строку в том формате, который указан ниже.\n",
    " \n",
    "Формат входной json-строки:\n",
    "    [\n",
    "        {\n",
    "            \"name\": \"Петр\",\n",
    "            \"surname\": \"Петров\",\n",
    "            \"patronymic\": \"Васильевич\",\n",
    "            \"age\": 23,\n",
    "            \"occupation\": \"ойтишнек\"\n",
    "        },\n",
    "        {\n",
    "            \"name\": \"Василий\",\n",
    "            \"surname\": \"Васильев\",\n",
    "            \"patronymic\": \"Петрович\",\n",
    "            \"age\": 24,\n",
    "            \"occupation\": \"дворник\"\n",
    "        }\n",
    "    ]\n",
    " \n",
    "Пример использования\n",
    " \n",
    "mean_age(json_string)  # Должна вернуть {\"mean_age\": 23.5}"
   ]
  },
  {
   "cell_type": "code",
   "execution_count": 43,
   "id": "b924f68b",
   "metadata": {},
   "outputs": [
    {
     "data": {
      "text/plain": [
       "{'mean_age': 23.5}"
      ]
     },
     "execution_count": 43,
     "metadata": {},
     "output_type": "execute_result"
    }
   ],
   "source": [
    "def mean_age(json_string):\n",
    "    import json\n",
    "    mass = json.loads(json_string)\n",
    "    sumage=0\n",
    "    cnt = len(mass)\n",
    "    for dic in mass:\n",
    "        sumage+=dic['age']\n",
    "    sumage/=cnt\n",
    "    return {'mean_age':sumage}\n",
    "mean_age(json_string)    "
   ]
  },
  {
   "cell_type": "code",
   "execution_count": 30,
   "id": "2e5d311d",
   "metadata": {},
   "outputs": [],
   "source": [
    "json_string= '[ { \"name\": \"Петр\", \"surname\": \"Петров\", \"patronymic\": \"Васильевич\", \"age\": 23, \"occupation\": \"ойтишнек\" }, { \"name\": \"Василий\", \"surname\": \"Васильев\", \"patronymic\": \"Петрович\", \"age\": 24, \"occupation\": \"дворник\" } ]'"
   ]
  },
  {
   "cell_type": "code",
   "execution_count": 33,
   "id": "d4e627d1",
   "metadata": {},
   "outputs": [
    {
     "name": "stdout",
     "output_type": "stream",
     "text": [
      "<class 'list'>\n"
     ]
    }
   ],
   "source": [
    "mean_age(json_string)"
   ]
  },
  {
   "cell_type": "markdown",
   "id": "45abac71",
   "metadata": {},
   "source": [
    "### 4"
   ]
  },
  {
   "cell_type": "markdown",
   "id": "84e74c89",
   "metadata": {},
   "source": [
    "Реализуйте функцию create_config(bot_id, bot_token, *commands), которая создает YAML-конфигурацию для бота, используя модуль yaml. Конфигурация должна содержать следующие данные:\n",
    "bot_id: Идентификатор бота (строка).\n",
    "bot_token: Токен доступа к боту (строка).\n",
    "commands: Одна или несколько команд, каждая из которых представлена словарем с ключами:\n",
    "description: Описание команды (строка).\n",
    "function: Имя функции, которая будет вызываться при выполнении команды (строка).\n",
    "Функция должна вернуть YAML-конфигурацию бота.\n",
    " \n",
    "Пример использования\n",
    " \n",
    "bot_id = \"457\"\n",
    "bot_token = \"1249774028390\"\n",
    "\n",
    "# Пример команд\n",
    "commands = [\n",
    "    (\"Приветствие\", \"greet_user\"),\n",
    "    (\"Получить прогноз погоды\", \"get_weather\")\n",
    "]\n",
    "\n",
    "create_config(bot_id, bot_token, *commands)\n",
    " \n",
    "Функция должна вернуть:\n",
    "bot_id: 457\n",
    "bot_token: 1249774028390\n",
    "commands:\n",
    "- description: Приветствие\n",
    "  function: greet_user\n",
    "- description: Получить прогноз погоды\n",
    "  function: get_weather"
   ]
  },
  {
   "cell_type": "code",
   "execution_count": 48,
   "id": "c0ad9a7c",
   "metadata": {},
   "outputs": [],
   "source": [
    "import yaml\n",
    "def create_config(bot_id, bot_token, *commands):\n",
    "    result = {'bot_id':bot_id,'bot_token':bot_token,'commands':[]}\n",
    "    for command in commands:\n",
    "        description,function = command\n",
    "        result['commands'].append({'description':description,'function':function})\n",
    "    return yaml.dump(result,allow_unicode=True)"
   ]
  },
  {
   "cell_type": "code",
   "execution_count": null,
   "id": "12364d5b",
   "metadata": {},
   "outputs": [],
   "source": [
    "# Запись в YAML\n",
    "\n",
    "trunk_template = [\n",
    "    'switchport trunk encapsulation dot1q', 'switchport mode trunk',\n",
    "    'switchport trunk native vlan 999', 'switchport trunk allowed vlan'\n",
    "]\n",
    "\n",
    "access_template = [\n",
    "    'switchport mode access', 'switchport access vlan',\n",
    "    'switchport nonegotiate', 'spanning-tree portfast',\n",
    "    'spanning-tree bpduguard enable'\n",
    "]\n",
    "\n",
    "to_yaml = {'trunk': trunk_template, 'access': access_template}\n",
    "\n",
    "with open('temple.yaml', 'w') as f:\n",
    "    yaml.dump(to_yaml, f)\n",
    "\n",
    "with open('temple.yaml') as f:\n",
    "    print(f.read())"
   ]
  },
  {
   "cell_type": "markdown",
   "id": "434d7729",
   "metadata": {},
   "source": [
    "# Продвинутый уровень"
   ]
  },
  {
   "cell_type": "markdown",
   "id": "fd04c40e",
   "metadata": {},
   "source": [
    "### 1"
   ]
  },
  {
   "cell_type": "markdown",
   "id": "2f0d0e44",
   "metadata": {},
   "source": [
    "Напишите функцию is_valid_expression(expression), которая принимает строку с математическим выражением и возвращает True, если выражение синтаксически корректно (можем вычислить выражение), и False в противном случае. Выражение может содержать числа (целые и с плавающей точкой), скобки, операции сложения (+), вычитания (-), умножения (*) и деления (/).\n",
    " \n",
    "Пример использования\n",
    " \n",
    "is_valid_expression(\"3 + 5 * (2 - 8)\")\n",
    "# Должна вернуть True\n",
    "\n",
    "is_valid_expression(\"3 + 5 * ( 2 - 8\")\n",
    "# Должна вернуть False, т.к. отсутствует закрывающая скобка\n",
    "\n",
    "is_valid_expression(\"3.14 + 2.718 / 1.618\")\n",
    "# Должна вернуть True\n",
    "\n",
    "is_valid_expression(\"abc + 123\")\n",
    "# Должна вернуть False, т.к. \"abc\" не является числом\n",
    "\n",
    "is_valid_expression(\"123 +\")\n",
    "# Должна вернуть False, т.к. отсутствует второй операнд\n",
    "\n",
    "is_valid_expression(\"123 + (12)\")\n",
    "# Должна вернуть True\n",
    "\n",
    "is_valid_expression(\"3+2\")\n",
    "# Должна вернуть True\n",
    " \n",
    "Примечание\n",
    "В решении нельзя использовать eval(), используйте регулярные выражения. Если математическое выражение корректное, оно гарантированно математически правильное (деление на ноль проверять не нужно, только синтаксическую конструкцию). Символы могут разделяться пробелами, а могут и не разделяться (например, \"3+2\" и \"3 + 2\" - оба корректны). Внутри скобочных выражений (вычислений в скобках) может находиться только число или корректное математическое выражение. "
   ]
  },
  {
   "cell_type": "code",
   "execution_count": null,
   "id": "5d4bed64",
   "metadata": {},
   "outputs": [],
   "source": [
    "def is_valid_expression(expression):\n",
    "    expression=expression.strip()\n",
    "    pattern=re.compile(r'''\n",
    "    ^\n",
    "    (\n",
    "        [0-9]+(\\.[0-9]+)?\n",
    "        |\n",
    "        \\((\n",
    "            [^()]*\n",
    "            |\n",
    "            (\n",
    "            (\n",
    "               [0-9]+(\\.[0-9]+)?)\n",
    "               |\n",
    "               )\n",
    "        )\n",
    "                      )''')"
   ]
  },
  {
   "cell_type": "markdown",
   "id": "0c242d3c",
   "metadata": {},
   "source": [
    "### 2"
   ]
  },
  {
   "cell_type": "markdown",
   "id": "45cc5ed3",
   "metadata": {},
   "source": [
    "Напишите функцию generate_task_report(filename), которая принимает файл с данными о задачах в формате JSON и возвращает сводную информацию (в виде словаря, как в примере):\n",
    "Общее количество задач.\n",
    "Количество выполненных задач.\n",
    "Количество задач с высоким приоритетом.\n",
    " \n",
    "Пример Json файла (tasks.json)\n",
    "[\n",
    "    {\"task\": \"Task 1\", \"status\": \"completed\", \"priority\": \"high\"},\n",
    "    {\"task\": \"Task 2\", \"status\": \"pending\", \"priority\": \"low\"},\n",
    "    {\"task\": \"Task 3\", \"status\": \"completed\", \"priority\": \"medium\"},\n",
    "    {\"task\": \"Task 4\", \"status\": \"pending\", \"priority\": \"high\"}\n",
    "]\n",
    " \n",
    "Пример использования\n",
    " \n",
    "generate_task_report('tasks.json')\n",
    " Должна вернуть {'total_tasks': 4, 'completed_tasks': 2, 'high_priority_tasks': 2}"
   ]
  },
  {
   "cell_type": "code",
   "execution_count": 54,
   "id": "605c70b6",
   "metadata": {},
   "outputs": [],
   "source": [
    "import json\n",
    "def generate_task_report(filename):\n",
    "    with open(filename) as f:\n",
    "        tasks=json.load(f)\n",
    "    result={'total_tasks': 0, 'completed_tasks': 0, 'high_priority_tasks': 0}\n",
    "    result['total_tasks'] = len(tasks)\n",
    "    for dic in tasks:\n",
    "        if dic['status'] == 'completed':\n",
    "            result['completed_tasks']+=1\n",
    "        if dic['priority'] == 'high':\n",
    "            result['high_priority_tasks']+=1\n",
    "    return result\n",
    "        "
   ]
  },
  {
   "cell_type": "code",
   "execution_count": 55,
   "id": "b9f29621",
   "metadata": {},
   "outputs": [
    {
     "data": {
      "text/plain": [
       "{'total_tasks': 4, 'completed_tasks': 2, 'high_priority_tasks': 2}"
      ]
     },
     "execution_count": 55,
     "metadata": {},
     "output_type": "execute_result"
    }
   ],
   "source": [
    "generate_task_report('example.json')"
   ]
  },
  {
   "cell_type": "markdown",
   "id": "9de6630a",
   "metadata": {},
   "source": [
    "### 3"
   ]
  },
  {
   "cell_type": "markdown",
   "id": "074617ee",
   "metadata": {},
   "source": [
    "Вам необходимо написать функцию analyze_salaries(filename), которая будет принимать в качестве аргумента файл в формате JSON, содержащий информацию о зарплатах и профессиях людей в разных городах. Каждый объект в файле представляет собой информацию об одном человеке:\n",
    "name: имя человека\n",
    "profession: профессия человека\n",
    "salary: зарплата человека\n",
    "city: город, где живет человек\n",
    "Функция должна вычислить среднюю зарплату по каждой профессии в каждом городе. Среднюю зарплату округлите до двух знаков после запятой. Структура возвращаемого словаря:\n",
    "{\n",
    "  \"Город 1\": {\n",
    "    \"Профессия 1\": [Средняя зарплата данной профессии по городу 1],\n",
    "    \"Профессия 2\": [Средняя зарплата данной профессии по городу 1]\n",
    "  },\n",
    "  \"Город 2\": {\n",
    "    \"Профессия 1\": [Средняя зарплата данной профессии по городу 2],\n",
    "    \"Профессия 2\": [Средняя зарплата данной профессии по городу 2]\n",
    "  },\n",
    "  ...\n",
    "}\n",
    " \n",
    "Пример JSON файла (salaries.json)\n",
    "[\n",
    "  {\n",
    "    \"name\": \"Иван Иванов\",\n",
    "    \"profession\": \"Программист\",\n",
    "    \"salary\": 150000,\n",
    "    \"city\": \"Москва\"\n",
    "  },\n",
    "  {\n",
    "    \"name\": \"Анна Петрова\",\n",
    "    \"profession\": \"Дизайнер\",\n",
    "    \"salary\": 100000,\n",
    "    \"city\": \"Санкт-Петербург\"\n",
    "  },\n",
    "  {\n",
    "    \"name\": \"Дмитрий Сидоров\",\n",
    "    \"profession\": \"Программист\",\n",
    "    \"salary\": 180000,\n",
    "    \"city\": \"Москва\"\n",
    "  },\n",
    "  {\n",
    "    \"name\": \"Сергей Петров\",\n",
    "    \"profession\": \"Программист\",\n",
    "    \"salary\": 160000,\n",
    "    \"city\": \"Санкт-Петербург\"\n",
    "  }\n",
    "]\n",
    " \n",
    "Пример использования\n",
    " \n",
    "analyze_salaries('salaries.json') # Должна вернуть {'Москва': {'Программист': 165000.0}, 'Санкт-Петербург': {'Дизайнер': 100000.0, 'Программист': 160000.0}}"
   ]
  },
  {
   "cell_type": "code",
   "execution_count": 82,
   "id": "1c17c801",
   "metadata": {},
   "outputs": [],
   "source": [
    "import json\n",
    "def analyze_salaries(filename):\n",
    "    with open(filename) as f:\n",
    "        people=json.load(f)\n",
    "    salary_data = {}\n",
    "    for dic in people:\n",
    "        city = dic['city']\n",
    "        profession= dic['profession']\n",
    "        salary = dic['salary']\n",
    "        if city not in salary_data:\n",
    "            salary_data[city] = {}\n",
    "        if profession not in salary_data[city]:\n",
    "            salary_data[city][profession] = []\n",
    "        salary_data[city][profession].append(salary)\n",
    "    result ={}\n",
    "    for city,professions in salary_data.items():\n",
    "        result[city]={}\n",
    "        for profession,salaries in professions.items():\n",
    "            result[city][profession] = round(sum(salaries)/len(salaries),2)\n",
    "    return result"
   ]
  },
  {
   "cell_type": "code",
   "execution_count": 83,
   "id": "10a107c6",
   "metadata": {},
   "outputs": [
    {
     "data": {
      "text/plain": [
       "{'Москва': {'Программист': 165000.0},\n",
       " 'Санкт-Петербург': {'Дизайнер': 100000.0, 'Программист': 160000.0}}"
      ]
     },
     "execution_count": 83,
     "metadata": {},
     "output_type": "execute_result"
    }
   ],
   "source": [
    "analyze_salaries('sal.json')"
   ]
  },
  {
   "cell_type": "markdown",
   "id": "c71712f5",
   "metadata": {},
   "source": [
    "### 4"
   ]
  },
  {
   "cell_type": "markdown",
   "id": "acc83faf",
   "metadata": {},
   "source": [
    "Напишите функцию count_word_occurrences(filename, word), которая подсчитывает количество вхождений заданного слова в текстовом файле, не учитывая регистр.\n",
    "Важное условие: Файл очень большой и не поместится в оперативную память. Это необходимо учитывать при реализации функции.\n",
    "Функция должна вернуть строку вида:\n",
    "Слово '[word]' встречается в файле '[filename]' [кол-во вхождений] раз.\n",
    " \n",
    "Пример файла (example.txt)\n",
    "Эталонной реализацией Python является интерпретатор CPython, который поддерживает большинство активно используемых платформ, являющийся стандартом де-факто языка.\n",
    " \n",
    "Пример использования\n",
    " \n",
    "filename = 'example.txt'\n",
    "word = 'python'\n",
    "\n",
    "count_word_occurrences(filename, word)# Должна вернуть строку:# Слово 'python' встречается в файле 'example.txt' 1 раз.\n",
    " \n",
    "Примечание\n",
    "Такая задача часто встречается на собеседованиях. Программа должна учитывать только вхождения слова как отдельного слова, а не как часть других слов. Функция должна быть оптимизирована для работы с большими файлами, чтобы избежать MemoryError."
   ]
  },
  {
   "cell_type": "code",
   "execution_count": 84,
   "id": "505a49bd",
   "metadata": {},
   "outputs": [],
   "source": [
    "import re\n",
    "def count_word_occurrences(filename, word):\n",
    "    cnt=0\n",
    "    with open(filename,'r') as f:\n",
    "        word_pattern=re.compile(rf'\\b{re.escape(word)}\\b',re.IGNORECASE)\n",
    "        \n",
    "        for line in f:\n",
    "            cnt+=len(word_pattern.findall(line))\n",
    "    return f'Слово '{word}' встречается в файле '{filename}' {cnt} раз.'\n",
    "        "
   ]
  },
  {
   "cell_type": "code",
   "execution_count": null,
   "id": "de590bd4",
   "metadata": {},
   "outputs": [],
   "source": []
  },
  {
   "cell_type": "code",
   "execution_count": null,
   "id": "4feca667",
   "metadata": {},
   "outputs": [],
   "source": []
  },
  {
   "cell_type": "code",
   "execution_count": null,
   "id": "ea6368fd",
   "metadata": {},
   "outputs": [],
   "source": []
  },
  {
   "cell_type": "code",
   "execution_count": null,
   "id": "bf6cec70",
   "metadata": {},
   "outputs": [],
   "source": []
  },
  {
   "cell_type": "code",
   "execution_count": null,
   "id": "6fed337a",
   "metadata": {},
   "outputs": [],
   "source": []
  },
  {
   "cell_type": "code",
   "execution_count": null,
   "id": "43ec421d",
   "metadata": {},
   "outputs": [],
   "source": []
  },
  {
   "cell_type": "code",
   "execution_count": null,
   "id": "1cf3e57f",
   "metadata": {},
   "outputs": [],
   "source": []
  },
  {
   "cell_type": "code",
   "execution_count": null,
   "id": "cf2c684e",
   "metadata": {},
   "outputs": [],
   "source": []
  },
  {
   "cell_type": "code",
   "execution_count": null,
   "id": "738a1734",
   "metadata": {},
   "outputs": [],
   "source": []
  },
  {
   "cell_type": "code",
   "execution_count": null,
   "id": "180875ea",
   "metadata": {},
   "outputs": [],
   "source": []
  },
  {
   "cell_type": "code",
   "execution_count": null,
   "id": "9658b9e0",
   "metadata": {},
   "outputs": [],
   "source": []
  },
  {
   "cell_type": "code",
   "execution_count": null,
   "id": "8257ca04",
   "metadata": {},
   "outputs": [],
   "source": []
  },
  {
   "cell_type": "code",
   "execution_count": null,
   "id": "5884ffa8",
   "metadata": {},
   "outputs": [],
   "source": []
  },
  {
   "cell_type": "code",
   "execution_count": null,
   "id": "306eb2fd",
   "metadata": {},
   "outputs": [],
   "source": []
  }
 ],
 "metadata": {
  "kernelspec": {
   "display_name": "Python 3 (ipykernel)",
   "language": "python",
   "name": "python3"
  },
  "language_info": {
   "codemirror_mode": {
    "name": "ipython",
    "version": 3
   },
   "file_extension": ".py",
   "mimetype": "text/x-python",
   "name": "python",
   "nbconvert_exporter": "python",
   "pygments_lexer": "ipython3",
   "version": "3.10.9"
  }
 },
 "nbformat": 4,
 "nbformat_minor": 5
}
