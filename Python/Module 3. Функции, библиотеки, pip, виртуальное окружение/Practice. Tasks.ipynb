{
 "cells": [
  {
   "cell_type": "markdown",
   "id": "8bf24d8b",
   "metadata": {},
   "source": [
    "Допустим, ваша компания каждый месяц выделяет некоторую сумму денег на подарки сотрудникам ко дню рождения. Каждый месяц эта сумма разная. Также у вас есть список дней рождения сотрудников. Вам нужно написать удобный инструмент для того, чтобы сотрудники могли понять, сколько денег им ждать на день рождения, если известно, какой бюджет выделяется на месяц и для какого месяца производится подсчет. Для этого напишите функцию gift_count, которая будет принимать:\n",
    "бюджет, который выделяется компанией на месяц\n",
    "номер месяца, на который нужно произвести расчет\n",
    "словарь, где ключи - это имена сотрудников, а значения - datetime.date с датой рождения сотрудника.\n",
    "Функция должна вывести на экран фразу (цифры должны быть подставлены в соответствии со значениями аргументов):\n",
    "Именинники в месяце 5: Иванов Иван Иванович (01.05.1989), Петров Петр Петрович (06.05.1998). При бюджете 20000 они получат по 10000 рублей.\n",
    "Если в ответе получается не целое число, округлите его до меньшего целого. Именинники должны быть выведены в порядке дня рождения по возрастанию (не полной даты рождения, а именно дня). Если в выбранном месяце нет именинников, должна быть выведена строка \"В этом месяце нет именинников.\"\n",
    " \n",
    "Формат ввода\n",
    "birthdays = {\"Иванов Иван Иванович\": datetime.date(1989, 5, 1), \"Петров Петр Петрович\": datetime.date(1998, 5, 6)}\n",
    "gift_count(20000, 5, birthdays)\n",
    "gift_count(budget=20000, month=5, birthdays=birthdays)\n",
    " \n",
    "Формат вывода\n",
    "Именинники в месяце 5: Иванов Иван Иванович (01.05.1989), Петров Петр Петрович (06.05.1998). При бюджете 20000 они получат по 10000 рублей.\n",
    " \n",
    "Примечания\n",
    "В примере формата ввода показаны несколько вариантов вызова функции gift_count: с порядковыми аргументами и с передачей их по имени. Соответственно, аргументы функции должны называться так же, как они используются в примере."
   ]
  },
  {
   "cell_type": "markdown",
   "id": "96f940d9",
   "metadata": {},
   "source": [
    "### 1"
   ]
  },
  {
   "cell_type": "code",
   "execution_count": 41,
   "id": "e020ebdf",
   "metadata": {},
   "outputs": [],
   "source": [
    "import datetime\n",
    "def gift_count(budget, month,birthdays):\n",
    "    bird_names=[]\n",
    "    for name,date in birthdays.items():\n",
    "        if date.month ==month:\n",
    "            bird_names.append((name,date))\n",
    "    if not bird_names:\n",
    "        print('В этом месяце нет именинников.')\n",
    "        return\n",
    "    money = budget// len(bird_names)\n",
    "    sorted(bird_names,key = lambda x: x[1].day)\n",
    "    st=', '.join([f\"{name} {datetime.datetime.strftime(date,'(%d.%m.%Y)')}\" for name,date in bird_names])\n",
    "    print(f'Именинники в месяце {month}: {st}. При бюджете {budget} они получат по {money} рублей.')\n",
    "    return"
   ]
  },
  {
   "cell_type": "code",
   "execution_count": 42,
   "id": "58c7d91d",
   "metadata": {},
   "outputs": [
    {
     "name": "stdout",
     "output_type": "stream",
     "text": [
      "Именинники в месяце 5: Иванов Иван Иванович (01.05.1989), Петров Петр Петрович (06.05.1998). При бюджете 20000 они получат по 10000 рублей.\n"
     ]
    }
   ],
   "source": [
    "birthdays = {\n",
    "    \"Иванов Иван Иванович\": datetime.date(1989, 5, 1),\n",
    "    \"Петров Петр Петрович\": datetime.date(1998, 5, 6),\n",
    "    \"Сидоров Сидор Сидорович\": datetime.date(1985, 7, 15)\n",
    "}\n",
    "\n",
    "gift_count(20000, 5, birthdays)"
   ]
  },
  {
   "cell_type": "code",
   "execution_count": 5,
   "id": "0eddfe36",
   "metadata": {},
   "outputs": [
    {
     "ename": "TypeError",
     "evalue": "'Иванов Иван Иванович' is an invalid keyword argument for print()",
     "output_type": "error",
     "traceback": [
      "\u001b[0;31m---------------------------------------------------------------------------\u001b[0m",
      "\u001b[0;31mTypeError\u001b[0m                                 Traceback (most recent call last)",
      "Cell \u001b[0;32mIn[5], line 3\u001b[0m\n\u001b[1;32m      1\u001b[0m \u001b[38;5;28;01mimport\u001b[39;00m \u001b[38;5;21;01mdatetime\u001b[39;00m\n\u001b[1;32m      2\u001b[0m birthdays \u001b[38;5;241m=\u001b[39m {\u001b[38;5;124m\"\u001b[39m\u001b[38;5;124mИванов Иван Иванович\u001b[39m\u001b[38;5;124m\"\u001b[39m: datetime\u001b[38;5;241m.\u001b[39mdate(\u001b[38;5;241m1989\u001b[39m, \u001b[38;5;241m5\u001b[39m, \u001b[38;5;241m1\u001b[39m), \u001b[38;5;124m\"\u001b[39m\u001b[38;5;124mПетров Петр Петрович\u001b[39m\u001b[38;5;124m\"\u001b[39m: datetime\u001b[38;5;241m.\u001b[39mdate(\u001b[38;5;241m1998\u001b[39m, \u001b[38;5;241m5\u001b[39m, \u001b[38;5;241m6\u001b[39m)}\n\u001b[0;32m----> 3\u001b[0m \u001b[38;5;28;43mprint\u001b[39;49m\u001b[43m(\u001b[49m\u001b[38;5;241;43m*\u001b[39;49m\u001b[38;5;241;43m*\u001b[39;49m\u001b[43mbirthdays\u001b[49m\u001b[43m)\u001b[49m\n",
      "\u001b[0;31mTypeError\u001b[0m: 'Иванов Иван Иванович' is an invalid keyword argument for print()"
     ]
    }
   ],
   "source": [
    "import datetime\n",
    "birthdays = {\"Иванов Иван Иванович\": datetime.date(1989, 5, 1), \"Петров Петр Петрович\": datetime.date(1998, 5, 6)}\n",
    "def print_birtday(birthday):\n",
    "    st=''\n",
    "    for name,date in birthday.items():\n",
    "        st=st.join\n",
    "        "
   ]
  },
  {
   "cell_type": "code",
   "execution_count": 15,
   "id": "a33e4fb9",
   "metadata": {},
   "outputs": [
    {
     "data": {
      "text/plain": [
       "'1989-05-01'"
      ]
     },
     "execution_count": 15,
     "metadata": {},
     "output_type": "execute_result"
    }
   ],
   "source": [
    "str(birthdays['Иванов Иван Иванович'])"
   ]
  },
  {
   "cell_type": "code",
   "execution_count": null,
   "id": "89ac23d3",
   "metadata": {},
   "outputs": [],
   "source": [
    "datetime.datetime.strftime(datetime.datetime.now(), \"%a, %B %d, %Y - %H:%M:%S\""
   ]
  },
  {
   "cell_type": "code",
   "execution_count": 22,
   "id": "62f4cb6c",
   "metadata": {},
   "outputs": [
    {
     "data": {
      "text/plain": [
       "'Иванов Иван Иванович (01.05.89), Петров Петр Петрович (06.05.98)'"
      ]
     },
     "execution_count": 22,
     "metadata": {},
     "output_type": "execute_result"
    }
   ],
   "source": [
    "st=', '.join([f\"{name} {datetime.datetime.strftime(date,'(%d.%m.%y)')}\" for name,date in birthdays.items()])\n",
    "st\n",
    "            "
   ]
  },
  {
   "cell_type": "code",
   "execution_count": 23,
   "id": "786b8a66",
   "metadata": {},
   "outputs": [
    {
     "data": {
      "text/plain": [
       "2"
      ]
     },
     "execution_count": 23,
     "metadata": {},
     "output_type": "execute_result"
    }
   ],
   "source": [
    "len(birthdays)"
   ]
  },
  {
   "cell_type": "code",
   "execution_count": 28,
   "id": "665bd37d",
   "metadata": {},
   "outputs": [
    {
     "name": "stdout",
     "output_type": "stream",
     "text": [
      "5\n",
      "5\n"
     ]
    }
   ],
   "source": [
    "birt_names=[]\n",
    "for name,date in birthdays.items():\n",
    "    if date.month ==5:\n",
    "        birt_names.append(name)\n",
    "    print(date.month)"
   ]
  },
  {
   "cell_type": "code",
   "execution_count": 34,
   "id": "376d0ed7",
   "metadata": {},
   "outputs": [
    {
     "ename": "AttributeError",
     "evalue": "'str' object has no attribute 'values'",
     "output_type": "error",
     "traceback": [
      "\u001b[0;31m---------------------------------------------------------------------------\u001b[0m",
      "\u001b[0;31mAttributeError\u001b[0m                            Traceback (most recent call last)",
      "Cell \u001b[0;32mIn[34], line 1\u001b[0m\n\u001b[0;32m----> 1\u001b[0m \u001b[38;5;28;43msorted\u001b[39;49m\u001b[43m(\u001b[49m\u001b[43mbirthdays\u001b[49m\u001b[43m,\u001b[49m\u001b[43mkey\u001b[49m\u001b[43m \u001b[49m\u001b[38;5;241;43m=\u001b[39;49m\u001b[43m \u001b[49m\u001b[38;5;28;43;01mlambda\u001b[39;49;00m\u001b[43m \u001b[49m\u001b[43mx\u001b[49m\u001b[43m:\u001b[49m\u001b[43m \u001b[49m\u001b[43mx\u001b[49m\u001b[38;5;241;43m.\u001b[39;49m\u001b[43mvalues\u001b[49m\u001b[43m(\u001b[49m\u001b[43m)\u001b[49m\u001b[38;5;241;43m.\u001b[39;49m\u001b[43mday\u001b[49m\u001b[43m)\u001b[49m\n",
      "Cell \u001b[0;32mIn[34], line 1\u001b[0m, in \u001b[0;36m<lambda>\u001b[0;34m(x)\u001b[0m\n\u001b[0;32m----> 1\u001b[0m \u001b[38;5;28msorted\u001b[39m(birthdays,key \u001b[38;5;241m=\u001b[39m \u001b[38;5;28;01mlambda\u001b[39;00m x: \u001b[43mx\u001b[49m\u001b[38;5;241;43m.\u001b[39;49m\u001b[43mvalues\u001b[49m()\u001b[38;5;241m.\u001b[39mday)\n",
      "\u001b[0;31mAttributeError\u001b[0m: 'str' object has no attribute 'values'"
     ]
    }
   ],
   "source": [
    "sorted(birthdays,key = lambda x: x.values().day)\n"
   ]
  },
  {
   "cell_type": "code",
   "execution_count": 32,
   "id": "cce92d8f",
   "metadata": {},
   "outputs": [
    {
     "data": {
      "text/plain": [
       "{'Иванов Иван Иванович': datetime.date(1989, 5, 1),\n",
       " 'Петров Петр Петрович': datetime.date(1998, 5, 6)}"
      ]
     },
     "execution_count": 32,
     "metadata": {},
     "output_type": "execute_result"
    }
   ],
   "source": [
    "birthdays"
   ]
  },
  {
   "cell_type": "markdown",
   "id": "d1c61374",
   "metadata": {},
   "source": [
    "### 2"
   ]
  },
  {
   "cell_type": "markdown",
   "id": "ee203bae",
   "metadata": {},
   "source": [
    "Вам нужно написать функцию lists_sum, которая принимает произвольное количество списков чисел, и возвращает сумму всех этих чисел. Предусмотрите дополнительный аргумент unique, который по умолчанию равен False, но если в функцию подается unique=True, то функция должна вернуть сумму всех уникальных чисел из всех списков. Если поданы только пустые списки или списки чисел вообще не поданы в функцию, то считать сумму чисел нулём.\n",
    " \n",
    "Пример использования\n",
    " \n",
    "lists_sum([1, 1], [1], [1, 2, 3]) # должна вернуть 9\n",
    "\n",
    "lists_sum([1, 1, 1], [1, 1], unique=True) # должна вернуть 1\n",
    "\n",
    "lists_sum([1, 1, 1], unique=False) # должна вернуть 3"
   ]
  },
  {
   "cell_type": "code",
   "execution_count": 51,
   "id": "27672b8d",
   "metadata": {},
   "outputs": [],
   "source": [
    "def lists_sum(*lists, unique=False):\n",
    "    if not unique:\n",
    "        sum_lists=0\n",
    "        for lis in lists:\n",
    "            sum_lists+=sum(lis)\n",
    "        return sum_lists\n",
    "    else:\n",
    "        set_lists = set()\n",
    "        for lis in lists:\n",
    "            set_lists.update(lis)\n",
    "        return sum(set_lists)"
   ]
  },
  {
   "cell_type": "code",
   "execution_count": 52,
   "id": "9dc17a21",
   "metadata": {},
   "outputs": [
    {
     "data": {
      "text/plain": [
       "9"
      ]
     },
     "execution_count": 52,
     "metadata": {},
     "output_type": "execute_result"
    }
   ],
   "source": [
    "lists_sum([1, 1], [1], [1, 2, 3]) "
   ]
  },
  {
   "cell_type": "code",
   "execution_count": 53,
   "id": "692d09bd",
   "metadata": {},
   "outputs": [
    {
     "data": {
      "text/plain": [
       "1"
      ]
     },
     "execution_count": 53,
     "metadata": {},
     "output_type": "execute_result"
    }
   ],
   "source": [
    "lists_sum([1, 1, 1], [1, 1], unique=True)"
   ]
  },
  {
   "cell_type": "markdown",
   "id": "02f9d9fb",
   "metadata": {},
   "source": [
    "### 3"
   ]
  },
  {
   "cell_type": "markdown",
   "id": "53649ce4",
   "metadata": {},
   "source": [
    "В этом задании вам нужно описать несколько функций, которые будут использовать друг друга в своем коде. Функции нужно описать подряд, в одном файле, и отправить в контест все функции сразу.\n",
    " \n",
    "Постановка задачи\n",
    "Вы с друзьями периодически собираетесь на лавке у подъезда выпить чаю с баранками. Каждый раз собирается разное количество человек, которое должно скинуть по n рублей на мероприятие. Также у вас в компании есть общак, в который можно докинуть денег, а можно взять. Все транзакции в общак логируются, т.е. у вас есть информация о каждом переводе денег в/из общака для каждого из друзей. Ваша задача - посчитать, сколько денег должен каждый из собравшихся на мероприятие друзей на момент начала мероприятия. Будем считать, что все деньги проходят через общак, поэтому у каждого друга к началу мероприятия уже есть некоторый \"баланс\" в общаке.\n",
    " \n",
    "Формат хранения данных\n",
    "Все операции с деньгами хранятся в базе данных и приходят к вам в виде списка словарей вида:\n",
    "    {\"name\": \"Василий\", \"amount\": 500},\n",
    "    {\"name\": \"Петя\", \"amount\": 100},\n",
    "    {\"name\": \"Василий\", \"amount\": -300},\n",
    "]\n",
    "где name - имя друга (считаем, что всех зовут по-разному), amount - сумма, которая добавлена в общак. Если сумма отрицательная - это значит, что друг взял деньги из общака. Также считаем, что скидываются суммы в рублях без копеек.\n",
    " \n",
    "Вам нужно описать две функции.\n",
    "get_balance(name, transactions) -> int\n",
    "функция, которая возвращает текущий баланс друга с именем name, исходя из списка транзакций transactions. Если имя name ни разу не встречается в списке transactions, считаем, что баланс этого друга в общаке равен 0 рублей.\n",
    "count_debts(names, amount, transactions) -> dict\n",
    "функция, которая принимает список имен присутствующих на мероприятии друзей names, стоимость баранок и чая на человека amount, а также список транзакций в общак transactions. Вернуть эта функция должна словарь вида {\"имя_друга\": 100}, где 100 - это количество денег, которое он должен скинуть на мероприятие. Если на балансе друга больше денег, чем требуется на мероприятие, то он должен 0 рублей.\n",
    " \n",
    "Формат ввода\n",
    "transactions = [ {\"name\": \"Василий\", \"amount\": 500}, {\"name\": \"Петя\", \"amount\": 100}, {\"name\": \"Василий\", \"amount\": -300}, ]\n",
    "get_balance(\"Василий\", transactions)\n",
    "count_debts([\"Василий\", \"Петя\", \"Вова\"], 150, transactions)\n",
    " \n",
    "Формат вывода\n",
    "get_balance(\"Василий\", transactions) == 200\n",
    "count_debts([\"Василий\", \"Петя\", \"Вова\"], 150, transactions) == {\"Василий\": 0, \"Петя\": 50, \"Вова\": 150}"
   ]
  },
  {
   "cell_type": "code",
   "execution_count": 65,
   "id": "d54bf08f",
   "metadata": {},
   "outputs": [],
   "source": [
    "def get_balance(name,transactions):\n",
    "    balance = 0\n",
    "    for transaction in transactions:\n",
    "        if transaction['name']==name:\n",
    "            balance+=transaction['amount']\n",
    "    return balance\n",
    "def count_debts(names, amount, transactions):\n",
    "    dolg={}\n",
    "    for name in names:\n",
    "        dolg[name] = 0 if get_balance(name,transactions)>=amount else amount - get_balance(name,transactions)\n",
    "    return dolg"
   ]
  },
  {
   "cell_type": "code",
   "execution_count": 67,
   "id": "6aba9ead",
   "metadata": {},
   "outputs": [
    {
     "data": {
      "text/plain": [
       "{'Василий': 0, 'Петя': 50, 'Вова': 150}"
      ]
     },
     "execution_count": 67,
     "metadata": {},
     "output_type": "execute_result"
    }
   ],
   "source": [
    "transactions = [ {\"name\": \"Василий\", \"amount\": 500}, {\"name\": \"Петя\", \"amount\": 100}, {\"name\": \"Василий\", \"amount\": -300}, ] \n",
    "get_balance(\"Василий\", transactions)\n",
    "count_debts([\"Василий\", \"Петя\", \"Вова\"], 150, transactions)"
   ]
  },
  {
   "cell_type": "code",
   "execution_count": null,
   "id": "66dd2140",
   "metadata": {},
   "outputs": [],
   "source": [
    "dolg={}\n",
    "dolg.append()"
   ]
  },
  {
   "cell_type": "markdown",
   "id": "9ec63898",
   "metadata": {},
   "source": [
    "## Продвинутый уровень"
   ]
  },
  {
   "cell_type": "markdown",
   "id": "11dc5163",
   "metadata": {},
   "source": [
    "### 1"
   ]
  },
  {
   "cell_type": "markdown",
   "id": "67a913ef",
   "metadata": {},
   "source": [
    "Напишите функцию calculate_cost(), которая принимает переменное количество аргументов, представляющих цены товаров в корзине, а также два именованных аргумента:\n",
    "discount: процент скидки (по умолчанию 0)\n",
    "delivery_type: тип доставки (по умолчанию \"стандартная\", может быть \"экспресс\")\n",
    "Функция должна вычислять общую стоимость заказа с учётом следующих условий:\n",
    "Доставка:\n",
    "Стоимость стандартной доставки составляет 1000 рублей, если суммарная стоимость товаров в корзине меньше 5000 рублей. В противном случае доставка бесплатная.\n",
    "Стоимость экспресс доставки всегда составляет 1500 рублей.\n",
    "Скидка:\n",
    "К общей стоимости заказа применяется скидка, заданная аргументом discount.\n",
    "Функция должна возвращать конечную стоимость заказа (целое число) с учётом доставки и скидки. \n",
    " \n",
    "Пример использования\n",
    " \n",
    "calculate_cost(1000, 2000, discount=10) # должна вернуть 3600\n",
    "calculate_cost(5000, 1000, discount=20, delivery_type='экспресс') # должна вернуть 6000\n",
    "calculate_cost(10000, 5000, 2000) # должна вернуть 17000\n",
    "calculate_cost(4500) # должна вернуть 5500\n"
   ]
  },
  {
   "cell_type": "code",
   "execution_count": 5,
   "id": "4c7ea684",
   "metadata": {},
   "outputs": [],
   "source": [
    "def calculate_cost(*prices, discount=0, delivery_type='стандартная'):\n",
    "    cost = sum(prices)\n",
    "    if delivery_type == 'экспресс':\n",
    "        cost+=1500\n",
    "    elif delivery_type=='стандартная':\n",
    "        if cost<5000:\n",
    "            cost+=1000\n",
    "    return cost - cost*discount/100\n",
    "    "
   ]
  },
  {
   "cell_type": "code",
   "execution_count": 7,
   "id": "1236c2de",
   "metadata": {},
   "outputs": [
    {
     "data": {
      "text/plain": [
       "5500.0"
      ]
     },
     "execution_count": 7,
     "metadata": {},
     "output_type": "execute_result"
    }
   ],
   "source": [
    "calculate_cost(4500) # должна вернуть 5500"
   ]
  },
  {
   "cell_type": "code",
   "execution_count": 8,
   "id": "1c8088c8",
   "metadata": {},
   "outputs": [
    {
     "data": {
      "text/plain": [
       "3600.0"
      ]
     },
     "execution_count": 8,
     "metadata": {},
     "output_type": "execute_result"
    }
   ],
   "source": [
    "calculate_cost(1000, 2000, discount=10) # должна вернуть 3600\n"
   ]
  },
  {
   "cell_type": "code",
   "execution_count": 9,
   "id": "19aff8e0",
   "metadata": {},
   "outputs": [
    {
     "data": {
      "text/plain": [
       "6000.0"
      ]
     },
     "execution_count": 9,
     "metadata": {},
     "output_type": "execute_result"
    }
   ],
   "source": [
    "calculate_cost(5000, 1000, discount=20, delivery_type='экспресс') # должна вернуть 6000\n"
   ]
  },
  {
   "cell_type": "code",
   "execution_count": 10,
   "id": "beda47f0",
   "metadata": {},
   "outputs": [
    {
     "data": {
      "text/plain": [
       "17000.0"
      ]
     },
     "execution_count": 10,
     "metadata": {},
     "output_type": "execute_result"
    }
   ],
   "source": [
    "calculate_cost(10000, 5000, 2000) # должна вернуть 17000\n"
   ]
  },
  {
   "cell_type": "markdown",
   "id": "89241bf5",
   "metadata": {},
   "source": [
    "### 2"
   ]
  },
  {
   "cell_type": "markdown",
   "id": "2135149d",
   "metadata": {},
   "source": [
    "Напишите функцию roman_to_arabic(), которая принимает на вход строку с римскими цифрами и преобразует ее в арабские. Необходимо учитывать правила преобразования римских цифр в арабские (например, \"IV\" = 4, \"IX\" = 9, \"CM\" = 900). Гарантируется, что входная строка представляет корректное римское число в диапазоне от 1 до 3999 включительно.\n",
    " \n",
    "Пример использования\n",
    " \n",
    "roman_to_arabic(\"IX\") # должна вывести 9\n",
    "roman_to_arabic(\"CM\") # должна вывести 900\n",
    "roman_to_arabic(\"MMMCMXCIX\") # должна вывести 3999"
   ]
  },
  {
   "cell_type": "code",
   "execution_count": 41,
   "id": "35f63aa1",
   "metadata": {},
   "outputs": [],
   "source": [
    "def roman_to_arabic(roman: str):\n",
    "    roman_values = {\n",
    "        'I': 1, 'V': 5, 'X': 10, 'L': 50,\n",
    "        'C': 100, 'D': 500, 'M': 1000\n",
    "    }\n",
    "    \n",
    "    total = 0\n",
    "    n = len(roman)\n",
    "\n",
    "    for i in range(n):\n",
    "        if i < n - 1 and roman_values[roman[i]] < roman_values[roman[i + 1]]:\n",
    "            total -= roman_values[roman[i]]\n",
    "        else:\n",
    "            total += roman_values[roman[i]]\n",
    "    \n",
    "    return total\n"
   ]
  },
  {
   "cell_type": "code",
   "execution_count": 42,
   "id": "2ac7d84b",
   "metadata": {},
   "outputs": [
    {
     "data": {
      "text/plain": [
       "9"
      ]
     },
     "execution_count": 42,
     "metadata": {},
     "output_type": "execute_result"
    }
   ],
   "source": [
    "roman_to_arabic(\"IX\")"
   ]
  },
  {
   "cell_type": "code",
   "execution_count": 43,
   "id": "59d96f3a",
   "metadata": {
    "scrolled": true
   },
   "outputs": [
    {
     "data": {
      "text/plain": [
       "900"
      ]
     },
     "execution_count": 43,
     "metadata": {},
     "output_type": "execute_result"
    }
   ],
   "source": [
    "roman_to_arabic(\"CM\")"
   ]
  },
  {
   "cell_type": "code",
   "execution_count": 44,
   "id": "99c6672c",
   "metadata": {},
   "outputs": [
    {
     "name": "stdout",
     "output_type": "stream",
     "text": [
      "1\n"
     ]
    }
   ],
   "source": [
    "print(roman_to_arabic(\"I\"))"
   ]
  },
  {
   "cell_type": "code",
   "execution_count": 45,
   "id": "9a65b7b5",
   "metadata": {},
   "outputs": [
    {
     "data": {
      "text/plain": [
       "3999"
      ]
     },
     "execution_count": 45,
     "metadata": {},
     "output_type": "execute_result"
    }
   ],
   "source": [
    "roman_to_arabic(\"MMMCMXCIX\") # должна вывести 3999"
   ]
  },
  {
   "cell_type": "markdown",
   "id": "05099cf7",
   "metadata": {},
   "source": [
    "### 3"
   ]
  },
  {
   "cell_type": "markdown",
   "id": "1891d079",
   "metadata": {},
   "source": [
    "Представьте, что вы разрабатываете систему онлайн-тестирования. Вам нужно написать функцию, которая анализирует результаты прохождения теста пользователем и определяет, на сколько вопросов он ответил верно.\n",
    "Реализуйте функцию evaluate_test_attempt(test_data, attempt_data), которая принимает на вход два словаря test_data и attempt_data и возвращает словарь с результатом прохождения теста:\n",
    "{\n",
    "    'user_id': [ID пользователя],\n",
    "    'date': [дата прохождения],\n",
    "    'score': [количество правильных ответов]\n",
    "}\n",
    " \n",
    "Структура входных данных:\n",
    "1. test_data (словарь): \n",
    "Содержит информацию о самом тесте (название теста и вопросы, c указанием типа и правильным ответом):\n",
    "test_data = {\n",
    "    'name': 'Тест по программированию',\n",
    "    'questions': {\n",
    "        1: {'type': 'multi_input', 'correct_answers': [1, 2, 3]},\n",
    "        2: {'type': 'single_input', 'correct_answers': 1},\n",
    "        3: {'type': 'text', 'correct_answwer': 'Интерфейс программирования приложений'}\n",
    "    }\n",
    "}\n",
    " \n",
    "2. attempt_data (словарь): \n",
    "Содержит информацию о попытке прохождения теста пользователем (ID пользователя,  дата прохождения теста и ответы на вопросы):\n",
    "attempt_data = {\n",
    "    'user_id': 123,\n",
    "    'date': '2023-03-15 10:30:45',\n",
    "    'answers': {\n",
    "        1: [1, 2],\n",
    "        2: 1,\n",
    "        3: 'Интерфейс программирования приложений'\n",
    "    }\n",
    "}\n",
    " \n",
    "Логика проверки ответов:\n",
    "тип single_input: Проверить, совпадает ли номер выбранного пользователем варианта ответа с номером правильного варианта ответа.\n",
    "тип multi_input: Проверить, совпадают ли номера выбранных пользователем вариантов ответа с номерами правильных вариантов ответа.\n",
    "тип text: Проверить, совпадает ли текст ответа пользователя с текстом правильного ответа.\n",
    " \n",
    "Пример использования\n",
    " \n",
    "test_data = {\n",
    "    'name': 'Тест по программированию',\n",
    "    'questions': {\n",
    "        1: {'type': 'multi_input', 'correct_answer': [1, 2, 3]},\n",
    "        2: {'type': 'single_input', 'correct_answer': 1},\n",
    "        3: {'type': 'text', 'correct_answer': 'Интерфейс программирования приложений'}\n",
    "    }\n",
    "}\n",
    "\n",
    "attempt_data = {\n",
    "    'user_id': 123,\n",
    "    'date': '2023-03-15 10:30:45',\n",
    "    'answers': {\n",
    "        1: [1, 2],\n",
    "        2: 1,\n",
    "        3: 'Интерфейс программирования приложений'\n",
    "    }\n",
    "}\n",
    "\n",
    "evaluate_test_attempt(test_data, attempt_data)# должна вернуть {'user_id': 123, 'date': '2023-03-15 10:30:45', 'score': 2}"
   ]
  },
  {
   "cell_type": "code",
   "execution_count": 20,
   "id": "21cd7b5c",
   "metadata": {},
   "outputs": [],
   "source": [
    "def evaluate_test_attempt(test_data, attempt_data):\n",
    "    count_correct=0\n",
    "    for i in range(1,len(test_data['questions'])+1):\n",
    "        if test_data['questions'][i]['type'] == 'single_input':\n",
    "            if test_data['questions'][i]['correct_answer']==attempt_data['answers'][i]:\n",
    "                count_correct+=1\n",
    "        elif test_data['questions'][i]['type'] == 'text':\n",
    "            if test_data['questions'][i]['correct_answer']==attempt_data['answers'][i]:\n",
    "                count_correct+=1\n",
    "        elif test_data['questions'][i]['type'] == 'multi_input':\n",
    "            if test_data['questions'][i]['correct_answer']==attempt_data['answers'][i]:\n",
    "                count_correct+=1\n",
    "    result = {\n",
    "        'user_id': attempt_data['user_id'],\n",
    "        'date': attempt_data['date'],\n",
    "        'score': count_correct\n",
    "    }\n",
    "\n",
    "    return result"
   ]
  },
  {
   "cell_type": "code",
   "execution_count": 21,
   "id": "320a8c9d",
   "metadata": {},
   "outputs": [
    {
     "data": {
      "text/plain": [
       "{'user_id': 123, 'date': '2023-03-15 10:30:45', 'score': 2}"
      ]
     },
     "execution_count": 21,
     "metadata": {},
     "output_type": "execute_result"
    }
   ],
   "source": [
    "test_data = {\n",
    "    'name': 'Тест по программированию',\n",
    "    'questions': {\n",
    "        1: {'type': 'multi_input', 'correct_answer': [1, 2, 3]},\n",
    "        2: {'type': 'single_input', 'correct_answer': 1},\n",
    "        3: {'type': 'text', 'correct_answer': 'Интерфейс программирования приложений'}\n",
    "    }\n",
    "}\n",
    "\n",
    "attempt_data = {\n",
    "    'user_id': 123,\n",
    "    'date': '2023-03-15 10:30:45',\n",
    "    'answers': {\n",
    "        1: [1, 2],\n",
    "        2: 1,\n",
    "        3: 'Интерфейс программирования приложений'\n",
    "    }\n",
    "}\n",
    "\n",
    "evaluate_test_attempt(test_data, attempt_data) \n",
    "# должна вернуть {'user_id': 123, 'date': '2023-03-15 10:30:45', 'score': 2}"
   ]
  },
  {
   "cell_type": "markdown",
   "id": "a472062f",
   "metadata": {},
   "source": [
    "### 4"
   ]
  },
  {
   "cell_type": "markdown",
   "id": "048dd9ce",
   "metadata": {},
   "source": [
    "Продолжая работу над системой онлайн-тестирования, вам необходимо реализовать функцию create_rating_table, которая будет генерировать рейтинг лучших пользователей, прошедших тест.\n",
    "Входные данные:\n",
    "test_data (словарь): Информация о тесте (та же, что и в предыдущей задаче).\n",
    "attempts_data (список словарей): Список попыток прохождения теста разными пользователями. Каждый словарь в списке содержит информацию о попытке, аналогичную attempt_data из предыдущей задачи.\n",
    "Выходные данные:\n",
    "Функция должна вернуть список словарей, где каждый словарь представляет собой запись в таблице рейтинга и содержит:\n",
    "{\n",
    "  \"position\": [номер позиции в рейтинге],\n",
    "  \"user_id\": [ID пользователя],\n",
    "  \"max_score\": [лучшая попытка - максимальное кол-во баллов],\n",
    "  \"date\": [дата лучшей попытки]\n",
    "}\n",
    " \n",
    "Логика формирования рейтинга:\n",
    "Рейтинг формируется по максимальному количеству правильных ответов.\n",
    "Если у двух пользователей одинаковый max_score, выше в рейтинге тот, кто раньше получил max_score.\n",
    " \n",
    "Примечание:\n",
    "В реализации функции create_rating_table используйте функцию evaluate_test_attempt из предыдущей задачи для определения количества верных ответов в каждой попытке. Т.е. в решении должно быть две функции. Учтите, что теперь у каждого пользователя может быть несколько попыток прохождения теста, представленных отдельными словарями в attempts_data.\n",
    " \n",
    "Пример использования\n",
    " \n",
    "test_data = {\n",
    "    'name': 'Тест по программированию',\n",
    "    'questions': {\n",
    "        1: {'type': 'multi_input', 'correct_answer': [1, 2, 3]},\n",
    "        2: {'type': 'single_input', 'correct_answer': 1},\n",
    "        3: {'type': 'text', 'correct_answer': 'Интерфейс программирования приложений'}\n",
    "    }\n",
    "}\n",
    "\n",
    "attempts_data = [\n",
    "    {\n",
    "        'user_id': 123,\n",
    "        'date': '2023-03-15 10:30:45',\n",
    "        'answers': {\n",
    "            1: [2, 3],\n",
    "            2: 1,\n",
    "            3: 'Интерфейс программирования приложений'\n",
    "        }\n",
    "    },\n",
    "    {\n",
    "        'user_id': 456,\n",
    "        'date': '2023-03-16 12:00:10',\n",
    "        'answers': {\n",
    "            1: [1, 2],\n",
    "            2: 1,\n",
    "            3: 'Интерфейс программирования приложений'\n",
    "        }\n",
    "    },\n",
    "    {\n",
    "        'user_id': 123,\n",
    "        'date': '2023-03-17 15:00:04',\n",
    "        'answers': {\n",
    "            1: [1, 2, 3],\n",
    "            2: 1,\n",
    "            3: 'Интерфейс программирования приложений'\n",
    "        }\n",
    "    }\n",
    "]\n",
    "\n",
    "create_rating_table(test_data, attempts_data) # должна вернуть [{'position': 1, 'user_id': 123, 'max_score': 3, 'date': '2024-03-17 15:00:04'}, {'position': 2, 'user_id': 456, 'max_score': 2, 'date': '2024-03-16 12:00:10'}]\n",
    " "
   ]
  },
  {
   "cell_type": "code",
   "execution_count": 1,
   "id": "0dd90678",
   "metadata": {},
   "outputs": [],
   "source": [
    "def evaluate_test_attempt(test_data, attempt_data):\n",
    "    count_correct=0\n",
    "    for i in range(1,len(test_data['questions'])+1):\n",
    "        if test_data['questions'][i]['type'] == 'single_input':\n",
    "            if test_data['questions'][i]['correct_answer']==attempt_data['answers'][i]:\n",
    "                count_correct+=1\n",
    "        elif test_data['questions'][i]['type'] == 'text':\n",
    "            if test_data['questions'][i]['correct_answer']==attempt_data['answers'][i]:\n",
    "                count_correct+=1\n",
    "        elif test_data['questions'][i]['type'] == 'multi_input':\n",
    "            if test_data['questions'][i]['correct_answer']==attempt_data['answers'][i]:\n",
    "                count_correct+=1\n",
    "    result = {\n",
    "        'user_id': attempt_data['user_id'],\n",
    "        'date': attempt_data['date'],\n",
    "        'score': count_correct\n",
    "    }\n",
    "\n",
    "    return result    "
   ]
  },
  {
   "cell_type": "code",
   "execution_count": 26,
   "id": "025ab37f",
   "metadata": {},
   "outputs": [
    {
     "data": {
      "text/plain": [
       "{'user_id': 456, 'max_score': 2, 'date': '2023-03-16 12:00:10', 'position': 2}"
      ]
     },
     "execution_count": 26,
     "metadata": {},
     "output_type": "execute_result"
    }
   ],
   "source": [
    "def create_rating_table(test_data, attempt_data):\n",
    "    best_scores={}\n",
    "    for attemp in attempt_data:\n",
    "        res=evaluate_test_attempt(test_data,attemp)\n",
    "        user_id = res['user_id']\n",
    "        date = res['date']\n",
    "        score=res['score']\n",
    "        if user_id not in best_scores or score > best_scores[user_id]['max_score'] or \\\n",
    "           (score == best_scores[user_id]['max_score'] and date < best_scores[user_id]['date']):\n",
    "            best_scores[user_id] = {'max_score': score, 'date': date}\n",
    "    rating_list = [\n",
    "        {\n",
    "            'user_id': user_id,\n",
    "            'max_score': info['max_score'],\n",
    "            'date': info['date']\n",
    "        }\n",
    "            for user_id, info in best_scores.items()]\n",
    "    rating_list.sort(key=lambda x: (-x['max_score'], x['date']))\n",
    "    for i, entry in enumerate(rating_list, start=1):\n",
    "            entry['position'] = i    \n",
    "    return entry\n",
    "create_rating_table(test_data, attempts_data) "
   ]
  },
  {
   "cell_type": "code",
   "execution_count": 7,
   "id": "539ad1e7",
   "metadata": {},
   "outputs": [],
   "source": [
    "test_data = { 'name': 'Тест по программированию', 'questions': { 1: {'type': 'multi_input', 'correct_answer': [1, 2, 3]}, 2: {'type': 'single_input', 'correct_answer': 1}, 3: {'type': 'text', 'correct_answer': 'Интерфейс программирования приложений'} } }\n",
    "\n",
    "attempts_data = [ { 'user_id': 123, 'date': '2023-03-15 10:30:45', 'answers': { 1: [2, 3], 2: 1, 3: 'Интерфейс программирования приложений' } }, { 'user_id': 456, 'date': '2023-03-16 12:00:10', 'answers': { 1: [1, 2], 2: 1, 3: 'Интерфейс программирования приложений' } }, { 'user_id': 123, 'date': '2023-03-17 15:00:04', 'answers': { 1: [1, 2, 3], 2: 1, 3: 'Интерфейс программирования приложений' } } ]\n",
    "\n"
   ]
  },
  {
   "cell_type": "code",
   "execution_count": 10,
   "id": "5213c0ed",
   "metadata": {},
   "outputs": [
    {
     "name": "stdout",
     "output_type": "stream",
     "text": [
      "{1: [2, 3], 2: 1, 3: 'Интерфейс программирования приложений'}\n",
      "{1: [1, 2], 2: 1, 3: 'Интерфейс программирования приложений'}\n",
      "{1: [1, 2, 3], 2: 1, 3: 'Интерфейс программирования приложений'}\n"
     ]
    }
   ],
   "source": []
  },
  {
   "cell_type": "code",
   "execution_count": 31,
   "id": "0d48ec46",
   "metadata": {},
   "outputs": [
    {
     "data": {
      "text/plain": [
       "[{'position': 1,\n",
       "  'user_id': 123,\n",
       "  'max_score': 3,\n",
       "  'date': '2023-03-17 15:00:04'},\n",
       " {'position': 2,\n",
       "  'user_id': 456,\n",
       "  'max_score': 2,\n",
       "  'date': '2023-03-16 12:00:10'}]"
      ]
     },
     "execution_count": 31,
     "metadata": {},
     "output_type": "execute_result"
    }
   ],
   "source": [
    "def evaluate_test_attempt(test_data, attempt_data):\n",
    "    correct_answers_count = 0\n",
    "    questions = test_data['questions']\n",
    "    user_answers = attempt_data['answers']\n",
    "\n",
    "    for question_id, question_info in questions.items():\n",
    "        question_type = question_info['type']\n",
    "        correct_answer = question_info.get('correct_answer') or question_info.get('correct_answers')\n",
    "        user_answer = user_answers.get(question_id)\n",
    "\n",
    "        if user_answer is None:\n",
    "            continue\n",
    "\n",
    "        if question_type == 'single_input':\n",
    "            if user_answer == correct_answer:\n",
    "                correct_answers_count += 1\n",
    "        elif question_type == 'multi_input':\n",
    "            if sorted(user_answer) == sorted(correct_answer):\n",
    "                correct_answers_count += 1\n",
    "        elif question_type == 'text':\n",
    "            if user_answer.strip() == correct_answer.strip():\n",
    "                correct_answers_count += 1\n",
    "\n",
    "    return {\n",
    "        'user_id': attempt_data['user_id'],\n",
    "        'date': attempt_data['date'],\n",
    "        'score': correct_answers_count\n",
    "    }\n",
    "\n",
    "def create_rating_table(test_data, attempts_data):\n",
    "    best_scores = {}\n",
    "\n",
    "    for attempt in attempts_data:\n",
    "        result = evaluate_test_attempt(test_data, attempt)\n",
    "        user_id = result['user_id']\n",
    "        score = result['score']\n",
    "        date = result['date']\n",
    "\n",
    "        if user_id not in best_scores or score > best_scores[user_id]['max_score'] or \\\n",
    "           (score == best_scores[user_id]['max_score'] and date < best_scores[user_id]['date']):\n",
    "            best_scores[user_id] = {'max_score': score, 'date': date}\n",
    "\n",
    "    rating_list = [\n",
    "        {\n",
    "            'user_id': user_id,\n",
    "            'max_score': info['max_score'],\n",
    "            'date': info['date']\n",
    "        }\n",
    "        for user_id, info in best_scores.items()\n",
    "    ]\n",
    "\n",
    "    rating_list.sort(key=lambda x: (-x['max_score'], x['date']))\n",
    "\n",
    "    result = []\n",
    "    for i, entry in enumerate(rating_list, start=1):\n",
    "        new_entry = {\n",
    "            'position': i,\n",
    "            'user_id': entry['user_id'],\n",
    "            'max_score': entry['max_score'],\n",
    "            'date': entry['date']\n",
    "        }\n",
    "        result.append(new_entry)\n",
    "\n",
    "    return result\n",
    "\n",
    "create_rating_table(test_data, attempts_data) "
   ]
  },
  {
   "cell_type": "code",
   "execution_count": null,
   "id": "56f78cf8",
   "metadata": {},
   "outputs": [],
   "source": []
  },
  {
   "cell_type": "code",
   "execution_count": null,
   "id": "7edb0c9b",
   "metadata": {},
   "outputs": [],
   "source": []
  },
  {
   "cell_type": "code",
   "execution_count": null,
   "id": "02536d70",
   "metadata": {},
   "outputs": [],
   "source": []
  },
  {
   "cell_type": "code",
   "execution_count": null,
   "id": "70c8d7ed",
   "metadata": {},
   "outputs": [],
   "source": []
  },
  {
   "cell_type": "code",
   "execution_count": null,
   "id": "2a50cbd9",
   "metadata": {},
   "outputs": [],
   "source": []
  },
  {
   "cell_type": "code",
   "execution_count": null,
   "id": "e030a2b2",
   "metadata": {},
   "outputs": [],
   "source": []
  },
  {
   "cell_type": "code",
   "execution_count": null,
   "id": "d0845c01",
   "metadata": {},
   "outputs": [],
   "source": []
  },
  {
   "cell_type": "code",
   "execution_count": null,
   "id": "a5123774",
   "metadata": {},
   "outputs": [],
   "source": []
  }
 ],
 "metadata": {
  "kernelspec": {
   "display_name": "Python 3 (ipykernel)",
   "language": "python",
   "name": "python3"
  },
  "language_info": {
   "codemirror_mode": {
    "name": "ipython",
    "version": 3
   },
   "file_extension": ".py",
   "mimetype": "text/x-python",
   "name": "python",
   "nbconvert_exporter": "python",
   "pygments_lexer": "ipython3",
   "version": "3.10.9"
  }
 },
 "nbformat": 4,
 "nbformat_minor": 5
}
