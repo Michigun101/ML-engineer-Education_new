{
 "cells": [
  {
   "cell_type": "markdown",
   "id": "7d59194d",
   "metadata": {},
   "source": [
    "# Обычный уровень"
   ]
  },
  {
   "cell_type": "markdown",
   "id": "4598f6df",
   "metadata": {},
   "source": [
    "### 1"
   ]
  },
  {
   "cell_type": "code",
   "execution_count": 15,
   "id": "ca1f3cfa",
   "metadata": {},
   "outputs": [],
   "source": [
    "import requests\n",
    "\n",
    "def get_exchange_rate(base_currency, target_currency):\n",
    "    base_currency = base_currency.lower()\n",
    "    target_currency = target_currency.lower()\n",
    "    url = f\"https://cdn.jsdelivr.net/npm/@fawazahmed0/currency-api@latest/v1/currencies/{base_currency}.json\"\n",
    "    \n",
    "    try:\n",
    "        response = requests.get(url)\n",
    "        response.raise_for_status()  # проверка на успешность запроса\n",
    "        data = response.json()\n",
    "        \n",
    "        if target_currency in data[base_currency]:\n",
    "            return data[base_currency][target_currency]\n",
    "        else:\n",
    "            raise ValueError(f\"Валюта {target_currency} не найдена в данных API\")\n",
    "    except requests.exceptions.RequestException as e:\n",
    "        print(f\"Ошибка при запросе курса обмена: {e}\")\n",
    "        return None\n",
    "    \n",
    "def convert_currency(base_currency, target_currency, amount):\n",
    "    exchange_rate = get_exchange_rate(base_currency,target_currency)\n",
    "    if exchange_rate is None:\n",
    "        raise ValueError(f\"Невозможно получить курс обмена из {base_currency} в {target_currency}\")\n",
    "    convert_amount = amount*exchange_rate\n",
    "    return round(convert_amount,2)"
   ]
  },
  {
   "cell_type": "code",
   "execution_count": 16,
   "id": "e582e0d5",
   "metadata": {},
   "outputs": [
    {
     "name": "stdout",
     "output_type": "stream",
     "text": [
      "Текущий курс USD к eur: 0.92743523\n",
      "20 USD равно 18.55 eur\n"
     ]
    }
   ],
   "source": [
    "base_currency = \"USD\"  # Валюта, из которой нужно конвертировать\n",
    "target_currency = \"eur\"  # Валюта, в которую нужно конвертировать\n",
    "exchange_rate = get_exchange_rate(base_currency, target_currency)\n",
    "\n",
    "print(f\"Текущий курс {base_currency} к {target_currency}: {exchange_rate}\")\n",
    "# Вывод: Текущий курс USD к EUR: 0.9189\n",
    "\n",
    "amount = 20 # Вводим кол-во базовой валюты, в данном примере - 20 USD\n",
    "converted_amount = convert_currency(base_currency, target_currency, amount)\n",
    "\n",
    "print(f\"{amount} {base_currency} равно {converted_amount} {target_currency}\")\n",
    "# 20 USD равно 18.38 EUR"
   ]
  },
  {
   "cell_type": "code",
   "execution_count": 14,
   "id": "a51eeada",
   "metadata": {},
   "outputs": [
    {
     "name": "stdout",
     "output_type": "stream",
     "text": [
      "Текущий курс USD к eur: 0.92743523\n"
     ]
    }
   ],
   "source": [
    "print(f\"Текущий курс {base_currency} к {target_currency}: {exchange_rate}\")\n",
    "# Вывод: Текущий курс USD к EUR: 0.9189"
   ]
  },
  {
   "cell_type": "markdown",
   "id": "db6b2f96",
   "metadata": {},
   "source": [
    "### 2 "
   ]
  },
  {
   "cell_type": "code",
   "execution_count": 21,
   "id": "69281a67",
   "metadata": {},
   "outputs": [],
   "source": [
    "response = process_user_data()"
   ]
  },
  {
   "cell_type": "code",
   "execution_count": 20,
   "id": "790ad292",
   "metadata": {},
   "outputs": [],
   "source": [
    "import requests\n",
    "\n",
    "def process_user_data():\n",
    "    base_url = \"https://jsonplaceholder.typicode.com\"\n",
    "    webhook_url = 'https://webhook.site/a736cf89-cc35-4527-bd74-e0ab2b0067b2'\n",
    "\n",
    "    # Получаем данные о пользователях\n",
    "    users_response = requests.get(f\"{base_url}/users\")\n",
    "    users_response.raise_for_status()\n",
    "    users = users_response.json()\n",
    "\n",
    "    # Получаем все посты\n",
    "    posts_response = requests.get(f\"{base_url}/posts\")\n",
    "    posts_response.raise_for_status()\n",
    "    posts = posts_response.json()\n",
    "\n",
    "    # Получаем все комментарии\n",
    "    comments_response = requests.get(f\"{base_url}/comments\")\n",
    "    comments_response.raise_for_status()\n",
    "    comments = comments_response.json()\n",
    "\n",
    "    # Если данные пустые, выведем сообщение для диагностики\n",
    "    if not users or not posts or not comments:\n",
    "        print(\"Ошибка: один или несколько запросов вернули пустые данные.\")\n",
    "        return None\n",
    "\n",
    "    # Подсчет количества постов и комментариев для каждого пользователя\n",
    "    statistics = []\n",
    "    for user in users:\n",
    "        user_id = user['id']\n",
    "        username = user['username']\n",
    "        email = user['email']\n",
    "\n",
    "        # Подсчет постов пользователя\n",
    "        user_posts = [post for post in posts if post['userId'] == user_id]\n",
    "        post_count = len(user_posts)\n",
    "\n",
    "        # Подсчет комментариев пользователя\n",
    "        user_comments = [comment for comment in comments if comment['email'] == email]\n",
    "        comment_count = len(user_comments)\n",
    "\n",
    "        # Проверка для отладки\n",
    "\n",
    "        # Добавляем данные в итоговую статистику\n",
    "        statistics.append({\n",
    "            \"id\": user_id,\n",
    "            \"username\": username,\n",
    "            \"email\": email,\n",
    "            \"posts\": post_count,\n",
    "            \"comments\": comment_count\n",
    "        })\n",
    "\n",
    "    # Подготовка данных для отправки на вебхук\n",
    "    payload = {\"statistics\": statistics}\n",
    "\n",
    "    # Отправка POST-запроса на вебхук с JSON данными\n",
    "    response = requests.post(webhook_url, json=payload)\n",
    "    response.raise_for_status()  # Проверка на успешную отправку\n",
    "\n",
    "    return response  # Возвращаем объект ответа запроса\n"
   ]
  },
  {
   "cell_type": "markdown",
   "id": "77fd4d87",
   "metadata": {},
   "source": [
    "# Продвинутый уровень "
   ]
  },
  {
   "cell_type": "markdown",
   "id": "339539ba",
   "metadata": {},
   "source": [
    "### 1"
   ]
  },
  {
   "cell_type": "code",
   "execution_count": 23,
   "id": "e1be3771",
   "metadata": {},
   "outputs": [],
   "source": [
    "import time\n",
    "\n",
    "def time_decorator(func):\n",
    "    def wrapper():\n",
    "        start_time = time.time()\n",
    "        result = func()\n",
    "        end_time = time.time()\n",
    "        \n",
    "        elapsed_time = round(end_time - start_time)\n",
    "        print(elapsed_time)\n",
    "        return result \n",
    "    return wrapper\n"
   ]
  },
  {
   "cell_type": "code",
   "execution_count": 25,
   "id": "4c8a8233",
   "metadata": {},
   "outputs": [
    {
     "name": "stdout",
     "output_type": "stream",
     "text": [
      "function\n",
      "3\n",
      "25\n"
     ]
    }
   ],
   "source": [
    "@time_decorator\n",
    "def sleep_1_sec():\n",
    "    time.sleep(3)\n",
    "    print(\"function\")\n",
    "    return 25\n",
    "\n",
    "\n",
    "result = sleep_1_sec()\n",
    "# Выведет\n",
    "# function\n",
    "# 1\n",
    "\n",
    "print(result)  # Вывод: 25"
   ]
  },
  {
   "cell_type": "markdown",
   "id": "0d53f083",
   "metadata": {},
   "source": [
    "### 2"
   ]
  },
  {
   "cell_type": "code",
   "execution_count": 1,
   "id": "72047e6e",
   "metadata": {},
   "outputs": [],
   "source": [
    "import datetime\n",
    "import inspect\n",
    "def logging_decorator(logger):\n",
    "    def decortor(func):\n",
    "        def wrapper(*args,**kwargs):\n",
    "            call_args = inspect.getcallargs(func,*args,**kwargs)\n",
    "            call_time = datetime.datetime.now()\n",
    "            result = func(*args,**kwargs)\n",
    "            log = {\n",
    "                'name': func.__name__,\n",
    "                'arguments': call_args,\n",
    "                'call_time': call_time,\n",
    "                'result': result\n",
    "            }\n",
    "            logger.append(log)\n",
    "            return result\n",
    "        return wrapper\n",
    "    return decortor\n",
    "            "
   ]
  },
  {
   "cell_type": "markdown",
   "id": "d90c33a8",
   "metadata": {},
   "source": [
    "### 3"
   ]
  },
  {
   "cell_type": "code",
   "execution_count": 4,
   "id": "74977da9",
   "metadata": {},
   "outputs": [],
   "source": [
    "import time\n",
    "from functools import wraps\n",
    "\n",
    "def cache_results(func):\n",
    "    cache = {}\n",
    "    @wraps(func)\n",
    "    def wrapped(*args,**kwargs):\n",
    "        cache_key = (args, frozenset(kwargs.items()))\n",
    "        if cache_key in cache:\n",
    "            print('Результат взят из кэша')\n",
    "            return cache[cache_key]\n",
    "        else:\n",
    "            start_time = time.time()\n",
    "            result = func(*args,**kwargs)\n",
    "            end_time = time.time()\n",
    "            cache[cache_key]=result\n",
    "            elapsed_time = int(end_time-start_time)\n",
    "            print(f'Выполнено за {elapsed_time} секунды')\n",
    "            return result\n",
    "    return wrapped"
   ]
  },
  {
   "cell_type": "code",
   "execution_count": null,
   "id": "7ebc1e9c",
   "metadata": {},
   "outputs": [],
   "source": []
  },
  {
   "cell_type": "code",
   "execution_count": null,
   "id": "75ae305c",
   "metadata": {},
   "outputs": [],
   "source": []
  },
  {
   "cell_type": "code",
   "execution_count": null,
   "id": "9306c16f",
   "metadata": {},
   "outputs": [],
   "source": []
  },
  {
   "cell_type": "code",
   "execution_count": null,
   "id": "aa5f4978",
   "metadata": {},
   "outputs": [],
   "source": []
  },
  {
   "cell_type": "code",
   "execution_count": null,
   "id": "f35a87b0",
   "metadata": {},
   "outputs": [],
   "source": []
  },
  {
   "cell_type": "code",
   "execution_count": null,
   "id": "4aa655c1",
   "metadata": {},
   "outputs": [],
   "source": []
  },
  {
   "cell_type": "code",
   "execution_count": null,
   "id": "ebb420aa",
   "metadata": {},
   "outputs": [],
   "source": []
  },
  {
   "cell_type": "code",
   "execution_count": null,
   "id": "4365c12e",
   "metadata": {},
   "outputs": [],
   "source": []
  },
  {
   "cell_type": "code",
   "execution_count": null,
   "id": "c7cd55f2",
   "metadata": {},
   "outputs": [],
   "source": []
  },
  {
   "cell_type": "code",
   "execution_count": null,
   "id": "9aa33b82",
   "metadata": {},
   "outputs": [],
   "source": []
  },
  {
   "cell_type": "code",
   "execution_count": null,
   "id": "0a47ba92",
   "metadata": {},
   "outputs": [],
   "source": []
  },
  {
   "cell_type": "code",
   "execution_count": null,
   "id": "e790dd83",
   "metadata": {},
   "outputs": [],
   "source": []
  },
  {
   "cell_type": "code",
   "execution_count": null,
   "id": "3faf5f4b",
   "metadata": {},
   "outputs": [],
   "source": []
  },
  {
   "cell_type": "code",
   "execution_count": null,
   "id": "581b7185",
   "metadata": {},
   "outputs": [],
   "source": []
  },
  {
   "cell_type": "code",
   "execution_count": null,
   "id": "c0d9a3f6",
   "metadata": {},
   "outputs": [],
   "source": []
  },
  {
   "cell_type": "code",
   "execution_count": null,
   "id": "fe43ec0c",
   "metadata": {},
   "outputs": [],
   "source": []
  },
  {
   "cell_type": "code",
   "execution_count": null,
   "id": "54132243",
   "metadata": {},
   "outputs": [],
   "source": []
  },
  {
   "cell_type": "code",
   "execution_count": null,
   "id": "b0f42194",
   "metadata": {},
   "outputs": [],
   "source": []
  },
  {
   "cell_type": "code",
   "execution_count": null,
   "id": "b91b7b63",
   "metadata": {},
   "outputs": [],
   "source": []
  },
  {
   "cell_type": "code",
   "execution_count": null,
   "id": "87bc0fc8",
   "metadata": {},
   "outputs": [],
   "source": []
  },
  {
   "cell_type": "code",
   "execution_count": null,
   "id": "16e531e0",
   "metadata": {},
   "outputs": [],
   "source": []
  },
  {
   "cell_type": "code",
   "execution_count": null,
   "id": "0e3ff1b2",
   "metadata": {},
   "outputs": [],
   "source": []
  },
  {
   "cell_type": "code",
   "execution_count": null,
   "id": "c00ce9a1",
   "metadata": {},
   "outputs": [],
   "source": []
  },
  {
   "cell_type": "code",
   "execution_count": null,
   "id": "e6643450",
   "metadata": {},
   "outputs": [],
   "source": []
  },
  {
   "cell_type": "code",
   "execution_count": null,
   "id": "a31a0bf5",
   "metadata": {},
   "outputs": [],
   "source": []
  },
  {
   "cell_type": "code",
   "execution_count": null,
   "id": "bbda89e9",
   "metadata": {},
   "outputs": [],
   "source": []
  },
  {
   "cell_type": "code",
   "execution_count": null,
   "id": "32bd108b",
   "metadata": {},
   "outputs": [],
   "source": []
  },
  {
   "cell_type": "code",
   "execution_count": null,
   "id": "036b0ed1",
   "metadata": {},
   "outputs": [],
   "source": []
  },
  {
   "cell_type": "code",
   "execution_count": null,
   "id": "0c688d79",
   "metadata": {},
   "outputs": [],
   "source": []
  },
  {
   "cell_type": "code",
   "execution_count": null,
   "id": "242057e5",
   "metadata": {},
   "outputs": [],
   "source": []
  },
  {
   "cell_type": "code",
   "execution_count": null,
   "id": "3e9bc9bc",
   "metadata": {},
   "outputs": [],
   "source": []
  },
  {
   "cell_type": "code",
   "execution_count": null,
   "id": "7f5c8ed2",
   "metadata": {},
   "outputs": [],
   "source": []
  },
  {
   "cell_type": "code",
   "execution_count": null,
   "id": "444f256c",
   "metadata": {},
   "outputs": [],
   "source": []
  },
  {
   "cell_type": "code",
   "execution_count": null,
   "id": "4eab99f3",
   "metadata": {},
   "outputs": [],
   "source": []
  },
  {
   "cell_type": "code",
   "execution_count": null,
   "id": "9254e628",
   "metadata": {},
   "outputs": [],
   "source": []
  },
  {
   "cell_type": "code",
   "execution_count": null,
   "id": "697eee24",
   "metadata": {},
   "outputs": [],
   "source": []
  },
  {
   "cell_type": "code",
   "execution_count": null,
   "id": "27603dd4",
   "metadata": {},
   "outputs": [],
   "source": []
  },
  {
   "cell_type": "code",
   "execution_count": null,
   "id": "7936e132",
   "metadata": {},
   "outputs": [],
   "source": []
  },
  {
   "cell_type": "code",
   "execution_count": null,
   "id": "48b9561f",
   "metadata": {},
   "outputs": [],
   "source": []
  },
  {
   "cell_type": "code",
   "execution_count": null,
   "id": "c0445da8",
   "metadata": {},
   "outputs": [],
   "source": []
  },
  {
   "cell_type": "code",
   "execution_count": null,
   "id": "67fd08f6",
   "metadata": {},
   "outputs": [],
   "source": []
  },
  {
   "cell_type": "code",
   "execution_count": null,
   "id": "337ab7a0",
   "metadata": {},
   "outputs": [],
   "source": []
  },
  {
   "cell_type": "code",
   "execution_count": null,
   "id": "eec54537",
   "metadata": {},
   "outputs": [],
   "source": []
  },
  {
   "cell_type": "code",
   "execution_count": null,
   "id": "363c757c",
   "metadata": {},
   "outputs": [],
   "source": []
  },
  {
   "cell_type": "code",
   "execution_count": null,
   "id": "498820f8",
   "metadata": {},
   "outputs": [],
   "source": []
  },
  {
   "cell_type": "code",
   "execution_count": null,
   "id": "e477c879",
   "metadata": {},
   "outputs": [],
   "source": []
  },
  {
   "cell_type": "code",
   "execution_count": null,
   "id": "1331a4f4",
   "metadata": {},
   "outputs": [],
   "source": []
  },
  {
   "cell_type": "code",
   "execution_count": null,
   "id": "97164520",
   "metadata": {},
   "outputs": [],
   "source": []
  },
  {
   "cell_type": "code",
   "execution_count": null,
   "id": "90db7d42",
   "metadata": {},
   "outputs": [],
   "source": []
  },
  {
   "cell_type": "code",
   "execution_count": null,
   "id": "ba9989d0",
   "metadata": {},
   "outputs": [],
   "source": []
  },
  {
   "cell_type": "code",
   "execution_count": null,
   "id": "c3220b61",
   "metadata": {},
   "outputs": [],
   "source": []
  },
  {
   "cell_type": "code",
   "execution_count": null,
   "id": "54a3a7bb",
   "metadata": {},
   "outputs": [],
   "source": []
  },
  {
   "cell_type": "code",
   "execution_count": null,
   "id": "d6d58f1c",
   "metadata": {},
   "outputs": [],
   "source": []
  },
  {
   "cell_type": "code",
   "execution_count": null,
   "id": "21b832f2",
   "metadata": {},
   "outputs": [],
   "source": []
  },
  {
   "cell_type": "code",
   "execution_count": null,
   "id": "c5805be7",
   "metadata": {},
   "outputs": [],
   "source": []
  },
  {
   "cell_type": "code",
   "execution_count": null,
   "id": "e13fe92b",
   "metadata": {},
   "outputs": [],
   "source": []
  },
  {
   "cell_type": "code",
   "execution_count": null,
   "id": "c27683a9",
   "metadata": {},
   "outputs": [],
   "source": []
  },
  {
   "cell_type": "code",
   "execution_count": null,
   "id": "eced0c8a",
   "metadata": {},
   "outputs": [],
   "source": []
  },
  {
   "cell_type": "code",
   "execution_count": null,
   "id": "649b1491",
   "metadata": {},
   "outputs": [],
   "source": []
  },
  {
   "cell_type": "code",
   "execution_count": null,
   "id": "08a7097f",
   "metadata": {},
   "outputs": [],
   "source": []
  },
  {
   "cell_type": "code",
   "execution_count": null,
   "id": "4bd6d7da",
   "metadata": {},
   "outputs": [],
   "source": []
  },
  {
   "cell_type": "code",
   "execution_count": null,
   "id": "c2d1974b",
   "metadata": {},
   "outputs": [],
   "source": []
  },
  {
   "cell_type": "code",
   "execution_count": null,
   "id": "c2471017",
   "metadata": {},
   "outputs": [],
   "source": []
  },
  {
   "cell_type": "code",
   "execution_count": null,
   "id": "83cf5afa",
   "metadata": {},
   "outputs": [],
   "source": []
  },
  {
   "cell_type": "code",
   "execution_count": null,
   "id": "89aed396",
   "metadata": {},
   "outputs": [],
   "source": []
  },
  {
   "cell_type": "code",
   "execution_count": null,
   "id": "875e8919",
   "metadata": {},
   "outputs": [],
   "source": []
  },
  {
   "cell_type": "code",
   "execution_count": null,
   "id": "cd1b8be1",
   "metadata": {},
   "outputs": [],
   "source": []
  },
  {
   "cell_type": "code",
   "execution_count": null,
   "id": "1d2d5317",
   "metadata": {},
   "outputs": [],
   "source": []
  },
  {
   "cell_type": "code",
   "execution_count": null,
   "id": "9c7a44bb",
   "metadata": {},
   "outputs": [],
   "source": []
  },
  {
   "cell_type": "code",
   "execution_count": null,
   "id": "45ee7d21",
   "metadata": {},
   "outputs": [],
   "source": []
  },
  {
   "cell_type": "code",
   "execution_count": null,
   "id": "3eeb9153",
   "metadata": {},
   "outputs": [],
   "source": []
  },
  {
   "cell_type": "code",
   "execution_count": null,
   "id": "0e4e0e7d",
   "metadata": {},
   "outputs": [],
   "source": []
  },
  {
   "cell_type": "code",
   "execution_count": null,
   "id": "1bda0d42",
   "metadata": {},
   "outputs": [],
   "source": []
  },
  {
   "cell_type": "code",
   "execution_count": null,
   "id": "619c2681",
   "metadata": {},
   "outputs": [],
   "source": []
  },
  {
   "cell_type": "code",
   "execution_count": null,
   "id": "f00eabc5",
   "metadata": {},
   "outputs": [],
   "source": []
  },
  {
   "cell_type": "code",
   "execution_count": null,
   "id": "0219d99a",
   "metadata": {},
   "outputs": [],
   "source": []
  },
  {
   "cell_type": "code",
   "execution_count": null,
   "id": "6a1b0dcb",
   "metadata": {},
   "outputs": [],
   "source": []
  },
  {
   "cell_type": "code",
   "execution_count": null,
   "id": "944f48e6",
   "metadata": {},
   "outputs": [],
   "source": []
  }
 ],
 "metadata": {
  "kernelspec": {
   "display_name": "Python 3 (ipykernel)",
   "language": "python",
   "name": "python3"
  },
  "language_info": {
   "codemirror_mode": {
    "name": "ipython",
    "version": 3
   },
   "file_extension": ".py",
   "mimetype": "text/x-python",
   "name": "python",
   "nbconvert_exporter": "python",
   "pygments_lexer": "ipython3",
   "version": "3.10.9"
  }
 },
 "nbformat": 4,
 "nbformat_minor": 5
}
