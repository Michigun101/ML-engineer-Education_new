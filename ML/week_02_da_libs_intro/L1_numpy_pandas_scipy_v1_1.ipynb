{
 "cells": [
  {
   "cell_type": "markdown",
   "metadata": {
    "editable": true,
    "slideshow": {
     "slide_type": ""
    },
    "tags": []
   },
   "source": [
    "# Ключевые библиотеки для анализа данных:\n",
    "\n",
    "- **NumPy** - фундаментальная библиотека для научных вычислений\n",
    "  - Эффективная работа с многомерными массивами\n",
    "  - Быстрые математические операции\n",
    "  - Основа для многих других библиотек\n",
    "- **Pandas** - мощный инструмент для анализа структурированных данных\n",
    "  - Удобная работа с табличными данными\n",
    "  - Широкие возможности для обработки и очистки данных\n",
    "  - Интеграция с различными форматами файлов\n",
    "- **SciPy** - библиотека для научных и инженерных вычислений\n",
    "  - Широкий спектр математических и научных функций\n",
    "  - Интеграция с NumPy и Matplotlib\n",
    "  - Поддержка оптимизации, интегрирования, численных методов и многого другого\n"
   ]
  },
  {
   "cell_type": "markdown",
   "metadata": {},
   "source": [
    "# Установка библиотек\n",
    "\n",
    "Чтобы установить библиотеки, нужно выполнить команду:\n",
    "\n",
    "`!pip install numpy pandas scipy`\n",
    "\n",
    "Если вы установили программный пакет Anaconda, то эти библиотеки у вас уже будут доступны \"из коробки\"."
   ]
  },
  {
   "cell_type": "markdown",
   "metadata": {},
   "source": [
    "# NumPy\n",
    "\n"
   ]
  },
  {
   "cell_type": "markdown",
   "metadata": {},
   "source": [
    "## Основы NumPy\n",
    "\n",
    "[NumPy](https://numpy.org/) - это библиотека для работы с многомерными массивами и матрицами. Она позволяет работать с большими массивами данных и выполнять быстрые математические операции."
   ]
  },
  {
   "cell_type": "code",
   "execution_count": null,
   "metadata": {},
   "outputs": [],
   "source": [
    "# Импортируем библиотеку\n",
    "\n",
    "import numpy as np"
   ]
  },
  {
   "cell_type": "markdown",
   "metadata": {},
   "source": [
    "Основной объект в NumPy - это **массив** (не путайте с питоновским списком), который представляет собой коллекцию элементов одного типа. Массивы могут быть одномерными, двумерными, трехмерными и т.д. \n",
    "\n",
    "**Одномерные массивы** - это вектора или списки, двумерные - это матрицы, которые представляют собой таблицы со строками и столбцами. \n",
    "\n",
    "**Матрицы** используются в задачах линейной алгебры, машинного обучения на табличных данных и т.д. \n",
    "\n",
    "Трех- и более мерные массивы - это **тензоры**. Тензоры используются в задачах машинного обучения на неструктурированных данных, таких как изображения, звук и т.д. Для более вычислительно сложных задач на тензорах используются фреймворки для глубинного обучения, такие как *TensorFlow*, *PyTorch* и т.д.\n",
    "\n",
    "В данном туториале мы будем работать с одномерными и двумерными массивами."
   ]
  },
  {
   "cell_type": "markdown",
   "metadata": {},
   "source": [
    "### 1. Создание массивов NumPy"
   ]
  },
  {
   "cell_type": "markdown",
   "metadata": {},
   "source": [
    "(a) Создание массива из списка Python:"
   ]
  },
  {
   "cell_type": "code",
   "execution_count": null,
   "metadata": {},
   "outputs": [],
   "source": [
    "my_list = [1, 2, 3, 4, 5]\n",
    "array_from_list = np.array(my_list)\n",
    "\n",
    "array_from_list"
   ]
  },
  {
   "cell_type": "markdown",
   "metadata": {},
   "source": [
    "(b) Создание массивов с помощью встроенных функций NumPy:"
   ]
  },
  {
   "cell_type": "code",
   "execution_count": null,
   "metadata": {},
   "outputs": [],
   "source": [
    "zeros_array = np.zeros((2, 3))  # 2 строки, 3 столбца заполнены нулями\n",
    "\n",
    "zeros_array"
   ]
  },
  {
   "cell_type": "code",
   "execution_count": null,
   "metadata": {},
   "outputs": [],
   "source": [
    "ones_array  = np.ones((2, 2))   # 2x2 массив из единиц\n",
    "\n",
    "ones_array"
   ]
  },
  {
   "cell_type": "code",
   "execution_count": null,
   "metadata": {},
   "outputs": [],
   "source": [
    "range_array = np.arange(10)     # 1D массив от 0 до 9\n",
    "\n",
    "range_array"
   ]
  },
  {
   "cell_type": "code",
   "execution_count": null,
   "metadata": {},
   "outputs": [],
   "source": [
    "linspace_array = np.linspace(0, 1, 5)  # 5 равномерно распределенных точек между 0 и 1\n",
    "\n",
    "linspace_array"
   ]
  },
  {
   "cell_type": "markdown",
   "metadata": {},
   "source": [
    "### 2. Размеры и формы массивов"
   ]
  },
  {
   "cell_type": "markdown",
   "metadata": {},
   "source": [
    "Вы можете проверить размер (количество измерений) массива с помощью атрибута `.shape`:"
   ]
  },
  {
   "cell_type": "code",
   "execution_count": null,
   "metadata": {},
   "outputs": [],
   "source": [
    "zeros_array"
   ]
  },
  {
   "cell_type": "code",
   "execution_count": null,
   "metadata": {},
   "outputs": [],
   "source": [
    "zeros_array.shape"
   ]
  },
  {
   "cell_type": "code",
   "execution_count": null,
   "metadata": {},
   "outputs": [],
   "source": [
    "ones_array"
   ]
  },
  {
   "cell_type": "code",
   "execution_count": null,
   "metadata": {},
   "outputs": [],
   "source": [
    "ones_array.shape"
   ]
  },
  {
   "cell_type": "markdown",
   "metadata": {},
   "source": [
    "Вы можете также изменить форму массива:"
   ]
  },
  {
   "cell_type": "code",
   "execution_count": null,
   "metadata": {},
   "outputs": [],
   "source": [
    "range_array"
   ]
  },
  {
   "cell_type": "code",
   "execution_count": null,
   "metadata": {},
   "outputs": [],
   "source": [
    "range_array.reshape((2, 5))"
   ]
  },
  {
   "cell_type": "code",
   "execution_count": null,
   "metadata": {},
   "outputs": [],
   "source": [
    "range_array.reshape((2, 6))"
   ]
  },
  {
   "cell_type": "markdown",
   "metadata": {},
   "source": [
    "### 3.1. Индексирование и срезы"
   ]
  },
  {
   "cell_type": "markdown",
   "metadata": {},
   "source": [
    "NumPy массивы можно индексировать и нарезать так же, как и списки Python:"
   ]
  },
  {
   "cell_type": "code",
   "execution_count": null,
   "metadata": {},
   "outputs": [],
   "source": [
    "example_array = np.array([10, 20, 30, 40, 50])\n",
    "\n",
    "example_array"
   ]
  },
  {
   "cell_type": "markdown",
   "metadata": {},
   "source": [
    "Слайсинг для 1D массивов:"
   ]
  },
  {
   "cell_type": "code",
   "execution_count": null,
   "metadata": {},
   "outputs": [],
   "source": [
    "print(\"Первый элемент:\", example_array[0])"
   ]
  },
  {
   "cell_type": "code",
   "execution_count": null,
   "metadata": {},
   "outputs": [],
   "source": [
    "print(\"Последний элемент:\", example_array[-1])"
   ]
  },
  {
   "cell_type": "code",
   "execution_count": null,
   "metadata": {},
   "outputs": [],
   "source": [
    "print(\"Элементы с индекса 1 по 3:\", example_array[1:4])  # до 4-го, но не включая его"
   ]
  },
  {
   "cell_type": "markdown",
   "metadata": {},
   "source": [
    "Слайсинг для 2D массивов:"
   ]
  },
  {
   "cell_type": "code",
   "execution_count": null,
   "metadata": {},
   "outputs": [],
   "source": [
    "two_d_array = np.array([[1, 2, 3],\n",
    "                        [4, 5, 6],\n",
    "                        [7, 8, 9]])\n",
    "\n",
    "two_d_array"
   ]
  },
  {
   "cell_type": "code",
   "execution_count": null,
   "metadata": {},
   "outputs": [],
   "source": [
    "print(\"Элемент в строке 1, столбце 2 (0-based indexing):\", two_d_array[1, 2])\n"
   ]
  },
  {
   "cell_type": "code",
   "execution_count": null,
   "metadata": {},
   "outputs": [],
   "source": [
    "print(\"Вторая строка:\", two_d_array[1, :])\n"
   ]
  },
  {
   "cell_type": "code",
   "execution_count": null,
   "metadata": {},
   "outputs": [],
   "source": [
    "print(\"Второй столбец:\", two_d_array[:, 1])"
   ]
  },
  {
   "cell_type": "markdown",
   "metadata": {},
   "source": [
    "### 3.2. Работа с масками"
   ]
  },
  {
   "cell_type": "markdown",
   "metadata": {},
   "source": [
    "Булевы маски (логические маски) – это массивы типа bool (True/False), которые помогают выбирать элементы из исходного NumPy-массива, соответствующие определённому условию."
   ]
  },
  {
   "cell_type": "markdown",
   "metadata": {},
   "source": [
    "**Пример 1: Работа с 1D-массивом**  "
   ]
  },
  {
   "cell_type": "markdown",
   "metadata": {},
   "source": [
    "Создадим простой одномерный массив:"
   ]
  },
  {
   "cell_type": "code",
   "execution_count": null,
   "metadata": {},
   "outputs": [],
   "source": [
    "arr = np.array([1, 2, 5, 7, 9, 10, 3])\n",
    "arr"
   ]
  },
  {
   "cell_type": "markdown",
   "metadata": {},
   "source": [
    "1. Создаём маску, где значения > 5:"
   ]
  },
  {
   "cell_type": "code",
   "execution_count": null,
   "metadata": {},
   "outputs": [],
   "source": [
    "mask_greater_5 = arr > 5\n",
    "\n",
    "mask_greater_5"
   ]
  },
  {
   "cell_type": "markdown",
   "metadata": {},
   "source": [
    "2. Используя маску, извлекаем элементы, которые удовлетворяют условию:"
   ]
  },
  {
   "cell_type": "code",
   "execution_count": null,
   "metadata": {},
   "outputs": [],
   "source": [
    "filtered_arr = arr[mask_greater_5]  # применяем маску, чтобы оставить только элементы, подходящие под условие\n",
    "                                    # маски о том, что значения должны быть больше 5\n",
    "filtered_arr"
   ]
  },
  {
   "cell_type": "markdown",
   "metadata": {},
   "source": [
    "3. Объединение нескольких условий с помощью логических операторов & (И) и | (ИЛИ):"
   ]
  },
  {
   "cell_type": "code",
   "execution_count": null,
   "metadata": {},
   "outputs": [],
   "source": [
    "mask_between_3_and_9 = (arr >= 3) & (arr <= 9)\n",
    "\n",
    "mask_between_3_and_9"
   ]
  },
  {
   "cell_type": "code",
   "execution_count": null,
   "metadata": {},
   "outputs": [],
   "source": [
    "arr[mask_between_3_and_9]  # Элементы массива в диапазоне [3, 9]"
   ]
  },
  {
   "cell_type": "markdown",
   "metadata": {},
   "source": [
    "4. Изменение элементов массива, используя маску."
   ]
  },
  {
   "cell_type": "markdown",
   "metadata": {},
   "source": [
    "Заменим все элементы в диапазоне [3, 9] на 0:"
   ]
  },
  {
   "cell_type": "code",
   "execution_count": null,
   "metadata": {},
   "outputs": [],
   "source": [
    "arr[mask_between_3_and_9] = 0\n",
    "arr"
   ]
  },
  {
   "cell_type": "markdown",
   "metadata": {},
   "source": [
    "**Пример 2: Работа с 2D-массивом**  "
   ]
  },
  {
   "cell_type": "markdown",
   "metadata": {},
   "source": [
    "Создадим двумерный массив (матрицу):"
   ]
  },
  {
   "cell_type": "code",
   "execution_count": null,
   "metadata": {},
   "outputs": [],
   "source": [
    "matrix = np.array([[1, 2, 3],\n",
    "                   [4, 5, 6],\n",
    "                   [7, 8, 9]])\n",
    "\n",
    "matrix"
   ]
  },
  {
   "cell_type": "markdown",
   "metadata": {},
   "source": [
    "1. Создадим маску для элементов больше 4:"
   ]
  },
  {
   "cell_type": "code",
   "execution_count": null,
   "metadata": {},
   "outputs": [],
   "source": [
    "mask_2d = matrix > 4\n",
    "\n",
    "mask_2d"
   ]
  },
  {
   "cell_type": "markdown",
   "metadata": {},
   "source": [
    "2. Извлечение всех элементов, которые больше 4:"
   ]
  },
  {
   "cell_type": "code",
   "execution_count": null,
   "metadata": {},
   "outputs": [],
   "source": [
    "elements_greater_4 = matrix[mask_2d]\n",
    "\n",
    "elements_greater_4  # вот они слева направо"
   ]
  },
  {
   "cell_type": "markdown",
   "metadata": {},
   "source": [
    "3. Замена всех значений, которые больше 4, на 99:"
   ]
  },
  {
   "cell_type": "code",
   "execution_count": null,
   "metadata": {},
   "outputs": [],
   "source": [
    "matrix[mask_2d] = 99\n",
    "\n",
    "print(matrix)"
   ]
  },
  {
   "cell_type": "markdown",
   "metadata": {},
   "source": [
    "### 4. Базовые операции\n",
    "\n",
    "Создадим два массива одинаковой длины `a` и `b` и один массив другой длины `c`:"
   ]
  },
  {
   "cell_type": "code",
   "execution_count": null,
   "metadata": {},
   "outputs": [],
   "source": [
    "a = np.array([1, 2, 3, 4])\n",
    "b = np.array([10, 20, 30, 40])\n",
    "\n",
    "c = np.array([100, 200])"
   ]
  },
  {
   "cell_type": "markdown",
   "metadata": {},
   "source": [
    "Поэлементное сложение:"
   ]
  },
  {
   "cell_type": "code",
   "execution_count": null,
   "metadata": {},
   "outputs": [],
   "source": [
    "a + b"
   ]
  },
  {
   "cell_type": "markdown",
   "metadata": {},
   "source": [
    "Поэлементное умножение:"
   ]
  },
  {
   "cell_type": "code",
   "execution_count": null,
   "metadata": {},
   "outputs": [],
   "source": [
    "a * b"
   ]
  },
  {
   "cell_type": "markdown",
   "metadata": {},
   "source": [
    "Попробуем сложить и умножить массивы разной длины:"
   ]
  },
  {
   "cell_type": "code",
   "execution_count": null,
   "metadata": {},
   "outputs": [],
   "source": [
    "a + c"
   ]
  },
  {
   "cell_type": "code",
   "execution_count": null,
   "metadata": {},
   "outputs": [],
   "source": [
    "b * c"
   ]
  },
  {
   "cell_type": "markdown",
   "metadata": {},
   "source": [
    "Статистические операции:"
   ]
  },
  {
   "cell_type": "code",
   "execution_count": null,
   "metadata": {},
   "outputs": [],
   "source": [
    "print(\"Среднее арифметическое a =\", a.mean())"
   ]
  },
  {
   "cell_type": "code",
   "execution_count": null,
   "metadata": {},
   "outputs": [],
   "source": [
    "print(\"Сумма b =\", b.sum())"
   ]
  },
  {
   "cell_type": "code",
   "execution_count": null,
   "metadata": {},
   "outputs": [],
   "source": [
    "print(\"Максимум b =\", b.max())"
   ]
  },
  {
   "cell_type": "markdown",
   "metadata": {},
   "source": [
    "Умножение на скаляр:"
   ]
  },
  {
   "cell_type": "code",
   "execution_count": null,
   "metadata": {},
   "outputs": [],
   "source": [
    "a"
   ]
  },
  {
   "cell_type": "code",
   "execution_count": null,
   "metadata": {},
   "outputs": [],
   "source": [
    "a * 2"
   ]
  },
  {
   "cell_type": "markdown",
   "metadata": {},
   "source": [
    "Возведение в степень:"
   ]
  },
  {
   "cell_type": "code",
   "execution_count": null,
   "metadata": {},
   "outputs": [],
   "source": [
    "a ** 2"
   ]
  },
  {
   "cell_type": "markdown",
   "metadata": {},
   "source": [
    "Скалярное произведение:"
   ]
  },
  {
   "cell_type": "code",
   "execution_count": null,
   "metadata": {},
   "outputs": [],
   "source": [
    "np.dot(a, b)"
   ]
  },
  {
   "cell_type": "markdown",
   "metadata": {},
   "source": [
    "Естественно, эта функция выдаст ошибку, если размеры массивов не подходят для взятие скалярного произведения:"
   ]
  },
  {
   "cell_type": "code",
   "execution_count": null,
   "metadata": {},
   "outputs": [],
   "source": [
    "np.dot(a, c)"
   ]
  },
  {
   "cell_type": "markdown",
   "metadata": {},
   "source": [
    "Транспонирование:"
   ]
  },
  {
   "cell_type": "code",
   "execution_count": null,
   "metadata": {},
   "outputs": [],
   "source": [
    "matrix"
   ]
  },
  {
   "cell_type": "code",
   "execution_count": null,
   "metadata": {},
   "outputs": [],
   "source": [
    "matrix.T"
   ]
  },
  {
   "cell_type": "markdown",
   "metadata": {},
   "source": [
    "Кстати, транспонирование бессмысленно в терминах одномерных массивов numpy:"
   ]
  },
  {
   "cell_type": "code",
   "execution_count": null,
   "metadata": {},
   "outputs": [],
   "source": [
    "a"
   ]
  },
  {
   "cell_type": "code",
   "execution_count": null,
   "metadata": {},
   "outputs": [],
   "source": [
    "a.T"
   ]
  },
  {
   "cell_type": "markdown",
   "metadata": {},
   "source": [
    "## Генерация случайных величин в NumPy"
   ]
  },
  {
   "cell_type": "markdown",
   "metadata": {},
   "source": [
    "NumPy, как и другие программные библиотеки, использует алгоритмические методы для генерации псевдослучайных чисел. Хотя эти числа не являются истинно случайными (они вычисляются по математическим формулам), их статистические свойства достаточны для большинства практических задач анализа данных и моделирования. Модуль `np.random` предоставляет различные функции для генерации таких псевдослучайных чисел."
   ]
  },
  {
   "cell_type": "markdown",
   "metadata": {},
   "source": [
    "Функция `np.random.seed()` позволяет получать воспроизводимые последовательности случайных чисел. Она устанавливает начальное значение (seed) для генератора псевдослучайных чисел. При использовании одного и того же seed, генератор будет выдавать одинаковую последовательность чисел. В качестве seed можно использовать любое целое число."
   ]
  },
  {
   "cell_type": "code",
   "execution_count": null,
   "metadata": {},
   "outputs": [],
   "source": [
    "np.random.seed(42) # Зафиксируем seed\n",
    "print(np.random.rand()) # первое случайное число\n",
    "print(np.random.rand()) # последующие случайные числа будут отличаться от предыдущих"
   ]
  },
  {
   "cell_type": "code",
   "execution_count": null,
   "metadata": {},
   "outputs": [],
   "source": [
    "print(np.random.rand())"
   ]
  },
  {
   "cell_type": "markdown",
   "metadata": {},
   "source": [
    "Если мы обновим seed, то наша случайная последовательность будет генерироваться сначала"
   ]
  },
  {
   "cell_type": "code",
   "execution_count": null,
   "metadata": {},
   "outputs": [],
   "source": [
    "np.random.seed(42) \n",
    "print(np.random.rand())\n",
    "print(np.random.rand())"
   ]
  },
  {
   "cell_type": "markdown",
   "metadata": {},
   "source": [
    "### Равномерное распределение"
   ]
  },
  {
   "cell_type": "markdown",
   "metadata": {},
   "source": [
    "Функция `np.random.rand()` генерирует случайные числа из равномерного распределения в диапазоне от 0 до 1."
   ]
  },
  {
   "cell_type": "code",
   "execution_count": null,
   "metadata": {},
   "outputs": [],
   "source": [
    "np.random.rand() # генерирует одно случайное число"
   ]
  },
  {
   "cell_type": "code",
   "execution_count": null,
   "metadata": {},
   "outputs": [],
   "source": [
    "np.random.rand(10) # генерируем 10 случайных чисел"
   ]
  },
  {
   "cell_type": "markdown",
   "metadata": {},
   "source": [
    "Двумерный массив размера [5,2]"
   ]
  },
  {
   "cell_type": "code",
   "execution_count": null,
   "metadata": {},
   "outputs": [],
   "source": [
    "np.random.rand(5,2) "
   ]
  },
  {
   "cell_type": "markdown",
   "metadata": {},
   "source": [
    "Для генерации случайных чисел из равномерного распределения на произвольном интервале [a, b] используется функция `np.random.uniform(a, b, size=None)`."
   ]
  },
  {
   "cell_type": "code",
   "execution_count": null,
   "metadata": {},
   "outputs": [],
   "source": [
    "np.random.uniform(5,10, size=[6, 3]) # генерирует двумерный массив размера [6,3] с числами из равномерного\n",
    "                                     # распределения на интервале [5,10]"
   ]
  },
  {
   "cell_type": "markdown",
   "metadata": {},
   "source": [
    "### Построение графиков\n",
    "\n",
    "Одна из самых базовых библиотек для визуализации данных - `matplotlib`."
   ]
  },
  {
   "cell_type": "code",
   "execution_count": null,
   "metadata": {},
   "outputs": [],
   "source": [
    "import matplotlib.pyplot as plt  # модуль построения графиков из нее принято импортировать под именем plt\n",
    "\n",
    "# Генерируем 10000 случайных чисел из равномерного распределения\n",
    "uniform_data = np.random.rand(10000)\n",
    "uniform_data"
   ]
  },
  {
   "cell_type": "code",
   "execution_count": null,
   "metadata": {},
   "outputs": [],
   "source": [
    "plt.hist(uniform_data, bins=30, edgecolor='black')  # функции графиков в matplotlib возвращают массив"
   ]
  },
  {
   "cell_type": "code",
   "execution_count": null,
   "metadata": {
    "scrolled": true
   },
   "outputs": [],
   "source": [
    "_ = plt.hist(uniform_data, bins=30, edgecolor='black') # можем записать массив в переменную, чтобы не мешал в\n",
    "                                                       # выводе ячейки"
   ]
  },
  {
   "cell_type": "code",
   "execution_count": null,
   "metadata": {},
   "outputs": [],
   "source": []
  },
  {
   "cell_type": "markdown",
   "metadata": {},
   "source": [
    "### Нормальное распределение"
   ]
  },
  {
   "cell_type": "markdown",
   "metadata": {},
   "source": [
    "`np.random.randn()` - генерирует случайные числа из нормального распределения с параметрами (0, 1)."
   ]
  },
  {
   "cell_type": "code",
   "execution_count": null,
   "metadata": {},
   "outputs": [],
   "source": [
    "np.random.randn()  # генерируем одно число"
   ]
  },
  {
   "cell_type": "code",
   "execution_count": null,
   "metadata": {},
   "outputs": [],
   "source": [
    "np.random.randn(2,3)  # генерируем массив нужного размера"
   ]
  },
  {
   "cell_type": "markdown",
   "metadata": {},
   "source": [
    "Посмотрим как это выглядит на графике"
   ]
  },
  {
   "cell_type": "code",
   "execution_count": null,
   "metadata": {},
   "outputs": [],
   "source": [
    "normal_data = np.random.randn(10000)\n",
    "_ = plt.hist(normal_data, bins=30, edgecolor='black')"
   ]
  },
  {
   "cell_type": "markdown",
   "metadata": {},
   "source": [
    "Для нормального распределения с параметрами (mu, sigma) используется функция `np.random.normal(mu, sigma, size=None)`."
   ]
  },
  {
   "cell_type": "code",
   "execution_count": null,
   "metadata": {},
   "outputs": [],
   "source": [
    "np.random.normal(2, 5, size=[6, 3]) # генерирует двумерный массив размера [6,3] с числами из нормального\n",
    "                                    # распределения с параметрами (2, 5)"
   ]
  },
  {
   "cell_type": "markdown",
   "metadata": {},
   "source": [
    "И построим график уже для распределения с параметрами"
   ]
  },
  {
   "cell_type": "code",
   "execution_count": null,
   "metadata": {},
   "outputs": [],
   "source": [
    "normal_data_param = np.random.normal(2, 5, size=[10000])\n",
    "_ = plt.hist(normal_data_param, bins=30, edgecolor='black')"
   ]
  },
  {
   "cell_type": "markdown",
   "metadata": {},
   "source": [
    "### Другие распределения"
   ]
  },
  {
   "cell_type": "markdown",
   "metadata": {},
   "source": [
    "Биномиальное распределение с параметрами `n=10` и `p=0.5`:"
   ]
  },
  {
   "cell_type": "code",
   "execution_count": 89,
   "metadata": {},
   "outputs": [
    {
     "data": {
      "text/plain": [
       "array([4, 2, 5, 8, 6, 1, 3, 5, 7, 5, 8, 7, 5, 3, 5])"
      ]
     },
     "execution_count": 89,
     "metadata": {},
     "output_type": "execute_result"
    }
   ],
   "source": [
    "np.random.binomial(n=10, p=0.5, size=15) "
   ]
  },
  {
   "cell_type": "code",
   "execution_count": 90,
   "metadata": {},
   "outputs": [
    {
     "data": {
      "image/png": "[encoded data removed]",
      "text/plain": [
       "<Figure size 640x480 with 1 Axes>"
      ]
     },
     "metadata": {},
     "output_type": "display_data"
    }
   ],
   "source": [
    "binomial_data = np.random.binomial(n=10, p=0.5, size=[10000])\n",
    "_ = plt.hist(binomial_data, bins=10, edgecolor='black')"
   ]
  },
  {
   "cell_type": "markdown",
   "metadata": {},
   "source": [
    "Распределение Пуассона с параметром `lam=10`:"
   ]
  },
  {
   "cell_type": "code",
   "execution_count": 91,
   "metadata": {},
   "outputs": [
    {
     "data": {
      "text/plain": [
       "array([ 8, 17, 12,  5,  6,  6, 13, 15,  6,  7])"
      ]
     },
     "execution_count": 91,
     "metadata": {},
     "output_type": "execute_result"
    }
   ],
   "source": [
    "np.random.poisson(lam=10, size=10 )"
   ]
  },
  {
   "cell_type": "code",
   "execution_count": 92,
   "metadata": {},
   "outputs": [
    {
     "data": {
      "image/png": "[encoded data removed]",
      "text/plain": [
       "<Figure size 640x480 with 1 Axes>"
      ]
     },
     "metadata": {},
     "output_type": "display_data"
    }
   ],
   "source": [
    "poisson_data = np.random.poisson(lam=10, size=[10000])\n",
    "_ = plt.hist(poisson_data, bins=np.unique(poisson_data), edgecolor='black')"
   ]
  },
  {
   "cell_type": "markdown",
   "metadata": {},
   "source": [
    "Экспоненциальное распределение с параметром `scale=1`. Параметр `scale` здесь - это:\n",
    "$$ scale = \\frac{1}{\\lambda} $$"
   ]
  },
  {
   "cell_type": "code",
   "execution_count": 93,
   "metadata": {},
   "outputs": [
    {
     "data": {
      "text/plain": [
       "array([0.46153724, 0.32777188, 1.71717964, 0.31189273, 0.46837723,\n",
       "       4.05387544, 1.69417497, 0.19649134, 0.02544539, 1.38062482])"
      ]
     },
     "execution_count": 93,
     "metadata": {},
     "output_type": "execute_result"
    }
   ],
   "source": [
    "np.random.exponential(scale=1, size=10) "
   ]
  },
  {
   "cell_type": "code",
   "execution_count": 94,
   "metadata": {},
   "outputs": [
    {
     "data": {
      "image/png": "[encoded data removed]",
      "text/plain": [
       "<Figure size 640x480 with 1 Axes>"
      ]
     },
     "metadata": {},
     "output_type": "display_data"
    }
   ],
   "source": [
    "exponential_data = np.random.exponential(scale=1, size=[10000])\n",
    "_ = plt.hist(exponential_data, bins=30, edgecolor='black')"
   ]
  },
  {
   "cell_type": "markdown",
   "metadata": {},
   "source": [
    "# SciPy\n",
    "\n",
    "\n"
   ]
  },
  {
   "cell_type": "markdown",
   "metadata": {},
   "source": [
    "SciPy - это библиотека для научных и инженерных вычислений. Она расширяет возможности NumPy, добавляя функции для работы с различными распределениями, оптимизации, интегрирования, численных методов и многого другого."
   ]
  },
  {
   "cell_type": "markdown",
   "metadata": {},
   "source": [
    "В данном туториале мы будем работать с распределениями. В SciPy реализовано большое количество распределений, которые можно использовать для моделирования и анализа данных. Вот некоторые из них:\n",
    "\n",
    "- `scipy.stats.norm` - нормальное распределение\n",
    "- `scipy.stats.poisson` - распределение Пуассона\n",
    "- `scipy.stats.binom` - биномиальное распределение\n",
    "- `scipy.stats.exponential` - экспоненциальное распределение\n",
    "- `scipy.stats.gamma` - гамма-распределение\n",
    "- `scipy.stats.beta` - бета-распределение\n",
    "- `scipy.stats.uniform` - равномерное распределение\n",
    "- `scipy.stats.lognorm` - логнормальное распределение\n",
    "- `scipy.stats.chi2` - хи-квадрат распределение\n",
    "- `scipy.stats.t` - распределение Стьюдента\n",
    "- `scipy.stats.f` - распределение Фишера\n",
    "- `scipy.stats.weibull_min` - распределение Вейбулла\n",
    "- `scipy.stats.loggamma` - логарифмически нормальное распределение\n",
    "- `scipy.stats.rayleigh` - распределение Рэлея\n",
    "- `scipy.stats.cauchy` - распределение Коши\n",
    "- `scipy.stats.studentized_range` - распределение Стьюдента\n",
    "\n",
    "Информация о распределениях доступна в документации SciPy: https://docs.scipy.org/doc/scipy/reference/stats.html"
   ]
  },
  {
   "cell_type": "code",
   "execution_count": 108,
   "metadata": {},
   "outputs": [],
   "source": [
    "# Импортируем библиотеку\n",
    "\n",
    "import scipy"
   ]
  },
  {
   "cell_type": "markdown",
   "metadata": {},
   "source": [
    "**Примеры распределений**\n",
    "\n",
    "Нормальное распределение с параметрами (0, 1):"
   ]
  },
  {
   "cell_type": "code",
   "execution_count": 109,
   "metadata": {},
   "outputs": [
    {
     "data": {
      "text/plain": [
       "<scipy.stats._distn_infrastructure.rv_continuous_frozen at 0x14fb13eb0>"
      ]
     },
     "execution_count": 109,
     "metadata": {},
     "output_type": "execute_result"
    }
   ],
   "source": [
    "dist1 = scipy.stats.norm(loc=0, scale=1)\n",
    "\n",
    "dist1"
   ]
  },
  {
   "cell_type": "markdown",
   "metadata": {},
   "source": [
    "Распределение Пуассона с параметром `mu=10`:"
   ]
  },
  {
   "cell_type": "code",
   "execution_count": 110,
   "metadata": {},
   "outputs": [
    {
     "data": {
      "text/plain": [
       "<scipy.stats._distn_infrastructure.rv_discrete_frozen at 0x14fb136d0>"
      ]
     },
     "execution_count": 110,
     "metadata": {},
     "output_type": "execute_result"
    }
   ],
   "source": [
    "dist2 = scipy.stats.poisson(mu=10) \n",
    "\n",
    "dist2"
   ]
  },
  {
   "cell_type": "markdown",
   "metadata": {},
   "source": [
    "Объекты распределений можно использовать для вычисления различных статистических характеристик, таких как плотность вероятности, кумулятивная функция распределения, квантили и т.д. Вот доступные методы:\n",
    "\n",
    "- `pdf(x)` - плотность вероятности в точке x\n",
    "- `cdf(x)` - кумулятивная функция распределения в точке x\n",
    "- `ppf(q)` - квантиль уровня q\n",
    "- `rvs(size=None)` - генерация случайных чисел из распределения\n",
    "- `moment(n)` - n-й момент распределения\n",
    "- `stats()` - вычисление основных статистических характеристик распределения\n",
    "- `mean()` - вычисление среднего значения\n",
    "- `var()` - вычисление дисперсии\n",
    "- `std()` - вычисление стандартного отклонения\n",
    "- `fit(data)` - оценка параметров распределения по выборке данных"
   ]
  },
  {
   "cell_type": "markdown",
   "metadata": {},
   "source": [
    "Генерация 10 случайных чисел из нормального распределения с параметрами (0, 1):"
   ]
  },
  {
   "cell_type": "code",
   "execution_count": 111,
   "metadata": {},
   "outputs": [
    {
     "data": {
      "text/plain": [
       "array([ 0.65968543,  1.68354756, -0.3902326 ,  0.35921777,  0.23321855,\n",
       "        0.33935777, -1.75274791, -0.63956732, -0.4469482 , -0.67115086])"
      ]
     },
     "execution_count": 111,
     "metadata": {},
     "output_type": "execute_result"
    }
   ],
   "source": [
    "dist1.rvs(size=10)  "
   ]
  },
  {
   "cell_type": "code",
   "execution_count": 112,
   "metadata": {},
   "outputs": [
    {
     "data": {
      "image/png": "[encoded data removed]",
      "text/plain": [
       "<Figure size 640x480 with 1 Axes>"
      ]
     },
     "metadata": {},
     "output_type": "display_data"
    }
   ],
   "source": [
    "_ = plt.hist(dist1.rvs(size=10000), bins=30, edgecolor='black')"
   ]
  },
  {
   "cell_type": "markdown",
   "metadata": {},
   "source": [
    "Плотность вероятности в точке 0:"
   ]
  },
  {
   "cell_type": "code",
   "execution_count": 113,
   "metadata": {},
   "outputs": [
    {
     "data": {
      "text/plain": [
       "0.3989422804014327"
      ]
     },
     "execution_count": 113,
     "metadata": {},
     "output_type": "execute_result"
    }
   ],
   "source": [
    "dist1.pdf(0) "
   ]
  },
  {
   "cell_type": "markdown",
   "metadata": {},
   "source": [
    "Кумулятивная функция распределения в точке 0:"
   ]
  },
  {
   "cell_type": "code",
   "execution_count": 114,
   "metadata": {},
   "outputs": [
    {
     "data": {
      "text/plain": [
       "0.5"
      ]
     },
     "execution_count": 114,
     "metadata": {},
     "output_type": "execute_result"
    }
   ],
   "source": [
    "dist1.cdf(0)"
   ]
  },
  {
   "cell_type": "markdown",
   "metadata": {},
   "source": [
    "Квантиль уровня 0.5:"
   ]
  },
  {
   "cell_type": "code",
   "execution_count": 115,
   "metadata": {},
   "outputs": [
    {
     "data": {
      "text/plain": [
       "0.0"
      ]
     },
     "execution_count": 115,
     "metadata": {},
     "output_type": "execute_result"
    }
   ],
   "source": [
    "dist1.ppf(0.5)  # "
   ]
  },
  {
   "cell_type": "markdown",
   "metadata": {},
   "source": [
    "Оценка параметров распределения по выборке данных:"
   ]
  },
  {
   "cell_type": "code",
   "execution_count": 120,
   "metadata": {},
   "outputs": [],
   "source": [
    "data = dist1.rvs(size=1000000)"
   ]
  },
  {
   "cell_type": "code",
   "execution_count": 121,
   "metadata": {},
   "outputs": [
    {
     "data": {
      "text/plain": [
       "(0.0010713929302439674, 1.0006187405807652)"
      ]
     },
     "execution_count": 121,
     "metadata": {},
     "output_type": "execute_result"
    }
   ],
   "source": [
    "scipy.stats.norm.fit(data) "
   ]
  },
  {
   "cell_type": "markdown",
   "metadata": {},
   "source": [
    "# Pandas \n",
    "\n",
    "[pandas](https://pandas.pydata.org/)  - это библиотека для анализа и обработки данных. Под \"капотом\" pandas работает с NumPy, а также часть кода написана на Cython, помимо самого Python. Тем не менее по производительности и оптимальности работы с памятью Pandas значимо проигрывает NumPy.\n",
    "\n",
    "Отличие библиотеки Pandas от NumPy заключается в том, что она добавляет новые сущности, которые существенно упрощают работу с табличными данными. В машинном обучении входные данные часто представляются в виде таблицы объектов и признаков, и pandas позволяет легко и удобно обрабатывать такие данные.\n",
    "\n",
    "Например, структура данных DataFrame - это по сути двумерная таблица, где мы можем задавать названия строк и столбцов, а также нативно выполнять многие операции, например сортировку, группировку, агрегацию, заполнение пропусков и т.д. \n",
    "\n",
    "Также Pandas позволяет строить графики и импортировать данные из различных форматов файлов и баз данных. \n",
    "\n",
    "Все это, а также множество других функций, делают Pandas одной из самых популярных библиотек для анализа данных."
   ]
  },
  {
   "cell_type": "code",
   "execution_count": 123,
   "metadata": {},
   "outputs": [],
   "source": [
    "# импортируем библиотеку\n",
    "\n",
    "import pandas as pd"
   ]
  },
  {
   "cell_type": "markdown",
   "metadata": {},
   "source": [
    "**Series** - это одномерный массив данных с индексами. Это аналог одномерного массива в NumPy, но с дополнительными возможностями, такими как индексация, сортировка, агрегация и т.д."
   ]
  },
  {
   "cell_type": "code",
   "execution_count": 124,
   "metadata": {},
   "outputs": [
    {
     "data": {
      "text/plain": [
       "0    1\n",
       "1    2\n",
       "2    3\n",
       "3    4\n",
       "4    5\n",
       "dtype: int64"
      ]
     },
     "execution_count": 124,
     "metadata": {},
     "output_type": "execute_result"
    }
   ],
   "source": [
    "# создание Series\n",
    "data = pd.Series([1, 2, 3, 4, 5])\n",
    "data"
   ]
  },
  {
   "cell_type": "markdown",
   "metadata": {},
   "source": [
    "**DataFrame** - это двумерная таблица данных с индексами строк и столбцов. По сути DataFrame - это набор Series, где каждый столбец - это отдельный Series."
   ]
  },
  {
   "cell_type": "code",
   "execution_count": 125,
   "metadata": {},
   "outputs": [
    {
     "data": {
      "text/html": [
       "<div>\n",
       "<style scoped>\n",
       "    .dataframe tbody tr th:only-of-type {\n",
       "        vertical-align: middle;\n",
       "    }\n",
       "\n",
       "    .dataframe tbody tr th {\n",
       "        vertical-align: top;\n",
       "    }\n",
       "\n",
       "    .dataframe thead th {\n",
       "        text-align: right;\n",
       "    }\n",
       "</style>\n",
       "<table border=\"1\" class=\"dataframe\">\n",
       "  <thead>\n",
       "    <tr style=\"text-align: right;\">\n",
       "      <th></th>\n",
       "      <th>A</th>\n",
       "      <th>B</th>\n",
       "    </tr>\n",
       "  </thead>\n",
       "  <tbody>\n",
       "    <tr>\n",
       "      <th>0</th>\n",
       "      <td>1</td>\n",
       "      <td>10</td>\n",
       "    </tr>\n",
       "    <tr>\n",
       "      <th>1</th>\n",
       "      <td>2</td>\n",
       "      <td>20</td>\n",
       "    </tr>\n",
       "    <tr>\n",
       "      <th>2</th>\n",
       "      <td>3</td>\n",
       "      <td>30</td>\n",
       "    </tr>\n",
       "    <tr>\n",
       "      <th>3</th>\n",
       "      <td>4</td>\n",
       "      <td>40</td>\n",
       "    </tr>\n",
       "    <tr>\n",
       "      <th>4</th>\n",
       "      <td>5</td>\n",
       "      <td>50</td>\n",
       "    </tr>\n",
       "  </tbody>\n",
       "</table>\n",
       "</div>"
      ],
      "text/plain": [
       "   A   B\n",
       "0  1  10\n",
       "1  2  20\n",
       "2  3  30\n",
       "3  4  40\n",
       "4  5  50"
      ]
     },
     "execution_count": 125,
     "metadata": {},
     "output_type": "execute_result"
    }
   ],
   "source": [
    "# создание DataFrame из словаря с названиями столбцов и списками\n",
    "\n",
    "data = pd.DataFrame({\n",
    "    'A': [1, 2, 3, 4, 5],\n",
    "    'B': [10, 20, 30, 40, 50]\n",
    "})\n",
    "\n",
    "data"
   ]
  },
  {
   "cell_type": "markdown",
   "metadata": {},
   "source": [
    "Для того, чтобы получить доступ к столбцу A, можно использовать следующий синтаксис:"
   ]
  },
  {
   "cell_type": "code",
   "execution_count": 126,
   "metadata": {},
   "outputs": [
    {
     "data": {
      "text/plain": [
       "0    1\n",
       "1    2\n",
       "2    3\n",
       "3    4\n",
       "4    5\n",
       "Name: A, dtype: int64"
      ]
     },
     "execution_count": 126,
     "metadata": {},
     "output_type": "execute_result"
    }
   ],
   "source": [
    "data['A']"
   ]
  },
  {
   "cell_type": "markdown",
   "metadata": {},
   "source": [
    "мы видим, что тип столбца A - это Series"
   ]
  },
  {
   "cell_type": "code",
   "execution_count": 127,
   "metadata": {},
   "outputs": [
    {
     "name": "stdout",
     "output_type": "stream",
     "text": [
      "Тип столбца A: <class 'pandas.core.series.Series'>\n"
     ]
    }
   ],
   "source": [
    "print('Тип столбца A:', type(data['A']))"
   ]
  },
  {
   "cell_type": "markdown",
   "metadata": {},
   "source": [
    "для того, чтобы получить доступ к строке 0, можно использовать следующий синтаксис:"
   ]
  },
  {
   "cell_type": "code",
   "execution_count": 128,
   "metadata": {},
   "outputs": [
    {
     "data": {
      "text/plain": [
       "A     1\n",
       "B    10\n",
       "Name: 0, dtype: int64"
      ]
     },
     "execution_count": 128,
     "metadata": {},
     "output_type": "execute_result"
    }
   ],
   "source": [
    "data.iloc[0]"
   ]
  },
  {
   "cell_type": "markdown",
   "metadata": {},
   "source": [
    "## Импорт данных\n",
    "\n",
    "Pandas позволяет импортировать данные из различных форматов файлов, таких как CSV, Excel, JSON, SQL и т.д."
   ]
  },
  {
   "cell_type": "code",
   "execution_count": 129,
   "metadata": {},
   "outputs": [
    {
     "data": {
      "text/html": [
       "<div>\n",
       "<style scoped>\n",
       "    .dataframe tbody tr th:only-of-type {\n",
       "        vertical-align: middle;\n",
       "    }\n",
       "\n",
       "    .dataframe tbody tr th {\n",
       "        vertical-align: top;\n",
       "    }\n",
       "\n",
       "    .dataframe thead th {\n",
       "        text-align: right;\n",
       "    }\n",
       "</style>\n",
       "<table border=\"1\" class=\"dataframe\">\n",
       "  <thead>\n",
       "    <tr style=\"text-align: right;\">\n",
       "      <th></th>\n",
       "      <th>Rank</th>\n",
       "      <th>Release Group</th>\n",
       "      <th>$Worldwide</th>\n",
       "      <th>$Domestic</th>\n",
       "      <th>Domestic %</th>\n",
       "      <th>$Foreign</th>\n",
       "      <th>Foreign %</th>\n",
       "      <th>Year</th>\n",
       "      <th>Genres</th>\n",
       "      <th>Rating</th>\n",
       "      <th>Vote_Count</th>\n",
       "      <th>Original_Language</th>\n",
       "      <th>Production_Countries</th>\n",
       "    </tr>\n",
       "  </thead>\n",
       "  <tbody>\n",
       "    <tr>\n",
       "      <th>0</th>\n",
       "      <td>1</td>\n",
       "      <td>Mission: Impossible II</td>\n",
       "      <td>546388108.0</td>\n",
       "      <td>215409889.0</td>\n",
       "      <td>39.4</td>\n",
       "      <td>330978219.0</td>\n",
       "      <td>60.6</td>\n",
       "      <td>2000</td>\n",
       "      <td>Adventure, Action, Thriller</td>\n",
       "      <td>6.126/10</td>\n",
       "      <td>6741.0</td>\n",
       "      <td>en</td>\n",
       "      <td>United States of America</td>\n",
       "    </tr>\n",
       "    <tr>\n",
       "      <th>1</th>\n",
       "      <td>2</td>\n",
       "      <td>Gladiator</td>\n",
       "      <td>460583960.0</td>\n",
       "      <td>187705427.0</td>\n",
       "      <td>40.8</td>\n",
       "      <td>272878533.0</td>\n",
       "      <td>59.2</td>\n",
       "      <td>2000</td>\n",
       "      <td>Action, Drama, Adventure</td>\n",
       "      <td>8.217/10</td>\n",
       "      <td>19032.0</td>\n",
       "      <td>en</td>\n",
       "      <td>United Kingdom, United States of America</td>\n",
       "    </tr>\n",
       "    <tr>\n",
       "      <th>2</th>\n",
       "      <td>3</td>\n",
       "      <td>Cast Away</td>\n",
       "      <td>429632142.0</td>\n",
       "      <td>233632142.0</td>\n",
       "      <td>54.4</td>\n",
       "      <td>196000000.0</td>\n",
       "      <td>45.6</td>\n",
       "      <td>2000</td>\n",
       "      <td>Adventure, Drama</td>\n",
       "      <td>7.663/10</td>\n",
       "      <td>11403.0</td>\n",
       "      <td>en</td>\n",
       "      <td>United States of America</td>\n",
       "    </tr>\n",
       "    <tr>\n",
       "      <th>3</th>\n",
       "      <td>4</td>\n",
       "      <td>What Women Want</td>\n",
       "      <td>374111707.0</td>\n",
       "      <td>182811707.0</td>\n",
       "      <td>48.9</td>\n",
       "      <td>191300000.0</td>\n",
       "      <td>51.1</td>\n",
       "      <td>2000</td>\n",
       "      <td>Comedy, Romance</td>\n",
       "      <td>6.45/10</td>\n",
       "      <td>3944.0</td>\n",
       "      <td>en</td>\n",
       "      <td>United Kingdom, United States of America</td>\n",
       "    </tr>\n",
       "    <tr>\n",
       "      <th>4</th>\n",
       "      <td>5</td>\n",
       "      <td>Dinosaur</td>\n",
       "      <td>349822765.0</td>\n",
       "      <td>137748063.0</td>\n",
       "      <td>39.4</td>\n",
       "      <td>212074702.0</td>\n",
       "      <td>60.6</td>\n",
       "      <td>2000</td>\n",
       "      <td>Animation, Family, Adventure</td>\n",
       "      <td>6.544/10</td>\n",
       "      <td>2530.0</td>\n",
       "      <td>en</td>\n",
       "      <td>United States of America</td>\n",
       "    </tr>\n",
       "  </tbody>\n",
       "</table>\n",
       "</div>"
      ],
      "text/plain": [
       "   Rank           Release Group   $Worldwide    $Domestic  Domestic %  \\\n",
       "0     1  Mission: Impossible II  546388108.0  215409889.0        39.4   \n",
       "1     2               Gladiator  460583960.0  187705427.0        40.8   \n",
       "2     3               Cast Away  429632142.0  233632142.0        54.4   \n",
       "3     4         What Women Want  374111707.0  182811707.0        48.9   \n",
       "4     5                Dinosaur  349822765.0  137748063.0        39.4   \n",
       "\n",
       "      $Foreign  Foreign %  Year                        Genres    Rating  \\\n",
       "0  330978219.0       60.6  2000   Adventure, Action, Thriller  6.126/10   \n",
       "1  272878533.0       59.2  2000      Action, Drama, Adventure  8.217/10   \n",
       "2  196000000.0       45.6  2000              Adventure, Drama  7.663/10   \n",
       "3  191300000.0       51.1  2000               Comedy, Romance   6.45/10   \n",
       "4  212074702.0       60.6  2000  Animation, Family, Adventure  6.544/10   \n",
       "\n",
       "   Vote_Count Original_Language                      Production_Countries  \n",
       "0      6741.0                en                  United States of America  \n",
       "1     19032.0                en  United Kingdom, United States of America  \n",
       "2     11403.0                en                  United States of America  \n",
       "3      3944.0                en  United Kingdom, United States of America  \n",
       "4      2530.0                en                  United States of America  "
      ]
     },
     "execution_count": 129,
     "metadata": {},
     "output_type": "execute_result"
    }
   ],
   "source": [
    "# импортируем данные из CSV-файла\n",
    "data = pd.read_csv('enhanced_box_office_data.csv')\n",
    "\n",
    "# выведем первые 5 строк данных\n",
    "data.head()"
   ]
  },
  {
   "cell_type": "markdown",
   "metadata": {},
   "source": [
    "Посмотрим на названия столбцов:"
   ]
  },
  {
   "cell_type": "code",
   "execution_count": 130,
   "metadata": {},
   "outputs": [
    {
     "data": {
      "text/plain": [
       "Index(['Rank', 'Release Group', '$Worldwide', '$Domestic', 'Domestic %',\n",
       "       '$Foreign', 'Foreign %', 'Year', 'Genres', 'Rating', 'Vote_Count',\n",
       "       'Original_Language', 'Production_Countries'],\n",
       "      dtype='object')"
      ]
     },
     "execution_count": 130,
     "metadata": {},
     "output_type": "execute_result"
    }
   ],
   "source": [
    "data.columns"
   ]
  },
  {
   "cell_type": "markdown",
   "metadata": {},
   "source": [
    "Выведем информацию о данных:"
   ]
  },
  {
   "cell_type": "code",
   "execution_count": 131,
   "metadata": {},
   "outputs": [
    {
     "name": "stdout",
     "output_type": "stream",
     "text": [
      "<class 'pandas.core.frame.DataFrame'>\n",
      "RangeIndex: 5000 entries, 0 to 4999\n",
      "Data columns (total 13 columns):\n",
      " #   Column                Non-Null Count  Dtype  \n",
      "---  ------                --------------  -----  \n",
      " 0   Rank                  5000 non-null   int64  \n",
      " 1   Release Group         5000 non-null   object \n",
      " 2   $Worldwide            5000 non-null   float64\n",
      " 3   $Domestic             5000 non-null   float64\n",
      " 4   Domestic %            5000 non-null   float64\n",
      " 5   $Foreign              5000 non-null   float64\n",
      " 6   Foreign %             5000 non-null   float64\n",
      " 7   Year                  5000 non-null   int64  \n",
      " 8   Genres                4822 non-null   object \n",
      " 9   Rating                4830 non-null   object \n",
      " 10  Vote_Count            4830 non-null   float64\n",
      " 11  Original_Language     4830 non-null   object \n",
      " 12  Production_Countries  4800 non-null   object \n",
      "dtypes: float64(6), int64(2), object(5)\n",
      "memory usage: 507.9+ KB\n"
     ]
    }
   ],
   "source": [
    "data.info()"
   ]
  },
  {
   "cell_type": "markdown",
   "metadata": {},
   "source": [
    "Основные статистические характеристики набора данных можно посмотреть через метод `describe`."
   ]
  },
  {
   "cell_type": "code",
   "execution_count": 132,
   "metadata": {},
   "outputs": [
    {
     "data": {
      "text/html": [
       "<div>\n",
       "<style scoped>\n",
       "    .dataframe tbody tr th:only-of-type {\n",
       "        vertical-align: middle;\n",
       "    }\n",
       "\n",
       "    .dataframe tbody tr th {\n",
       "        vertical-align: top;\n",
       "    }\n",
       "\n",
       "    .dataframe thead th {\n",
       "        text-align: right;\n",
       "    }\n",
       "</style>\n",
       "<table border=\"1\" class=\"dataframe\">\n",
       "  <thead>\n",
       "    <tr style=\"text-align: right;\">\n",
       "      <th></th>\n",
       "      <th>Rank</th>\n",
       "      <th>$Worldwide</th>\n",
       "      <th>$Domestic</th>\n",
       "      <th>Domestic %</th>\n",
       "      <th>$Foreign</th>\n",
       "      <th>Foreign %</th>\n",
       "      <th>Year</th>\n",
       "      <th>Vote_Count</th>\n",
       "    </tr>\n",
       "  </thead>\n",
       "  <tbody>\n",
       "    <tr>\n",
       "      <th>count</th>\n",
       "      <td>5000.00000</td>\n",
       "      <td>5.000000e+03</td>\n",
       "      <td>5.000000e+03</td>\n",
       "      <td>5000.000000</td>\n",
       "      <td>5.000000e+03</td>\n",
       "      <td>5000.000000</td>\n",
       "      <td>5000.000000</td>\n",
       "      <td>4830.000000</td>\n",
       "    </tr>\n",
       "    <tr>\n",
       "      <th>mean</th>\n",
       "      <td>100.50000</td>\n",
       "      <td>1.192137e+08</td>\n",
       "      <td>4.472523e+07</td>\n",
       "      <td>35.740620</td>\n",
       "      <td>7.448809e+07</td>\n",
       "      <td>64.256640</td>\n",
       "      <td>2012.000000</td>\n",
       "      <td>2531.585921</td>\n",
       "    </tr>\n",
       "    <tr>\n",
       "      <th>std</th>\n",
       "      <td>57.74008</td>\n",
       "      <td>2.005243e+08</td>\n",
       "      <td>7.727026e+07</td>\n",
       "      <td>30.656992</td>\n",
       "      <td>1.334932e+08</td>\n",
       "      <td>30.654531</td>\n",
       "      <td>7.211824</td>\n",
       "      <td>3946.272827</td>\n",
       "    </tr>\n",
       "    <tr>\n",
       "      <th>min</th>\n",
       "      <td>1.00000</td>\n",
       "      <td>1.666028e+06</td>\n",
       "      <td>0.000000e+00</td>\n",
       "      <td>0.000000</td>\n",
       "      <td>0.000000e+00</td>\n",
       "      <td>0.000000</td>\n",
       "      <td>2000.000000</td>\n",
       "      <td>0.000000</td>\n",
       "    </tr>\n",
       "    <tr>\n",
       "      <th>25%</th>\n",
       "      <td>50.75000</td>\n",
       "      <td>2.466220e+07</td>\n",
       "      <td>9.275150e+04</td>\n",
       "      <td>0.200000</td>\n",
       "      <td>1.371034e+07</td>\n",
       "      <td>42.200000</td>\n",
       "      <td>2006.000000</td>\n",
       "      <td>205.250000</td>\n",
       "    </tr>\n",
       "    <tr>\n",
       "      <th>50%</th>\n",
       "      <td>100.50000</td>\n",
       "      <td>4.844658e+07</td>\n",
       "      <td>1.798421e+07</td>\n",
       "      <td>37.050000</td>\n",
       "      <td>3.019444e+07</td>\n",
       "      <td>62.950000</td>\n",
       "      <td>2012.000000</td>\n",
       "      <td>1035.500000</td>\n",
       "    </tr>\n",
       "    <tr>\n",
       "      <th>75%</th>\n",
       "      <td>150.25000</td>\n",
       "      <td>1.197588e+08</td>\n",
       "      <td>5.386847e+07</td>\n",
       "      <td>57.800000</td>\n",
       "      <td>7.211578e+07</td>\n",
       "      <td>99.800000</td>\n",
       "      <td>2018.000000</td>\n",
       "      <td>3065.000000</td>\n",
       "    </tr>\n",
       "    <tr>\n",
       "      <th>max</th>\n",
       "      <td>200.00000</td>\n",
       "      <td>2.799439e+09</td>\n",
       "      <td>9.366622e+08</td>\n",
       "      <td>100.000000</td>\n",
       "      <td>1.993811e+09</td>\n",
       "      <td>100.000000</td>\n",
       "      <td>2024.000000</td>\n",
       "      <td>36753.000000</td>\n",
       "    </tr>\n",
       "  </tbody>\n",
       "</table>\n",
       "</div>"
      ],
      "text/plain": [
       "             Rank    $Worldwide     $Domestic   Domestic %      $Foreign  \\\n",
       "count  5000.00000  5.000000e+03  5.000000e+03  5000.000000  5.000000e+03   \n",
       "mean    100.50000  1.192137e+08  4.472523e+07    35.740620  7.448809e+07   \n",
       "std      57.74008  2.005243e+08  7.727026e+07    30.656992  1.334932e+08   \n",
       "min       1.00000  1.666028e+06  0.000000e+00     0.000000  0.000000e+00   \n",
       "25%      50.75000  2.466220e+07  9.275150e+04     0.200000  1.371034e+07   \n",
       "50%     100.50000  4.844658e+07  1.798421e+07    37.050000  3.019444e+07   \n",
       "75%     150.25000  1.197588e+08  5.386847e+07    57.800000  7.211578e+07   \n",
       "max     200.00000  2.799439e+09  9.366622e+08   100.000000  1.993811e+09   \n",
       "\n",
       "         Foreign %         Year    Vote_Count  \n",
       "count  5000.000000  5000.000000   4830.000000  \n",
       "mean     64.256640  2012.000000   2531.585921  \n",
       "std      30.654531     7.211824   3946.272827  \n",
       "min       0.000000  2000.000000      0.000000  \n",
       "25%      42.200000  2006.000000    205.250000  \n",
       "50%      62.950000  2012.000000   1035.500000  \n",
       "75%      99.800000  2018.000000   3065.000000  \n",
       "max     100.000000  2024.000000  36753.000000  "
      ]
     },
     "execution_count": 132,
     "metadata": {},
     "output_type": "execute_result"
    }
   ],
   "source": [
    "data.describe()"
   ]
  },
  {
   "cell_type": "markdown",
   "metadata": {},
   "source": [
    "## Манипуляции с данными"
   ]
  },
  {
   "cell_type": "markdown",
   "metadata": {},
   "source": [
    "Выбор множества строк и столбцов:"
   ]
  },
  {
   "cell_type": "code",
   "execution_count": 133,
   "metadata": {},
   "outputs": [
    {
     "data": {
      "text/html": [
       "<div>\n",
       "<style scoped>\n",
       "    .dataframe tbody tr th:only-of-type {\n",
       "        vertical-align: middle;\n",
       "    }\n",
       "\n",
       "    .dataframe tbody tr th {\n",
       "        vertical-align: top;\n",
       "    }\n",
       "\n",
       "    .dataframe thead th {\n",
       "        text-align: right;\n",
       "    }\n",
       "</style>\n",
       "<table border=\"1\" class=\"dataframe\">\n",
       "  <thead>\n",
       "    <tr style=\"text-align: right;\">\n",
       "      <th></th>\n",
       "      <th>Release Group</th>\n",
       "      <th>$Domestic</th>\n",
       "      <th>$Worldwide</th>\n",
       "    </tr>\n",
       "  </thead>\n",
       "  <tbody>\n",
       "    <tr>\n",
       "      <th>0</th>\n",
       "      <td>Mission: Impossible II</td>\n",
       "      <td>215409889.0</td>\n",
       "      <td>546388108.0</td>\n",
       "    </tr>\n",
       "    <tr>\n",
       "      <th>1</th>\n",
       "      <td>Gladiator</td>\n",
       "      <td>187705427.0</td>\n",
       "      <td>460583960.0</td>\n",
       "    </tr>\n",
       "    <tr>\n",
       "      <th>2</th>\n",
       "      <td>Cast Away</td>\n",
       "      <td>233632142.0</td>\n",
       "      <td>429632142.0</td>\n",
       "    </tr>\n",
       "    <tr>\n",
       "      <th>3</th>\n",
       "      <td>What Women Want</td>\n",
       "      <td>182811707.0</td>\n",
       "      <td>374111707.0</td>\n",
       "    </tr>\n",
       "    <tr>\n",
       "      <th>4</th>\n",
       "      <td>Dinosaur</td>\n",
       "      <td>137748063.0</td>\n",
       "      <td>349822765.0</td>\n",
       "    </tr>\n",
       "    <tr>\n",
       "      <th>...</th>\n",
       "      <td>...</td>\n",
       "      <td>...</td>\n",
       "      <td>...</td>\n",
       "    </tr>\n",
       "    <tr>\n",
       "      <th>4995</th>\n",
       "      <td>Devara Part 1</td>\n",
       "      <td>5600000.0</td>\n",
       "      <td>7361414.0</td>\n",
       "    </tr>\n",
       "    <tr>\n",
       "      <th>4996</th>\n",
       "      <td>Kolpaçino 4 4'lük</td>\n",
       "      <td>0.0</td>\n",
       "      <td>7343114.0</td>\n",
       "    </tr>\n",
       "    <tr>\n",
       "      <th>4997</th>\n",
       "      <td>Lim Young Woong: Im Hero the Stadium</td>\n",
       "      <td>0.0</td>\n",
       "      <td>7305588.0</td>\n",
       "    </tr>\n",
       "    <tr>\n",
       "      <th>4998</th>\n",
       "      <td>Yolo</td>\n",
       "      <td>2001584.0</td>\n",
       "      <td>7241561.0</td>\n",
       "    </tr>\n",
       "    <tr>\n",
       "      <th>4999</th>\n",
       "      <td>Sight</td>\n",
       "      <td>7206741.0</td>\n",
       "      <td>7206741.0</td>\n",
       "    </tr>\n",
       "  </tbody>\n",
       "</table>\n",
       "<p>5000 rows × 3 columns</p>\n",
       "</div>"
      ],
      "text/plain": [
       "                             Release Group    $Domestic   $Worldwide\n",
       "0                   Mission: Impossible II  215409889.0  546388108.0\n",
       "1                                Gladiator  187705427.0  460583960.0\n",
       "2                                Cast Away  233632142.0  429632142.0\n",
       "3                          What Women Want  182811707.0  374111707.0\n",
       "4                                 Dinosaur  137748063.0  349822765.0\n",
       "...                                    ...          ...          ...\n",
       "4995                         Devara Part 1    5600000.0    7361414.0\n",
       "4996                     Kolpaçino 4 4'lük          0.0    7343114.0\n",
       "4997  Lim Young Woong: Im Hero the Stadium          0.0    7305588.0\n",
       "4998                                  Yolo    2001584.0    7241561.0\n",
       "4999                                 Sight    7206741.0    7206741.0\n",
       "\n",
       "[5000 rows x 3 columns]"
      ]
     },
     "execution_count": 133,
     "metadata": {},
     "output_type": "execute_result"
    }
   ],
   "source": [
    "data[['Release Group', '$Domestic', '$Worldwide']]  # возварщается  DataFrame с выбранными столбцами"
   ]
  },
  {
   "cell_type": "markdown",
   "metadata": {},
   "source": [
    "### Фильтрация строк с помощью булевых масок\n",
    "\n",
    "Принцип булевой маски аналогичен принципу булевой маски в NumPy:"
   ]
  },
  {
   "cell_type": "code",
   "execution_count": 134,
   "metadata": {},
   "outputs": [
    {
     "data": {
      "text/html": [
       "<div>\n",
       "<style scoped>\n",
       "    .dataframe tbody tr th:only-of-type {\n",
       "        vertical-align: middle;\n",
       "    }\n",
       "\n",
       "    .dataframe tbody tr th {\n",
       "        vertical-align: top;\n",
       "    }\n",
       "\n",
       "    .dataframe thead th {\n",
       "        text-align: right;\n",
       "    }\n",
       "</style>\n",
       "<table border=\"1\" class=\"dataframe\">\n",
       "  <thead>\n",
       "    <tr style=\"text-align: right;\">\n",
       "      <th></th>\n",
       "      <th>Rank</th>\n",
       "      <th>Release Group</th>\n",
       "      <th>$Worldwide</th>\n",
       "      <th>$Domestic</th>\n",
       "      <th>Domestic %</th>\n",
       "      <th>$Foreign</th>\n",
       "      <th>Foreign %</th>\n",
       "      <th>Year</th>\n",
       "      <th>Genres</th>\n",
       "      <th>Rating</th>\n",
       "      <th>Vote_Count</th>\n",
       "      <th>Original_Language</th>\n",
       "      <th>Production_Countries</th>\n",
       "    </tr>\n",
       "  </thead>\n",
       "  <tbody>\n",
       "    <tr>\n",
       "      <th>2400</th>\n",
       "      <td>1</td>\n",
       "      <td>The Avengers</td>\n",
       "      <td>1.518813e+09</td>\n",
       "      <td>623357910.0</td>\n",
       "      <td>41.0</td>\n",
       "      <td>895455078.0</td>\n",
       "      <td>59.0</td>\n",
       "      <td>2012</td>\n",
       "      <td>Science Fiction, Action, Adventure</td>\n",
       "      <td>7.724/10</td>\n",
       "      <td>30942.0</td>\n",
       "      <td>en</td>\n",
       "      <td>United States of America</td>\n",
       "    </tr>\n",
       "    <tr>\n",
       "      <th>2401</th>\n",
       "      <td>2</td>\n",
       "      <td>Skyfall</td>\n",
       "      <td>1.108561e+09</td>\n",
       "      <td>304360277.0</td>\n",
       "      <td>27.5</td>\n",
       "      <td>804200736.0</td>\n",
       "      <td>72.5</td>\n",
       "      <td>2012</td>\n",
       "      <td>Action, Adventure, Thriller</td>\n",
       "      <td>7.246/10</td>\n",
       "      <td>15200.0</td>\n",
       "      <td>en</td>\n",
       "      <td>United Kingdom, United States of America</td>\n",
       "    </tr>\n",
       "    <tr>\n",
       "      <th>2402</th>\n",
       "      <td>3</td>\n",
       "      <td>The Dark Knight Rises</td>\n",
       "      <td>1.084939e+09</td>\n",
       "      <td>448139099.0</td>\n",
       "      <td>41.3</td>\n",
       "      <td>636800000.0</td>\n",
       "      <td>58.7</td>\n",
       "      <td>2012</td>\n",
       "      <td>Action, Crime, Drama, Thriller</td>\n",
       "      <td>7.8/10</td>\n",
       "      <td>22803.0</td>\n",
       "      <td>en</td>\n",
       "      <td>United Kingdom, United States of America</td>\n",
       "    </tr>\n",
       "    <tr>\n",
       "      <th>2403</th>\n",
       "      <td>4</td>\n",
       "      <td>The Hobbit: An Unexpected Journey</td>\n",
       "      <td>1.017004e+09</td>\n",
       "      <td>303003568.0</td>\n",
       "      <td>29.8</td>\n",
       "      <td>714000000.0</td>\n",
       "      <td>70.2</td>\n",
       "      <td>2012</td>\n",
       "      <td>Adventure, Fantasy, Action</td>\n",
       "      <td>7.357/10</td>\n",
       "      <td>18440.0</td>\n",
       "      <td>en</td>\n",
       "      <td>New Zealand, United States of America</td>\n",
       "    </tr>\n",
       "    <tr>\n",
       "      <th>2404</th>\n",
       "      <td>5</td>\n",
       "      <td>Ice Age: Continental Drift</td>\n",
       "      <td>8.772448e+08</td>\n",
       "      <td>161321843.0</td>\n",
       "      <td>18.4</td>\n",
       "      <td>715922939.0</td>\n",
       "      <td>81.6</td>\n",
       "      <td>2012</td>\n",
       "      <td>Animation, Comedy, Adventure, Family</td>\n",
       "      <td>6.4/10</td>\n",
       "      <td>7582.0</td>\n",
       "      <td>en</td>\n",
       "      <td>United States of America</td>\n",
       "    </tr>\n",
       "    <tr>\n",
       "      <th>...</th>\n",
       "      <td>...</td>\n",
       "      <td>...</td>\n",
       "      <td>...</td>\n",
       "      <td>...</td>\n",
       "      <td>...</td>\n",
       "      <td>...</td>\n",
       "      <td>...</td>\n",
       "      <td>...</td>\n",
       "      <td>...</td>\n",
       "      <td>...</td>\n",
       "      <td>...</td>\n",
       "      <td>...</td>\n",
       "      <td>...</td>\n",
       "    </tr>\n",
       "    <tr>\n",
       "      <th>2595</th>\n",
       "      <td>196</td>\n",
       "      <td>Unbowed</td>\n",
       "      <td>2.213290e+07</td>\n",
       "      <td>0.0</td>\n",
       "      <td>0.0</td>\n",
       "      <td>22132903.0</td>\n",
       "      <td>100.0</td>\n",
       "      <td>2012</td>\n",
       "      <td>NaN</td>\n",
       "      <td>NaN</td>\n",
       "      <td>NaN</td>\n",
       "      <td>NaN</td>\n",
       "      <td>NaN</td>\n",
       "    </tr>\n",
       "    <tr>\n",
       "      <th>2596</th>\n",
       "      <td>197</td>\n",
       "      <td>Confession of Murder</td>\n",
       "      <td>2.170152e+07</td>\n",
       "      <td>0.0</td>\n",
       "      <td>0.0</td>\n",
       "      <td>21701525.0</td>\n",
       "      <td>100.0</td>\n",
       "      <td>2012</td>\n",
       "      <td>Action, Thriller</td>\n",
       "      <td>7.14/10</td>\n",
       "      <td>300.0</td>\n",
       "      <td>ko</td>\n",
       "      <td>South Korea</td>\n",
       "    </tr>\n",
       "    <tr>\n",
       "      <th>2597</th>\n",
       "      <td>198</td>\n",
       "      <td>StreetDance 2 2012 Re-release</td>\n",
       "      <td>2.163885e+07</td>\n",
       "      <td>0.0</td>\n",
       "      <td>0.0</td>\n",
       "      <td>21638853.0</td>\n",
       "      <td>100.0</td>\n",
       "      <td>2012</td>\n",
       "      <td>NaN</td>\n",
       "      <td>NaN</td>\n",
       "      <td>NaN</td>\n",
       "      <td>NaN</td>\n",
       "      <td>NaN</td>\n",
       "    </tr>\n",
       "    <tr>\n",
       "      <th>2598</th>\n",
       "      <td>199</td>\n",
       "      <td>2012 2012 Re-release</td>\n",
       "      <td>2.153835e+07</td>\n",
       "      <td>0.0</td>\n",
       "      <td>0.0</td>\n",
       "      <td>21538353.0</td>\n",
       "      <td>100.0</td>\n",
       "      <td>2012</td>\n",
       "      <td>NaN</td>\n",
       "      <td>NaN</td>\n",
       "      <td>NaN</td>\n",
       "      <td>NaN</td>\n",
       "      <td>NaN</td>\n",
       "    </tr>\n",
       "    <tr>\n",
       "      <th>2599</th>\n",
       "      <td>200</td>\n",
       "      <td>Beasts of the Southern Wild</td>\n",
       "      <td>2.110775e+07</td>\n",
       "      <td>12795746.0</td>\n",
       "      <td>60.6</td>\n",
       "      <td>8312000.0</td>\n",
       "      <td>39.4</td>\n",
       "      <td>2012</td>\n",
       "      <td>Drama, Fantasy</td>\n",
       "      <td>6.816/10</td>\n",
       "      <td>1053.0</td>\n",
       "      <td>en</td>\n",
       "      <td>Canada, United States of America</td>\n",
       "    </tr>\n",
       "  </tbody>\n",
       "</table>\n",
       "<p>200 rows × 13 columns</p>\n",
       "</div>"
      ],
      "text/plain": [
       "      Rank                      Release Group    $Worldwide    $Domestic  \\\n",
       "2400     1                       The Avengers  1.518813e+09  623357910.0   \n",
       "2401     2                            Skyfall  1.108561e+09  304360277.0   \n",
       "2402     3              The Dark Knight Rises  1.084939e+09  448139099.0   \n",
       "2403     4  The Hobbit: An Unexpected Journey  1.017004e+09  303003568.0   \n",
       "2404     5         Ice Age: Continental Drift  8.772448e+08  161321843.0   \n",
       "...    ...                                ...           ...          ...   \n",
       "2595   196                            Unbowed  2.213290e+07          0.0   \n",
       "2596   197               Confession of Murder  2.170152e+07          0.0   \n",
       "2597   198      StreetDance 2 2012 Re-release  2.163885e+07          0.0   \n",
       "2598   199               2012 2012 Re-release  2.153835e+07          0.0   \n",
       "2599   200        Beasts of the Southern Wild  2.110775e+07   12795746.0   \n",
       "\n",
       "      Domestic %     $Foreign  Foreign %  Year  \\\n",
       "2400        41.0  895455078.0       59.0  2012   \n",
       "2401        27.5  804200736.0       72.5  2012   \n",
       "2402        41.3  636800000.0       58.7  2012   \n",
       "2403        29.8  714000000.0       70.2  2012   \n",
       "2404        18.4  715922939.0       81.6  2012   \n",
       "...          ...          ...        ...   ...   \n",
       "2595         0.0   22132903.0      100.0  2012   \n",
       "2596         0.0   21701525.0      100.0  2012   \n",
       "2597         0.0   21638853.0      100.0  2012   \n",
       "2598         0.0   21538353.0      100.0  2012   \n",
       "2599        60.6    8312000.0       39.4  2012   \n",
       "\n",
       "                                    Genres    Rating  Vote_Count  \\\n",
       "2400    Science Fiction, Action, Adventure  7.724/10     30942.0   \n",
       "2401           Action, Adventure, Thriller  7.246/10     15200.0   \n",
       "2402        Action, Crime, Drama, Thriller    7.8/10     22803.0   \n",
       "2403            Adventure, Fantasy, Action  7.357/10     18440.0   \n",
       "2404  Animation, Comedy, Adventure, Family    6.4/10      7582.0   \n",
       "...                                    ...       ...         ...   \n",
       "2595                                   NaN       NaN         NaN   \n",
       "2596                      Action, Thriller   7.14/10       300.0   \n",
       "2597                                   NaN       NaN         NaN   \n",
       "2598                                   NaN       NaN         NaN   \n",
       "2599                        Drama, Fantasy  6.816/10      1053.0   \n",
       "\n",
       "     Original_Language                      Production_Countries  \n",
       "2400                en                  United States of America  \n",
       "2401                en  United Kingdom, United States of America  \n",
       "2402                en  United Kingdom, United States of America  \n",
       "2403                en     New Zealand, United States of America  \n",
       "2404                en                  United States of America  \n",
       "...                ...                                       ...  \n",
       "2595               NaN                                       NaN  \n",
       "2596                ko                               South Korea  \n",
       "2597               NaN                                       NaN  \n",
       "2598               NaN                                       NaN  \n",
       "2599                en          Canada, United States of America  \n",
       "\n",
       "[200 rows x 13 columns]"
      ]
     },
     "execution_count": 134,
     "metadata": {},
     "output_type": "execute_result"
    }
   ],
   "source": [
    "data[data['Year'] == 2012]  # возварщается  DataFrame с выбранными строками, где в колонке Year 2012 год"
   ]
  },
  {
   "cell_type": "code",
   "execution_count": 137,
   "metadata": {},
   "outputs": [
    {
     "data": {
      "text/html": [
       "<div>\n",
       "<style scoped>\n",
       "    .dataframe tbody tr th:only-of-type {\n",
       "        vertical-align: middle;\n",
       "    }\n",
       "\n",
       "    .dataframe tbody tr th {\n",
       "        vertical-align: top;\n",
       "    }\n",
       "\n",
       "    .dataframe thead th {\n",
       "        text-align: right;\n",
       "    }\n",
       "</style>\n",
       "<table border=\"1\" class=\"dataframe\">\n",
       "  <thead>\n",
       "    <tr style=\"text-align: right;\">\n",
       "      <th></th>\n",
       "      <th>Rank</th>\n",
       "      <th>Release Group</th>\n",
       "      <th>$Worldwide</th>\n",
       "      <th>$Domestic</th>\n",
       "      <th>Domestic %</th>\n",
       "      <th>$Foreign</th>\n",
       "      <th>Foreign %</th>\n",
       "      <th>Year</th>\n",
       "      <th>Genres</th>\n",
       "      <th>Rating</th>\n",
       "      <th>Vote_Count</th>\n",
       "      <th>Original_Language</th>\n",
       "      <th>Production_Countries</th>\n",
       "    </tr>\n",
       "  </thead>\n",
       "  <tbody>\n",
       "    <tr>\n",
       "      <th>2400</th>\n",
       "      <td>1</td>\n",
       "      <td>The Avengers</td>\n",
       "      <td>1.518813e+09</td>\n",
       "      <td>623357910.0</td>\n",
       "      <td>41.0</td>\n",
       "      <td>895455078.0</td>\n",
       "      <td>59.0</td>\n",
       "      <td>2012</td>\n",
       "      <td>Science Fiction, Action, Adventure</td>\n",
       "      <td>7.724/10</td>\n",
       "      <td>30942.0</td>\n",
       "      <td>en</td>\n",
       "      <td>United States of America</td>\n",
       "    </tr>\n",
       "    <tr>\n",
       "      <th>2401</th>\n",
       "      <td>2</td>\n",
       "      <td>Skyfall</td>\n",
       "      <td>1.108561e+09</td>\n",
       "      <td>304360277.0</td>\n",
       "      <td>27.5</td>\n",
       "      <td>804200736.0</td>\n",
       "      <td>72.5</td>\n",
       "      <td>2012</td>\n",
       "      <td>Action, Adventure, Thriller</td>\n",
       "      <td>7.246/10</td>\n",
       "      <td>15200.0</td>\n",
       "      <td>en</td>\n",
       "      <td>United Kingdom, United States of America</td>\n",
       "    </tr>\n",
       "    <tr>\n",
       "      <th>2402</th>\n",
       "      <td>3</td>\n",
       "      <td>The Dark Knight Rises</td>\n",
       "      <td>1.084939e+09</td>\n",
       "      <td>448139099.0</td>\n",
       "      <td>41.3</td>\n",
       "      <td>636800000.0</td>\n",
       "      <td>58.7</td>\n",
       "      <td>2012</td>\n",
       "      <td>Action, Crime, Drama, Thriller</td>\n",
       "      <td>7.8/10</td>\n",
       "      <td>22803.0</td>\n",
       "      <td>en</td>\n",
       "      <td>United Kingdom, United States of America</td>\n",
       "    </tr>\n",
       "    <tr>\n",
       "      <th>2403</th>\n",
       "      <td>4</td>\n",
       "      <td>The Hobbit: An Unexpected Journey</td>\n",
       "      <td>1.017004e+09</td>\n",
       "      <td>303003568.0</td>\n",
       "      <td>29.8</td>\n",
       "      <td>714000000.0</td>\n",
       "      <td>70.2</td>\n",
       "      <td>2012</td>\n",
       "      <td>Adventure, Fantasy, Action</td>\n",
       "      <td>7.357/10</td>\n",
       "      <td>18440.0</td>\n",
       "      <td>en</td>\n",
       "      <td>New Zealand, United States of America</td>\n",
       "    </tr>\n",
       "    <tr>\n",
       "      <th>2404</th>\n",
       "      <td>5</td>\n",
       "      <td>Ice Age: Continental Drift</td>\n",
       "      <td>8.772448e+08</td>\n",
       "      <td>161321843.0</td>\n",
       "      <td>18.4</td>\n",
       "      <td>715922939.0</td>\n",
       "      <td>81.6</td>\n",
       "      <td>2012</td>\n",
       "      <td>Animation, Comedy, Adventure, Family</td>\n",
       "      <td>6.4/10</td>\n",
       "      <td>7582.0</td>\n",
       "      <td>en</td>\n",
       "      <td>United States of America</td>\n",
       "    </tr>\n",
       "    <tr>\n",
       "      <th>...</th>\n",
       "      <td>...</td>\n",
       "      <td>...</td>\n",
       "      <td>...</td>\n",
       "      <td>...</td>\n",
       "      <td>...</td>\n",
       "      <td>...</td>\n",
       "      <td>...</td>\n",
       "      <td>...</td>\n",
       "      <td>...</td>\n",
       "      <td>...</td>\n",
       "      <td>...</td>\n",
       "      <td>...</td>\n",
       "      <td>...</td>\n",
       "    </tr>\n",
       "    <tr>\n",
       "      <th>2595</th>\n",
       "      <td>196</td>\n",
       "      <td>Unbowed</td>\n",
       "      <td>2.213290e+07</td>\n",
       "      <td>0.0</td>\n",
       "      <td>0.0</td>\n",
       "      <td>22132903.0</td>\n",
       "      <td>100.0</td>\n",
       "      <td>2012</td>\n",
       "      <td>NaN</td>\n",
       "      <td>NaN</td>\n",
       "      <td>NaN</td>\n",
       "      <td>NaN</td>\n",
       "      <td>NaN</td>\n",
       "    </tr>\n",
       "    <tr>\n",
       "      <th>2596</th>\n",
       "      <td>197</td>\n",
       "      <td>Confession of Murder</td>\n",
       "      <td>2.170152e+07</td>\n",
       "      <td>0.0</td>\n",
       "      <td>0.0</td>\n",
       "      <td>21701525.0</td>\n",
       "      <td>100.0</td>\n",
       "      <td>2012</td>\n",
       "      <td>Action, Thriller</td>\n",
       "      <td>7.14/10</td>\n",
       "      <td>300.0</td>\n",
       "      <td>ko</td>\n",
       "      <td>South Korea</td>\n",
       "    </tr>\n",
       "    <tr>\n",
       "      <th>2597</th>\n",
       "      <td>198</td>\n",
       "      <td>StreetDance 2 2012 Re-release</td>\n",
       "      <td>2.163885e+07</td>\n",
       "      <td>0.0</td>\n",
       "      <td>0.0</td>\n",
       "      <td>21638853.0</td>\n",
       "      <td>100.0</td>\n",
       "      <td>2012</td>\n",
       "      <td>NaN</td>\n",
       "      <td>NaN</td>\n",
       "      <td>NaN</td>\n",
       "      <td>NaN</td>\n",
       "      <td>NaN</td>\n",
       "    </tr>\n",
       "    <tr>\n",
       "      <th>2598</th>\n",
       "      <td>199</td>\n",
       "      <td>2012 2012 Re-release</td>\n",
       "      <td>2.153835e+07</td>\n",
       "      <td>0.0</td>\n",
       "      <td>0.0</td>\n",
       "      <td>21538353.0</td>\n",
       "      <td>100.0</td>\n",
       "      <td>2012</td>\n",
       "      <td>NaN</td>\n",
       "      <td>NaN</td>\n",
       "      <td>NaN</td>\n",
       "      <td>NaN</td>\n",
       "      <td>NaN</td>\n",
       "    </tr>\n",
       "    <tr>\n",
       "      <th>2599</th>\n",
       "      <td>200</td>\n",
       "      <td>Beasts of the Southern Wild</td>\n",
       "      <td>2.110775e+07</td>\n",
       "      <td>12795746.0</td>\n",
       "      <td>60.6</td>\n",
       "      <td>8312000.0</td>\n",
       "      <td>39.4</td>\n",
       "      <td>2012</td>\n",
       "      <td>Drama, Fantasy</td>\n",
       "      <td>6.816/10</td>\n",
       "      <td>1053.0</td>\n",
       "      <td>en</td>\n",
       "      <td>Canada, United States of America</td>\n",
       "    </tr>\n",
       "  </tbody>\n",
       "</table>\n",
       "<p>200 rows × 13 columns</p>\n",
       "</div>"
      ],
      "text/plain": [
       "      Rank                      Release Group    $Worldwide    $Domestic  \\\n",
       "2400     1                       The Avengers  1.518813e+09  623357910.0   \n",
       "2401     2                            Skyfall  1.108561e+09  304360277.0   \n",
       "2402     3              The Dark Knight Rises  1.084939e+09  448139099.0   \n",
       "2403     4  The Hobbit: An Unexpected Journey  1.017004e+09  303003568.0   \n",
       "2404     5         Ice Age: Continental Drift  8.772448e+08  161321843.0   \n",
       "...    ...                                ...           ...          ...   \n",
       "2595   196                            Unbowed  2.213290e+07          0.0   \n",
       "2596   197               Confession of Murder  2.170152e+07          0.0   \n",
       "2597   198      StreetDance 2 2012 Re-release  2.163885e+07          0.0   \n",
       "2598   199               2012 2012 Re-release  2.153835e+07          0.0   \n",
       "2599   200        Beasts of the Southern Wild  2.110775e+07   12795746.0   \n",
       "\n",
       "      Domestic %     $Foreign  Foreign %  Year  \\\n",
       "2400        41.0  895455078.0       59.0  2012   \n",
       "2401        27.5  804200736.0       72.5  2012   \n",
       "2402        41.3  636800000.0       58.7  2012   \n",
       "2403        29.8  714000000.0       70.2  2012   \n",
       "2404        18.4  715922939.0       81.6  2012   \n",
       "...          ...          ...        ...   ...   \n",
       "2595         0.0   22132903.0      100.0  2012   \n",
       "2596         0.0   21701525.0      100.0  2012   \n",
       "2597         0.0   21638853.0      100.0  2012   \n",
       "2598         0.0   21538353.0      100.0  2012   \n",
       "2599        60.6    8312000.0       39.4  2012   \n",
       "\n",
       "                                    Genres    Rating  Vote_Count  \\\n",
       "2400    Science Fiction, Action, Adventure  7.724/10     30942.0   \n",
       "2401           Action, Adventure, Thriller  7.246/10     15200.0   \n",
       "2402        Action, Crime, Drama, Thriller    7.8/10     22803.0   \n",
       "2403            Adventure, Fantasy, Action  7.357/10     18440.0   \n",
       "2404  Animation, Comedy, Adventure, Family    6.4/10      7582.0   \n",
       "...                                    ...       ...         ...   \n",
       "2595                                   NaN       NaN         NaN   \n",
       "2596                      Action, Thriller   7.14/10       300.0   \n",
       "2597                                   NaN       NaN         NaN   \n",
       "2598                                   NaN       NaN         NaN   \n",
       "2599                        Drama, Fantasy  6.816/10      1053.0   \n",
       "\n",
       "     Original_Language                      Production_Countries  \n",
       "2400                en                  United States of America  \n",
       "2401                en  United Kingdom, United States of America  \n",
       "2402                en  United Kingdom, United States of America  \n",
       "2403                en     New Zealand, United States of America  \n",
       "2404                en                  United States of America  \n",
       "...                ...                                       ...  \n",
       "2595               NaN                                       NaN  \n",
       "2596                ko                               South Korea  \n",
       "2597               NaN                                       NaN  \n",
       "2598               NaN                                       NaN  \n",
       "2599                en          Canada, United States of America  \n",
       "\n",
       "[200 rows x 13 columns]"
      ]
     },
     "execution_count": 137,
     "metadata": {},
     "output_type": "execute_result"
    }
   ],
   "source": [
    "data[data['Year'] == 2012]"
   ]
  },
  {
   "cell_type": "markdown",
   "metadata": {},
   "source": [
    "### Cортировка данных\n",
    "\n",
    "Cортировка по столбцу '$Worldwide' в порядке убывания и вывод первых 10 строк:"
   ]
  },
  {
   "cell_type": "code",
   "execution_count": 135,
   "metadata": {},
   "outputs": [
    {
     "data": {
      "text/html": [
       "<div>\n",
       "<style scoped>\n",
       "    .dataframe tbody tr th:only-of-type {\n",
       "        vertical-align: middle;\n",
       "    }\n",
       "\n",
       "    .dataframe tbody tr th {\n",
       "        vertical-align: top;\n",
       "    }\n",
       "\n",
       "    .dataframe thead th {\n",
       "        text-align: right;\n",
       "    }\n",
       "</style>\n",
       "<table border=\"1\" class=\"dataframe\">\n",
       "  <thead>\n",
       "    <tr style=\"text-align: right;\">\n",
       "      <th></th>\n",
       "      <th>Rank</th>\n",
       "      <th>Release Group</th>\n",
       "      <th>$Worldwide</th>\n",
       "      <th>$Domestic</th>\n",
       "      <th>Domestic %</th>\n",
       "      <th>$Foreign</th>\n",
       "      <th>Foreign %</th>\n",
       "      <th>Year</th>\n",
       "      <th>Genres</th>\n",
       "      <th>Rating</th>\n",
       "      <th>Vote_Count</th>\n",
       "      <th>Original_Language</th>\n",
       "      <th>Production_Countries</th>\n",
       "    </tr>\n",
       "  </thead>\n",
       "  <tbody>\n",
       "    <tr>\n",
       "      <th>3800</th>\n",
       "      <td>1</td>\n",
       "      <td>Avengers: Endgame</td>\n",
       "      <td>2.799439e+09</td>\n",
       "      <td>858373000.0</td>\n",
       "      <td>30.7</td>\n",
       "      <td>1.941066e+09</td>\n",
       "      <td>69.3</td>\n",
       "      <td>2019</td>\n",
       "      <td>Adventure, Science Fiction, Action</td>\n",
       "      <td>8.246/10</td>\n",
       "      <td>25780.0</td>\n",
       "      <td>en</td>\n",
       "      <td>United States of America</td>\n",
       "    </tr>\n",
       "    <tr>\n",
       "      <th>1800</th>\n",
       "      <td>1</td>\n",
       "      <td>Avatar</td>\n",
       "      <td>2.743578e+09</td>\n",
       "      <td>749766139.0</td>\n",
       "      <td>27.3</td>\n",
       "      <td>1.993811e+09</td>\n",
       "      <td>72.7</td>\n",
       "      <td>2009</td>\n",
       "      <td>Action, Adventure, Fantasy, Science Fiction</td>\n",
       "      <td>7.583/10</td>\n",
       "      <td>31654.0</td>\n",
       "      <td>en</td>\n",
       "      <td>United States of America, United Kingdom</td>\n",
       "    </tr>\n",
       "    <tr>\n",
       "      <th>4400</th>\n",
       "      <td>1</td>\n",
       "      <td>Avatar: The Way of Water</td>\n",
       "      <td>2.320250e+09</td>\n",
       "      <td>684075767.0</td>\n",
       "      <td>29.5</td>\n",
       "      <td>1.636175e+09</td>\n",
       "      <td>70.5</td>\n",
       "      <td>2022</td>\n",
       "      <td>Science Fiction, Adventure, Action</td>\n",
       "      <td>7.616/10</td>\n",
       "      <td>12052.0</td>\n",
       "      <td>en</td>\n",
       "      <td>United States of America</td>\n",
       "    </tr>\n",
       "    <tr>\n",
       "      <th>3000</th>\n",
       "      <td>1</td>\n",
       "      <td>Star Wars: Episode VII - The Force Awakens</td>\n",
       "      <td>2.068224e+09</td>\n",
       "      <td>936662225.0</td>\n",
       "      <td>45.3</td>\n",
       "      <td>1.131561e+09</td>\n",
       "      <td>54.7</td>\n",
       "      <td>2015</td>\n",
       "      <td>Adventure, Action, Science Fiction</td>\n",
       "      <td>7.271/10</td>\n",
       "      <td>19411.0</td>\n",
       "      <td>en</td>\n",
       "      <td>United States of America</td>\n",
       "    </tr>\n",
       "    <tr>\n",
       "      <th>3600</th>\n",
       "      <td>1</td>\n",
       "      <td>Avengers: Infinity War</td>\n",
       "      <td>2.048360e+09</td>\n",
       "      <td>678815482.0</td>\n",
       "      <td>33.1</td>\n",
       "      <td>1.369544e+09</td>\n",
       "      <td>66.9</td>\n",
       "      <td>2018</td>\n",
       "      <td>Adventure, Action, Science Fiction</td>\n",
       "      <td>8.242/10</td>\n",
       "      <td>29914.0</td>\n",
       "      <td>en</td>\n",
       "      <td>United States of America</td>\n",
       "    </tr>\n",
       "    <tr>\n",
       "      <th>4200</th>\n",
       "      <td>1</td>\n",
       "      <td>Spider-Man: No Way Home</td>\n",
       "      <td>1.910983e+09</td>\n",
       "      <td>804793477.0</td>\n",
       "      <td>42.1</td>\n",
       "      <td>1.106189e+09</td>\n",
       "      <td>57.9</td>\n",
       "      <td>2021</td>\n",
       "      <td>Action, Adventure, Science Fiction</td>\n",
       "      <td>8.0/10</td>\n",
       "      <td>20275.0</td>\n",
       "      <td>en</td>\n",
       "      <td>United States of America</td>\n",
       "    </tr>\n",
       "    <tr>\n",
       "      <th>4800</th>\n",
       "      <td>1</td>\n",
       "      <td>Inside Out 2</td>\n",
       "      <td>1.698773e+09</td>\n",
       "      <td>652980194.0</td>\n",
       "      <td>38.4</td>\n",
       "      <td>1.045793e+09</td>\n",
       "      <td>61.6</td>\n",
       "      <td>2024</td>\n",
       "      <td>Animation, Adventure, Comedy, Family</td>\n",
       "      <td>7.566/10</td>\n",
       "      <td>5141.0</td>\n",
       "      <td>en</td>\n",
       "      <td>United States of America</td>\n",
       "    </tr>\n",
       "    <tr>\n",
       "      <th>3001</th>\n",
       "      <td>2</td>\n",
       "      <td>Jurassic World</td>\n",
       "      <td>1.670401e+09</td>\n",
       "      <td>652270625.0</td>\n",
       "      <td>39.0</td>\n",
       "      <td>1.018130e+09</td>\n",
       "      <td>61.0</td>\n",
       "      <td>2015</td>\n",
       "      <td>Action, Adventure, Science Fiction, Thriller</td>\n",
       "      <td>6.7/10</td>\n",
       "      <td>20370.0</td>\n",
       "      <td>en</td>\n",
       "      <td>United States of America</td>\n",
       "    </tr>\n",
       "    <tr>\n",
       "      <th>3801</th>\n",
       "      <td>2</td>\n",
       "      <td>The Lion King</td>\n",
       "      <td>1.656943e+09</td>\n",
       "      <td>543638043.0</td>\n",
       "      <td>32.8</td>\n",
       "      <td>1.113305e+09</td>\n",
       "      <td>67.2</td>\n",
       "      <td>2019</td>\n",
       "      <td>Adventure, Drama, Family, Animation</td>\n",
       "      <td>7.116/10</td>\n",
       "      <td>10058.0</td>\n",
       "      <td>en</td>\n",
       "      <td>United States of America</td>\n",
       "    </tr>\n",
       "    <tr>\n",
       "      <th>2400</th>\n",
       "      <td>1</td>\n",
       "      <td>The Avengers</td>\n",
       "      <td>1.518813e+09</td>\n",
       "      <td>623357910.0</td>\n",
       "      <td>41.0</td>\n",
       "      <td>8.954551e+08</td>\n",
       "      <td>59.0</td>\n",
       "      <td>2012</td>\n",
       "      <td>Science Fiction, Action, Adventure</td>\n",
       "      <td>7.724/10</td>\n",
       "      <td>30942.0</td>\n",
       "      <td>en</td>\n",
       "      <td>United States of America</td>\n",
       "    </tr>\n",
       "  </tbody>\n",
       "</table>\n",
       "</div>"
      ],
      "text/plain": [
       "      Rank                               Release Group    $Worldwide  \\\n",
       "3800     1                           Avengers: Endgame  2.799439e+09   \n",
       "1800     1                                      Avatar  2.743578e+09   \n",
       "4400     1                    Avatar: The Way of Water  2.320250e+09   \n",
       "3000     1  Star Wars: Episode VII - The Force Awakens  2.068224e+09   \n",
       "3600     1                      Avengers: Infinity War  2.048360e+09   \n",
       "4200     1                     Spider-Man: No Way Home  1.910983e+09   \n",
       "4800     1                                Inside Out 2  1.698773e+09   \n",
       "3001     2                              Jurassic World  1.670401e+09   \n",
       "3801     2                               The Lion King  1.656943e+09   \n",
       "2400     1                                The Avengers  1.518813e+09   \n",
       "\n",
       "        $Domestic  Domestic %      $Foreign  Foreign %  Year  \\\n",
       "3800  858373000.0        30.7  1.941066e+09       69.3  2019   \n",
       "1800  749766139.0        27.3  1.993811e+09       72.7  2009   \n",
       "4400  684075767.0        29.5  1.636175e+09       70.5  2022   \n",
       "3000  936662225.0        45.3  1.131561e+09       54.7  2015   \n",
       "3600  678815482.0        33.1  1.369544e+09       66.9  2018   \n",
       "4200  804793477.0        42.1  1.106189e+09       57.9  2021   \n",
       "4800  652980194.0        38.4  1.045793e+09       61.6  2024   \n",
       "3001  652270625.0        39.0  1.018130e+09       61.0  2015   \n",
       "3801  543638043.0        32.8  1.113305e+09       67.2  2019   \n",
       "2400  623357910.0        41.0  8.954551e+08       59.0  2012   \n",
       "\n",
       "                                            Genres    Rating  Vote_Count  \\\n",
       "3800            Adventure, Science Fiction, Action  8.246/10     25780.0   \n",
       "1800   Action, Adventure, Fantasy, Science Fiction  7.583/10     31654.0   \n",
       "4400            Science Fiction, Adventure, Action  7.616/10     12052.0   \n",
       "3000            Adventure, Action, Science Fiction  7.271/10     19411.0   \n",
       "3600            Adventure, Action, Science Fiction  8.242/10     29914.0   \n",
       "4200            Action, Adventure, Science Fiction    8.0/10     20275.0   \n",
       "4800          Animation, Adventure, Comedy, Family  7.566/10      5141.0   \n",
       "3001  Action, Adventure, Science Fiction, Thriller    6.7/10     20370.0   \n",
       "3801           Adventure, Drama, Family, Animation  7.116/10     10058.0   \n",
       "2400            Science Fiction, Action, Adventure  7.724/10     30942.0   \n",
       "\n",
       "     Original_Language                      Production_Countries  \n",
       "3800                en                  United States of America  \n",
       "1800                en  United States of America, United Kingdom  \n",
       "4400                en                  United States of America  \n",
       "3000                en                  United States of America  \n",
       "3600                en                  United States of America  \n",
       "4200                en                  United States of America  \n",
       "4800                en                  United States of America  \n",
       "3001                en                  United States of America  \n",
       "3801                en                  United States of America  \n",
       "2400                en                  United States of America  "
      ]
     },
     "execution_count": 135,
     "metadata": {},
     "output_type": "execute_result"
    }
   ],
   "source": [
    "data.sort_values(by='$Worldwide', ascending=False).head(10)"
   ]
  },
  {
   "cell_type": "markdown",
   "metadata": {},
   "source": [
    "### Фильтрация строк с помощью функции  `query`\n",
    "\n",
    "Вместо булевых масок можно использовать метод `query`. В аргумент метода передается строка с условием для фильтрации. Условие пишется так же, как если бы вы использовали булевы маски."
   ]
  },
  {
   "cell_type": "code",
   "execution_count": 139,
   "metadata": {},
   "outputs": [
    {
     "data": {
      "text/html": [
       "<div>\n",
       "<style scoped>\n",
       "    .dataframe tbody tr th:only-of-type {\n",
       "        vertical-align: middle;\n",
       "    }\n",
       "\n",
       "    .dataframe tbody tr th {\n",
       "        vertical-align: top;\n",
       "    }\n",
       "\n",
       "    .dataframe thead th {\n",
       "        text-align: right;\n",
       "    }\n",
       "</style>\n",
       "<table border=\"1\" class=\"dataframe\">\n",
       "  <thead>\n",
       "    <tr style=\"text-align: right;\">\n",
       "      <th></th>\n",
       "      <th>Rank</th>\n",
       "      <th>Release Group</th>\n",
       "      <th>$Worldwide</th>\n",
       "      <th>$Domestic</th>\n",
       "      <th>Domestic %</th>\n",
       "      <th>$Foreign</th>\n",
       "      <th>Foreign %</th>\n",
       "      <th>Year</th>\n",
       "      <th>Genres</th>\n",
       "      <th>Rating</th>\n",
       "      <th>Vote_Count</th>\n",
       "      <th>Original_Language</th>\n",
       "      <th>Production_Countries</th>\n",
       "    </tr>\n",
       "  </thead>\n",
       "  <tbody>\n",
       "    <tr>\n",
       "      <th>2600</th>\n",
       "      <td>1</td>\n",
       "      <td>Frozen</td>\n",
       "      <td>1.280802e+09</td>\n",
       "      <td>400738009.0</td>\n",
       "      <td>31.3</td>\n",
       "      <td>880064273.0</td>\n",
       "      <td>68.7</td>\n",
       "      <td>2013</td>\n",
       "      <td>Animation, Family, Adventure, Fantasy</td>\n",
       "      <td>7.246/10</td>\n",
       "      <td>16567.0</td>\n",
       "      <td>en</td>\n",
       "      <td>United States of America</td>\n",
       "    </tr>\n",
       "    <tr>\n",
       "      <th>2601</th>\n",
       "      <td>2</td>\n",
       "      <td>Iron Man 3</td>\n",
       "      <td>1.214811e+09</td>\n",
       "      <td>409013994.0</td>\n",
       "      <td>33.7</td>\n",
       "      <td>805797258.0</td>\n",
       "      <td>66.3</td>\n",
       "      <td>2013</td>\n",
       "      <td>Action, Adventure, Science Fiction</td>\n",
       "      <td>6.929/10</td>\n",
       "      <td>22218.0</td>\n",
       "      <td>en</td>\n",
       "      <td>United States of America</td>\n",
       "    </tr>\n",
       "    <tr>\n",
       "      <th>2602</th>\n",
       "      <td>3</td>\n",
       "      <td>Despicable Me 2</td>\n",
       "      <td>9.707660e+08</td>\n",
       "      <td>368065385.0</td>\n",
       "      <td>37.9</td>\n",
       "      <td>602700620.0</td>\n",
       "      <td>62.1</td>\n",
       "      <td>2013</td>\n",
       "      <td>Animation, Comedy, Family</td>\n",
       "      <td>6.931/10</td>\n",
       "      <td>11268.0</td>\n",
       "      <td>en</td>\n",
       "      <td>United States of America</td>\n",
       "    </tr>\n",
       "    <tr>\n",
       "      <th>2603</th>\n",
       "      <td>4</td>\n",
       "      <td>The Hobbit: The Desolation of Smaug</td>\n",
       "      <td>9.583669e+08</td>\n",
       "      <td>258366855.0</td>\n",
       "      <td>27.0</td>\n",
       "      <td>700000000.0</td>\n",
       "      <td>73.0</td>\n",
       "      <td>2013</td>\n",
       "      <td>Fantasy, Adventure, Action</td>\n",
       "      <td>7.575/10</td>\n",
       "      <td>13194.0</td>\n",
       "      <td>en</td>\n",
       "      <td>New Zealand, United States of America</td>\n",
       "    </tr>\n",
       "    <tr>\n",
       "      <th>2604</th>\n",
       "      <td>5</td>\n",
       "      <td>The Hunger Games: Catching Fire</td>\n",
       "      <td>8.650117e+08</td>\n",
       "      <td>424668047.0</td>\n",
       "      <td>49.1</td>\n",
       "      <td>440343699.0</td>\n",
       "      <td>50.9</td>\n",
       "      <td>2013</td>\n",
       "      <td>Adventure, Action, Science Fiction</td>\n",
       "      <td>7.428/10</td>\n",
       "      <td>17352.0</td>\n",
       "      <td>en</td>\n",
       "      <td>United States of America</td>\n",
       "    </tr>\n",
       "    <tr>\n",
       "      <th>...</th>\n",
       "      <td>...</td>\n",
       "      <td>...</td>\n",
       "      <td>...</td>\n",
       "      <td>...</td>\n",
       "      <td>...</td>\n",
       "      <td>...</td>\n",
       "      <td>...</td>\n",
       "      <td>...</td>\n",
       "      <td>...</td>\n",
       "      <td>...</td>\n",
       "      <td>...</td>\n",
       "      <td>...</td>\n",
       "      <td>...</td>\n",
       "    </tr>\n",
       "    <tr>\n",
       "      <th>2795</th>\n",
       "      <td>196</td>\n",
       "      <td>The Tale of The Princess Kaguya</td>\n",
       "      <td>2.447972e+07</td>\n",
       "      <td>703232.0</td>\n",
       "      <td>2.9</td>\n",
       "      <td>23776487.0</td>\n",
       "      <td>97.1</td>\n",
       "      <td>2013</td>\n",
       "      <td>Animation, Drama, Fantasy</td>\n",
       "      <td>8.091/10</td>\n",
       "      <td>1788.0</td>\n",
       "      <td>ja</td>\n",
       "      <td>Japan</td>\n",
       "    </tr>\n",
       "    <tr>\n",
       "      <th>2796</th>\n",
       "      <td>197</td>\n",
       "      <td>Trance</td>\n",
       "      <td>2.426157e+07</td>\n",
       "      <td>2328743.0</td>\n",
       "      <td>9.6</td>\n",
       "      <td>21932826.0</td>\n",
       "      <td>90.4</td>\n",
       "      <td>2013</td>\n",
       "      <td>Thriller, Crime, Drama, Mystery</td>\n",
       "      <td>6.624/10</td>\n",
       "      <td>2174.0</td>\n",
       "      <td>en</td>\n",
       "      <td>France, United Kingdom, United States of America</td>\n",
       "    </tr>\n",
       "    <tr>\n",
       "      <th>2797</th>\n",
       "      <td>198</td>\n",
       "      <td>The Railway Man</td>\n",
       "      <td>2.417488e+07</td>\n",
       "      <td>4438438.0</td>\n",
       "      <td>18.4</td>\n",
       "      <td>19736447.0</td>\n",
       "      <td>81.6</td>\n",
       "      <td>2013</td>\n",
       "      <td>Drama, History</td>\n",
       "      <td>6.858/10</td>\n",
       "      <td>724.0</td>\n",
       "      <td>en</td>\n",
       "      <td>Australia, France, Switzerland, Thailand, Unit...</td>\n",
       "    </tr>\n",
       "    <tr>\n",
       "      <th>2798</th>\n",
       "      <td>199</td>\n",
       "      <td>Out of Inferno</td>\n",
       "      <td>2.410989e+07</td>\n",
       "      <td>0.0</td>\n",
       "      <td>0.0</td>\n",
       "      <td>24109886.0</td>\n",
       "      <td>100.0</td>\n",
       "      <td>2013</td>\n",
       "      <td>Action, Drama</td>\n",
       "      <td>6.073/10</td>\n",
       "      <td>48.0</td>\n",
       "      <td>cn</td>\n",
       "      <td>Hong Kong, China</td>\n",
       "    </tr>\n",
       "    <tr>\n",
       "      <th>2799</th>\n",
       "      <td>200</td>\n",
       "      <td>Bring Happiness Home</td>\n",
       "      <td>2.398000e+07</td>\n",
       "      <td>0.0</td>\n",
       "      <td>0.0</td>\n",
       "      <td>23980000.0</td>\n",
       "      <td>100.0</td>\n",
       "      <td>2013</td>\n",
       "      <td>NaN</td>\n",
       "      <td>2.5/10</td>\n",
       "      <td>4.0</td>\n",
       "      <td>zh</td>\n",
       "      <td>NaN</td>\n",
       "    </tr>\n",
       "  </tbody>\n",
       "</table>\n",
       "<p>200 rows × 13 columns</p>\n",
       "</div>"
      ],
      "text/plain": [
       "      Rank                        Release Group    $Worldwide    $Domestic  \\\n",
       "2600     1                               Frozen  1.280802e+09  400738009.0   \n",
       "2601     2                           Iron Man 3  1.214811e+09  409013994.0   \n",
       "2602     3                      Despicable Me 2  9.707660e+08  368065385.0   \n",
       "2603     4  The Hobbit: The Desolation of Smaug  9.583669e+08  258366855.0   \n",
       "2604     5      The Hunger Games: Catching Fire  8.650117e+08  424668047.0   \n",
       "...    ...                                  ...           ...          ...   \n",
       "2795   196      The Tale of The Princess Kaguya  2.447972e+07     703232.0   \n",
       "2796   197                               Trance  2.426157e+07    2328743.0   \n",
       "2797   198                      The Railway Man  2.417488e+07    4438438.0   \n",
       "2798   199                       Out of Inferno  2.410989e+07          0.0   \n",
       "2799   200                 Bring Happiness Home  2.398000e+07          0.0   \n",
       "\n",
       "      Domestic %     $Foreign  Foreign %  Year  \\\n",
       "2600        31.3  880064273.0       68.7  2013   \n",
       "2601        33.7  805797258.0       66.3  2013   \n",
       "2602        37.9  602700620.0       62.1  2013   \n",
       "2603        27.0  700000000.0       73.0  2013   \n",
       "2604        49.1  440343699.0       50.9  2013   \n",
       "...          ...          ...        ...   ...   \n",
       "2795         2.9   23776487.0       97.1  2013   \n",
       "2796         9.6   21932826.0       90.4  2013   \n",
       "2797        18.4   19736447.0       81.6  2013   \n",
       "2798         0.0   24109886.0      100.0  2013   \n",
       "2799         0.0   23980000.0      100.0  2013   \n",
       "\n",
       "                                     Genres    Rating  Vote_Count  \\\n",
       "2600  Animation, Family, Adventure, Fantasy  7.246/10     16567.0   \n",
       "2601     Action, Adventure, Science Fiction  6.929/10     22218.0   \n",
       "2602              Animation, Comedy, Family  6.931/10     11268.0   \n",
       "2603             Fantasy, Adventure, Action  7.575/10     13194.0   \n",
       "2604     Adventure, Action, Science Fiction  7.428/10     17352.0   \n",
       "...                                     ...       ...         ...   \n",
       "2795              Animation, Drama, Fantasy  8.091/10      1788.0   \n",
       "2796        Thriller, Crime, Drama, Mystery  6.624/10      2174.0   \n",
       "2797                         Drama, History  6.858/10       724.0   \n",
       "2798                          Action, Drama  6.073/10        48.0   \n",
       "2799                                    NaN    2.5/10         4.0   \n",
       "\n",
       "     Original_Language                               Production_Countries  \n",
       "2600                en                           United States of America  \n",
       "2601                en                           United States of America  \n",
       "2602                en                           United States of America  \n",
       "2603                en              New Zealand, United States of America  \n",
       "2604                en                           United States of America  \n",
       "...                ...                                                ...  \n",
       "2795                ja                                              Japan  \n",
       "2796                en   France, United Kingdom, United States of America  \n",
       "2797                en  Australia, France, Switzerland, Thailand, Unit...  \n",
       "2798                cn                                   Hong Kong, China  \n",
       "2799                zh                                                NaN  \n",
       "\n",
       "[200 rows x 13 columns]"
      ]
     },
     "execution_count": 139,
     "metadata": {},
     "output_type": "execute_result"
    }
   ],
   "source": [
    "data.query('Year == 2013')"
   ]
  },
  {
   "cell_type": "markdown",
   "metadata": {},
   "source": [
    "### Удаление колонок\n",
    "\n",
    "Удалим колонку 'Year' из DataFrame. При этом, если мы используем аргумент `inplace=True`, то удаление произойдет в исходном DataFrame, в противном случае будет возвращен новый DataFrame без колонки 'Year'. Хорошим тоном считается не использовать inplace никогда, если позволяет память."
   ]
  },
  {
   "cell_type": "code",
   "execution_count": 140,
   "metadata": {},
   "outputs": [
    {
     "data": {
      "text/html": [
       "<div>\n",
       "<style scoped>\n",
       "    .dataframe tbody tr th:only-of-type {\n",
       "        vertical-align: middle;\n",
       "    }\n",
       "\n",
       "    .dataframe tbody tr th {\n",
       "        vertical-align: top;\n",
       "    }\n",
       "\n",
       "    .dataframe thead th {\n",
       "        text-align: right;\n",
       "    }\n",
       "</style>\n",
       "<table border=\"1\" class=\"dataframe\">\n",
       "  <thead>\n",
       "    <tr style=\"text-align: right;\">\n",
       "      <th></th>\n",
       "      <th>Rank</th>\n",
       "      <th>Release Group</th>\n",
       "      <th>$Worldwide</th>\n",
       "      <th>$Domestic</th>\n",
       "      <th>Domestic %</th>\n",
       "      <th>$Foreign</th>\n",
       "      <th>Foreign %</th>\n",
       "      <th>Genres</th>\n",
       "      <th>Rating</th>\n",
       "      <th>Vote_Count</th>\n",
       "      <th>Original_Language</th>\n",
       "      <th>Production_Countries</th>\n",
       "    </tr>\n",
       "  </thead>\n",
       "  <tbody>\n",
       "    <tr>\n",
       "      <th>0</th>\n",
       "      <td>1</td>\n",
       "      <td>Mission: Impossible II</td>\n",
       "      <td>546388108.0</td>\n",
       "      <td>215409889.0</td>\n",
       "      <td>39.4</td>\n",
       "      <td>330978219.0</td>\n",
       "      <td>60.6</td>\n",
       "      <td>Adventure, Action, Thriller</td>\n",
       "      <td>6.126/10</td>\n",
       "      <td>6741.0</td>\n",
       "      <td>en</td>\n",
       "      <td>United States of America</td>\n",
       "    </tr>\n",
       "    <tr>\n",
       "      <th>1</th>\n",
       "      <td>2</td>\n",
       "      <td>Gladiator</td>\n",
       "      <td>460583960.0</td>\n",
       "      <td>187705427.0</td>\n",
       "      <td>40.8</td>\n",
       "      <td>272878533.0</td>\n",
       "      <td>59.2</td>\n",
       "      <td>Action, Drama, Adventure</td>\n",
       "      <td>8.217/10</td>\n",
       "      <td>19032.0</td>\n",
       "      <td>en</td>\n",
       "      <td>United Kingdom, United States of America</td>\n",
       "    </tr>\n",
       "    <tr>\n",
       "      <th>2</th>\n",
       "      <td>3</td>\n",
       "      <td>Cast Away</td>\n",
       "      <td>429632142.0</td>\n",
       "      <td>233632142.0</td>\n",
       "      <td>54.4</td>\n",
       "      <td>196000000.0</td>\n",
       "      <td>45.6</td>\n",
       "      <td>Adventure, Drama</td>\n",
       "      <td>7.663/10</td>\n",
       "      <td>11403.0</td>\n",
       "      <td>en</td>\n",
       "      <td>United States of America</td>\n",
       "    </tr>\n",
       "    <tr>\n",
       "      <th>3</th>\n",
       "      <td>4</td>\n",
       "      <td>What Women Want</td>\n",
       "      <td>374111707.0</td>\n",
       "      <td>182811707.0</td>\n",
       "      <td>48.9</td>\n",
       "      <td>191300000.0</td>\n",
       "      <td>51.1</td>\n",
       "      <td>Comedy, Romance</td>\n",
       "      <td>6.45/10</td>\n",
       "      <td>3944.0</td>\n",
       "      <td>en</td>\n",
       "      <td>United Kingdom, United States of America</td>\n",
       "    </tr>\n",
       "    <tr>\n",
       "      <th>4</th>\n",
       "      <td>5</td>\n",
       "      <td>Dinosaur</td>\n",
       "      <td>349822765.0</td>\n",
       "      <td>137748063.0</td>\n",
       "      <td>39.4</td>\n",
       "      <td>212074702.0</td>\n",
       "      <td>60.6</td>\n",
       "      <td>Animation, Family, Adventure</td>\n",
       "      <td>6.544/10</td>\n",
       "      <td>2530.0</td>\n",
       "      <td>en</td>\n",
       "      <td>United States of America</td>\n",
       "    </tr>\n",
       "    <tr>\n",
       "      <th>...</th>\n",
       "      <td>...</td>\n",
       "      <td>...</td>\n",
       "      <td>...</td>\n",
       "      <td>...</td>\n",
       "      <td>...</td>\n",
       "      <td>...</td>\n",
       "      <td>...</td>\n",
       "      <td>...</td>\n",
       "      <td>...</td>\n",
       "      <td>...</td>\n",
       "      <td>...</td>\n",
       "      <td>...</td>\n",
       "    </tr>\n",
       "    <tr>\n",
       "      <th>4995</th>\n",
       "      <td>196</td>\n",
       "      <td>Devara Part 1</td>\n",
       "      <td>7361414.0</td>\n",
       "      <td>5600000.0</td>\n",
       "      <td>76.1</td>\n",
       "      <td>1761414.0</td>\n",
       "      <td>23.9</td>\n",
       "      <td>Action, Drama</td>\n",
       "      <td>7.0/10</td>\n",
       "      <td>30.0</td>\n",
       "      <td>te</td>\n",
       "      <td>India</td>\n",
       "    </tr>\n",
       "    <tr>\n",
       "      <th>4996</th>\n",
       "      <td>197</td>\n",
       "      <td>Kolpaçino 4 4'lük</td>\n",
       "      <td>7343114.0</td>\n",
       "      <td>0.0</td>\n",
       "      <td>0.0</td>\n",
       "      <td>7343114.0</td>\n",
       "      <td>100.0</td>\n",
       "      <td>Comedy</td>\n",
       "      <td>4.0/10</td>\n",
       "      <td>4.0</td>\n",
       "      <td>tr</td>\n",
       "      <td>Turkey</td>\n",
       "    </tr>\n",
       "    <tr>\n",
       "      <th>4997</th>\n",
       "      <td>198</td>\n",
       "      <td>Lim Young Woong: Im Hero the Stadium</td>\n",
       "      <td>7305588.0</td>\n",
       "      <td>0.0</td>\n",
       "      <td>0.0</td>\n",
       "      <td>7305588.0</td>\n",
       "      <td>100.0</td>\n",
       "      <td>Music, Documentary</td>\n",
       "      <td>0.0/10</td>\n",
       "      <td>0.0</td>\n",
       "      <td>ko</td>\n",
       "      <td>South Korea</td>\n",
       "    </tr>\n",
       "    <tr>\n",
       "      <th>4998</th>\n",
       "      <td>199</td>\n",
       "      <td>Yolo</td>\n",
       "      <td>7241561.0</td>\n",
       "      <td>2001584.0</td>\n",
       "      <td>27.6</td>\n",
       "      <td>5239977.0</td>\n",
       "      <td>72.4</td>\n",
       "      <td>Drama, Comedy, Action</td>\n",
       "      <td>6.3/10</td>\n",
       "      <td>70.0</td>\n",
       "      <td>zh</td>\n",
       "      <td>China</td>\n",
       "    </tr>\n",
       "    <tr>\n",
       "      <th>4999</th>\n",
       "      <td>200</td>\n",
       "      <td>Sight</td>\n",
       "      <td>7206741.0</td>\n",
       "      <td>7206741.0</td>\n",
       "      <td>100.0</td>\n",
       "      <td>0.0</td>\n",
       "      <td>0.0</td>\n",
       "      <td>Drama, History</td>\n",
       "      <td>6.0/10</td>\n",
       "      <td>23.0</td>\n",
       "      <td>en</td>\n",
       "      <td>United States of America</td>\n",
       "    </tr>\n",
       "  </tbody>\n",
       "</table>\n",
       "<p>5000 rows × 12 columns</p>\n",
       "</div>"
      ],
      "text/plain": [
       "      Rank                         Release Group   $Worldwide    $Domestic  \\\n",
       "0        1                Mission: Impossible II  546388108.0  215409889.0   \n",
       "1        2                             Gladiator  460583960.0  187705427.0   \n",
       "2        3                             Cast Away  429632142.0  233632142.0   \n",
       "3        4                       What Women Want  374111707.0  182811707.0   \n",
       "4        5                              Dinosaur  349822765.0  137748063.0   \n",
       "...    ...                                   ...          ...          ...   \n",
       "4995   196                         Devara Part 1    7361414.0    5600000.0   \n",
       "4996   197                     Kolpaçino 4 4'lük    7343114.0          0.0   \n",
       "4997   198  Lim Young Woong: Im Hero the Stadium    7305588.0          0.0   \n",
       "4998   199                                  Yolo    7241561.0    2001584.0   \n",
       "4999   200                                 Sight    7206741.0    7206741.0   \n",
       "\n",
       "      Domestic %     $Foreign  Foreign %                        Genres  \\\n",
       "0           39.4  330978219.0       60.6   Adventure, Action, Thriller   \n",
       "1           40.8  272878533.0       59.2      Action, Drama, Adventure   \n",
       "2           54.4  196000000.0       45.6              Adventure, Drama   \n",
       "3           48.9  191300000.0       51.1               Comedy, Romance   \n",
       "4           39.4  212074702.0       60.6  Animation, Family, Adventure   \n",
       "...          ...          ...        ...                           ...   \n",
       "4995        76.1    1761414.0       23.9                 Action, Drama   \n",
       "4996         0.0    7343114.0      100.0                        Comedy   \n",
       "4997         0.0    7305588.0      100.0            Music, Documentary   \n",
       "4998        27.6    5239977.0       72.4         Drama, Comedy, Action   \n",
       "4999       100.0          0.0        0.0                Drama, History   \n",
       "\n",
       "        Rating  Vote_Count Original_Language  \\\n",
       "0     6.126/10      6741.0                en   \n",
       "1     8.217/10     19032.0                en   \n",
       "2     7.663/10     11403.0                en   \n",
       "3      6.45/10      3944.0                en   \n",
       "4     6.544/10      2530.0                en   \n",
       "...        ...         ...               ...   \n",
       "4995    7.0/10        30.0                te   \n",
       "4996    4.0/10         4.0                tr   \n",
       "4997    0.0/10         0.0                ko   \n",
       "4998    6.3/10        70.0                zh   \n",
       "4999    6.0/10        23.0                en   \n",
       "\n",
       "                          Production_Countries  \n",
       "0                     United States of America  \n",
       "1     United Kingdom, United States of America  \n",
       "2                     United States of America  \n",
       "3     United Kingdom, United States of America  \n",
       "4                     United States of America  \n",
       "...                                        ...  \n",
       "4995                                     India  \n",
       "4996                                    Turkey  \n",
       "4997                               South Korea  \n",
       "4998                                     China  \n",
       "4999                  United States of America  \n",
       "\n",
       "[5000 rows x 12 columns]"
      ]
     },
     "execution_count": 140,
     "metadata": {},
     "output_type": "execute_result"
    }
   ],
   "source": [
    "deleted_year_data = data.drop(columns=['Year']) # удаление колонки 'Year'. Возвращается новый DataFrame\n",
    "                                                # без колонки 'Year'\n",
    "\n",
    "# при использовании аргумента inplace=True удаление колонки происходит в исходном DataFrame:\n",
    "# data.drop(columns=['Year'], inplace=True)\n",
    "    \n",
    "deleted_year_data"
   ]
  },
  {
   "cell_type": "markdown",
   "metadata": {},
   "source": [
    "Сам датафрейм `data` остался в прежнем виде:"
   ]
  },
  {
   "cell_type": "code",
   "execution_count": 141,
   "metadata": {},
   "outputs": [
    {
     "data": {
      "text/html": [
       "<div>\n",
       "<style scoped>\n",
       "    .dataframe tbody tr th:only-of-type {\n",
       "        vertical-align: middle;\n",
       "    }\n",
       "\n",
       "    .dataframe tbody tr th {\n",
       "        vertical-align: top;\n",
       "    }\n",
       "\n",
       "    .dataframe thead th {\n",
       "        text-align: right;\n",
       "    }\n",
       "</style>\n",
       "<table border=\"1\" class=\"dataframe\">\n",
       "  <thead>\n",
       "    <tr style=\"text-align: right;\">\n",
       "      <th></th>\n",
       "      <th>Rank</th>\n",
       "      <th>Release Group</th>\n",
       "      <th>$Worldwide</th>\n",
       "      <th>$Domestic</th>\n",
       "      <th>Domestic %</th>\n",
       "      <th>$Foreign</th>\n",
       "      <th>Foreign %</th>\n",
       "      <th>Year</th>\n",
       "      <th>Genres</th>\n",
       "      <th>Rating</th>\n",
       "      <th>Vote_Count</th>\n",
       "      <th>Original_Language</th>\n",
       "      <th>Production_Countries</th>\n",
       "    </tr>\n",
       "  </thead>\n",
       "  <tbody>\n",
       "    <tr>\n",
       "      <th>0</th>\n",
       "      <td>1</td>\n",
       "      <td>Mission: Impossible II</td>\n",
       "      <td>546388108.0</td>\n",
       "      <td>215409889.0</td>\n",
       "      <td>39.4</td>\n",
       "      <td>330978219.0</td>\n",
       "      <td>60.6</td>\n",
       "      <td>2000</td>\n",
       "      <td>Adventure, Action, Thriller</td>\n",
       "      <td>6.126/10</td>\n",
       "      <td>6741.0</td>\n",
       "      <td>en</td>\n",
       "      <td>United States of America</td>\n",
       "    </tr>\n",
       "    <tr>\n",
       "      <th>1</th>\n",
       "      <td>2</td>\n",
       "      <td>Gladiator</td>\n",
       "      <td>460583960.0</td>\n",
       "      <td>187705427.0</td>\n",
       "      <td>40.8</td>\n",
       "      <td>272878533.0</td>\n",
       "      <td>59.2</td>\n",
       "      <td>2000</td>\n",
       "      <td>Action, Drama, Adventure</td>\n",
       "      <td>8.217/10</td>\n",
       "      <td>19032.0</td>\n",
       "      <td>en</td>\n",
       "      <td>United Kingdom, United States of America</td>\n",
       "    </tr>\n",
       "    <tr>\n",
       "      <th>2</th>\n",
       "      <td>3</td>\n",
       "      <td>Cast Away</td>\n",
       "      <td>429632142.0</td>\n",
       "      <td>233632142.0</td>\n",
       "      <td>54.4</td>\n",
       "      <td>196000000.0</td>\n",
       "      <td>45.6</td>\n",
       "      <td>2000</td>\n",
       "      <td>Adventure, Drama</td>\n",
       "      <td>7.663/10</td>\n",
       "      <td>11403.0</td>\n",
       "      <td>en</td>\n",
       "      <td>United States of America</td>\n",
       "    </tr>\n",
       "    <tr>\n",
       "      <th>3</th>\n",
       "      <td>4</td>\n",
       "      <td>What Women Want</td>\n",
       "      <td>374111707.0</td>\n",
       "      <td>182811707.0</td>\n",
       "      <td>48.9</td>\n",
       "      <td>191300000.0</td>\n",
       "      <td>51.1</td>\n",
       "      <td>2000</td>\n",
       "      <td>Comedy, Romance</td>\n",
       "      <td>6.45/10</td>\n",
       "      <td>3944.0</td>\n",
       "      <td>en</td>\n",
       "      <td>United Kingdom, United States of America</td>\n",
       "    </tr>\n",
       "    <tr>\n",
       "      <th>4</th>\n",
       "      <td>5</td>\n",
       "      <td>Dinosaur</td>\n",
       "      <td>349822765.0</td>\n",
       "      <td>137748063.0</td>\n",
       "      <td>39.4</td>\n",
       "      <td>212074702.0</td>\n",
       "      <td>60.6</td>\n",
       "      <td>2000</td>\n",
       "      <td>Animation, Family, Adventure</td>\n",
       "      <td>6.544/10</td>\n",
       "      <td>2530.0</td>\n",
       "      <td>en</td>\n",
       "      <td>United States of America</td>\n",
       "    </tr>\n",
       "    <tr>\n",
       "      <th>...</th>\n",
       "      <td>...</td>\n",
       "      <td>...</td>\n",
       "      <td>...</td>\n",
       "      <td>...</td>\n",
       "      <td>...</td>\n",
       "      <td>...</td>\n",
       "      <td>...</td>\n",
       "      <td>...</td>\n",
       "      <td>...</td>\n",
       "      <td>...</td>\n",
       "      <td>...</td>\n",
       "      <td>...</td>\n",
       "      <td>...</td>\n",
       "    </tr>\n",
       "    <tr>\n",
       "      <th>4995</th>\n",
       "      <td>196</td>\n",
       "      <td>Devara Part 1</td>\n",
       "      <td>7361414.0</td>\n",
       "      <td>5600000.0</td>\n",
       "      <td>76.1</td>\n",
       "      <td>1761414.0</td>\n",
       "      <td>23.9</td>\n",
       "      <td>2024</td>\n",
       "      <td>Action, Drama</td>\n",
       "      <td>7.0/10</td>\n",
       "      <td>30.0</td>\n",
       "      <td>te</td>\n",
       "      <td>India</td>\n",
       "    </tr>\n",
       "    <tr>\n",
       "      <th>4996</th>\n",
       "      <td>197</td>\n",
       "      <td>Kolpaçino 4 4'lük</td>\n",
       "      <td>7343114.0</td>\n",
       "      <td>0.0</td>\n",
       "      <td>0.0</td>\n",
       "      <td>7343114.0</td>\n",
       "      <td>100.0</td>\n",
       "      <td>2024</td>\n",
       "      <td>Comedy</td>\n",
       "      <td>4.0/10</td>\n",
       "      <td>4.0</td>\n",
       "      <td>tr</td>\n",
       "      <td>Turkey</td>\n",
       "    </tr>\n",
       "    <tr>\n",
       "      <th>4997</th>\n",
       "      <td>198</td>\n",
       "      <td>Lim Young Woong: Im Hero the Stadium</td>\n",
       "      <td>7305588.0</td>\n",
       "      <td>0.0</td>\n",
       "      <td>0.0</td>\n",
       "      <td>7305588.0</td>\n",
       "      <td>100.0</td>\n",
       "      <td>2024</td>\n",
       "      <td>Music, Documentary</td>\n",
       "      <td>0.0/10</td>\n",
       "      <td>0.0</td>\n",
       "      <td>ko</td>\n",
       "      <td>South Korea</td>\n",
       "    </tr>\n",
       "    <tr>\n",
       "      <th>4998</th>\n",
       "      <td>199</td>\n",
       "      <td>Yolo</td>\n",
       "      <td>7241561.0</td>\n",
       "      <td>2001584.0</td>\n",
       "      <td>27.6</td>\n",
       "      <td>5239977.0</td>\n",
       "      <td>72.4</td>\n",
       "      <td>2024</td>\n",
       "      <td>Drama, Comedy, Action</td>\n",
       "      <td>6.3/10</td>\n",
       "      <td>70.0</td>\n",
       "      <td>zh</td>\n",
       "      <td>China</td>\n",
       "    </tr>\n",
       "    <tr>\n",
       "      <th>4999</th>\n",
       "      <td>200</td>\n",
       "      <td>Sight</td>\n",
       "      <td>7206741.0</td>\n",
       "      <td>7206741.0</td>\n",
       "      <td>100.0</td>\n",
       "      <td>0.0</td>\n",
       "      <td>0.0</td>\n",
       "      <td>2024</td>\n",
       "      <td>Drama, History</td>\n",
       "      <td>6.0/10</td>\n",
       "      <td>23.0</td>\n",
       "      <td>en</td>\n",
       "      <td>United States of America</td>\n",
       "    </tr>\n",
       "  </tbody>\n",
       "</table>\n",
       "<p>5000 rows × 13 columns</p>\n",
       "</div>"
      ],
      "text/plain": [
       "      Rank                         Release Group   $Worldwide    $Domestic  \\\n",
       "0        1                Mission: Impossible II  546388108.0  215409889.0   \n",
       "1        2                             Gladiator  460583960.0  187705427.0   \n",
       "2        3                             Cast Away  429632142.0  233632142.0   \n",
       "3        4                       What Women Want  374111707.0  182811707.0   \n",
       "4        5                              Dinosaur  349822765.0  137748063.0   \n",
       "...    ...                                   ...          ...          ...   \n",
       "4995   196                         Devara Part 1    7361414.0    5600000.0   \n",
       "4996   197                     Kolpaçino 4 4'lük    7343114.0          0.0   \n",
       "4997   198  Lim Young Woong: Im Hero the Stadium    7305588.0          0.0   \n",
       "4998   199                                  Yolo    7241561.0    2001584.0   \n",
       "4999   200                                 Sight    7206741.0    7206741.0   \n",
       "\n",
       "      Domestic %     $Foreign  Foreign %  Year                        Genres  \\\n",
       "0           39.4  330978219.0       60.6  2000   Adventure, Action, Thriller   \n",
       "1           40.8  272878533.0       59.2  2000      Action, Drama, Adventure   \n",
       "2           54.4  196000000.0       45.6  2000              Adventure, Drama   \n",
       "3           48.9  191300000.0       51.1  2000               Comedy, Romance   \n",
       "4           39.4  212074702.0       60.6  2000  Animation, Family, Adventure   \n",
       "...          ...          ...        ...   ...                           ...   \n",
       "4995        76.1    1761414.0       23.9  2024                 Action, Drama   \n",
       "4996         0.0    7343114.0      100.0  2024                        Comedy   \n",
       "4997         0.0    7305588.0      100.0  2024            Music, Documentary   \n",
       "4998        27.6    5239977.0       72.4  2024         Drama, Comedy, Action   \n",
       "4999       100.0          0.0        0.0  2024                Drama, History   \n",
       "\n",
       "        Rating  Vote_Count Original_Language  \\\n",
       "0     6.126/10      6741.0                en   \n",
       "1     8.217/10     19032.0                en   \n",
       "2     7.663/10     11403.0                en   \n",
       "3      6.45/10      3944.0                en   \n",
       "4     6.544/10      2530.0                en   \n",
       "...        ...         ...               ...   \n",
       "4995    7.0/10        30.0                te   \n",
       "4996    4.0/10         4.0                tr   \n",
       "4997    0.0/10         0.0                ko   \n",
       "4998    6.3/10        70.0                zh   \n",
       "4999    6.0/10        23.0                en   \n",
       "\n",
       "                          Production_Countries  \n",
       "0                     United States of America  \n",
       "1     United Kingdom, United States of America  \n",
       "2                     United States of America  \n",
       "3     United Kingdom, United States of America  \n",
       "4                     United States of America  \n",
       "...                                        ...  \n",
       "4995                                     India  \n",
       "4996                                    Turkey  \n",
       "4997                               South Korea  \n",
       "4998                                     China  \n",
       "4999                  United States of America  \n",
       "\n",
       "[5000 rows x 13 columns]"
      ]
     },
     "execution_count": 141,
     "metadata": {},
     "output_type": "execute_result"
    }
   ],
   "source": [
    "data"
   ]
  },
  {
   "cell_type": "markdown",
   "metadata": {},
   "source": [
    "### Изменение значений в колонке\n",
    "\n",
    "Мы можем манипуляровать значениями в колонке, используя арифметические операции. Например, мы можем добавить 1 к каждому значению в колонке 'Year'.\n",
    "\n",
    "Мы также можем присваивать новые значения в колонку: исходную или новую."
   ]
  },
  {
   "cell_type": "code",
   "execution_count": 142,
   "metadata": {},
   "outputs": [
    {
     "data": {
      "text/plain": [
       "0       2000\n",
       "1       2000\n",
       "2       2000\n",
       "3       2000\n",
       "4       2000\n",
       "        ... \n",
       "4995    2024\n",
       "4996    2024\n",
       "4997    2024\n",
       "4998    2024\n",
       "4999    2024\n",
       "Name: Year, Length: 5000, dtype: int64"
      ]
     },
     "execution_count": 142,
     "metadata": {},
     "output_type": "execute_result"
    }
   ],
   "source": [
    "data['Year']"
   ]
  },
  {
   "cell_type": "code",
   "execution_count": 143,
   "metadata": {},
   "outputs": [
    {
     "data": {
      "text/plain": [
       "0       2001\n",
       "1       2001\n",
       "2       2001\n",
       "3       2001\n",
       "4       2001\n",
       "        ... \n",
       "4995    2025\n",
       "4996    2025\n",
       "4997    2025\n",
       "4998    2025\n",
       "4999    2025\n",
       "Name: Year, Length: 5000, dtype: int64"
      ]
     },
     "execution_count": 143,
     "metadata": {},
     "output_type": "execute_result"
    }
   ],
   "source": [
    "data['Year'] + 1  # изменение значения в колонке 'Year' на 1\n",
    "                  # сейчас мы просто вернули новый столбец, который содержит измененные значения, исходные\n",
    "                  # данные не изменились"
   ]
  },
  {
   "cell_type": "markdown",
   "metadata": {},
   "source": [
    "А изменить значения в колонке можно путем присваивания новых значений объекту колонки:"
   ]
  },
  {
   "cell_type": "code",
   "execution_count": 144,
   "metadata": {},
   "outputs": [
    {
     "data": {
      "text/plain": [
       "0       2001\n",
       "1       2001\n",
       "2       2001\n",
       "3       2001\n",
       "4       2001\n",
       "        ... \n",
       "4995    2025\n",
       "4996    2025\n",
       "4997    2025\n",
       "4998    2025\n",
       "4999    2025\n",
       "Name: Year, Length: 5000, dtype: int64"
      ]
     },
     "execution_count": 144,
     "metadata": {},
     "output_type": "execute_result"
    }
   ],
   "source": [
    "# присваивание нового значения в колонку:\n",
    "data['Year'] = data['Year'] + 1  # изменение значения в колонке 'Year' на 1\n",
    "                                 # сейчас мы изменили исходный DataFrame\n",
    "    \n",
    "data['Year']"
   ]
  },
  {
   "cell_type": "code",
   "execution_count": 145,
   "metadata": {},
   "outputs": [],
   "source": [
    "data['Year'] += 1"
   ]
  },
  {
   "cell_type": "markdown",
   "metadata": {},
   "source": [
    "Можем добавить к датафрейму еще одну колонку на основе значений из существующей:"
   ]
  },
  {
   "cell_type": "code",
   "execution_count": 147,
   "metadata": {},
   "outputs": [
    {
     "data": {
      "text/html": [
       "<div>\n",
       "<style scoped>\n",
       "    .dataframe tbody tr th:only-of-type {\n",
       "        vertical-align: middle;\n",
       "    }\n",
       "\n",
       "    .dataframe tbody tr th {\n",
       "        vertical-align: top;\n",
       "    }\n",
       "\n",
       "    .dataframe thead th {\n",
       "        text-align: right;\n",
       "    }\n",
       "</style>\n",
       "<table border=\"1\" class=\"dataframe\">\n",
       "  <thead>\n",
       "    <tr style=\"text-align: right;\">\n",
       "      <th></th>\n",
       "      <th>Rank</th>\n",
       "      <th>Release Group</th>\n",
       "      <th>$Worldwide</th>\n",
       "      <th>$Domestic</th>\n",
       "      <th>Domestic %</th>\n",
       "      <th>$Foreign</th>\n",
       "      <th>Foreign %</th>\n",
       "      <th>Year</th>\n",
       "      <th>Genres</th>\n",
       "      <th>Rating</th>\n",
       "      <th>Vote_Count</th>\n",
       "      <th>Original_Language</th>\n",
       "      <th>Production_Countries</th>\n",
       "      <th>Year_p2</th>\n",
       "    </tr>\n",
       "  </thead>\n",
       "  <tbody>\n",
       "    <tr>\n",
       "      <th>0</th>\n",
       "      <td>1</td>\n",
       "      <td>Mission: Impossible II</td>\n",
       "      <td>546388108.0</td>\n",
       "      <td>215409889.0</td>\n",
       "      <td>39.4</td>\n",
       "      <td>330978219.0</td>\n",
       "      <td>60.6</td>\n",
       "      <td>2002</td>\n",
       "      <td>Adventure, Action, Thriller</td>\n",
       "      <td>6.126/10</td>\n",
       "      <td>6741.0</td>\n",
       "      <td>en</td>\n",
       "      <td>United States of America</td>\n",
       "      <td>2004</td>\n",
       "    </tr>\n",
       "    <tr>\n",
       "      <th>1</th>\n",
       "      <td>2</td>\n",
       "      <td>Gladiator</td>\n",
       "      <td>460583960.0</td>\n",
       "      <td>187705427.0</td>\n",
       "      <td>40.8</td>\n",
       "      <td>272878533.0</td>\n",
       "      <td>59.2</td>\n",
       "      <td>2002</td>\n",
       "      <td>Action, Drama, Adventure</td>\n",
       "      <td>8.217/10</td>\n",
       "      <td>19032.0</td>\n",
       "      <td>en</td>\n",
       "      <td>United Kingdom, United States of America</td>\n",
       "      <td>2004</td>\n",
       "    </tr>\n",
       "    <tr>\n",
       "      <th>2</th>\n",
       "      <td>3</td>\n",
       "      <td>Cast Away</td>\n",
       "      <td>429632142.0</td>\n",
       "      <td>233632142.0</td>\n",
       "      <td>54.4</td>\n",
       "      <td>196000000.0</td>\n",
       "      <td>45.6</td>\n",
       "      <td>2002</td>\n",
       "      <td>Adventure, Drama</td>\n",
       "      <td>7.663/10</td>\n",
       "      <td>11403.0</td>\n",
       "      <td>en</td>\n",
       "      <td>United States of America</td>\n",
       "      <td>2004</td>\n",
       "    </tr>\n",
       "    <tr>\n",
       "      <th>3</th>\n",
       "      <td>4</td>\n",
       "      <td>What Women Want</td>\n",
       "      <td>374111707.0</td>\n",
       "      <td>182811707.0</td>\n",
       "      <td>48.9</td>\n",
       "      <td>191300000.0</td>\n",
       "      <td>51.1</td>\n",
       "      <td>2002</td>\n",
       "      <td>Comedy, Romance</td>\n",
       "      <td>6.45/10</td>\n",
       "      <td>3944.0</td>\n",
       "      <td>en</td>\n",
       "      <td>United Kingdom, United States of America</td>\n",
       "      <td>2004</td>\n",
       "    </tr>\n",
       "    <tr>\n",
       "      <th>4</th>\n",
       "      <td>5</td>\n",
       "      <td>Dinosaur</td>\n",
       "      <td>349822765.0</td>\n",
       "      <td>137748063.0</td>\n",
       "      <td>39.4</td>\n",
       "      <td>212074702.0</td>\n",
       "      <td>60.6</td>\n",
       "      <td>2002</td>\n",
       "      <td>Animation, Family, Adventure</td>\n",
       "      <td>6.544/10</td>\n",
       "      <td>2530.0</td>\n",
       "      <td>en</td>\n",
       "      <td>United States of America</td>\n",
       "      <td>2004</td>\n",
       "    </tr>\n",
       "    <tr>\n",
       "      <th>...</th>\n",
       "      <td>...</td>\n",
       "      <td>...</td>\n",
       "      <td>...</td>\n",
       "      <td>...</td>\n",
       "      <td>...</td>\n",
       "      <td>...</td>\n",
       "      <td>...</td>\n",
       "      <td>...</td>\n",
       "      <td>...</td>\n",
       "      <td>...</td>\n",
       "      <td>...</td>\n",
       "      <td>...</td>\n",
       "      <td>...</td>\n",
       "      <td>...</td>\n",
       "    </tr>\n",
       "    <tr>\n",
       "      <th>4995</th>\n",
       "      <td>196</td>\n",
       "      <td>Devara Part 1</td>\n",
       "      <td>7361414.0</td>\n",
       "      <td>5600000.0</td>\n",
       "      <td>76.1</td>\n",
       "      <td>1761414.0</td>\n",
       "      <td>23.9</td>\n",
       "      <td>2026</td>\n",
       "      <td>Action, Drama</td>\n",
       "      <td>7.0/10</td>\n",
       "      <td>30.0</td>\n",
       "      <td>te</td>\n",
       "      <td>India</td>\n",
       "      <td>2028</td>\n",
       "    </tr>\n",
       "    <tr>\n",
       "      <th>4996</th>\n",
       "      <td>197</td>\n",
       "      <td>Kolpaçino 4 4'lük</td>\n",
       "      <td>7343114.0</td>\n",
       "      <td>0.0</td>\n",
       "      <td>0.0</td>\n",
       "      <td>7343114.0</td>\n",
       "      <td>100.0</td>\n",
       "      <td>2026</td>\n",
       "      <td>Comedy</td>\n",
       "      <td>4.0/10</td>\n",
       "      <td>4.0</td>\n",
       "      <td>tr</td>\n",
       "      <td>Turkey</td>\n",
       "      <td>2028</td>\n",
       "    </tr>\n",
       "    <tr>\n",
       "      <th>4997</th>\n",
       "      <td>198</td>\n",
       "      <td>Lim Young Woong: Im Hero the Stadium</td>\n",
       "      <td>7305588.0</td>\n",
       "      <td>0.0</td>\n",
       "      <td>0.0</td>\n",
       "      <td>7305588.0</td>\n",
       "      <td>100.0</td>\n",
       "      <td>2026</td>\n",
       "      <td>Music, Documentary</td>\n",
       "      <td>0.0/10</td>\n",
       "      <td>0.0</td>\n",
       "      <td>ko</td>\n",
       "      <td>South Korea</td>\n",
       "      <td>2028</td>\n",
       "    </tr>\n",
       "    <tr>\n",
       "      <th>4998</th>\n",
       "      <td>199</td>\n",
       "      <td>Yolo</td>\n",
       "      <td>7241561.0</td>\n",
       "      <td>2001584.0</td>\n",
       "      <td>27.6</td>\n",
       "      <td>5239977.0</td>\n",
       "      <td>72.4</td>\n",
       "      <td>2026</td>\n",
       "      <td>Drama, Comedy, Action</td>\n",
       "      <td>6.3/10</td>\n",
       "      <td>70.0</td>\n",
       "      <td>zh</td>\n",
       "      <td>China</td>\n",
       "      <td>2028</td>\n",
       "    </tr>\n",
       "    <tr>\n",
       "      <th>4999</th>\n",
       "      <td>200</td>\n",
       "      <td>Sight</td>\n",
       "      <td>7206741.0</td>\n",
       "      <td>7206741.0</td>\n",
       "      <td>100.0</td>\n",
       "      <td>0.0</td>\n",
       "      <td>0.0</td>\n",
       "      <td>2026</td>\n",
       "      <td>Drama, History</td>\n",
       "      <td>6.0/10</td>\n",
       "      <td>23.0</td>\n",
       "      <td>en</td>\n",
       "      <td>United States of America</td>\n",
       "      <td>2028</td>\n",
       "    </tr>\n",
       "  </tbody>\n",
       "</table>\n",
       "<p>5000 rows × 14 columns</p>\n",
       "</div>"
      ],
      "text/plain": [
       "      Rank                         Release Group   $Worldwide    $Domestic  \\\n",
       "0        1                Mission: Impossible II  546388108.0  215409889.0   \n",
       "1        2                             Gladiator  460583960.0  187705427.0   \n",
       "2        3                             Cast Away  429632142.0  233632142.0   \n",
       "3        4                       What Women Want  374111707.0  182811707.0   \n",
       "4        5                              Dinosaur  349822765.0  137748063.0   \n",
       "...    ...                                   ...          ...          ...   \n",
       "4995   196                         Devara Part 1    7361414.0    5600000.0   \n",
       "4996   197                     Kolpaçino 4 4'lük    7343114.0          0.0   \n",
       "4997   198  Lim Young Woong: Im Hero the Stadium    7305588.0          0.0   \n",
       "4998   199                                  Yolo    7241561.0    2001584.0   \n",
       "4999   200                                 Sight    7206741.0    7206741.0   \n",
       "\n",
       "      Domestic %     $Foreign  Foreign %  Year                        Genres  \\\n",
       "0           39.4  330978219.0       60.6  2002   Adventure, Action, Thriller   \n",
       "1           40.8  272878533.0       59.2  2002      Action, Drama, Adventure   \n",
       "2           54.4  196000000.0       45.6  2002              Adventure, Drama   \n",
       "3           48.9  191300000.0       51.1  2002               Comedy, Romance   \n",
       "4           39.4  212074702.0       60.6  2002  Animation, Family, Adventure   \n",
       "...          ...          ...        ...   ...                           ...   \n",
       "4995        76.1    1761414.0       23.9  2026                 Action, Drama   \n",
       "4996         0.0    7343114.0      100.0  2026                        Comedy   \n",
       "4997         0.0    7305588.0      100.0  2026            Music, Documentary   \n",
       "4998        27.6    5239977.0       72.4  2026         Drama, Comedy, Action   \n",
       "4999       100.0          0.0        0.0  2026                Drama, History   \n",
       "\n",
       "        Rating  Vote_Count Original_Language  \\\n",
       "0     6.126/10      6741.0                en   \n",
       "1     8.217/10     19032.0                en   \n",
       "2     7.663/10     11403.0                en   \n",
       "3      6.45/10      3944.0                en   \n",
       "4     6.544/10      2530.0                en   \n",
       "...        ...         ...               ...   \n",
       "4995    7.0/10        30.0                te   \n",
       "4996    4.0/10         4.0                tr   \n",
       "4997    0.0/10         0.0                ko   \n",
       "4998    6.3/10        70.0                zh   \n",
       "4999    6.0/10        23.0                en   \n",
       "\n",
       "                          Production_Countries  Year_p2  \n",
       "0                     United States of America     2004  \n",
       "1     United Kingdom, United States of America     2004  \n",
       "2                     United States of America     2004  \n",
       "3     United Kingdom, United States of America     2004  \n",
       "4                     United States of America     2004  \n",
       "...                                        ...      ...  \n",
       "4995                                     India     2028  \n",
       "4996                                    Turkey     2028  \n",
       "4997                               South Korea     2028  \n",
       "4998                                     China     2028  \n",
       "4999                  United States of America     2028  \n",
       "\n",
       "[5000 rows x 14 columns]"
      ]
     },
     "execution_count": 147,
     "metadata": {},
     "output_type": "execute_result"
    }
   ],
   "source": [
    "data['Year_p2'] = data['Year'] + 2\n",
    "\n",
    "data"
   ]
  },
  {
   "cell_type": "markdown",
   "metadata": {},
   "source": [
    "То же самое можно сделать, используя метод `assign` для добавления нового столбца:"
   ]
  },
  {
   "cell_type": "code",
   "execution_count": 148,
   "metadata": {},
   "outputs": [],
   "source": [
    "data = data.assign(Year_p1=data['Year'] + 1)  # добавление нового столбца 'Year_p1' с измененными значениями\n",
    "                                              # сейчас мы изменили исходный DataFrame"
   ]
  },
  {
   "cell_type": "markdown",
   "metadata": {},
   "source": [
    "Мы также можем проводить операции между несколькими столбцами, например, суммировать их:"
   ]
  },
  {
   "cell_type": "code",
   "execution_count": 149,
   "metadata": {},
   "outputs": [
    {
     "data": {
      "text/plain": [
       "0       546388108.0\n",
       "1       460583960.0\n",
       "2       429632142.0\n",
       "3       374111707.0\n",
       "4       349822765.0\n",
       "           ...     \n",
       "4995      7361414.0\n",
       "4996      7343114.0\n",
       "4997      7305588.0\n",
       "4998      7241561.0\n",
       "4999      7206741.0\n",
       "Length: 5000, dtype: float64"
      ]
     },
     "execution_count": 149,
     "metadata": {},
     "output_type": "execute_result"
    }
   ],
   "source": [
    "data['$Domestic'] + data['$Foreign'] # суммирование значений двух столбцов"
   ]
  },
  {
   "cell_type": "markdown",
   "metadata": {},
   "source": [
    "### Группировка данных\n",
    "\n",
    "Мы можем группировать данные по одному или нескольким столбцам и применять к ним различные агрегационные функции. Например, мы можем группировать данные по столбцу 'Production_Countries' и суммировать значения столбца '$Worldwide' по группам.\n",
    "\n",
    "Группировка в pandas аналогична группировке в SQL."
   ]
  },
  {
   "cell_type": "code",
   "execution_count": 150,
   "metadata": {},
   "outputs": [
    {
     "data": {
      "text/plain": [
       "Production_Countries\n",
       "Algeria, Belgium, France, Morocco                               22963701.0\n",
       "Argentina                                                       12413888.0\n",
       "Argentina, France, United Kingdom, United States of America     57663224.0\n",
       "Argentina, Spain                                                75331238.0\n",
       "Argentina, United States of America                              7627100.0\n",
       "                                                                  ...     \n",
       "United States of America, United Kingdom, Australia            103967384.0\n",
       "United States of America, United Kingdom, France               256980023.0\n",
       "United States of America, United Kingdom, Germany, France      132274484.0\n",
       "United States of America, United Kingdom, Romania, Italy       173013509.0\n",
       "Vietnam                                                         82626956.0\n",
       "Name: $Worldwide, Length: 510, dtype: float64"
      ]
     },
     "execution_count": 150,
     "metadata": {},
     "output_type": "execute_result"
    }
   ],
   "source": [
    "data.groupby('Production_Countries')['$Worldwide'].sum()  # группировка по столбцу 'Production_Countries'\n",
    "                                                          # и суммирование значений столбца '$Worldwide'\n",
    "                                                          # внутри групп"
   ]
  },
  {
   "cell_type": "markdown",
   "metadata": {},
   "source": [
    "Стоит учитывать, что результат метода groupby - объект специального типа `DataFrameGroupBy`, а не датафрейм. Так сделано из-за того, что при группировке могут возникать сложные индексы, логика работы с которыми совсем не такая, как с индексами датафрейма."
   ]
  },
  {
   "cell_type": "code",
   "execution_count": 153,
   "metadata": {},
   "outputs": [
    {
     "data": {
      "text/plain": [
       "Production_Countries\n",
       "Algeria, Belgium, France, Morocco                              2.296370e+07\n",
       "Argentina                                                      1.241389e+07\n",
       "Argentina, France, United Kingdom, United States of America    5.766322e+07\n",
       "Argentina, Spain                                               2.511041e+07\n",
       "Argentina, United States of America                            7.627100e+06\n",
       "                                                                   ...     \n",
       "United States of America, United Kingdom, Australia            1.039674e+08\n",
       "United States of America, United Kingdom, France               1.284900e+08\n",
       "United States of America, United Kingdom, Germany, France      1.322745e+08\n",
       "United States of America, United Kingdom, Romania, Italy       1.730135e+08\n",
       "Vietnam                                                        1.377116e+07\n",
       "Name: $Worldwide, Length: 510, dtype: float64"
      ]
     },
     "execution_count": 153,
     "metadata": {},
     "output_type": "execute_result"
    }
   ],
   "source": [
    "data.groupby('Production_Countries')['$Worldwide'].mean()"
   ]
  },
  {
   "cell_type": "markdown",
   "metadata": {},
   "source": [
    "## Введение в исследование данных"
   ]
  },
  {
   "cell_type": "markdown",
   "metadata": {},
   "source": [
    "Для вывода основных статистических характеристик данных используется метод `describe`:"
   ]
  },
  {
   "cell_type": "code",
   "execution_count": 154,
   "metadata": {},
   "outputs": [
    {
     "data": {
      "text/html": [
       "<div>\n",
       "<style scoped>\n",
       "    .dataframe tbody tr th:only-of-type {\n",
       "        vertical-align: middle;\n",
       "    }\n",
       "\n",
       "    .dataframe tbody tr th {\n",
       "        vertical-align: top;\n",
       "    }\n",
       "\n",
       "    .dataframe thead th {\n",
       "        text-align: right;\n",
       "    }\n",
       "</style>\n",
       "<table border=\"1\" class=\"dataframe\">\n",
       "  <thead>\n",
       "    <tr style=\"text-align: right;\">\n",
       "      <th></th>\n",
       "      <th>Rank</th>\n",
       "      <th>$Worldwide</th>\n",
       "      <th>$Domestic</th>\n",
       "      <th>Domestic %</th>\n",
       "      <th>$Foreign</th>\n",
       "      <th>Foreign %</th>\n",
       "      <th>Year</th>\n",
       "      <th>Vote_Count</th>\n",
       "      <th>Year_p2</th>\n",
       "      <th>Year_p1</th>\n",
       "    </tr>\n",
       "  </thead>\n",
       "  <tbody>\n",
       "    <tr>\n",
       "      <th>count</th>\n",
       "      <td>5000.00000</td>\n",
       "      <td>5.000000e+03</td>\n",
       "      <td>5.000000e+03</td>\n",
       "      <td>5000.000000</td>\n",
       "      <td>5.000000e+03</td>\n",
       "      <td>5000.000000</td>\n",
       "      <td>5000.000000</td>\n",
       "      <td>4830.000000</td>\n",
       "      <td>5000.000000</td>\n",
       "      <td>5000.000000</td>\n",
       "    </tr>\n",
       "    <tr>\n",
       "      <th>mean</th>\n",
       "      <td>100.50000</td>\n",
       "      <td>1.192137e+08</td>\n",
       "      <td>4.472523e+07</td>\n",
       "      <td>35.740620</td>\n",
       "      <td>7.448809e+07</td>\n",
       "      <td>64.256640</td>\n",
       "      <td>2014.000000</td>\n",
       "      <td>2531.585921</td>\n",
       "      <td>2016.000000</td>\n",
       "      <td>2015.000000</td>\n",
       "    </tr>\n",
       "    <tr>\n",
       "      <th>std</th>\n",
       "      <td>57.74008</td>\n",
       "      <td>2.005243e+08</td>\n",
       "      <td>7.727026e+07</td>\n",
       "      <td>30.656992</td>\n",
       "      <td>1.334932e+08</td>\n",
       "      <td>30.654531</td>\n",
       "      <td>7.211824</td>\n",
       "      <td>3946.272827</td>\n",
       "      <td>7.211824</td>\n",
       "      <td>7.211824</td>\n",
       "    </tr>\n",
       "    <tr>\n",
       "      <th>min</th>\n",
       "      <td>1.00000</td>\n",
       "      <td>1.666028e+06</td>\n",
       "      <td>0.000000e+00</td>\n",
       "      <td>0.000000</td>\n",
       "      <td>0.000000e+00</td>\n",
       "      <td>0.000000</td>\n",
       "      <td>2002.000000</td>\n",
       "      <td>0.000000</td>\n",
       "      <td>2004.000000</td>\n",
       "      <td>2003.000000</td>\n",
       "    </tr>\n",
       "    <tr>\n",
       "      <th>25%</th>\n",
       "      <td>50.75000</td>\n",
       "      <td>2.466220e+07</td>\n",
       "      <td>9.275150e+04</td>\n",
       "      <td>0.200000</td>\n",
       "      <td>1.371034e+07</td>\n",
       "      <td>42.200000</td>\n",
       "      <td>2008.000000</td>\n",
       "      <td>205.250000</td>\n",
       "      <td>2010.000000</td>\n",
       "      <td>2009.000000</td>\n",
       "    </tr>\n",
       "    <tr>\n",
       "      <th>50%</th>\n",
       "      <td>100.50000</td>\n",
       "      <td>4.844658e+07</td>\n",
       "      <td>1.798421e+07</td>\n",
       "      <td>37.050000</td>\n",
       "      <td>3.019444e+07</td>\n",
       "      <td>62.950000</td>\n",
       "      <td>2014.000000</td>\n",
       "      <td>1035.500000</td>\n",
       "      <td>2016.000000</td>\n",
       "      <td>2015.000000</td>\n",
       "    </tr>\n",
       "    <tr>\n",
       "      <th>75%</th>\n",
       "      <td>150.25000</td>\n",
       "      <td>1.197588e+08</td>\n",
       "      <td>5.386847e+07</td>\n",
       "      <td>57.800000</td>\n",
       "      <td>7.211578e+07</td>\n",
       "      <td>99.800000</td>\n",
       "      <td>2020.000000</td>\n",
       "      <td>3065.000000</td>\n",
       "      <td>2022.000000</td>\n",
       "      <td>2021.000000</td>\n",
       "    </tr>\n",
       "    <tr>\n",
       "      <th>max</th>\n",
       "      <td>200.00000</td>\n",
       "      <td>2.799439e+09</td>\n",
       "      <td>9.366622e+08</td>\n",
       "      <td>100.000000</td>\n",
       "      <td>1.993811e+09</td>\n",
       "      <td>100.000000</td>\n",
       "      <td>2026.000000</td>\n",
       "      <td>36753.000000</td>\n",
       "      <td>2028.000000</td>\n",
       "      <td>2027.000000</td>\n",
       "    </tr>\n",
       "  </tbody>\n",
       "</table>\n",
       "</div>"
      ],
      "text/plain": [
       "             Rank    $Worldwide     $Domestic   Domestic %      $Foreign  \\\n",
       "count  5000.00000  5.000000e+03  5.000000e+03  5000.000000  5.000000e+03   \n",
       "mean    100.50000  1.192137e+08  4.472523e+07    35.740620  7.448809e+07   \n",
       "std      57.74008  2.005243e+08  7.727026e+07    30.656992  1.334932e+08   \n",
       "min       1.00000  1.666028e+06  0.000000e+00     0.000000  0.000000e+00   \n",
       "25%      50.75000  2.466220e+07  9.275150e+04     0.200000  1.371034e+07   \n",
       "50%     100.50000  4.844658e+07  1.798421e+07    37.050000  3.019444e+07   \n",
       "75%     150.25000  1.197588e+08  5.386847e+07    57.800000  7.211578e+07   \n",
       "max     200.00000  2.799439e+09  9.366622e+08   100.000000  1.993811e+09   \n",
       "\n",
       "         Foreign %         Year    Vote_Count      Year_p2      Year_p1  \n",
       "count  5000.000000  5000.000000   4830.000000  5000.000000  5000.000000  \n",
       "mean     64.256640  2014.000000   2531.585921  2016.000000  2015.000000  \n",
       "std      30.654531     7.211824   3946.272827     7.211824     7.211824  \n",
       "min       0.000000  2002.000000      0.000000  2004.000000  2003.000000  \n",
       "25%      42.200000  2008.000000    205.250000  2010.000000  2009.000000  \n",
       "50%      62.950000  2014.000000   1035.500000  2016.000000  2015.000000  \n",
       "75%      99.800000  2020.000000   3065.000000  2022.000000  2021.000000  \n",
       "max     100.000000  2026.000000  36753.000000  2028.000000  2027.000000  "
      ]
     },
     "execution_count": 154,
     "metadata": {},
     "output_type": "execute_result"
    }
   ],
   "source": [
    "data.describe()"
   ]
  },
  {
   "cell_type": "markdown",
   "metadata": {},
   "source": [
    "Метод `value_counts` предназначен для подсчета частоты уникальных значений в столбце:"
   ]
  },
  {
   "cell_type": "code",
   "execution_count": 155,
   "metadata": {},
   "outputs": [
    {
     "data": {
      "text/plain": [
       "United States of America                               1964\n",
       "Japan                                                   357\n",
       "United Kingdom, United States of America                217\n",
       "South Korea                                             180\n",
       "China                                                   172\n",
       "                                                       ... \n",
       "Germany, Belgium, Spain, France, Italy                    1\n",
       "United States of America, South Africa, New Zealand       1\n",
       "China, Germany, United States of America                  1\n",
       "Hungary, Norway, Sweden                                   1\n",
       "Belgium, Ireland, United States of America                1\n",
       "Name: Production_Countries, Length: 510, dtype: int64"
      ]
     },
     "execution_count": 155,
     "metadata": {},
     "output_type": "execute_result"
    }
   ],
   "source": [
    "data['Production_Countries'].value_counts()"
   ]
  },
  {
   "cell_type": "markdown",
   "metadata": {},
   "source": [
    "В пандасовские датафреймы также встроен и matplotlib. Мы можем визуализировать результаты группировки с помощью метода `plot`:"
   ]
  },
  {
   "cell_type": "code",
   "execution_count": 162,
   "metadata": {},
   "outputs": [
    {
     "data": {
      "image/png": "[encoded data removed]",
      "text/plain": [
       "<Figure size 640x480 with 1 Axes>"
      ]
     },
     "metadata": {},
     "output_type": "display_data"
    }
   ],
   "source": [
    "data.groupby('Production_Countries')['$Worldwide'].sum().sort_values(ascending=False).head(10).iloc[::-1].plot(kind='barh');"
   ]
  },
  {
   "cell_type": "markdown",
   "metadata": {},
   "source": [
    "Также мы можем использовать метод `hist` для построения гистограммы"
   ]
  },
  {
   "cell_type": "code",
   "execution_count": 163,
   "metadata": {},
   "outputs": [
    {
     "data": {
      "image/png": "[encoded data removed]",
      "text/plain": [
       "<Figure size 640x480 with 1 Axes>"
      ]
     },
     "metadata": {},
     "output_type": "display_data"
    }
   ],
   "source": [
    "data['$Worldwide'].hist();"
   ]
  },
  {
   "cell_type": "markdown",
   "metadata": {},
   "source": [
    "Или метод `boxplot` для построения ящика с усами:\n"
   ]
  },
  {
   "cell_type": "code",
   "execution_count": 166,
   "metadata": {},
   "outputs": [
    {
     "data": {
      "image/png": "[encoded data removed]",
      "text/plain": [
       "<Figure size 640x480 with 1 Axes>"
      ]
     },
     "metadata": {},
     "output_type": "display_data"
    }
   ],
   "source": [
    "data.query('Production_Countries.isin([\"United States of America\", \"China\", \"India\", \"Japan\"])').boxplot(column='$Worldwide', by='Production_Countries');"
   ]
  },
  {
   "cell_type": "markdown",
   "metadata": {},
   "source": [
    "Или метод `scatter` для построения точечного графика"
   ]
  },
  {
   "cell_type": "code",
   "execution_count": 167,
   "metadata": {},
   "outputs": [
    {
     "name": "stderr",
     "output_type": "stream",
     "text": [
      "/Users/adima/miniconda3/lib/python3.10/site-packages/pandas/plotting/_matplotlib/core.py:1070: UserWarning: No data for colormapping provided via 'c'. Parameters 'cmap' will be ignored\n",
      "  scatter = ax.scatter(\n"
     ]
    },
    {
     "data": {
      "image/png": "[encoded data removed]",
      "text/plain": [
       "<Figure size 640x480 with 1 Axes>"
      ]
     },
     "metadata": {},
     "output_type": "display_data"
    }
   ],
   "source": [
    "data.plot.scatter(x='$Worldwide', y='$Domestic', alpha=0.5);"
   ]
  },
  {
   "cell_type": "markdown",
   "metadata": {},
   "source": [
    "# Полезные ссылки\n",
    "- [NumPy](https://numpy.org/)\n",
    "- [Pandas](https://pandas.pydata.org/)\n",
    "- [SciPy](https://scipy.org/)\n",
    "- [mlcourse.ai pandas tutorial](https://mlcourse.ai/book/topic01/topic01_pandas_data_analysis.html)\n",
    "- [pandas cheat sheet](https://pandas.pydata.org/Pandas_Cheat_Sheet.pdf)\n",
    "- [10 minutes to pandas](https://pandas.pydata.org/pandas-docs/stable/user_guide/10min.html)"
   ]
  },
  {
   "cell_type": "code",
   "execution_count": null,
   "metadata": {},
   "outputs": [],
   "source": []
  }
 ],
 "metadata": {
  "kernelspec": {
   "display_name": "Python 3 (ipykernel)",
   "language": "python",
   "name": "python3"
  },
  "language_info": {
   "codemirror_mode": {
    "name": "ipython",
    "version": 3
   },
   "file_extension": ".py",
   "mimetype": "text/x-python",
   "name": "python",
   "nbconvert_exporter": "python",
   "pygments_lexer": "ipython3",
   "version": "3.10.8"
  }
 },
 "nbformat": 4,
 "nbformat_minor": 4
}
