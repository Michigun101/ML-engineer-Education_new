{
 "cells": [
  {
   "cell_type": "markdown",
   "metadata": {},
   "source": [
    "# Проверочные задания по NumPy, Pandas и SciPy (числовые)"
   ]
  },
  {
   "cell_type": "code",
   "execution_count": 1,
   "metadata": {},
   "outputs": [],
   "source": [
    "import numpy as np\n",
    "import pandas as pd\n",
    "from scipy import stats"
   ]
  },
  {
   "cell_type": "markdown",
   "metadata": {},
   "source": [
    "## Задание 1: Работа с NumPy массивами\n",
    "Дана матрица корреляций matrix.npy.\n",
    "Вычислите:\n",
    "\n",
    "Сумму всех элементов матрицы (округлите до 2 знаков после запятой)\n",
    "Среднее значение элементов матрицы (округлите до 2 знаков после запятой)\n",
    "Максимальное значение в матрице (округлите до 2 знаков после запятой)\n",
    "Минимальное значение в матрице (округлите до 2 знаков после запятой)\n",
    "\n",
    "Ответ: [сумма, среднее, максимум, минимум]"
   ]
  },
  {
   "cell_type": "code",
   "execution_count": 10,
   "metadata": {},
   "outputs": [],
   "source": [
    "def task1_numpy_arrays(matrix_file='/Users/mikhail/Data Science Projects/Цифровая кафедра/ML/Module 3.2. Библиотеки для машинного обучения/matrix.npy'):\n",
    "    \"\"\"\n",
    "    Задание 1: Работа с NumPy массивами\n",
    "\n",
    "    Дана матрица корреляций в файле matrix.npy.\n",
    "    \n",
    "    Вычислите:\n",
    "    1. Сумму всех элементов матрицы (округлите до 2 знаков после запятой)\n",
    "    2. Среднее значение элементов матрицы (округлите до 2 знаков после запятой)\n",
    "    3. Максимальное значение в матрице (округлите до 2 знаков после запятой)\n",
    "    4. Минимальное значение в матрице (округлите до 2 знаков после запятой)\n",
    "\n",
    "    Returns:\n",
    "        dict: {\n",
    "            'sum': сумма, \n",
    "            'mean': среднее, \n",
    "            'max': максимум, \n",
    "            'min': минимум\n",
    "        }\n",
    "    \"\"\"\n",
    "    # Загрузка данных\n",
    "    matrix = np.load(matrix_file)\n",
    "    \n",
    "    # Ваше решение\n",
    "    total_sum = round(np.sum(matrix),2)\n",
    "    mean_val = round(np.mean(matrix),2)\n",
    "    max_val = round(np.max(matrix), 2)\n",
    "    min_val = round(np.min(matrix), 2)\n",
    "\n",
    "    return {\n",
    "        'sum': total_sum,\n",
    "        'mean': mean_val,\n",
    "        'max': max_val,\n",
    "        'min': min_val\n",
    "    } # Верните словарь с результатами"
   ]
  },
  {
   "cell_type": "code",
   "execution_count": 12,
   "metadata": {},
   "outputs": [
    {
     "data": {
      "text/plain": [
       "{'sum': 14.96, 'mean': 0.6, 'max': 1.0, 'min': 0.07}"
      ]
     },
     "execution_count": 12,
     "metadata": {},
     "output_type": "execute_result"
    }
   ],
   "source": [
    "task1_numpy_arrays()"
   ]
  },
  {
   "cell_type": "markdown",
   "metadata": {},
   "source": [
    "## Задание 2: Базовые операции с DataFrame\n",
    "\n",
    "    Используя DataFrame из сгенерированных данных в data_pd.csv, вычислите:\n",
    "    1. Средний возраст сотрудников (округлите до 2 знаков после запятой)\n",
    "    2. Медианный доход (округлите до 2 знаков после запятой)\n",
    "    3. Количество сотрудников с высшим образованием (PhD)\n",
    "    4. Максимальный опыт работы (округлите до 2 знаков после запятой)\n",
    "    5. Среднюю производительность (округлите до 3 знаков после запятой)\n",
    "    6. Количество сотрудников в IT отделе"
   ]
  },
  {
   "cell_type": "code",
   "execution_count": 8,
   "metadata": {},
   "outputs": [],
   "source": [
    "def task2_dataframe_basic(data_file='/Users/mikhail/Data Science Projects/Цифровая кафедра/ML/Module 3.2. Библиотеки для машинного обучения/data_pd.csv'):\n",
    "    \"\"\"\n",
    "    Задание 2: Базовые операции с DataFrame\n",
    "\n",
    "    Используя DataFrame из сгенерированных данных в data_pd.csv, вычислите:\n",
    "    1. Средний возраст сотрудников (округлите до 2 знаков после запятой)\n",
    "    2. Медианный доход (округлите до 2 знаков после запятой)\n",
    "    3. Количество сотрудников с высшим образованием (PhD)\n",
    "    4. Максимальный опыт работы (округлите до 2 знаков после запятой)\n",
    "    5. Среднюю производительность (округлите до 3 знаков после запятой)\n",
    "    6. Количество сотрудников в IT отделе\n",
    "\n",
    "    Returns:\n",
    "        dict: {\n",
    "            'mean_age': средний_возраст, \n",
    "            'median_income': медианный_доход, \n",
    "            'phd_count': количество_PhD, \n",
    "            'max_experience': максимальный_опыт, \n",
    "            'mean_performance': средняя_производительность, \n",
    "            'it_count': количество_IT\n",
    "        }\n",
    "    \"\"\"\n",
    "    # Загрузка данных\n",
    "    df = pd.read_csv(data_file)\n",
    "    \n",
    "    # Ваше решение\n",
    "\n",
    "    # 1. Средний возраст сотрудников\n",
    "    mean_age = round(df['age'].mean(),2)\n",
    "\n",
    "    # 2. Медианный доход\n",
    "    median_income = round(df['income'].median(),2)\n",
    "\n",
    "    # 3. Количество сотрудников с высшим образованием (PhD)\n",
    "    phd_count = df[df['education']=='PhD'].shape[0]\n",
    "\n",
    "    # 4. Максимальный опыт работы\n",
    "    max_experience = round(df['experience'].max(),2)\n",
    "\n",
    "    # 5. Средняя производительность\n",
    "    mean_performance=round(df['performance'].mean(),3)\n",
    "\n",
    "    # 6. Количество сотрудников в IT отделе\n",
    "    it_count = df[df['department']=='IT'].shape[0]\n",
    "\n",
    "    \n",
    "    return {\n",
    "        'mean_age': mean_age,\n",
    "        'median_income': median_income,\n",
    "        'phd_count': phd_count,\n",
    "        'max_experience': max_experience,\n",
    "        'mean_performance': mean_performance,\n",
    "        'it_count': it_count\n",
    "    } # Верните словарь с результатами"
   ]
  },
  {
   "cell_type": "code",
   "execution_count": 9,
   "metadata": {},
   "outputs": [
    {
     "data": {
      "text/plain": [
       "{'mean_age': 24.99,\n",
       " 'median_income': 35020.3,\n",
       " 'phd_count': 2001,\n",
       " 'max_experience': 15,\n",
       " 'mean_performance': 0.285,\n",
       " 'it_count': 1475}"
      ]
     },
     "execution_count": 9,
     "metadata": {},
     "output_type": "execute_result"
    }
   ],
   "source": [
    "task2_dataframe_basic()"
   ]
  },
  {
   "cell_type": "markdown",
   "metadata": {},
   "source": [
    "## Задание 3: Группировка и агрегация\n",
    "\n",
    "    Используя DataFrame из data_pd.csv, вычислите:\n",
    "    1. Средний доход по отделам (округлите до 2 знаков после запятой для каждого отдела)\n",
    "    2. Максимальный бонус по уровням образования (округлите до 2 знаков после запятой для каждого уровня)\n",
    "    3. Количество сотрудников по отделам\n",
    "    4. Средний опыт работы по отделам (округлите до 2 знаков после запятой для каждого отдела)"
   ]
  },
  {
   "cell_type": "code",
   "execution_count": 5,
   "metadata": {},
   "outputs": [],
   "source": [
    "def task3_groupby_aggregation(data_file='/Users/mikhail/Data Science Projects/Цифровая кафедра/ML/Module 3.2. Библиотеки для машинного обучения/data_pd.csv'):\n",
    "    \"\"\"\n",
    "    Задание 3: Группировка и агрегация\n",
    "\n",
    "    Используя DataFrame из data_pd.csv, вычислите:\n",
    "    1. Средний доход по отделам (округлите до 2 знаков после запятой для каждого отдела)\n",
    "    2. Максимальный бонус по уровням образования (округлите до 2 знаков после запятой для каждого уровня)\n",
    "    3. Количество сотрудников по отделам\n",
    "    4. Средний опыт работы по отделам (округлите до 2 знаков после запятой для каждого отдела)\n",
    "\n",
    "    Returns:\n",
    "        dict: {\n",
    "            'avg_income_by_dept': {\n",
    "                'IT': средний_доход_IT,\n",
    "                'HR': средний_доход_HR,\n",
    "                'Finance': средний_доход_Finance,\n",
    "                'Marketing': средний_доход_Marketing\n",
    "            },\n",
    "            'max_bonus_by_education': {\n",
    "                'Bachelor': максимальный_бонус_Bachelor,\n",
    "                'Master': максимальный_бонус_Master,\n",
    "                'PhD': максимальный_бонус_PhD\n",
    "            },\n",
    "            'count_by_dept': {\n",
    "                'IT': количество_IT,\n",
    "                'HR': количество_HR,\n",
    "                'Finance': количество_Finance,\n",
    "                'Marketing': количество_Marketing\n",
    "            },\n",
    "            'avg_exp_by_dept': {\n",
    "                'IT': средний_опыт_IT,\n",
    "                'HR': средний_опыт_HR,\n",
    "                'Finance': средний_опыт_Finance,\n",
    "                'Marketing': средний_опыт_Marketing\n",
    "            }\n",
    "        }\n",
    "    \"\"\"\n",
    "    # Загрузка данных\n",
    "    df = pd.read_csv(data_file)\n",
    "    \n",
    "    # Ваше решение\n",
    "\n",
    "    # Формируем финальный словарь с учетом возможных отсутствующих ключей\n",
    "    departments = ['IT', 'HR', 'Finance', 'Marketing']\n",
    "    education_levels = ['Bachelor', 'Master', 'PhD']\n",
    "\n",
    "    # 1. Средний доход по отделам (округляем до 2 знаков)\n",
    "    avg_income = df.groupby('department')['income'].mean().round(2).to_dict()\n",
    "\n",
    "    # 2. Максимальный бонус по уровням образования (округляем до 2 знаков)\n",
    "    max_bonus = df.groupby('education')['bonus'].max().round(2).to_dict()\n",
    "\n",
    "    # 3. Количество сотрудников по отделам\n",
    "    count_by_dept = df['department'].value_counts().to_dict()\n",
    "\n",
    "    # 4. Средний опыт работы по отделам (округляем до 2 знаков)\n",
    "    avg_experience = df.groupby('department')['experience'].mean().round(2).to_dict()\n",
    "\n",
    "    \n",
    "    return {\n",
    "        'avg_income_by_dept': {dept: avg_income.get(dept,0.0) for dept in departments},\n",
    "        'max_bonus_by_education': {edu: max_bonus.get(edu,0.0) for edu in education_levels},\n",
    "        'count_by_dept': {dept: count_by_dept.get(dept,0.0) for dept in departments},\n",
    "        'avg_exp_by_dept': {dept: avg_experience.get(dept, 0.0) for dept in departments}\n",
    "    } # Верните словарь с результатами"
   ]
  },
  {
   "cell_type": "code",
   "execution_count": 7,
   "metadata": {},
   "outputs": [
    {
     "data": {
      "text/plain": [
       "{'avg_income_by_dept': {'IT': 49756.31,\n",
       "  'HR': 50592.75,\n",
       "  'Finance': 49531.8,\n",
       "  'Marketing': 48626.71},\n",
       " 'max_bonus_by_education': {'Bachelor': 9985.22,\n",
       "  'Master': 9994.35,\n",
       "  'PhD': 9993.97},\n",
       " 'count_by_dept': {'IT': 1475, 'HR': 1490, 'Finance': 1559, 'Marketing': 1476},\n",
       " 'avg_exp_by_dept': {'IT': 5.09,\n",
       "  'HR': 4.93,\n",
       "  'Finance': 5.05,\n",
       "  'Marketing': 4.99}}"
      ]
     },
     "execution_count": 7,
     "metadata": {},
     "output_type": "execute_result"
    }
   ],
   "source": [
    "task3_groupby_aggregation()"
   ]
  },
  {
   "cell_type": "code",
   "execution_count": 2,
   "metadata": {},
   "outputs": [
    {
     "data": {
      "text/html": [
       "<div>\n",
       "<style scoped>\n",
       "    .dataframe tbody tr th:only-of-type {\n",
       "        vertical-align: middle;\n",
       "    }\n",
       "\n",
       "    .dataframe tbody tr th {\n",
       "        vertical-align: top;\n",
       "    }\n",
       "\n",
       "    .dataframe thead th {\n",
       "        text-align: right;\n",
       "    }\n",
       "</style>\n",
       "<table border=\"1\" class=\"dataframe\">\n",
       "  <thead>\n",
       "    <tr style=\"text-align: right;\">\n",
       "      <th></th>\n",
       "      <th>age</th>\n",
       "      <th>income</th>\n",
       "      <th>education</th>\n",
       "      <th>experience</th>\n",
       "      <th>performance</th>\n",
       "      <th>department</th>\n",
       "      <th>satisfaction</th>\n",
       "      <th>bonus</th>\n",
       "    </tr>\n",
       "  </thead>\n",
       "  <tbody>\n",
       "    <tr>\n",
       "      <th>0</th>\n",
       "      <td>21.072681</td>\n",
       "      <td>74562.784638</td>\n",
       "      <td>Master</td>\n",
       "      <td>4</td>\n",
       "      <td>0.374508</td>\n",
       "      <td>Finance</td>\n",
       "      <td>3</td>\n",
       "      <td>965.918456</td>\n",
       "    </tr>\n",
       "    <tr>\n",
       "      <th>1</th>\n",
       "      <td>28.217903</td>\n",
       "      <td>41063.253861</td>\n",
       "      <td>PhD</td>\n",
       "      <td>4</td>\n",
       "      <td>0.252764</td>\n",
       "      <td>Finance</td>\n",
       "      <td>1</td>\n",
       "      <td>9726.694926</td>\n",
       "    </tr>\n",
       "    <tr>\n",
       "      <th>2</th>\n",
       "      <td>24.687776</td>\n",
       "      <td>67080.000231</td>\n",
       "      <td>Bachelor</td>\n",
       "      <td>7</td>\n",
       "      <td>0.272606</td>\n",
       "      <td>IT</td>\n",
       "      <td>1</td>\n",
       "      <td>3411.828701</td>\n",
       "    </tr>\n",
       "    <tr>\n",
       "      <th>3</th>\n",
       "      <td>30.408827</td>\n",
       "      <td>8746.205642</td>\n",
       "      <td>Master</td>\n",
       "      <td>9</td>\n",
       "      <td>0.479447</td>\n",
       "      <td>IT</td>\n",
       "      <td>4</td>\n",
       "      <td>5269.686697</td>\n",
       "    </tr>\n",
       "    <tr>\n",
       "      <th>4</th>\n",
       "      <td>26.081664</td>\n",
       "      <td>11268.720259</td>\n",
       "      <td>PhD</td>\n",
       "      <td>4</td>\n",
       "      <td>0.336153</td>\n",
       "      <td>Finance</td>\n",
       "      <td>5</td>\n",
       "      <td>7160.761956</td>\n",
       "    </tr>\n",
       "  </tbody>\n",
       "</table>\n",
       "</div>"
      ],
      "text/plain": [
       "         age        income education  experience  performance department  \\\n",
       "0  21.072681  74562.784638    Master           4     0.374508    Finance   \n",
       "1  28.217903  41063.253861       PhD           4     0.252764    Finance   \n",
       "2  24.687776  67080.000231  Bachelor           7     0.272606         IT   \n",
       "3  30.408827   8746.205642    Master           9     0.479447         IT   \n",
       "4  26.081664  11268.720259       PhD           4     0.336153    Finance   \n",
       "\n",
       "   satisfaction        bonus  \n",
       "0             3   965.918456  \n",
       "1             1  9726.694926  \n",
       "2             1  3411.828701  \n",
       "3             4  5269.686697  \n",
       "4             5  7160.761956  "
      ]
     },
     "execution_count": 2,
     "metadata": {},
     "output_type": "execute_result"
    }
   ],
   "source": [
    "df = pd.read_csv('/Users/mikhail/Data Science Projects/Цифровая кафедра/ML/Module 3.2. Библиотеки для машинного обучения/data_pd.csv')\n",
    "df.head()"
   ]
  },
  {
   "cell_type": "code",
   "execution_count": 3,
   "metadata": {},
   "outputs": [
    {
     "data": {
      "text/plain": [
       "array(['Finance', 'IT', 'Marketing', 'HR'], dtype=object)"
      ]
     },
     "execution_count": 3,
     "metadata": {},
     "output_type": "execute_result"
    }
   ],
   "source": [
    "df['department'].unique()"
   ]
  },
  {
   "cell_type": "code",
   "execution_count": 4,
   "metadata": {},
   "outputs": [
    {
     "data": {
      "text/plain": [
       "array(['Master', 'PhD', 'Bachelor'], dtype=object)"
      ]
     },
     "execution_count": 4,
     "metadata": {},
     "output_type": "execute_result"
    }
   ],
   "source": [
    "df['education'].unique()"
   ]
  },
  {
   "cell_type": "markdown",
   "metadata": {},
   "source": [
    "## Задание 4: Фильтрация данных\n",
    "\n",
    "    Используя DataFrame из data_pd.csv, вычислите:\n",
    "    1. Средний доход сотрудников старше 30 лет (округлите до 2 знаков после запятой)\n",
    "    2. Максимальный бонус в IT отделе (округлите до 2 знаков после запятой)\n",
    "    3. Средний опыт работы сотрудников с PhD (округлите до 2 знаков после запятой)\n",
    "    4. Количество сотрудников с доходом выше 100000\n",
    "    5. Среднюю удовлетворенность в Finance отделе (округлите до 2 знаков после запятой)"
   ]
  },
  {
   "cell_type": "code",
   "execution_count": 29,
   "metadata": {},
   "outputs": [],
   "source": [
    "def task4_data_filtering(data_file='/Users/mikhail/Data Science Projects/Цифровая кафедра/ML/Module 3.2. Библиотеки для машинного обучения/data_pd.csv'):\n",
    "    \"\"\"\n",
    "    Задание 4: Фильтрация данных\n",
    "\n",
    "    Используя DataFrame из data_pd.csv, вычислите:\n",
    "    1. Средний доход сотрудников старше 30 лет (округлите до 2 знаков после запятой)\n",
    "    2. Максимальный бонус в IT отделе (округлите до 2 знаков после запятой)\n",
    "    3. Средний опыт работы сотрудников с PhD (округлите до 2 знаков после запятой)\n",
    "    4. Количество сотрудников с доходом выше 100000\n",
    "    5. Среднюю удовлетворенность в Finance отделе (округлите до 2 знаков после запятой)\n",
    "\n",
    "    Returns:\n",
    "        dict: {\n",
    "            'mean_income_over_30': средний_доход_старше_30,\n",
    "            'max_bonus_it': максимальный_бонус_IT,\n",
    "            'mean_exp_phd': средний_опыт_PhD,\n",
    "            'high_income_count': количество_высокий_доход,\n",
    "            'mean_satisfaction_finance': средняя_удовлетворенность_Finance\n",
    "        }\n",
    "    \"\"\"\n",
    "    # Загрузка данных\n",
    "    df = pd.read_csv(data_file)\n",
    "    \n",
    "    # Ваше решение\n",
    "\n",
    "    # 1. Средний доход сотрудников старше 30 лет\n",
    "    mean_income_over_30 = df[df['age']>30]['income'].mean().round(2)\n",
    "\n",
    "    # 2. Максимальный бонус в IT отделе\n",
    "    max_bonus_it = df[df['department']=='IT']['bonus'].max().round(2)\n",
    "\n",
    "    # 3. Средний опыт работы сотрудников с PhD\n",
    "    mean_exp_phd = df[df['education']=='PhD']['experience'].mean().round(2)\n",
    "\n",
    "    # 4. Количество сотрудников с доходом выше 100000\n",
    "    high_income_count = (df[df['income']>100000]).count()['education']\n",
    "\n",
    "    # 5. Средняя удовлетворенность в Finance отделе\n",
    "    mean_satisfaction_finance = df[df['department']=='Finance']['satisfaction'].mean().round(2)\n",
    "    \n",
    "    \n",
    "    return {\n",
    "        'mean_income_over_30': mean_income_over_30,\n",
    "        'max_bonus_it': max_bonus_it,\n",
    "        'mean_exp_phd': mean_exp_phd,\n",
    "        'high_income_count': high_income_count,\n",
    "        'mean_satisfaction_finance': mean_satisfaction_finance\n",
    "    } # Верните словарь с результатами"
   ]
  },
  {
   "cell_type": "code",
   "execution_count": 30,
   "metadata": {},
   "outputs": [
    {
     "data": {
      "text/plain": [
       "{'mean_income_over_30': 51475.52,\n",
       " 'max_bonus_it': 9993.52,\n",
       " 'mean_exp_phd': 5.01,\n",
       " 'high_income_count': 783,\n",
       " 'mean_satisfaction_finance': 3.01}"
      ]
     },
     "execution_count": 30,
     "metadata": {},
     "output_type": "execute_result"
    }
   ],
   "source": [
    "task4_data_filtering()"
   ]
  },
  {
   "cell_type": "code",
   "execution_count": 13,
   "metadata": {},
   "outputs": [
    {
     "data": {
      "text/plain": [
       "Index(['age', 'income', 'education', 'experience', 'performance', 'department',\n",
       "       'satisfaction', 'bonus'],\n",
       "      dtype='object')"
      ]
     },
     "execution_count": 13,
     "metadata": {},
     "output_type": "execute_result"
    }
   ],
   "source": [
    "df.columns"
   ]
  },
  {
   "cell_type": "code",
   "execution_count": 14,
   "metadata": {},
   "outputs": [
    {
     "data": {
      "text/plain": [
       "array(['Finance', 'IT', 'Marketing', 'HR'], dtype=object)"
      ]
     },
     "execution_count": 14,
     "metadata": {},
     "output_type": "execute_result"
    }
   ],
   "source": [
    "df['department'].unique()"
   ]
  },
  {
   "cell_type": "markdown",
   "metadata": {},
   "source": [
    "## Задание 5: Сортировка и ранжирование\n",
    "\n",
    "    Используя DataFrame из data_pd.csv, вычислите:\n",
    "    1. Топ-5 сотрудников по доходу (округлите до 2 знаков после запятой)\n",
    "    2. Топ-5 сотрудников по опыту работы\n",
    "    3. Топ-5 сотрудников по производительности (округлите до 3 знаков после запятой)\n",
    "    4. Топ-5 сотрудников по бонусу (округлите до 2 знаков после запятой)\n"
   ]
  },
  {
   "cell_type": "code",
   "execution_count": 32,
   "metadata": {},
   "outputs": [],
   "source": [
    "def task5_sorting_ranking(data_file='/Users/mikhail/Data Science Projects/Цифровая кафедра/ML/Module 3.2. Библиотеки для машинного обучения/data_pd.csv'):\n",
    "    \"\"\"\n",
    "    Задание 5: Сортировка и ранжирование\n",
    "\n",
    "    Используя DataFrame из data_pd.csv, вычислите:\n",
    "    1. Топ-5 сотрудников по доходу (округлите до 2 знаков после запятой)\n",
    "    2. Топ-5 сотрудников по опыту работы\n",
    "    3. Топ-5 сотрудников по производительности (округлите до 3 знаков после запятой)\n",
    "    4. Топ-5 сотрудников по бонусу (округлите до 2 знаков после запятой)\n",
    "\n",
    "    Returns:\n",
    "        dict: {\n",
    "            'top_income': [доход_1, доход_2, доход_3, доход_4, доход_5],\n",
    "            'top_experience': [опыт_1, опыт_2, опыт_3, опыт_4, опыт_5],\n",
    "            'top_performance': [производительность_1, производительность_2, производительность_3, производительность_4, производительность_5],\n",
    "            'top_bonus': [бонус_1, бонус_2, бонус_3, бонус_4, бонус_5]\n",
    "        }\n",
    "    \"\"\"\n",
    "    # Загрузка данных\n",
    "    df = pd.read_csv(data_file)\n",
    "    \n",
    "    # Ваше решение\n",
    "\n",
    "    # 1. Топ-5 по доходу (округление до 2 знаков)\n",
    "    top_income = df.sort_values('income',ascending=False)['income'].head(5).round(2).tolist()\n",
    "\n",
    "    # 2. Топ-5 по опыту работы\n",
    "    top_experience = df.sort_values('experience',ascending=False)['experience'].head(5).tolist()\n",
    "\n",
    "    # 3. Топ-5 по производительности (округление до 3 знаков)\n",
    "    top_performance = df.sort_values('performance',ascending=False)['performance'].head(5).round(3).tolist()\n",
    "\n",
    "    # 4. Топ-5 по бонусу (округление до 2 знаков)\n",
    "    top_bonus = df.sort_values(by='bonus', ascending=False)['bonus'].head(5).round(2).tolist()\n",
    "\n",
    "    return {\n",
    "        'top_income': top_income,\n",
    "        'top_experience': top_experience,\n",
    "        'top_performance': top_performance,\n",
    "        'top_bonus': top_bonus\n",
    "    } # Верните словарь с результатами"
   ]
  },
  {
   "cell_type": "code",
   "execution_count": 34,
   "metadata": {},
   "outputs": [
    {
     "data": {
      "text/plain": [
       "{'top_income': [489462.13, 447885.59, 367934.05, 349946.31, 318273.12],\n",
       " 'top_experience': [15, 15, 14, 14, 14],\n",
       " 'top_performance': [0.885, 0.836, 0.835, 0.829, 0.827],\n",
       " 'top_bonus': [9994.35, 9993.97, 9993.52, 9991.29, 9990.62]}"
      ]
     },
     "execution_count": 34,
     "metadata": {},
     "output_type": "execute_result"
    }
   ],
   "source": [
    "task5_sorting_ranking()"
   ]
  },
  {
   "cell_type": "code",
   "execution_count": 31,
   "metadata": {},
   "outputs": [
    {
     "data": {
      "text/plain": [
       "Index(['age', 'income', 'education', 'experience', 'performance', 'department',\n",
       "       'satisfaction', 'bonus'],\n",
       "      dtype='object')"
      ]
     },
     "execution_count": 31,
     "metadata": {},
     "output_type": "execute_result"
    }
   ],
   "source": [
    "df.columns"
   ]
  },
  {
   "cell_type": "markdown",
   "metadata": {},
   "source": [
    "## Задание 6: Вычисление статистик\n",
    "\n",
    "    Используя DataFrame из data_pd.csv, вычислите:\n",
    "    1. Среднее значение дохода (округлите до 2 знаков после запятой)\n",
    "    2. Медиану дохода (округлите до 2 знаков после запятой)"
   ]
  },
  {
   "cell_type": "code",
   "execution_count": 35,
   "metadata": {},
   "outputs": [],
   "source": [
    "def task6_income_statistics(data_file='/Users/mikhail/Data Science Projects/Цифровая кафедра/ML/Module 3.2. Библиотеки для машинного обучения/data_pd.csv'):\n",
    "    \"\"\"\n",
    "    Задание 6: Вычисление статистик\n",
    "\n",
    "    Используя DataFrame из data_pd.csv, вычислите:\n",
    "    1. Среднее значение дохода (округлите до 2 знаков после запятой)\n",
    "    2. Медиану дохода (округлите до 2 знаков после запятой)\n",
    "\n",
    "    Returns:\n",
    "        dict: {\n",
    "            'mean_income': среднее_дохода,\n",
    "            'median_income': медиана_дохода\n",
    "        }\n",
    "    \"\"\"\n",
    "    # Загрузка данных\n",
    "    df = pd.read_csv(data_file)\n",
    "    \n",
    "    # Ваше решение\n",
    "    # Среднее значение дохода\n",
    "    mean_income = round(df['income'].mean(), 2)\n",
    "\n",
    "    # Медиана дохода\n",
    "    median_income = round(df['income'].median(), 2)\n",
    "\n",
    "    \n",
    "    return {\n",
    "        'mean_income': mean_income,\n",
    "        'median_income': median_income\n",
    "    } # Верните словарь с результатами"
   ]
  },
  {
   "cell_type": "code",
   "execution_count": 36,
   "metadata": {},
   "outputs": [
    {
     "data": {
      "text/plain": [
       "{'mean_income': 49627.81, 'median_income': 35020.3}"
      ]
     },
     "execution_count": 36,
     "metadata": {},
     "output_type": "execute_result"
    }
   ],
   "source": [
    "task6_income_statistics()"
   ]
  },
  {
   "cell_type": "markdown",
   "metadata": {},
   "source": [
    "## Задание 7: Распределение Бернулли\n",
    "\n",
    "    Дана выборка из распределения Бернулли в файле bernoulli.npy.\n",
    "    \n",
    "    Вычислите:\n",
    "    1. Оценку вероятности успеха p̂ (округлите до 3 знаков после запятой)\n",
    "    2. Вероятность получить не менее 60 успехов в 100 испытаниях, если вероятность успеха равна p̂ \n",
    "       (округлите до 3 знаков после запятой)"
   ]
  },
  {
   "cell_type": "code",
   "execution_count": 37,
   "metadata": {},
   "outputs": [],
   "source": [
    "def task7_bernoulli_distribution(bernoulli_file='/Users/mikhail/Data Science Projects/Цифровая кафедра/ML/Module 3.2. Библиотеки для машинного обучения/bernoulli.npy'):\n",
    "    \"\"\"\n",
    "    Задание 7: Распределение Бернулли\n",
    "\n",
    "    Дана выборка из распределения Бернулли в файле bernoulli.npy.\n",
    "    \n",
    "    Вычислите:\n",
    "    1. Оценку вероятности успеха p̂ (округлите до 3 знаков после запятой)\n",
    "    2. Вероятность получить не менее 60 успехов в 100 испытаниях, если вероятность успеха равна p̂ \n",
    "       (округлите до 3 знаков после запятой)\n",
    "\n",
    "    Returns:\n",
    "        dict: {\n",
    "            'p_hat': p̂,\n",
    "            'p_at_least_60': P(X>=60)\n",
    "        }\n",
    "    \"\"\"\n",
    "    # Загрузка данных\n",
    "    bernoulli_sample = np.load(bernoulli_file)\n",
    "    \n",
    "    # Ваше решение\n",
    "\n",
    "    # 1. Оценка вероятности успеха p̂ = среднее значение\n",
    "    p_hat = round(np.mean(bernoulli_sample),3)\n",
    "\n",
    "    # 2. Вероятность получить не менее 60 успехов в 100 испытаниях\n",
    "    # P(X >= 60) = 1 - P(X <= 59)\n",
    "    p_at_least_60 = round(1 - stats.binom.cdf(59,100,p_hat),3)\n",
    "\n",
    "\n",
    "    return {\n",
    "        'p_hat': p_hat,\n",
    "        'p_at_least_60': p_at_least_60\n",
    "    } # Верните словарь с результатами"
   ]
  },
  {
   "cell_type": "code",
   "execution_count": 39,
   "metadata": {},
   "outputs": [
    {
     "data": {
      "text/plain": [
       "{'p_hat': 0.699, 'p_at_least_60': 0.987}"
      ]
     },
     "execution_count": 39,
     "metadata": {},
     "output_type": "execute_result"
    }
   ],
   "source": [
    "task7_bernoulli_distribution()"
   ]
  },
  {
   "cell_type": "markdown",
   "metadata": {},
   "source": [
    "## Задание 8: Распределение Пуассона\n",
    "Дана выборка из распределения Пуассона:\n",
    "\n",
    "poisson_sample = [4, 6, 3, ...]  \n",
    "\n",
    "\n",
    "Вычислите:\n",
    "\n",
    "Оценку параметра λ (округлите до 2 знаков после запятой)\n",
    "Вероятность того, что случайная величина примет значение 3 (округлите до 3 знаков после запятой)\n",
    "Вероятность того, что случайная величина примет значение больше 5 (округлите до 3 знаков после запятой)\n",
    "\n",
    "Ответ: [λ̂, P(X=3), P(X>5)]"
   ]
  },
  {
   "cell_type": "code",
   "execution_count": 40,
   "metadata": {},
   "outputs": [],
   "source": [
    "def task8_poisson_distribution(poisson_file='/Users/mikhail/Data Science Projects/Цифровая кафедра/ML/Module 3.2. Библиотеки для машинного обучения/poisson.npy'):\n",
    "    \"\"\"\n",
    "    Задание 8: Распределение Пуассона\n",
    "\n",
    "    Дана выборка из распределения Пуассона в файле poisson.npy.\n",
    "    \n",
    "    Вычислите:\n",
    "    1. Оценку параметра λ (округлите до 2 знаков после запятой)\n",
    "    2. Вероятность того, что случайная величина примет значение 3 (округлите до 3 знаков после запятой)\n",
    "    3. Вероятность того, что случайная величина примет значение больше 5 (округлите до 3 знаков после запятой)\n",
    "\n",
    "    Returns:\n",
    "        dict: {\n",
    "            'lambda_hat': λ̂,\n",
    "            'p_x_equals_3': P(X=3),\n",
    "            'p_x_greater_5': P(X>5)\n",
    "        }\n",
    "    \"\"\"\n",
    "    # Загрузка данных\n",
    "    poisson_sample = np.load(poisson_file)\n",
    "    \n",
    "    # Ваше решение\n",
    "\n",
    "    # 1. Оценка параметра λ — это просто среднее значение выборки\n",
    "    lambda_hat = round(np.mean(poisson_sample),2)\n",
    "\n",
    "    # 2. Вероятность P(X = 3) при λ̂\n",
    "    p_x_equals_3 = round(stats.poisson.pmf(3,lambda_hat),3)\n",
    "\n",
    "    # 3. Вероятность P(X > 5) = 1 - P(X ≤ 5)\n",
    "    p_x_greater_5 = round(1 - stats.poisson.cdf(5,lambda_hat),3)\n",
    "    \n",
    "    return {\n",
    "        'lambda_hat': lambda_hat,\n",
    "        'p_x_equals_3': p_x_equals_3,\n",
    "        'p_x_greater_5': p_x_greater_5\n",
    "    } # Верните словарь с результатами"
   ]
  },
  {
   "cell_type": "code",
   "execution_count": 42,
   "metadata": {},
   "outputs": [
    {
     "data": {
      "text/plain": [
       "{'lambda_hat': 4.97, 'p_x_equals_3': 0.142, 'p_x_greater_5': 0.379}"
      ]
     },
     "execution_count": 42,
     "metadata": {},
     "output_type": "execute_result"
    }
   ],
   "source": [
    "task8_poisson_distribution()"
   ]
  },
  {
   "cell_type": "markdown",
   "metadata": {},
   "source": [
    "## Задание 9: Экспоненциальное распределение\n",
    "Дана выборка из экспоненциального распределения:\n",
    "\n",
    "exp_sample = [8.5, 12.3, 15.7, ...]  \n",
    "\n",
    "\n",
    "Вычислите:\n",
    "\n",
    "Оценку параметра λ (округлите до 3 знаков после запятой)\n",
    "Вероятность того, что случайная величина примет значение больше 15 (округлите до 3 знаков после запятой)\n",
    "\n",
    "Ответ: [λ̂, P(X>15)]"
   ]
  },
  {
   "cell_type": "code",
   "execution_count": 43,
   "metadata": {},
   "outputs": [],
   "source": [
    "def task9_exponential_distribution(exponential_file='/Users/mikhail/Data Science Projects/Цифровая кафедра/ML/Module 3.2. Библиотеки для машинного обучения/exponential.npy'):\n",
    "    \"\"\"\n",
    "    Задание 9: Экспоненциальное распределение\n",
    "\n",
    "    Дана выборка из экспоненциального распределения в файле exponential.npy.\n",
    "    \n",
    "    Вычислите:\n",
    "    1. Оценку параметра λ (округлите до 3 знаков после запятой)\n",
    "    2. Вероятность того, что случайная величина примет значение больше 15 (округлите до 3 знаков после запятой)\n",
    "\n",
    "    Returns:\n",
    "        dict: {\n",
    "            'lambda_hat': λ̂,\n",
    "            'p_x_greater_15': P(X>15)\n",
    "        }\n",
    "    \"\"\"\n",
    "    # Загрузка данных\n",
    "    exp_sample = np.load(exponential_file)\n",
    "    \n",
    "    # Ваше решение\n",
    "\n",
    "    # 1. Оценка параметра λ (лямбда) — это 1 / среднее\n",
    "    lambda_hat = round(1/np.mean(exp_sample),3)\n",
    "\n",
    "    # 2. Вероятность P(X > 15) = 1 - CDF(15)\n",
    "    # В scipy экспоненциальное распределение параметризуется scale = 1/λ\n",
    "    scale = 1/lambda_hat\n",
    "    p_x_greater_15 = round(1 - stats.expon.cdf(15,scale = scale),3)\n",
    "    \n",
    "    return {\n",
    "        'lambda_hat': lambda_hat,\n",
    "        'p_x_greater_15': p_x_greater_15\n",
    "    } # Верните словарь с результатами "
   ]
  },
  {
   "cell_type": "code",
   "execution_count": 45,
   "metadata": {},
   "outputs": [
    {
     "data": {
      "text/plain": [
       "{'lambda_hat': 0.103, 'p_x_greater_15': 0.213}"
      ]
     },
     "execution_count": 45,
     "metadata": {},
     "output_type": "execute_result"
    }
   ],
   "source": [
    "task9_exponential_distribution()"
   ]
  },
  {
   "cell_type": "code",
   "execution_count": null,
   "metadata": {},
   "outputs": [],
   "source": []
  }
 ],
 "metadata": {
  "kernelspec": {
   "display_name": "base",
   "language": "python",
   "name": "python3"
  },
  "language_info": {
   "codemirror_mode": {
    "name": "ipython",
    "version": 3
   },
   "file_extension": ".py",
   "mimetype": "text/x-python",
   "name": "python",
   "nbconvert_exporter": "python",
   "pygments_lexer": "ipython3",
   "version": "3.10.9"
  }
 },
 "nbformat": 4,
 "nbformat_minor": 2
}
