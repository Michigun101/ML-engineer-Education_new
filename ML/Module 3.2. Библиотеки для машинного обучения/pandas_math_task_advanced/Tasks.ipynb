{
 "cells": [
  {
   "cell_type": "markdown",
   "metadata": {},
   "source": [
    "# Проверочные задания по NumPy, Pandas и SciPy (числовые)"
   ]
  },
  {
   "cell_type": "code",
   "execution_count": 1,
   "metadata": {},
   "outputs": [],
   "source": [
    "import numpy as np\n",
    "import pandas as pd\n",
    "from scipy import stats"
   ]
  },
  {
   "cell_type": "markdown",
   "metadata": {},
   "source": [
    "## Задание 1: Работа с NumPy массивами\n",
    "Дана матрица корреляций matrix.npy.\n",
    "Вычислите:\n",
    "\n",
    "Сумму всех элементов матрицы (округлите до 2 знаков после запятой)\n",
    "Среднее значение элементов матрицы (округлите до 2 знаков после запятой)\n",
    "Максимальное значение в матрице (округлите до 2 знаков после запятой)\n",
    "Минимальное значение в матрице (округлите до 2 знаков после запятой)\n",
    "Сумму элементов по главной диагонали (округлите до 2 знаков после запятой)\n",
    "Сумму элементов по побочной диагонали (округлите до 2 знаков после запятой)\n",
    "\n",
    "Ответ: [сумма, среднее, максимум, минимум, сумма_главной_диагонали, сумма_побочной_диагонали]"
   ]
  },
  {
   "cell_type": "code",
   "execution_count": 2,
   "metadata": {},
   "outputs": [],
   "source": [
    "def task1_numpy_arrays(matrix_file='/Users/mikhail/Data Science Projects/Цифровая кафедра/ML/Module 3.2. Библиотеки для машинного обучения/pandas_math_task_advanced/matrix.npy'):\n",
    "    \"\"\"\n",
    "    Задание 1: Работа с NumPy массивами\n",
    "\n",
    "    Дана матрица корреляций в файле matrix.npy.\n",
    "    \n",
    "    Вычислите:\n",
    "    1. Сумму всех элементов матрицы (округлите до 2 знаков после запятой)\n",
    "    2. Среднее значение элементов матрицы (округлите до 2 знаков после запятой)\n",
    "    3. Максимальное значение в матрице (округлите до 2 знаков после запятой)\n",
    "    4. Минимальное значение в матрице (округлите до 2 знаков после запятой)\n",
    "    5. Сумму элементов по главной диагонали (округлите до 2 знаков после запятой)\n",
    "    6. Сумму элементов по побочной диагонали (округлите до 2 знаков после запятой)\n",
    "\n",
    "    Returns:\n",
    "        dict: {\n",
    "            'sum': сумма, \n",
    "            'mean': среднее, \n",
    "            'max': максимум, \n",
    "            'min': минимум, \n",
    "            'diag_sum': сумма_главной_диагонали, \n",
    "            'anti_diag_sum': сумма_побочной_диагонали\n",
    "        }\n",
    "    \"\"\"\n",
    "    # Загрузка данных\n",
    "    matrix = np.load(matrix_file)\n",
    "    \n",
    "    # Ваше решение\n",
    "\n",
    "    # 1. Сумма всех элементов\n",
    "    total_sum = round(np.sum(matrix),2)\n",
    "\n",
    "    # 2. Среднее значение\n",
    "    mean_value = round(np.mean(matrix), 2)\n",
    "\n",
    "    # 3. Максимум\n",
    "    max_value = round(np.max(matrix), 2)\n",
    "\n",
    "    # 4. Минимум\n",
    "    min_value = round(np.min(matrix), 2)\n",
    "\n",
    "    # 5. Сумма по главной диагонали\n",
    "    diag_sum = round(np.trace(matrix),2)\n",
    "\n",
    "    # 6. Сумма по побочной диагонали\n",
    "    anti_diag_sum = round(np.trace(np.fliplr(matrix)),2)\n",
    "    \n",
    "    return {\n",
    "        'sum': total_sum,\n",
    "        'mean': mean_value,\n",
    "        'max': max_value,\n",
    "        'min': min_value,\n",
    "        'diag_sum': diag_sum,\n",
    "        'anti_diag_sum': anti_diag_sum\n",
    "    } # Верните словарь с результатами"
   ]
  },
  {
   "cell_type": "code",
   "execution_count": 4,
   "metadata": {},
   "outputs": [
    {
     "data": {
      "text/plain": [
       "{'sum': 14.96,\n",
       " 'mean': 0.6,\n",
       " 'max': 1.0,\n",
       " 'min': 0.07,\n",
       " 'diag_sum': 5.0,\n",
       " 'anti_diag_sum': 2.01}"
      ]
     },
     "execution_count": 4,
     "metadata": {},
     "output_type": "execute_result"
    }
   ],
   "source": [
    "task1_numpy_arrays()"
   ]
  },
  {
   "cell_type": "markdown",
   "metadata": {},
   "source": [
    "## Задание 2: Базовые операции с DataFrame\n",
    "\n",
    "    Используя DataFrame из сгенерированных данных в data_pd.csv, вычислите:\n",
    "    1. Средний возраст сотрудников (округлите до 2 знаков после запятой)\n",
    "    2. Медианный доход (округлите до 2 знаков после запятой)\n",
    "    3. Количество сотрудников с высшим образованием (PhD)\n",
    "    4. Максимальный опыт работы (округлите до 2 знаков после запятой)\n",
    "    5. Среднюю производительность (округлите до 3 знаков после запятой)\n",
    "    6. Количество сотрудников в IT отделе\n",
    "    7. Стандартное отклонение дохода (округлите до 2 знаков после запятой)\n",
    "    8. Корреляцию между опытом работы и доходом (округлите до 3 знаков после запятой)\n",
    "    9. Процент сотрудников с высокой удовлетворенностью (satisfaction >= 4, округлите до 2 знаков после запятой)"
   ]
  },
  {
   "cell_type": "code",
   "execution_count": 9,
   "metadata": {},
   "outputs": [],
   "source": [
    "def task2_dataframe_basic(data_file='/Users/mikhail/Data Science Projects/Цифровая кафедра/ML/Module 3.2. Библиотеки для машинного обучения/pandas_math_task_advanced/data_pd.csv'):\n",
    "    \"\"\"\n",
    "    Задание 2: Базовые операции с DataFrame\n",
    "\n",
    "    Используя DataFrame из сгенерированных данных в data_pd.csv, вычислите:\n",
    "    1. Средний возраст сотрудников (округлите до 2 знаков после запятой)\n",
    "    2. Медианный доход (округлите до 2 знаков после запятой)\n",
    "    3. Количество сотрудников с высшим образованием (PhD)\n",
    "    4. Максимальный опыт работы (округлите до 2 знаков после запятой)\n",
    "    5. Среднюю производительность (округлите до 3 знаков после запятой)\n",
    "    6. Количество сотрудников в IT отделе\n",
    "    7. Стандартное отклонение дохода (округлите до 2 знаков после запятой)\n",
    "    8. Корреляцию между опытом работы и доходом (округлите до 3 знаков после запятой)\n",
    "    9. Процент сотрудников с высокой удовлетворенностью (satisfaction >= 4, округлите до 2 знаков после запятой)\n",
    "\n",
    "    Returns:\n",
    "        dict: {\n",
    "            'mean_age': средний_возраст, \n",
    "            'median_income': медианный_доход, \n",
    "            'phd_count': количество_PhD, \n",
    "            'max_experience': максимальный_опыт, \n",
    "            'mean_performance': средняя_производительность, \n",
    "            'it_count': количество_IT,\n",
    "            'income_std': стандартное_отклонение_дохода,\n",
    "            'exp_income_corr': корреляция_опыт_доход,\n",
    "            'high_satisfaction_percent': процент_высокой_удовлетворенности\n",
    "        }\n",
    "    \"\"\"\n",
    "    # Загрузка данных\n",
    "    df = pd.read_csv(data_file)\n",
    "    \n",
    "    # Ваше решение\n",
    "\n",
    "    # 1. Средний возраст сотрудников\n",
    "    mean_age = round(df['age'].mean(),2)\n",
    "\n",
    "    # 2. Медианный доход\n",
    "    median_income = round(df['income'].median(), 2)\n",
    "\n",
    "    # 3. Количество сотрудников с PhD\n",
    "    phd_count = (df['education'] == 'PhD').sum()\n",
    "\n",
    "    # 4. Максимальный опыт работы\n",
    "    max_experience = round(df['experience'].max(),2)\n",
    "\n",
    "    # 5. Средняя производительность\n",
    "    mean_performance = round(df['performance'].mean(), 3)\n",
    "\n",
    "    # 6. Количество сотрудников в IT отделе\n",
    "    it_count = (df['department'] == 'IT').sum()\n",
    "\n",
    "    # 7. Стандартное отклонение дохода\n",
    "    income_std = round(df['income'].std(),2)\n",
    "\n",
    "    # 8. Корреляция между опытом работы и доходом\n",
    "    exp_income_corr = round(df['experience'].corr(df['income']),3)\n",
    "\n",
    "    # 9. Процент сотрудников с удовлетворенностью >= 4\n",
    "    high_satisfaction_percent = round((df['satisfaction']>=4).mean()*100,2)\n",
    "    \n",
    "    return {\n",
    "        'mean_age': mean_age,\n",
    "        'median_income': median_income,\n",
    "        'phd_count': phd_count,\n",
    "        'max_experience': max_experience,\n",
    "        'mean_performance': mean_performance,\n",
    "        'it_count': it_count,\n",
    "        'income_std': income_std,\n",
    "        'exp_income_corr': exp_income_corr,\n",
    "        'high_satisfaction_percent': high_satisfaction_percent\n",
    "    } # Верните словарь с результатами"
   ]
  },
  {
   "cell_type": "code",
   "execution_count": 5,
   "metadata": {},
   "outputs": [
    {
     "data": {
      "text/html": [
       "<div>\n",
       "<style scoped>\n",
       "    .dataframe tbody tr th:only-of-type {\n",
       "        vertical-align: middle;\n",
       "    }\n",
       "\n",
       "    .dataframe tbody tr th {\n",
       "        vertical-align: top;\n",
       "    }\n",
       "\n",
       "    .dataframe thead th {\n",
       "        text-align: right;\n",
       "    }\n",
       "</style>\n",
       "<table border=\"1\" class=\"dataframe\">\n",
       "  <thead>\n",
       "    <tr style=\"text-align: right;\">\n",
       "      <th></th>\n",
       "      <th>age</th>\n",
       "      <th>income</th>\n",
       "      <th>education</th>\n",
       "      <th>experience</th>\n",
       "      <th>performance</th>\n",
       "      <th>department</th>\n",
       "      <th>satisfaction</th>\n",
       "      <th>bonus</th>\n",
       "    </tr>\n",
       "  </thead>\n",
       "  <tbody>\n",
       "    <tr>\n",
       "      <th>0</th>\n",
       "      <td>21.072681</td>\n",
       "      <td>74562.784638</td>\n",
       "      <td>Master</td>\n",
       "      <td>4</td>\n",
       "      <td>0.374508</td>\n",
       "      <td>Finance</td>\n",
       "      <td>3</td>\n",
       "      <td>965.918456</td>\n",
       "    </tr>\n",
       "    <tr>\n",
       "      <th>1</th>\n",
       "      <td>28.217903</td>\n",
       "      <td>41063.253861</td>\n",
       "      <td>PhD</td>\n",
       "      <td>4</td>\n",
       "      <td>0.252764</td>\n",
       "      <td>Finance</td>\n",
       "      <td>1</td>\n",
       "      <td>9726.694926</td>\n",
       "    </tr>\n",
       "    <tr>\n",
       "      <th>2</th>\n",
       "      <td>24.687776</td>\n",
       "      <td>67080.000231</td>\n",
       "      <td>Bachelor</td>\n",
       "      <td>7</td>\n",
       "      <td>0.272606</td>\n",
       "      <td>IT</td>\n",
       "      <td>1</td>\n",
       "      <td>3411.828701</td>\n",
       "    </tr>\n",
       "    <tr>\n",
       "      <th>3</th>\n",
       "      <td>30.408827</td>\n",
       "      <td>8746.205642</td>\n",
       "      <td>Master</td>\n",
       "      <td>9</td>\n",
       "      <td>0.479447</td>\n",
       "      <td>IT</td>\n",
       "      <td>4</td>\n",
       "      <td>5269.686697</td>\n",
       "    </tr>\n",
       "    <tr>\n",
       "      <th>4</th>\n",
       "      <td>26.081664</td>\n",
       "      <td>11268.720259</td>\n",
       "      <td>PhD</td>\n",
       "      <td>4</td>\n",
       "      <td>0.336153</td>\n",
       "      <td>Finance</td>\n",
       "      <td>5</td>\n",
       "      <td>7160.761956</td>\n",
       "    </tr>\n",
       "  </tbody>\n",
       "</table>\n",
       "</div>"
      ],
      "text/plain": [
       "         age        income education  experience  performance department  \\\n",
       "0  21.072681  74562.784638    Master           4     0.374508    Finance   \n",
       "1  28.217903  41063.253861       PhD           4     0.252764    Finance   \n",
       "2  24.687776  67080.000231  Bachelor           7     0.272606         IT   \n",
       "3  30.408827   8746.205642    Master           9     0.479447         IT   \n",
       "4  26.081664  11268.720259       PhD           4     0.336153    Finance   \n",
       "\n",
       "   satisfaction        bonus  \n",
       "0             3   965.918456  \n",
       "1             1  9726.694926  \n",
       "2             1  3411.828701  \n",
       "3             4  5269.686697  \n",
       "4             5  7160.761956  "
      ]
     },
     "execution_count": 5,
     "metadata": {},
     "output_type": "execute_result"
    }
   ],
   "source": [
    "df =  pd.read_csv('/Users/mikhail/Data Science Projects/Цифровая кафедра/ML/Module 3.2. Библиотеки для машинного обучения/pandas_math_task_advanced/data_pd.csv')\n",
    "df.head()"
   ]
  },
  {
   "cell_type": "code",
   "execution_count": 8,
   "metadata": {},
   "outputs": [
    {
     "data": {
      "text/plain": [
       "2001"
      ]
     },
     "execution_count": 8,
     "metadata": {},
     "output_type": "execute_result"
    }
   ],
   "source": [
    "(df['education'] == 'PhD').sum()"
   ]
  },
  {
   "cell_type": "code",
   "execution_count": 11,
   "metadata": {},
   "outputs": [
    {
     "data": {
      "text/plain": [
       "{'mean_age': 24.99,\n",
       " 'median_income': 35020.3,\n",
       " 'phd_count': 2001,\n",
       " 'max_experience': 15,\n",
       " 'mean_performance': 0.285,\n",
       " 'it_count': 1475,\n",
       " 'income_std': 49424.49,\n",
       " 'exp_income_corr': -0.019,\n",
       " 'high_satisfaction_percent': 39.63}"
      ]
     },
     "execution_count": 11,
     "metadata": {},
     "output_type": "execute_result"
    }
   ],
   "source": [
    "task2_dataframe_basic()"
   ]
  },
  {
   "cell_type": "markdown",
   "metadata": {},
   "source": [
    "## Задание 3: Группировка и агрегация\n",
    "Используя DataFrame, вычислите:\n",
    "\n",
    "Средний доход по отделам (округлите до 2 знаков после запятой для каждого отдела)\n",
    "Максимальный бонус по уровням образования (округлите до 2 знаков после запятой для каждого уровня)\n",
    "Количество сотрудников по отделам\n",
    "Средний опыт работы по отделам (округлите до 2 знаков после запятой для каждого отдела)\n",
    "Медианную производительность по отделам (округлите до 3 знаков после запятой для каждого отдела)\n",
    "Стандартное отклонение дохода по уровням образования (округлите до 2 знаков после запятой для каждого уровня)\n",
    "Коэффициент вариации (CV) возраста по отделам (CV = std/mean, округлите до 3 знаков после запятой для каждого отдела)\n",
    "\n",
    "Ответ: [средний_доход_IT, средний_доход_HR, средний_доход_Finance, средний_доход_Marketing,\n",
    "максимальный_бонус_Bachelor, максимальный_бонус_Master, максимальный_бонус_PhD,\n",
    "количество_IT, количество_HR, количество_Finance, количество_Marketing,\n",
    "средний_опыт_IT, средний_опыт_HR, средний_опыт_Finance, средний_опыт_Marketing,\n",
    "медианная_производительность_IT, медианная_производительность_HR, медианная_производительность_Finance, медианная_производительность_Marketing,\n",
    "стандартное_отклонение_дохода_Bachelor, стандартное_отклонение_дохода_Master, стандартное_отклонение_дохода_PhD,\n",
    "коэффициент_вариации_возраста_IT, коэффициент_вариации_возраста_HR, коэффициент_вариации_возраста_Finance, коэффициент_вариации_возраста_Marketing]"
   ]
  },
  {
   "cell_type": "code",
   "execution_count": 48,
   "metadata": {},
   "outputs": [],
   "source": [
    "def task3_groupby_aggregation(data_file='/Users/mikhail/Data Science Projects/Цифровая кафедра/ML/Module 3.2. Библиотеки для машинного обучения/pandas_math_task_advanced/data_pd.csv'):\n",
    "    \"\"\"\n",
    "    Задание 3: Группировка и агрегация\n",
    "\n",
    "    Используя DataFrame из data_pd.csv, вычислите:\n",
    "    1. Средний доход по отделам (округлите до 2 знаков после запятой для каждого отдела)\n",
    "    2. Максимальный бонус по уровням образования (округлите до 2 знаков после запятой для каждого уровня)\n",
    "    3. Количество сотрудников по отделам\n",
    "    4. Средний опыт работы по отделам (округлите до 2 знаков после запятой для каждого отдела)\n",
    "    5. Медианную производительность по отделам (округлите до 3 знаков после запятой для каждого отдела)\n",
    "    6. Стандартное отклонение дохода по уровням образования (округлите до 2 знаков после запятой для каждого уровня)\n",
    "    7. Коэффициент вариации (CV) возраста по отделам (CV = std/mean, округлите до 3 знаков после запятой для каждого отдела)\n",
    "\n",
    "    Returns:\n",
    "        dict: {\n",
    "            'avg_income_by_dept': {\n",
    "                'IT': средний_доход_IT,\n",
    "                'HR': средний_доход_HR,\n",
    "                'Finance': средний_доход_Finance,\n",
    "                'Marketing': средний_доход_Marketing\n",
    "            },\n",
    "            'max_bonus_by_education': {\n",
    "                'Bachelor': максимальный_бонус_Bachelor,\n",
    "                'Master': максимальный_бонус_Master,\n",
    "                'PhD': максимальный_бонус_PhD\n",
    "            },\n",
    "            'count_by_dept': {\n",
    "                'IT': количество_IT,\n",
    "                'HR': количество_HR,\n",
    "                'Finance': количество_Finance,\n",
    "                'Marketing': количество_Marketing\n",
    "            },\n",
    "            'avg_exp_by_dept': {\n",
    "                'IT': средний_опыт_IT,\n",
    "                'HR': средний_опыт_HR,\n",
    "                'Finance': средний_опыт_Finance,\n",
    "                'Marketing': средний_опыт_Marketing\n",
    "            },\n",
    "            'median_performance_by_dept': {\n",
    "                'IT': медианная_производительность_IT,\n",
    "                'HR': медианная_производительность_HR,\n",
    "                'Finance': медианная_производительность_Finance,\n",
    "                'Marketing': медианная_производительность_Marketing\n",
    "            },\n",
    "            'income_std_by_education': {\n",
    "                'Bachelor': стандартное_отклонение_дохода_Bachelor,\n",
    "                'Master': стандартное_отклонение_дохода_Master,\n",
    "                'PhD': стандартное_отклонение_дохода_PhD\n",
    "            },\n",
    "            'age_cv_by_dept': {\n",
    "                'IT': коэффициент_вариации_возраста_IT,\n",
    "                'HR': коэффициент_вариации_возраста_HR,\n",
    "                'Finance': коэффициент_вариации_возраста_Finance,\n",
    "                'Marketing': коэффициент_вариации_возраста_Marketing\n",
    "            }\n",
    "        }\n",
    "    \"\"\"\n",
    "    # Загрузка данных\n",
    "    df = pd.read_csv(data_file)\n",
    "    \n",
    "    # Ваше решение\n",
    "\n",
    "    # 1. Средний доход по отделам\n",
    "    avg_income_by_dept = df.groupby('department')['income'].mean().round(2).to_dict()\n",
    "    \n",
    "    # 2. Максимальный бонус по уровням образования\n",
    "    max_bonus_by_education = df.groupby('education')['bonus'].max().round(2).to_dict()\n",
    "\n",
    "    # 3. Количество сотрудников по отделам\n",
    "    count_by_dept = df['department'].value_counts().to_dict()\n",
    "\n",
    "    # 4. Средний опыт работы по отделам\n",
    "    avg_exp_by_dept = df.groupby('department')['experience'].mean().round(2).to_dict()\n",
    "\n",
    "    # 5. Медианная производительность по отделам\n",
    "    median_performance_by_dept = df.groupby('department')['performance'].median().round(3).to_dict()\n",
    "\n",
    "    # 6. Стандартное отклонение дохода по уровням образования\n",
    "    income_std_by_education = df.groupby('education')['income'].std().round(2).to_dict()\n",
    "\n",
    "    # 7. Коэффициент вариации возраста по отделам (std / mean)\n",
    "    age_stats = df.groupby('department')['age'].agg(['mean','std'])\n",
    "    age_cv_by_dept = (age_stats['std']/age_stats['mean']).round(3).to_dict()\n",
    "\n",
    "    return {\n",
    "        'avg_income_by_dept': avg_income_by_dept,\n",
    "        'max_bonus_by_education': max_bonus_by_education,\n",
    "        'count_by_dept': count_by_dept,\n",
    "        'avg_exp_by_dept': avg_exp_by_dept,\n",
    "        'median_performance_by_dept': median_performance_by_dept,\n",
    "        'income_std_by_education': income_std_by_education,\n",
    "        'age_cv_by_dept': age_cv_by_dept\n",
    "    } # Верните словарь с результатами"
   ]
  },
  {
   "cell_type": "code",
   "execution_count": 47,
   "metadata": {},
   "outputs": [
    {
     "data": {
      "text/plain": [
       "{'Finance': 1559, 'HR': 1490, 'Marketing': 1476, 'IT': 1475}"
      ]
     },
     "execution_count": 47,
     "metadata": {},
     "output_type": "execute_result"
    }
   ],
   "source": [
    "df['department'].value_counts().to_dict()"
   ]
  },
  {
   "cell_type": "code",
   "execution_count": 17,
   "metadata": {},
   "outputs": [
    {
     "data": {
      "text/plain": [
       "Index(['age', 'income', 'education', 'experience', 'performance', 'department',\n",
       "       'satisfaction', 'bonus'],\n",
       "      dtype='object')"
      ]
     },
     "execution_count": 17,
     "metadata": {},
     "output_type": "execute_result"
    }
   ],
   "source": [
    "df.columns"
   ]
  },
  {
   "cell_type": "code",
   "execution_count": 49,
   "metadata": {},
   "outputs": [
    {
     "data": {
      "text/plain": [
       "{'avg_income_by_dept': {'Finance': 49531.8,\n",
       "  'HR': 50592.75,\n",
       "  'IT': 49756.31,\n",
       "  'Marketing': 48626.71},\n",
       " 'max_bonus_by_education': {'Bachelor': 9985.22,\n",
       "  'Master': 9994.35,\n",
       "  'PhD': 9993.97},\n",
       " 'count_by_dept': {'Finance': 1559, 'HR': 1490, 'Marketing': 1476, 'IT': 1475},\n",
       " 'avg_exp_by_dept': {'Finance': 5.05,\n",
       "  'HR': 4.93,\n",
       "  'IT': 5.09,\n",
       "  'Marketing': 4.99},\n",
       " 'median_performance_by_dept': {'Finance': 0.274,\n",
       "  'HR': 0.255,\n",
       "  'IT': 0.263,\n",
       "  'Marketing': 0.257},\n",
       " 'income_std_by_education': {'Bachelor': 48816.0,\n",
       "  'Master': 49791.97,\n",
       "  'PhD': 49623.59},\n",
       " 'age_cv_by_dept': {'Finance': 0.203,\n",
       "  'HR': 0.201,\n",
       "  'IT': 0.198,\n",
       "  'Marketing': 0.199}}"
      ]
     },
     "execution_count": 49,
     "metadata": {},
     "output_type": "execute_result"
    }
   ],
   "source": [
    "task3_groupby_aggregation()"
   ]
  },
  {
   "cell_type": "markdown",
   "metadata": {},
   "source": [
    "## Задание 4: Фильтрация данных\n",
    "\n",
    "    Используя DataFrame из data_pd.csv, вычислите:\n",
    "    1. Средний доход сотрудников старше 30 лет (округлите до 2 знаков после запятой)\n",
    "    2. Максимальный бонус в IT отделе (округлите до 2 знаков после запятой)\n",
    "    3. Средний опыт работы сотрудников с PhD (округлите до 2 знаков после запятой)\n",
    "    4. Количество сотрудников с доходом выше 100000\n",
    "    5. Среднюю удовлетворенность в Finance отделе (округлите до 2 знаков после запятой)\n",
    "    6. Количество сотрудников в IT отделе с опытом работы выше среднего по компании (округлите до 0 знаков)\n",
    "    7. Стандартное отклонение производительности сотрудников младше 25 лет (округлите до 3 знаков после запятой)\n",
    "    8. Процент сотрудников с Master и высокой производительностью (> 0.7) (округлите до 2 знаков после запятой)\n",
    "    9. Коэффициент корреляции между возрастом и удовлетворенностью для HR отдела (округлите до 3 знаков после запятой)\n",
    "    10. Разницу между средним доходом сотрудников с Master и Bachelor (округлите до 2 знаков после запятой)"
   ]
  },
  {
   "cell_type": "code",
   "execution_count": 26,
   "metadata": {},
   "outputs": [],
   "source": [
    "def task4_data_filtering(data_file='/Users/mikhail/Data Science Projects/Цифровая кафедра/ML/Module 3.2. Библиотеки для машинного обучения/pandas_math_task_advanced/data_pd.csv'):\n",
    "    \"\"\"\n",
    "    Задание 4: Фильтрация данных\n",
    "\n",
    "    Используя DataFrame из data_pd.csv, вычислите:\n",
    "    1. Средний доход сотрудников старше 30 лет (округлите до 2 знаков после запятой)\n",
    "    2. Максимальный бонус в IT отделе (округлите до 2 знаков после запятой)\n",
    "    3. Средний опыт работы сотрудников с PhD (округлите до 2 знаков после запятой)\n",
    "    4. Количество сотрудников с доходом выше 100000\n",
    "    5. Среднюю удовлетворенность в Finance отделе (округлите до 2 знаков после запятой)\n",
    "    6. Количество сотрудников в IT отделе с опытом работы выше среднего по компании (округлите до 0 знаков)\n",
    "    7. Стандартное отклонение производительности сотрудников младше 25 лет (округлите до 3 знаков после запятой)\n",
    "    8. Процент сотрудников с Master и высокой производительностью (> 0.7) (округлите до 2 знаков после запятой)\n",
    "    9. Коэффициент корреляции между возрастом и удовлетворенностью для HR отдела (округлите до 3 знаков после запятой)\n",
    "    10. Разницу между средним доходом сотрудников с Master и Bachelor (округлите до 2 знаков после запятой)\n",
    "\n",
    "    Returns:\n",
    "        dict: {\n",
    "            'mean_income_over_30': средний_доход_старше_30,\n",
    "            'max_bonus_it': максимальный_бонус_IT,\n",
    "            'mean_exp_phd': средний_опыт_PhD,\n",
    "            'high_income_count': количество_высокий_доход,\n",
    "            'mean_satisfaction_finance': средняя_удовлетворенность_Finance,\n",
    "            'above_avg_exp_it_count': количество_IT_опыт_выше_среднего,\n",
    "            'performance_std_young': стандартное_отклонение_производительности_молодых,\n",
    "            'high_perf_master_percent': процент_мастеров_высокая_производительность,\n",
    "            'age_satisfaction_corr_hr': корреляция_возраст_удовлетворенность_HR,\n",
    "            'master_bachelor_income_diff': разница_дохода_мастер_бакалавр\n",
    "        }\n",
    "    \"\"\"\n",
    "    # Загрузка данных\n",
    "    df = pd.read_csv(data_file)\n",
    "    \n",
    "    # Ваше решение\n",
    "    \n",
    "    # 1. Средний доход сотрудников старше 30 лет\n",
    "    mean_income_over_30 = df[df['age']>30]['income'].mean().round(2)\n",
    "\n",
    "    # 2. Максимальный бонус в IT отделе\n",
    "    max_bonus_it = df[df['department']=='IT']['bonus'].max().round(2)\n",
    "\n",
    "    # 3. Средний опыт сотрудников с PhD\n",
    "    mean_exp_phd = df[df['education'] == 'PhD']['experience'].mean().round(2)\n",
    "\n",
    "    # 4. Кол-во сотрудников с доходом > 100000\n",
    "    high_income_count = (df['income']>100000).sum()\n",
    "\n",
    "    # 5. Средняя удовлетворенность в Finance\n",
    "    mean_satisfaction_finance = df[df['department']=='Finance']['satisfaction'].mean().round(2)\n",
    "\n",
    "    # 6. Кол-во IT сотрудников с опытом > среднего по компании\n",
    "    avg_experience = df['experience'].mean()\n",
    "    above_avg_exp_it_count = df[(df['department']=='IT') & (df['experience']>avg_experience)].shape[0]\n",
    "\n",
    "    # 7. Ст. отклонение производительности у сотрудников младше 25\n",
    "    performance_std_young = df[df['age']<25]['performance'].std().round(3)\n",
    "\n",
    "    # 8. % сотрудников с Master и performance > 0.7\n",
    "    master_high_perf = df[(df['education']=='Master') & (df['performance'] > 0.7)]\n",
    "    high_perf_master_percent = round(len(master_high_perf)/len(df) * 100 ,2)\n",
    "\n",
    "    # 9. Корреляция между age и satisfaction в HR\n",
    "    hr_df = df[df['department'] == 'HR']\n",
    "    age_satisfaction_corr_hr = hr_df['age'].corr(hr_df['satisfaction']).round(3)\n",
    "\n",
    "    # 10. Разница между средним доходом Master и Bachelor\n",
    "    master_income = df[df['education']=='Master']['income'].mean()\n",
    "    bachelor_income = df[df['education'] == 'Bachelor']['income'].mean()\n",
    "    master_bachelor_income_diff = round(master_income - bachelor_income, 2)\n",
    "\n",
    "    \n",
    "    return {\n",
    "        'mean_income_over_30': mean_income_over_30,\n",
    "        'max_bonus_it': max_bonus_it,\n",
    "        'mean_exp_phd': mean_exp_phd,\n",
    "        'high_income_count': high_income_count,\n",
    "        'mean_satisfaction_finance': mean_satisfaction_finance,\n",
    "        'above_avg_exp_it_count': above_avg_exp_it_count,\n",
    "        'performance_std_young': performance_std_young,\n",
    "        'high_perf_master_percent': high_perf_master_percent,\n",
    "        'age_satisfaction_corr_hr': age_satisfaction_corr_hr,\n",
    "        'master_bachelor_income_diff': master_bachelor_income_diff\n",
    "    } # Верните словарь с результатами"
   ]
  },
  {
   "cell_type": "code",
   "execution_count": 19,
   "metadata": {},
   "outputs": [
    {
     "data": {
      "text/plain": [
       "Index(['age', 'income', 'education', 'experience', 'performance', 'department',\n",
       "       'satisfaction', 'bonus'],\n",
       "      dtype='object')"
      ]
     },
     "execution_count": 19,
     "metadata": {},
     "output_type": "execute_result"
    }
   ],
   "source": [
    "df.columns"
   ]
  },
  {
   "cell_type": "code",
   "execution_count": 21,
   "metadata": {},
   "outputs": [
    {
     "data": {
      "text/plain": [
       "5.013333333333334"
      ]
     },
     "execution_count": 21,
     "metadata": {},
     "output_type": "execute_result"
    }
   ],
   "source": [
    "df['experience'].mean()"
   ]
  },
  {
   "cell_type": "code",
   "execution_count": 27,
   "metadata": {},
   "outputs": [
    {
     "data": {
      "text/plain": [
       "{'mean_income_over_30': 51475.52,\n",
       " 'max_bonus_it': 9993.52,\n",
       " 'mean_exp_phd': 5.01,\n",
       " 'high_income_count': 783,\n",
       " 'mean_satisfaction_finance': 3.01,\n",
       " 'above_avg_exp_it_count': 585,\n",
       " 'performance_std_young': 0.16,\n",
       " 'high_perf_master_percent': 0.37,\n",
       " 'age_satisfaction_corr_hr': 0.029,\n",
       " 'master_bachelor_income_diff': 3239.17}"
      ]
     },
     "execution_count": 27,
     "metadata": {},
     "output_type": "execute_result"
    }
   ],
   "source": [
    "task4_data_filtering()"
   ]
  },
  {
   "cell_type": "markdown",
   "metadata": {},
   "source": [
    "## Задание 5: Сортировка и ранжирование\n",
    "\n",
    "    Используя DataFrame из data_pd.csv, вычислите:\n",
    "    1. Топ-5 сотрудников по доходу (округлите до 2 знаков после запятой)\n",
    "    2. Топ-5 сотрудников по опыту работы\n",
    "    3. Топ-5 сотрудников по производительности (округлите до 3 знаков после запятой)\n",
    "    4. Топ-5 сотрудников по бонусу (округлите до 2 знаков после запятой)"
   ]
  },
  {
   "cell_type": "code",
   "execution_count": 29,
   "metadata": {},
   "outputs": [],
   "source": [
    "def task5_sorting_ranking(data_file='/Users/mikhail/Data Science Projects/Цифровая кафедра/ML/Module 3.2. Библиотеки для машинного обучения/pandas_math_task_advanced/data_pd.csv'):\n",
    "    \"\"\"\n",
    "    Задание 5: Сортировка и ранжирование\n",
    "\n",
    "    Используя DataFrame из data_pd.csv, вычислите:\n",
    "    1. Топ-5 сотрудников по доходу (округлите до 2 знаков после запятой)\n",
    "    2. Топ-5 сотрудников по опыту работы\n",
    "    3. Топ-5 сотрудников по производительности (округлите до 3 знаков после запятой)\n",
    "    4. Топ-5 сотрудников по бонусу (округлите до 2 знаков после запятой)\n",
    "\n",
    "    Returns:\n",
    "        dict: {\n",
    "            'top_income': [доход_1, доход_2, доход_3, доход_4, доход_5],\n",
    "            'top_experience': [опыт_1, опыт_2, опыт_3, опыт_4, опыт_5],\n",
    "            'top_performance': [производительность_1, производительность_2, производительность_3, производительность_4, производительность_5],\n",
    "            'top_bonus': [бонус_1, бонус_2, бонус_3, бонус_4, бонус_5]\n",
    "        }\n",
    "    \"\"\"\n",
    "    # Загрузка данных\n",
    "    df = pd.read_csv(data_file)\n",
    "    \n",
    "    # Ваше решение\n",
    "\n",
    "    # Топ-5 по доходу, округление до 2 знаков\n",
    "    top_income = df.sort_values('income',ascending=False)['income'].head(5).round(2).tolist()\n",
    "\n",
    "    # Топ-5 по опыту (округление не требуется)\n",
    "    top_experience = df.sort_values('experience',ascending=False)['experience'].head(5).tolist()\n",
    "\n",
    "    # Топ-5 по производительности, округление до 3 знаков\n",
    "    top_performance = df.sort_values(by='performance', ascending=False)['performance'].head(5).round(3).tolist()\n",
    "\n",
    "    # Топ-5 по бонусу, округление до 2 знаков\n",
    "    top_bonus = df.sort_values(by='bonus', ascending=False)['bonus'].head(5).round(2).tolist()\n",
    "\n",
    "    \n",
    "    return {\n",
    "        'top_income': top_income,\n",
    "        'top_experience': top_experience,\n",
    "        'top_performance': top_performance,\n",
    "        'top_bonus': top_bonus\n",
    "    } # Верните словарь с результатами"
   ]
  },
  {
   "cell_type": "code",
   "execution_count": 28,
   "metadata": {},
   "outputs": [
    {
     "data": {
      "text/plain": [
       "Index(['age', 'income', 'education', 'experience', 'performance', 'department',\n",
       "       'satisfaction', 'bonus'],\n",
       "      dtype='object')"
      ]
     },
     "execution_count": 28,
     "metadata": {},
     "output_type": "execute_result"
    }
   ],
   "source": [
    "df.columns"
   ]
  },
  {
   "cell_type": "code",
   "execution_count": 30,
   "metadata": {},
   "outputs": [
    {
     "data": {
      "text/plain": [
       "{'top_income': [489462.13, 447885.59, 367934.05, 349946.31, 318273.12],\n",
       " 'top_experience': [15, 15, 14, 14, 14],\n",
       " 'top_performance': [0.885, 0.836, 0.835, 0.829, 0.827],\n",
       " 'top_bonus': [9994.35, 9993.97, 9993.52, 9991.29, 9990.62]}"
      ]
     },
     "execution_count": 30,
     "metadata": {},
     "output_type": "execute_result"
    }
   ],
   "source": [
    "task5_sorting_ranking()"
   ]
  },
  {
   "cell_type": "markdown",
   "metadata": {},
   "source": [
    "## Задание 6: Вычисление статистик\n",
    "\n",
    "    Используя DataFrame из data_pd.csv, вычислите:\n",
    "    1. Среднее значение дохода (округлите до 2 знаков после запятой)\n",
    "    2. Медиану дохода (округлите до 2 знаков после запятой)\n",
    "    3. Интерквартильный размах дохода (IQR) (округлите до 2 знаков после запятой)\n",
    "    4. Коэффициент вариации дохода (CV = std/mean) (округлите до 3 знаков после запятой)\n",
    "    5. Геометрическое среднее дохода (округлите до 2 знаков после запятой)\n",
    "    6. Среднее значение логарифма дохода (округлите до 3 знаков после запятой)"
   ]
  },
  {
   "cell_type": "code",
   "execution_count": 33,
   "metadata": {},
   "outputs": [],
   "source": [
    "def task6_income_statistics(data_file='/Users/mikhail/Data Science Projects/Цифровая кафедра/ML/Module 3.2. Библиотеки для машинного обучения/pandas_math_task_advanced/data_pd.csv'):\n",
    "    \"\"\"\n",
    "    Задание 6: Вычисление статистик\n",
    "\n",
    "    Используя DataFrame из data_pd.csv, вычислите:\n",
    "    1. Среднее значение дохода (округлите до 2 знаков после запятой)\n",
    "    2. Медиану дохода (округлите до 2 знаков после запятой)\n",
    "    3. Интерквартильный размах дохода (IQR) (округлите до 2 знаков после запятой)\n",
    "    4. Коэффициент вариации дохода (CV = std/mean) (округлите до 3 знаков после запятой)\n",
    "    5. Геометрическое среднее дохода (округлите до 2 знаков после запятой)\n",
    "    6. Среднее значение логарифма дохода (округлите до 3 знаков после запятой)\n",
    "\n",
    "    Returns:\n",
    "        dict: {\n",
    "            'mean_income': среднее_дохода,\n",
    "            'median_income': медиана_дохода,\n",
    "            'income_iqr': интерквартильный_размах_дохода,\n",
    "            'income_cv': коэффициент_вариации_дохода,\n",
    "            'income_geom_mean': геометрическое_среднее_дохода,\n",
    "            'income_log_mean': среднее_логарифма_дохода\n",
    "        }\n",
    "    \"\"\"\n",
    "    # Загрузка данных\n",
    "    df = pd.read_csv(data_file)\n",
    "    \n",
    "    # Ваше решение\n",
    "\n",
    "    income = df['income']\n",
    "\n",
    "    # 1. Среднее значение дохода\n",
    "    mean_income = round(income.mean(), 2)\n",
    "\n",
    "    # 2. Медиана дохода\n",
    "    median_income = round(income.median(), 2)\n",
    "    \n",
    "    # 3. Интерквартильный размах (IQR)\n",
    "    q3 = income.quantile(0.75)\n",
    "    q1 = income.quantile(0.25)\n",
    "    income_iqr = round(q3 - q1, 2)\n",
    "\n",
    "    # 4. Коэффициент вариации (CV = std / mean)\n",
    "    income_cv = round(income.std()/income.mean(),3)\n",
    "\n",
    "    # 5. Геометрическое среднее дохода\n",
    "    # Убедимся, что значения положительные\n",
    "    income_geom_mean = round(stats.gmean(income[income>0]),2)\n",
    "\n",
    "    # 6. Среднее значение логарифма дохода (натуральный логарифм)\n",
    "    income_log_mean = round(np.log(income[income > 0]).mean(), 3)\n",
    "\n",
    "    return {\n",
    "        'mean_income': mean_income,\n",
    "        'median_income': median_income,\n",
    "        'income_iqr': income_iqr,\n",
    "        'income_cv': income_cv,\n",
    "        'income_geom_mean': income_geom_mean,\n",
    "        'income_log_mean': income_log_mean\n",
    "    } # Верните словарь с результатами"
   ]
  },
  {
   "cell_type": "code",
   "execution_count": 34,
   "metadata": {},
   "outputs": [
    {
     "data": {
      "text/plain": [
       "{'mean_income': 49627.81,\n",
       " 'median_income': 35020.3,\n",
       " 'income_iqr': 53348.96,\n",
       " 'income_cv': 0.996,\n",
       " 'income_geom_mean': 28202.67,\n",
       " 'income_log_mean': 10.247}"
      ]
     },
     "execution_count": 34,
     "metadata": {},
     "output_type": "execute_result"
    }
   ],
   "source": [
    "task6_income_statistics()"
   ]
  },
  {
   "cell_type": "markdown",
   "metadata": {},
   "source": [
    "## Задание 7: Распределение Бернулли\n",
    "Дана выборка из распределения Бернулли:\n",
    "\n",
    "bernoulli_sample = [1, 0, 1, ...]  \n",
    "\n",
    "\n",
    "Вычислите:\n",
    "\n",
    "Оценку вероятности успеха p̂ (округлите до 3 знаков после запятой)\n",
    "Вероятность получить не менее 60 успехов в 100 испытаниях, если вероятность успеха равна p̂ (округлите до 3 знаков после запятой)\n",
    "\n",
    "Ответ: [p̂, P(X>=60)]"
   ]
  },
  {
   "cell_type": "code",
   "execution_count": 38,
   "metadata": {},
   "outputs": [],
   "source": [
    "def task7_bernoulli_distribution(bernoulli_file='/Users/mikhail/Data Science Projects/Цифровая кафедра/ML/Module 3.2. Библиотеки для машинного обучения/pandas_math_task_advanced/bernoulli.npy'):\n",
    "    \"\"\"\n",
    "    Задание 7: Распределение Бернулли\n",
    "\n",
    "    Дана выборка из распределения Бернулли в файле bernoulli.npy.\n",
    "    \n",
    "    Вычислите:\n",
    "    1. Оценку вероятности успеха p̂ (округлите до 3 знаков после запятой)\n",
    "    2. Вероятность получить не менее 60 успехов в 100 испытаниях, если вероятность успеха равна p̂ \n",
    "       (округлите до 3 знаков после запятой)\n",
    "\n",
    "    Returns:\n",
    "        dict: {\n",
    "            'p_hat': p̂,\n",
    "            'p_at_least_60': P(X>=60)\n",
    "        }\n",
    "    \"\"\"\n",
    "    # Загрузка данных\n",
    "    bernoulli_sample = np.load(bernoulli_file)\n",
    "    \n",
    "    # Ваше решение\n",
    "\n",
    "    # 1. Оценка вероятности успеха\n",
    "    p_hat = round(np.mean(bernoulli_sample),3)\n",
    "\n",
    "    # 2. Вероятность получить не менее 60 успехов в 100 испытаниях\n",
    "    # X ~ Binomial(n=100, p=p_hat), ищем P(X >= 60) = 1 - P(X <= 59)\n",
    "    p_at_least_60 = round(1-stats.binom.cdf(59,100,p_hat),3)\n",
    "    \n",
    "    return {\n",
    "        'p_hat': p_hat,\n",
    "        'p_at_least_60': p_at_least_60\n",
    "    } # Верните словарь с результатами"
   ]
  },
  {
   "cell_type": "code",
   "execution_count": 39,
   "metadata": {},
   "outputs": [
    {
     "data": {
      "text/plain": [
       "{'p_hat': 0.699, 'p_at_least_60': 0.987}"
      ]
     },
     "execution_count": 39,
     "metadata": {},
     "output_type": "execute_result"
    }
   ],
   "source": [
    "task7_bernoulli_distribution()"
   ]
  },
  {
   "cell_type": "markdown",
   "metadata": {},
   "source": [
    "## Задание 8: Распределение Пуассона\n",
    "Дана выборка из распределения Пуассона:\n",
    "\n",
    "poisson_sample = [4, 6, 3, ...]  \n",
    "\n",
    "\n",
    "Вычислите:\n",
    "\n",
    "Оценку параметра λ (округлите до 2 знаков после запятой)\n",
    "Вероятность того, что случайная величина примет значение 3 (округлите до 3 знаков после запятой)\n",
    "Вероятность того, что случайная величина примет значение больше 5 (округлите до 3 знаков после запятой)\n",
    "\n",
    "Ответ: [λ̂, P(X=3), P(X>5)]\n",
    "\n"
   ]
  },
  {
   "cell_type": "code",
   "execution_count": 40,
   "metadata": {},
   "outputs": [],
   "source": [
    "def task8_poisson_distribution(poisson_file='/Users/mikhail/Data Science Projects/Цифровая кафедра/ML/Module 3.2. Библиотеки для машинного обучения/pandas_math_task_advanced/poisson.npy'):\n",
    "    \"\"\"\n",
    "    Задание 8: Распределение Пуассона\n",
    "\n",
    "    Дана выборка из распределения Пуассона в файле poisson.npy.\n",
    "    \n",
    "    Вычислите:\n",
    "    1. Оценку параметра λ (округлите до 2 знаков после запятой)\n",
    "    2. Вероятность того, что случайная величина примет значение 3 (округлите до 3 знаков после запятой)\n",
    "    3. Вероятность того, что случайная величина примет значение больше 5 (округлите до 3 знаков после запятой)\n",
    "\n",
    "    Returns:\n",
    "        dict: {\n",
    "            'lambda_hat': λ̂,\n",
    "            'p_x_equals_3': P(X=3),\n",
    "            'p_x_greater_5': P(X>5)\n",
    "        }\n",
    "    \"\"\"\n",
    "    # Загрузка данных\n",
    "    poisson_sample = np.load(poisson_file)\n",
    "    \n",
    "    # Ваше решение\n",
    "\n",
    "    # 1. Оценка параметра λ\n",
    "    lambda_hat = round(np.mean(poisson_sample), 2)\n",
    "\n",
    "    # 2. Вероятность P(X = 3) при λ = lambda_hat\n",
    "    p_x_equals_3 = round(stats.poisson.pmf(3, mu=lambda_hat), 3)\n",
    "\n",
    "    # 3. Вероятность P(X > 5) = 1 - P(X <= 5)\n",
    "    p_x_greater_5 = round(1 - stats.poisson.cdf(5, mu=lambda_hat), 3)\n",
    "    \n",
    "    return {\n",
    "        'lambda_hat': lambda_hat,\n",
    "        'p_x_equals_3': p_x_equals_3,\n",
    "        'p_x_greater_5': p_x_greater_5\n",
    "    } # Верните словарь с результатами"
   ]
  },
  {
   "cell_type": "code",
   "execution_count": 42,
   "metadata": {},
   "outputs": [
    {
     "data": {
      "text/plain": [
       "{'lambda_hat': 4.97, 'p_x_equals_3': 0.142, 'p_x_greater_5': 0.379}"
      ]
     },
     "execution_count": 42,
     "metadata": {},
     "output_type": "execute_result"
    }
   ],
   "source": [
    "task8_poisson_distribution()"
   ]
  },
  {
   "cell_type": "markdown",
   "metadata": {},
   "source": [
    "## Задание 9: Экспоненциальное распределение\n",
    "Дана выборка из экспоненциального распределения:\n",
    "\n",
    "exp_sample = [8.5, 12.3, 15.7, ...]  \n",
    "\n",
    "\n",
    "Вычислите:\n",
    "\n",
    "Оценку параметра λ (округлите до 3 знаков после запятой)\n",
    "Вероятность того, что случайная величина примет значение больше 15 (округлите до 3 знаков после запятой)\n",
    "\n",
    "Ответ: [λ̂, P(X>15)]"
   ]
  },
  {
   "cell_type": "code",
   "execution_count": 43,
   "metadata": {},
   "outputs": [],
   "source": [
    "def task9_exponential_distribution(exponential_file='/Users/mikhail/Data Science Projects/Цифровая кафедра/ML/Module 3.2. Библиотеки для машинного обучения/pandas_math_task_advanced/exponential.npy'):\n",
    "    \"\"\"\n",
    "    Задание 9: Экспоненциальное распределение\n",
    "\n",
    "    Дана выборка из экспоненциального распределения в файле exponential.npy.\n",
    "    \n",
    "    Вычислите:\n",
    "    1. Оценку параметра λ (округлите до 3 знаков после запятой)\n",
    "    2. Вероятность того, что случайная величина примет значение больше 15 (округлите до 3 знаков после запятой)\n",
    "\n",
    "    Returns:\n",
    "        dict: {\n",
    "            'lambda_hat': λ̂,\n",
    "            'p_x_greater_15': P(X>15)\n",
    "        }\n",
    "    \"\"\"\n",
    "    # Загрузка данных\n",
    "    exp_sample = np.load(exponential_file)\n",
    "    \n",
    "    # Ваше решение\n",
    "    # 1. Оценка λ — это 1 / среднее значение выборки\n",
    "    lambda_hat = round(1 / np.mean(exp_sample), 3)\n",
    "\n",
    "    # 2. P(X > 15) = 1 - F(15) = экспоненциальный хвост\n",
    "    # В scipy парамет \"scale\" = 1/λ, а \"loc\" = 0\n",
    "    scale = 1 / lambda_hat\n",
    "    p_x_greater_15 = round(stats.expon.sf(15, scale=scale), 3)  # sf = 1 - cdf\n",
    "    \n",
    "    return {\n",
    "        'lambda_hat': lambda_hat,\n",
    "        'p_x_greater_15': p_x_greater_15\n",
    "    } # Верните словарь с результатами "
   ]
  },
  {
   "cell_type": "code",
   "execution_count": 45,
   "metadata": {},
   "outputs": [
    {
     "data": {
      "text/plain": [
       "{'lambda_hat': 0.103, 'p_x_greater_15': 0.213}"
      ]
     },
     "execution_count": 45,
     "metadata": {},
     "output_type": "execute_result"
    }
   ],
   "source": [
    "task9_exponential_distribution()"
   ]
  },
  {
   "cell_type": "code",
   "execution_count": null,
   "metadata": {},
   "outputs": [],
   "source": []
  }
 ],
 "metadata": {
  "kernelspec": {
   "display_name": "base",
   "language": "python",
   "name": "python3"
  },
  "language_info": {
   "codemirror_mode": {
    "name": "ipython",
    "version": 3
   },
   "file_extension": ".py",
   "mimetype": "text/x-python",
   "name": "python",
   "nbconvert_exporter": "python",
   "pygments_lexer": "ipython3",
   "version": "3.10.9"
  }
 },
 "nbformat": 4,
 "nbformat_minor": 2
}
